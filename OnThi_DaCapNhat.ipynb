{
 "cells": [
  {
   "cell_type": "code",
   "execution_count": 2,
   "id": "c14e7dce",
   "metadata": {},
   "outputs": [
    {
     "data": {
      "text/html": [
       "<div>\n",
       "<style scoped>\n",
       "    .dataframe tbody tr th:only-of-type {\n",
       "        vertical-align: middle;\n",
       "    }\n",
       "\n",
       "    .dataframe tbody tr th {\n",
       "        vertical-align: top;\n",
       "    }\n",
       "\n",
       "    .dataframe thead th {\n",
       "        text-align: right;\n",
       "    }\n",
       "</style>\n",
       "<table border=\"1\" class=\"dataframe\">\n",
       "  <thead>\n",
       "    <tr style=\"text-align: right;\">\n",
       "      <th></th>\n",
       "      <th>order</th>\n",
       "      <th>limit</th>\n",
       "      <th>clear</th>\n",
       "      <th>drop</th>\n",
       "      <th>delete</th>\n",
       "      <th>remove</th>\n",
       "      <th>c1</th>\n",
       "      <th>c2</th>\n",
       "      <th>c3</th>\n",
       "      <th>c4</th>\n",
       "      <th>...</th>\n",
       "      <th>d4</th>\n",
       "      <th>d5</th>\n",
       "      <th>d6</th>\n",
       "      <th>f1</th>\n",
       "      <th>f2</th>\n",
       "      <th>f3</th>\n",
       "      <th>f4</th>\n",
       "      <th>f5</th>\n",
       "      <th>f6</th>\n",
       "      <th>default</th>\n",
       "    </tr>\n",
       "  </thead>\n",
       "  <tbody>\n",
       "    <tr>\n",
       "      <th>0</th>\n",
       "      <td>1</td>\n",
       "      <td>20000</td>\n",
       "      <td>y</td>\n",
       "      <td>c</td>\n",
       "      <td>b</td>\n",
       "      <td>24</td>\n",
       "      <td>2</td>\n",
       "      <td>2</td>\n",
       "      <td>-1</td>\n",
       "      <td>-1</td>\n",
       "      <td>...</td>\n",
       "      <td>0</td>\n",
       "      <td>0</td>\n",
       "      <td>0</td>\n",
       "      <td>0</td>\n",
       "      <td>689</td>\n",
       "      <td>0</td>\n",
       "      <td>0</td>\n",
       "      <td>0</td>\n",
       "      <td>0</td>\n",
       "      <td>1</td>\n",
       "    </tr>\n",
       "    <tr>\n",
       "      <th>1</th>\n",
       "      <td>2</td>\n",
       "      <td>120000</td>\n",
       "      <td>y</td>\n",
       "      <td>c</td>\n",
       "      <td>c</td>\n",
       "      <td>26</td>\n",
       "      <td>-1</td>\n",
       "      <td>2</td>\n",
       "      <td>0</td>\n",
       "      <td>0</td>\n",
       "      <td>...</td>\n",
       "      <td>3272</td>\n",
       "      <td>3455</td>\n",
       "      <td>3261</td>\n",
       "      <td>0</td>\n",
       "      <td>1000</td>\n",
       "      <td>1000</td>\n",
       "      <td>1000</td>\n",
       "      <td>0</td>\n",
       "      <td>2000</td>\n",
       "      <td>1</td>\n",
       "    </tr>\n",
       "    <tr>\n",
       "      <th>2</th>\n",
       "      <td>3</td>\n",
       "      <td>90000</td>\n",
       "      <td>y</td>\n",
       "      <td>c</td>\n",
       "      <td>c</td>\n",
       "      <td>34</td>\n",
       "      <td>0</td>\n",
       "      <td>0</td>\n",
       "      <td>0</td>\n",
       "      <td>0</td>\n",
       "      <td>...</td>\n",
       "      <td>14331</td>\n",
       "      <td>14948</td>\n",
       "      <td>15549</td>\n",
       "      <td>1518</td>\n",
       "      <td>1500</td>\n",
       "      <td>1000</td>\n",
       "      <td>1000</td>\n",
       "      <td>1000</td>\n",
       "      <td>5000</td>\n",
       "      <td>0</td>\n",
       "    </tr>\n",
       "    <tr>\n",
       "      <th>3</th>\n",
       "      <td>4</td>\n",
       "      <td>50000</td>\n",
       "      <td>y</td>\n",
       "      <td>c</td>\n",
       "      <td>b</td>\n",
       "      <td>37</td>\n",
       "      <td>0</td>\n",
       "      <td>0</td>\n",
       "      <td>0</td>\n",
       "      <td>0</td>\n",
       "      <td>...</td>\n",
       "      <td>28314</td>\n",
       "      <td>28959</td>\n",
       "      <td>29547</td>\n",
       "      <td>2000</td>\n",
       "      <td>2019</td>\n",
       "      <td>1200</td>\n",
       "      <td>1100</td>\n",
       "      <td>1069</td>\n",
       "      <td>1000</td>\n",
       "      <td>0</td>\n",
       "    </tr>\n",
       "    <tr>\n",
       "      <th>4</th>\n",
       "      <td>5</td>\n",
       "      <td>50000</td>\n",
       "      <td>x</td>\n",
       "      <td>c</td>\n",
       "      <td>b</td>\n",
       "      <td>57</td>\n",
       "      <td>-1</td>\n",
       "      <td>0</td>\n",
       "      <td>-1</td>\n",
       "      <td>0</td>\n",
       "      <td>...</td>\n",
       "      <td>20940</td>\n",
       "      <td>19146</td>\n",
       "      <td>19131</td>\n",
       "      <td>2000</td>\n",
       "      <td>36681</td>\n",
       "      <td>10000</td>\n",
       "      <td>9000</td>\n",
       "      <td>689</td>\n",
       "      <td>679</td>\n",
       "      <td>0</td>\n",
       "    </tr>\n",
       "  </tbody>\n",
       "</table>\n",
       "<p>5 rows × 25 columns</p>\n",
       "</div>"
      ],
      "text/plain": [
       "   order   limit clear drop delete  remove  c1  c2  c3  c4  ...     d4     d5  \\\n",
       "0      1   20000     y    c      b      24   2   2  -1  -1  ...      0      0   \n",
       "1      2  120000     y    c      c      26  -1   2   0   0  ...   3272   3455   \n",
       "2      3   90000     y    c      c      34   0   0   0   0  ...  14331  14948   \n",
       "3      4   50000     y    c      b      37   0   0   0   0  ...  28314  28959   \n",
       "4      5   50000     x    c      b      57  -1   0  -1   0  ...  20940  19146   \n",
       "\n",
       "      d6    f1     f2     f3    f4    f5    f6  default  \n",
       "0      0     0    689      0     0     0     0        1  \n",
       "1   3261     0   1000   1000  1000     0  2000        1  \n",
       "2  15549  1518   1500   1000  1000  1000  5000        0  \n",
       "3  29547  2000   2019   1200  1100  1069  1000        0  \n",
       "4  19131  2000  36681  10000  9000   689   679        0  \n",
       "\n",
       "[5 rows x 25 columns]"
      ]
     },
     "execution_count": 2,
     "metadata": {},
     "output_type": "execute_result"
    }
   ],
   "source": [
    "\n",
    "import matplotlib.pyplot as plt\n",
    "import numpy as np\n",
    "from sklearn.neighbors import KNeighborsClassifier\n",
    "from sklearn.model_selection import KFold, train_test_split\n",
    "from sklearn.tree import DecisionTreeClassifier\n",
    "from sklearn.naive_bayes import GaussianNB\n",
    "from sklearn.metrics import accuracy_score, precision_score, confusion_matrix, recall_score, f1_score\n",
    "import pandas as pd\n",
    "df = pd.read_excel('Dethi_data.xlsx')\n",
    "df.head()\n"
   ]
  },
  {
   "cell_type": "code",
   "execution_count": 3,
   "id": "9954c748",
   "metadata": {},
   "outputs": [
    {
     "name": "stdout",
     "output_type": "stream",
     "text": [
      "<class 'pandas.core.frame.DataFrame'>\n",
      "RangeIndex: 30000 entries, 0 to 29999\n",
      "Data columns (total 25 columns):\n",
      " #   Column   Non-Null Count  Dtype \n",
      "---  ------   --------------  ----- \n",
      " 0   order    30000 non-null  int64 \n",
      " 1   limit    30000 non-null  int64 \n",
      " 2   clear    30000 non-null  object\n",
      " 3   drop     30000 non-null  object\n",
      " 4   delete   30000 non-null  object\n",
      " 5   remove   30000 non-null  int64 \n",
      " 6   c1       30000 non-null  int64 \n",
      " 7   c2       30000 non-null  int64 \n",
      " 8   c3       30000 non-null  int64 \n",
      " 9   c4       30000 non-null  int64 \n",
      " 10  c5       30000 non-null  int64 \n",
      " 11  c6       30000 non-null  int64 \n",
      " 12  d1       30000 non-null  int64 \n",
      " 13  d2       30000 non-null  int64 \n",
      " 14  d3       30000 non-null  int64 \n",
      " 15  d4       30000 non-null  int64 \n",
      " 16  d5       30000 non-null  int64 \n",
      " 17  d6       30000 non-null  int64 \n",
      " 18  f1       30000 non-null  int64 \n",
      " 19  f2       30000 non-null  int64 \n",
      " 20  f3       30000 non-null  int64 \n",
      " 21  f4       30000 non-null  int64 \n",
      " 22  f5       30000 non-null  int64 \n",
      " 23  f6       30000 non-null  int64 \n",
      " 24  default  30000 non-null  int64 \n",
      "dtypes: int64(22), object(3)\n",
      "memory usage: 5.7+ MB\n"
     ]
    }
   ],
   "source": [
    "df.info()"
   ]
  },
  {
   "cell_type": "code",
   "execution_count": 4,
   "id": "ed865214",
   "metadata": {},
   "outputs": [],
   "source": [
    "\n",
    "X = df.loc[:, [\"c1\" , \"d1\", \"f1\", \"c2\", \"d2\", \"f2\", \"f3\", \"f4\", \"f5\", \"f6\"]]\n",
    "y = df.loc[:, \"limit\"]\n",
    "from sklearn.model_selection import train_test_split\n",
    "# Tách trực tiếp từ df\n",
    "df_train, df_test = train_test_split(df, test_size=0.1, random_state=10)\n",
    "\n",
    "# Nếu sau này cần tách ra X và y từ df_train, df_test:\n",
    "X_train = df_train[[\"c1\" , \"d1\", \"f1\", \"c2\", \"d2\", \"f2\", \"f3\", \"f4\", \"f5\", \"f6\"]]\n",
    "y_train = df_train[\"limit\"]\n",
    "\n",
    "X_test = df_test[[\"c1\" , \"d1\", \"f1\", \"c2\", \"d2\", \"f2\", \"f3\", \"f4\", \"f5\", \"f6\"]]\n",
    "y_test = df_test[\"limit\"]\n"
   ]
  },
  {
   "cell_type": "code",
   "execution_count": 5,
   "id": "932ea699",
   "metadata": {},
   "outputs": [
    {
     "data": {
      "text/html": [
       "<style>#sk-container-id-1 {\n",
       "  /* Definition of color scheme common for light and dark mode */\n",
       "  --sklearn-color-text: black;\n",
       "  --sklearn-color-line: gray;\n",
       "  /* Definition of color scheme for unfitted estimators */\n",
       "  --sklearn-color-unfitted-level-0: #fff5e6;\n",
       "  --sklearn-color-unfitted-level-1: #f6e4d2;\n",
       "  --sklearn-color-unfitted-level-2: #ffe0b3;\n",
       "  --sklearn-color-unfitted-level-3: chocolate;\n",
       "  /* Definition of color scheme for fitted estimators */\n",
       "  --sklearn-color-fitted-level-0: #f0f8ff;\n",
       "  --sklearn-color-fitted-level-1: #d4ebff;\n",
       "  --sklearn-color-fitted-level-2: #b3dbfd;\n",
       "  --sklearn-color-fitted-level-3: cornflowerblue;\n",
       "\n",
       "  /* Specific color for light theme */\n",
       "  --sklearn-color-text-on-default-background: var(--sg-text-color, var(--theme-code-foreground, var(--jp-content-font-color1, black)));\n",
       "  --sklearn-color-background: var(--sg-background-color, var(--theme-background, var(--jp-layout-color0, white)));\n",
       "  --sklearn-color-border-box: var(--sg-text-color, var(--theme-code-foreground, var(--jp-content-font-color1, black)));\n",
       "  --sklearn-color-icon: #696969;\n",
       "\n",
       "  @media (prefers-color-scheme: dark) {\n",
       "    /* Redefinition of color scheme for dark theme */\n",
       "    --sklearn-color-text-on-default-background: var(--sg-text-color, var(--theme-code-foreground, var(--jp-content-font-color1, white)));\n",
       "    --sklearn-color-background: var(--sg-background-color, var(--theme-background, var(--jp-layout-color0, #111)));\n",
       "    --sklearn-color-border-box: var(--sg-text-color, var(--theme-code-foreground, var(--jp-content-font-color1, white)));\n",
       "    --sklearn-color-icon: #878787;\n",
       "  }\n",
       "}\n",
       "\n",
       "#sk-container-id-1 {\n",
       "  color: var(--sklearn-color-text);\n",
       "}\n",
       "\n",
       "#sk-container-id-1 pre {\n",
       "  padding: 0;\n",
       "}\n",
       "\n",
       "#sk-container-id-1 input.sk-hidden--visually {\n",
       "  border: 0;\n",
       "  clip: rect(1px 1px 1px 1px);\n",
       "  clip: rect(1px, 1px, 1px, 1px);\n",
       "  height: 1px;\n",
       "  margin: -1px;\n",
       "  overflow: hidden;\n",
       "  padding: 0;\n",
       "  position: absolute;\n",
       "  width: 1px;\n",
       "}\n",
       "\n",
       "#sk-container-id-1 div.sk-dashed-wrapped {\n",
       "  border: 1px dashed var(--sklearn-color-line);\n",
       "  margin: 0 0.4em 0.5em 0.4em;\n",
       "  box-sizing: border-box;\n",
       "  padding-bottom: 0.4em;\n",
       "  background-color: var(--sklearn-color-background);\n",
       "}\n",
       "\n",
       "#sk-container-id-1 div.sk-container {\n",
       "  /* jupyter's `normalize.less` sets `[hidden] { display: none; }`\n",
       "     but bootstrap.min.css set `[hidden] { display: none !important; }`\n",
       "     so we also need the `!important` here to be able to override the\n",
       "     default hidden behavior on the sphinx rendered scikit-learn.org.\n",
       "     See: https://github.com/scikit-learn/scikit-learn/issues/21755 */\n",
       "  display: inline-block !important;\n",
       "  position: relative;\n",
       "}\n",
       "\n",
       "#sk-container-id-1 div.sk-text-repr-fallback {\n",
       "  display: none;\n",
       "}\n",
       "\n",
       "div.sk-parallel-item,\n",
       "div.sk-serial,\n",
       "div.sk-item {\n",
       "  /* draw centered vertical line to link estimators */\n",
       "  background-image: linear-gradient(var(--sklearn-color-text-on-default-background), var(--sklearn-color-text-on-default-background));\n",
       "  background-size: 2px 100%;\n",
       "  background-repeat: no-repeat;\n",
       "  background-position: center center;\n",
       "}\n",
       "\n",
       "/* Parallel-specific style estimator block */\n",
       "\n",
       "#sk-container-id-1 div.sk-parallel-item::after {\n",
       "  content: \"\";\n",
       "  width: 100%;\n",
       "  border-bottom: 2px solid var(--sklearn-color-text-on-default-background);\n",
       "  flex-grow: 1;\n",
       "}\n",
       "\n",
       "#sk-container-id-1 div.sk-parallel {\n",
       "  display: flex;\n",
       "  align-items: stretch;\n",
       "  justify-content: center;\n",
       "  background-color: var(--sklearn-color-background);\n",
       "  position: relative;\n",
       "}\n",
       "\n",
       "#sk-container-id-1 div.sk-parallel-item {\n",
       "  display: flex;\n",
       "  flex-direction: column;\n",
       "}\n",
       "\n",
       "#sk-container-id-1 div.sk-parallel-item:first-child::after {\n",
       "  align-self: flex-end;\n",
       "  width: 50%;\n",
       "}\n",
       "\n",
       "#sk-container-id-1 div.sk-parallel-item:last-child::after {\n",
       "  align-self: flex-start;\n",
       "  width: 50%;\n",
       "}\n",
       "\n",
       "#sk-container-id-1 div.sk-parallel-item:only-child::after {\n",
       "  width: 0;\n",
       "}\n",
       "\n",
       "/* Serial-specific style estimator block */\n",
       "\n",
       "#sk-container-id-1 div.sk-serial {\n",
       "  display: flex;\n",
       "  flex-direction: column;\n",
       "  align-items: center;\n",
       "  background-color: var(--sklearn-color-background);\n",
       "  padding-right: 1em;\n",
       "  padding-left: 1em;\n",
       "}\n",
       "\n",
       "\n",
       "/* Toggleable style: style used for estimator/Pipeline/ColumnTransformer box that is\n",
       "clickable and can be expanded/collapsed.\n",
       "- Pipeline and ColumnTransformer use this feature and define the default style\n",
       "- Estimators will overwrite some part of the style using the `sk-estimator` class\n",
       "*/\n",
       "\n",
       "/* Pipeline and ColumnTransformer style (default) */\n",
       "\n",
       "#sk-container-id-1 div.sk-toggleable {\n",
       "  /* Default theme specific background. It is overwritten whether we have a\n",
       "  specific estimator or a Pipeline/ColumnTransformer */\n",
       "  background-color: var(--sklearn-color-background);\n",
       "}\n",
       "\n",
       "/* Toggleable label */\n",
       "#sk-container-id-1 label.sk-toggleable__label {\n",
       "  cursor: pointer;\n",
       "  display: block;\n",
       "  width: 100%;\n",
       "  margin-bottom: 0;\n",
       "  padding: 0.5em;\n",
       "  box-sizing: border-box;\n",
       "  text-align: center;\n",
       "}\n",
       "\n",
       "#sk-container-id-1 label.sk-toggleable__label-arrow:before {\n",
       "  /* Arrow on the left of the label */\n",
       "  content: \"▸\";\n",
       "  float: left;\n",
       "  margin-right: 0.25em;\n",
       "  color: var(--sklearn-color-icon);\n",
       "}\n",
       "\n",
       "#sk-container-id-1 label.sk-toggleable__label-arrow:hover:before {\n",
       "  color: var(--sklearn-color-text);\n",
       "}\n",
       "\n",
       "/* Toggleable content - dropdown */\n",
       "\n",
       "#sk-container-id-1 div.sk-toggleable__content {\n",
       "  max-height: 0;\n",
       "  max-width: 0;\n",
       "  overflow: hidden;\n",
       "  text-align: left;\n",
       "  /* unfitted */\n",
       "  background-color: var(--sklearn-color-unfitted-level-0);\n",
       "}\n",
       "\n",
       "#sk-container-id-1 div.sk-toggleable__content.fitted {\n",
       "  /* fitted */\n",
       "  background-color: var(--sklearn-color-fitted-level-0);\n",
       "}\n",
       "\n",
       "#sk-container-id-1 div.sk-toggleable__content pre {\n",
       "  margin: 0.2em;\n",
       "  border-radius: 0.25em;\n",
       "  color: var(--sklearn-color-text);\n",
       "  /* unfitted */\n",
       "  background-color: var(--sklearn-color-unfitted-level-0);\n",
       "}\n",
       "\n",
       "#sk-container-id-1 div.sk-toggleable__content.fitted pre {\n",
       "  /* unfitted */\n",
       "  background-color: var(--sklearn-color-fitted-level-0);\n",
       "}\n",
       "\n",
       "#sk-container-id-1 input.sk-toggleable__control:checked~div.sk-toggleable__content {\n",
       "  /* Expand drop-down */\n",
       "  max-height: 200px;\n",
       "  max-width: 100%;\n",
       "  overflow: auto;\n",
       "}\n",
       "\n",
       "#sk-container-id-1 input.sk-toggleable__control:checked~label.sk-toggleable__label-arrow:before {\n",
       "  content: \"▾\";\n",
       "}\n",
       "\n",
       "/* Pipeline/ColumnTransformer-specific style */\n",
       "\n",
       "#sk-container-id-1 div.sk-label input.sk-toggleable__control:checked~label.sk-toggleable__label {\n",
       "  color: var(--sklearn-color-text);\n",
       "  background-color: var(--sklearn-color-unfitted-level-2);\n",
       "}\n",
       "\n",
       "#sk-container-id-1 div.sk-label.fitted input.sk-toggleable__control:checked~label.sk-toggleable__label {\n",
       "  background-color: var(--sklearn-color-fitted-level-2);\n",
       "}\n",
       "\n",
       "/* Estimator-specific style */\n",
       "\n",
       "/* Colorize estimator box */\n",
       "#sk-container-id-1 div.sk-estimator input.sk-toggleable__control:checked~label.sk-toggleable__label {\n",
       "  /* unfitted */\n",
       "  background-color: var(--sklearn-color-unfitted-level-2);\n",
       "}\n",
       "\n",
       "#sk-container-id-1 div.sk-estimator.fitted input.sk-toggleable__control:checked~label.sk-toggleable__label {\n",
       "  /* fitted */\n",
       "  background-color: var(--sklearn-color-fitted-level-2);\n",
       "}\n",
       "\n",
       "#sk-container-id-1 div.sk-label label.sk-toggleable__label,\n",
       "#sk-container-id-1 div.sk-label label {\n",
       "  /* The background is the default theme color */\n",
       "  color: var(--sklearn-color-text-on-default-background);\n",
       "}\n",
       "\n",
       "/* On hover, darken the color of the background */\n",
       "#sk-container-id-1 div.sk-label:hover label.sk-toggleable__label {\n",
       "  color: var(--sklearn-color-text);\n",
       "  background-color: var(--sklearn-color-unfitted-level-2);\n",
       "}\n",
       "\n",
       "/* Label box, darken color on hover, fitted */\n",
       "#sk-container-id-1 div.sk-label.fitted:hover label.sk-toggleable__label.fitted {\n",
       "  color: var(--sklearn-color-text);\n",
       "  background-color: var(--sklearn-color-fitted-level-2);\n",
       "}\n",
       "\n",
       "/* Estimator label */\n",
       "\n",
       "#sk-container-id-1 div.sk-label label {\n",
       "  font-family: monospace;\n",
       "  font-weight: bold;\n",
       "  display: inline-block;\n",
       "  line-height: 1.2em;\n",
       "}\n",
       "\n",
       "#sk-container-id-1 div.sk-label-container {\n",
       "  text-align: center;\n",
       "}\n",
       "\n",
       "/* Estimator-specific */\n",
       "#sk-container-id-1 div.sk-estimator {\n",
       "  font-family: monospace;\n",
       "  border: 1px dotted var(--sklearn-color-border-box);\n",
       "  border-radius: 0.25em;\n",
       "  box-sizing: border-box;\n",
       "  margin-bottom: 0.5em;\n",
       "  /* unfitted */\n",
       "  background-color: var(--sklearn-color-unfitted-level-0);\n",
       "}\n",
       "\n",
       "#sk-container-id-1 div.sk-estimator.fitted {\n",
       "  /* fitted */\n",
       "  background-color: var(--sklearn-color-fitted-level-0);\n",
       "}\n",
       "\n",
       "/* on hover */\n",
       "#sk-container-id-1 div.sk-estimator:hover {\n",
       "  /* unfitted */\n",
       "  background-color: var(--sklearn-color-unfitted-level-2);\n",
       "}\n",
       "\n",
       "#sk-container-id-1 div.sk-estimator.fitted:hover {\n",
       "  /* fitted */\n",
       "  background-color: var(--sklearn-color-fitted-level-2);\n",
       "}\n",
       "\n",
       "/* Specification for estimator info (e.g. \"i\" and \"?\") */\n",
       "\n",
       "/* Common style for \"i\" and \"?\" */\n",
       "\n",
       ".sk-estimator-doc-link,\n",
       "a:link.sk-estimator-doc-link,\n",
       "a:visited.sk-estimator-doc-link {\n",
       "  float: right;\n",
       "  font-size: smaller;\n",
       "  line-height: 1em;\n",
       "  font-family: monospace;\n",
       "  background-color: var(--sklearn-color-background);\n",
       "  border-radius: 1em;\n",
       "  height: 1em;\n",
       "  width: 1em;\n",
       "  text-decoration: none !important;\n",
       "  margin-left: 1ex;\n",
       "  /* unfitted */\n",
       "  border: var(--sklearn-color-unfitted-level-1) 1pt solid;\n",
       "  color: var(--sklearn-color-unfitted-level-1);\n",
       "}\n",
       "\n",
       ".sk-estimator-doc-link.fitted,\n",
       "a:link.sk-estimator-doc-link.fitted,\n",
       "a:visited.sk-estimator-doc-link.fitted {\n",
       "  /* fitted */\n",
       "  border: var(--sklearn-color-fitted-level-1) 1pt solid;\n",
       "  color: var(--sklearn-color-fitted-level-1);\n",
       "}\n",
       "\n",
       "/* On hover */\n",
       "div.sk-estimator:hover .sk-estimator-doc-link:hover,\n",
       ".sk-estimator-doc-link:hover,\n",
       "div.sk-label-container:hover .sk-estimator-doc-link:hover,\n",
       ".sk-estimator-doc-link:hover {\n",
       "  /* unfitted */\n",
       "  background-color: var(--sklearn-color-unfitted-level-3);\n",
       "  color: var(--sklearn-color-background);\n",
       "  text-decoration: none;\n",
       "}\n",
       "\n",
       "div.sk-estimator.fitted:hover .sk-estimator-doc-link.fitted:hover,\n",
       ".sk-estimator-doc-link.fitted:hover,\n",
       "div.sk-label-container:hover .sk-estimator-doc-link.fitted:hover,\n",
       ".sk-estimator-doc-link.fitted:hover {\n",
       "  /* fitted */\n",
       "  background-color: var(--sklearn-color-fitted-level-3);\n",
       "  color: var(--sklearn-color-background);\n",
       "  text-decoration: none;\n",
       "}\n",
       "\n",
       "/* Span, style for the box shown on hovering the info icon */\n",
       ".sk-estimator-doc-link span {\n",
       "  display: none;\n",
       "  z-index: 9999;\n",
       "  position: relative;\n",
       "  font-weight: normal;\n",
       "  right: .2ex;\n",
       "  padding: .5ex;\n",
       "  margin: .5ex;\n",
       "  width: min-content;\n",
       "  min-width: 20ex;\n",
       "  max-width: 50ex;\n",
       "  color: var(--sklearn-color-text);\n",
       "  box-shadow: 2pt 2pt 4pt #999;\n",
       "  /* unfitted */\n",
       "  background: var(--sklearn-color-unfitted-level-0);\n",
       "  border: .5pt solid var(--sklearn-color-unfitted-level-3);\n",
       "}\n",
       "\n",
       ".sk-estimator-doc-link.fitted span {\n",
       "  /* fitted */\n",
       "  background: var(--sklearn-color-fitted-level-0);\n",
       "  border: var(--sklearn-color-fitted-level-3);\n",
       "}\n",
       "\n",
       ".sk-estimator-doc-link:hover span {\n",
       "  display: block;\n",
       "}\n",
       "\n",
       "/* \"?\"-specific style due to the `<a>` HTML tag */\n",
       "\n",
       "#sk-container-id-1 a.estimator_doc_link {\n",
       "  float: right;\n",
       "  font-size: 1rem;\n",
       "  line-height: 1em;\n",
       "  font-family: monospace;\n",
       "  background-color: var(--sklearn-color-background);\n",
       "  border-radius: 1rem;\n",
       "  height: 1rem;\n",
       "  width: 1rem;\n",
       "  text-decoration: none;\n",
       "  /* unfitted */\n",
       "  color: var(--sklearn-color-unfitted-level-1);\n",
       "  border: var(--sklearn-color-unfitted-level-1) 1pt solid;\n",
       "}\n",
       "\n",
       "#sk-container-id-1 a.estimator_doc_link.fitted {\n",
       "  /* fitted */\n",
       "  border: var(--sklearn-color-fitted-level-1) 1pt solid;\n",
       "  color: var(--sklearn-color-fitted-level-1);\n",
       "}\n",
       "\n",
       "/* On hover */\n",
       "#sk-container-id-1 a.estimator_doc_link:hover {\n",
       "  /* unfitted */\n",
       "  background-color: var(--sklearn-color-unfitted-level-3);\n",
       "  color: var(--sklearn-color-background);\n",
       "  text-decoration: none;\n",
       "}\n",
       "\n",
       "#sk-container-id-1 a.estimator_doc_link.fitted:hover {\n",
       "  /* fitted */\n",
       "  background-color: var(--sklearn-color-fitted-level-3);\n",
       "}\n",
       "</style><div id=\"sk-container-id-1\" class=\"sk-top-container\"><div class=\"sk-text-repr-fallback\"><pre>LinearRegression()</pre><b>In a Jupyter environment, please rerun this cell to show the HTML representation or trust the notebook. <br />On GitHub, the HTML representation is unable to render, please try loading this page with nbviewer.org.</b></div><div class=\"sk-container\" hidden><div class=\"sk-item\"><div class=\"sk-estimator fitted sk-toggleable\"><input class=\"sk-toggleable__control sk-hidden--visually\" id=\"sk-estimator-id-1\" type=\"checkbox\" checked><label for=\"sk-estimator-id-1\" class=\"sk-toggleable__label fitted sk-toggleable__label-arrow fitted\">&nbsp;&nbsp;LinearRegression<a class=\"sk-estimator-doc-link fitted\" rel=\"noreferrer\" target=\"_blank\" href=\"https://scikit-learn.org/1.5/modules/generated/sklearn.linear_model.LinearRegression.html\">?<span>Documentation for LinearRegression</span></a><span class=\"sk-estimator-doc-link fitted\">i<span>Fitted</span></span></label><div class=\"sk-toggleable__content fitted\"><pre>LinearRegression()</pre></div> </div></div></div></div>"
      ],
      "text/plain": [
       "LinearRegression()"
      ]
     },
     "execution_count": 5,
     "metadata": {},
     "output_type": "execute_result"
    }
   ],
   "source": [
    "from sklearn.linear_model import LinearRegression\n",
    "regressor = LinearRegression()\n",
    "regressor.fit(X_train, y_train)"
   ]
  },
  {
   "cell_type": "code",
   "execution_count": 6,
   "id": "d18a1c6d",
   "metadata": {},
   "outputs": [
    {
     "name": "stdout",
     "output_type": "stream",
     "text": [
      "Du lieu train  (27000, 25)\n",
      "Du lieu test  (3000, 25)\n"
     ]
    }
   ],
   "source": [
    "print(\"Du lieu train \",  df_train.shape)\n",
    "print(\"Du lieu test \", df_test.shape)\n"
   ]
  },
  {
   "cell_type": "markdown",
   "id": "7ef8b5a7",
   "metadata": {},
   "source": [
    "# Câu 3"
   ]
  },
  {
   "cell_type": "code",
   "execution_count": 7,
   "id": "31997145",
   "metadata": {},
   "outputs": [
    {
     "name": "stdout",
     "output_type": "stream",
     "text": [
      "2664 thuộc df_train\n",
      "1392 thuộc df_train\n",
      "18817 thuộc df_train\n",
      "485 thuộc df_train\n",
      "26435 thuộc df_train\n"
     ]
    }
   ],
   "source": [
    "# a\n",
    "order_list = [2664, 1392, 18817, 485, 26435] \n",
    "# Kiểm tra từng giá trị trong list có nằm trong df_train['order'] không\n",
    "for o in order_list:\n",
    "    if o in df_train['order'].values:\n",
    "        print(f\"{o} thuộc df_train\")\n",
    "    else:\n",
    "        print(f\"{o} KHÔNG thuộc df_train\")"
   ]
  },
  {
   "cell_type": "code",
   "execution_count": 8,
   "id": "6e4a4703",
   "metadata": {},
   "outputs": [
    {
     "name": "stdout",
     "output_type": "stream",
     "text": [
      "28018 KHÔNG thuộc df_test\n",
      "17729 KHÔNG thuộc df_test\n",
      "29200 KHÔNG thuộc df_test\n",
      "7294 KHÔNG thuộc df_test\n",
      "17674 KHÔNG thuộc df_test\n"
     ]
    }
   ],
   "source": [
    "# b\n",
    "order_list = [28018, 17729, 29200, 7294, 17674] \n",
    "# Kiểm tra từng giá trị trong list có nằm trong df_train['order'] không\n",
    "for o in order_list:\n",
    "    if o in df_test['order'].values:\n",
    "        print(f\"{o} thuộc df_test\")\n",
    "    else:\n",
    "        print(f\"{o} KHÔNG thuộc df_test\")"
   ]
  },
  {
   "cell_type": "code",
   "execution_count": 9,
   "id": "3b1522a1",
   "metadata": {},
   "outputs": [
    {
     "name": "stdout",
     "output_type": "stream",
     "text": [
      "2664 KHÔNG thuộc df_test\n",
      "1392 KHÔNG thuộc df_test\n",
      "18817 KHÔNG thuộc df_test\n",
      "485 KHÔNG thuộc df_test\n",
      "26435 KHÔNG thuộc df_test\n"
     ]
    }
   ],
   "source": [
    "# c\n",
    "order_list = [2664, 1392, 18817, 485, 26435] \n",
    "# Kiểm tra từng giá trị trong list có nằm trong df_train['order'] không\n",
    "for o in order_list:\n",
    "    if o in df_test['order'].values:\n",
    "        print(f\"{o} thuộc df_test\")\n",
    "    else:\n",
    "        print(f\"{o} KHÔNG thuộc df_test\")"
   ]
  },
  {
   "cell_type": "code",
   "execution_count": 10,
   "id": "f4830b27",
   "metadata": {},
   "outputs": [
    {
     "name": "stdout",
     "output_type": "stream",
     "text": [
      "24449 thuộc df_test\n",
      "4368 thuộc df_test\n",
      "5750 thuộc df_test\n",
      "13544 thuộc df_test\n",
      "5330 thuộc df_test\n"
     ]
    }
   ],
   "source": [
    "# d\n",
    "order_list = [24449, 4368, 5750, 13544, 5330] \n",
    "# Kiểm tra từng giá trị trong list có nằm trong df_train['order'] không\n",
    "for o in order_list:\n",
    "    if o in df_test['order'].values:\n",
    "        print(f\"{o} thuộc df_test\")\n",
    "    else:\n",
    "        print(f\"{o} KHÔNG thuộc df_test\")"
   ]
  },
  {
   "cell_type": "code",
   "execution_count": 11,
   "id": "b5a08149",
   "metadata": {},
   "outputs": [
    {
     "name": "stdout",
     "output_type": "stream",
     "text": [
      "20413 thuộc df_test\n",
      "1297 thuộc df_test\n",
      "3907 thuộc df_test\n",
      "20455 thuộc df_test\n",
      "5201 thuộc df_test\n"
     ]
    }
   ],
   "source": [
    "# e\n",
    "order_list = [20413, 1297, 3907, 20455, 5201] \n",
    "# Kiểm tra từng giá trị trong list có nằm trong df_train['order'] không\n",
    "for o in order_list:\n",
    "    if o in df_test['order'].values:\n",
    "        print(f\"{o} thuộc df_test\")\n",
    "    else:\n",
    "        print(f\"{o} KHÔNG thuộc df_test\")"
   ]
  },
  {
   "cell_type": "code",
   "execution_count": 12,
   "id": "a52bce4a",
   "metadata": {},
   "outputs": [
    {
     "name": "stdout",
     "output_type": "stream",
     "text": [
      "28018 thuộc df_train\n",
      "17729 thuộc df_train\n",
      "29200 thuộc df_train\n",
      "7294 thuộc df_train\n",
      "17674 thuộc df_train\n"
     ]
    }
   ],
   "source": [
    "# f\n",
    "order_list = [28018, 17729, 29200, 7294, 17674] \n",
    "# Kiểm tra từng giá trị trong list có nằm trong df_train['order'] không\n",
    "for o in order_list:\n",
    "    if o in df_train['order'].values:\n",
    "        print(f\"{o} thuộc df_train\")\n",
    "    else:\n",
    "        print(f\"{o} KHÔNG thuộc df_train\")"
   ]
  },
  {
   "cell_type": "code",
   "execution_count": 13,
   "id": "c2ae7bd8",
   "metadata": {},
   "outputs": [
    {
     "name": "stdout",
     "output_type": "stream",
     "text": [
      "20413 KHÔNG thuộc df_train\n",
      "1297 KHÔNG thuộc df_train\n",
      "3907 KHÔNG thuộc df_train\n",
      "20455 KHÔNG thuộc df_train\n",
      "5201 KHÔNG thuộc df_train\n"
     ]
    }
   ],
   "source": [
    "# g\n",
    "order_list = [20413, 1297, 3907, 20455, 5201] \n",
    "# Kiểm tra từng giá trị trong list có nằm trong df_train['order'] không\n",
    "for o in order_list:\n",
    "    if o in df_train['order'].values:\n",
    "        print(f\"{o} thuộc df_train\")\n",
    "    else:\n",
    "        print(f\"{o} KHÔNG thuộc df_train\")"
   ]
  },
  {
   "cell_type": "code",
   "execution_count": 14,
   "id": "82be68b2",
   "metadata": {},
   "outputs": [
    {
     "name": "stdout",
     "output_type": "stream",
     "text": [
      "24449 KHÔNG thuộc df_train\n",
      "4368 KHÔNG thuộc df_train\n",
      "5750 KHÔNG thuộc df_train\n",
      "13544 KHÔNG thuộc df_train\n",
      "5330 KHÔNG thuộc df_train\n"
     ]
    }
   ],
   "source": [
    "# h\n",
    "order_list = [24449, 4368, 5750, 13544, 5330] \n",
    "# Kiểm tra từng giá trị trong list có nằm trong df_train['order'] không\n",
    "for o in order_list:\n",
    "    if o in df_train['order'].values:\n",
    "        print(f\"{o} thuộc df_train\")\n",
    "    else:\n",
    "        print(f\"{o} KHÔNG thuộc df_train\")"
   ]
  },
  {
   "cell_type": "code",
   "execution_count": 15,
   "id": "129fa7b5",
   "metadata": {},
   "outputs": [
    {
     "name": "stdout",
     "output_type": "stream",
     "text": [
      "119691.34323805539\n",
      "[-1.42910664e+04  4.37472163e-01  2.47854487e-01 -2.87212966e+04\n",
      "  1.10043969e-01  2.61289390e-01  5.17072755e-01  5.92575590e-01\n",
      "  8.56732494e-01  6.77891551e-01]\n"
     ]
    }
   ],
   "source": [
    "print(regressor.intercept_) # B0\n",
    "print(regressor.coef_) # B1, B2, ....."
   ]
  },
  {
   "cell_type": "code",
   "execution_count": 16,
   "id": "4a0bd0de",
   "metadata": {},
   "outputs": [
    {
     "name": "stdout",
     "output_type": "stream",
     "text": [
      "Score or R-squared:  0.28572862191020865\n"
     ]
    }
   ],
   "source": [
    "print('Score or R-squared: ', regressor.score(X_train, y_train))"
   ]
  },
  {
   "cell_type": "code",
   "execution_count": 17,
   "id": "00d79ccf",
   "metadata": {},
   "outputs": [
    {
     "name": "stdout",
     "output_type": "stream",
     "text": [
      "[218827.64  72792.11 237417.02 ... 170740.91 230701.21 222128.24]\n"
     ]
    }
   ],
   "source": [
    "import numpy as np\n",
    "y_pred = regressor.predict(X_test)\n",
    "np.set_printoptions(precision=2)\n",
    "print(y_pred)"
   ]
  },
  {
   "cell_type": "markdown",
   "id": "61d8886c",
   "metadata": {},
   "source": [
    "# Câu 4"
   ]
  },
  {
   "cell_type": "code",
   "execution_count": 18,
   "id": "fd3790f5",
   "metadata": {},
   "outputs": [
    {
     "name": "stdout",
     "output_type": "stream",
     "text": [
      "Score or R-Squared: 0.3003500023932322\n",
      "Mean Absolute Error:  82906.84797768666\n"
     ]
    }
   ],
   "source": [
    "\n",
    "\n",
    "from sklearn import metrics\n",
    "y_test_pred = regressor.predict(X_test)\n",
    "\n",
    "print('Score or R-Squared:', regressor.score(X_test, y_test))\n",
    "print('Mean Absolute Error: ', \n",
    "      metrics.mean_absolute_error(y_test, y_test_pred))"
   ]
  },
  {
   "cell_type": "markdown",
   "id": "470f437b",
   "metadata": {},
   "source": [
    "# Câu 5"
   ]
  },
  {
   "cell_type": "code",
   "execution_count": 19,
   "id": "c5c3d0d4",
   "metadata": {},
   "outputs": [
    {
     "name": "stdout",
     "output_type": "stream",
     "text": [
      "Predicted profit:  213447.42417\n"
     ]
    },
    {
     "name": "stderr",
     "output_type": "stream",
     "text": [
      "c:\\Users\\admin\\anaconda3\\Lib\\site-packages\\sklearn\\base.py:493: UserWarning: X does not have valid feature names, but LinearRegression was fitted with feature names\n",
      "  warnings.warn(\n"
     ]
    }
   ],
   "source": [
    "# Xây ứng dụng mini để dự đoán\n",
    "c1= -1.0\n",
    "d1 = 9640.0\n",
    "f1 = 15134.0\n",
    "c2 = -2.0\n",
    "d2 = 7404.0\n",
    "f2 = 0.0\n",
    "f3 = 7002.0\n",
    "f4 = 8167.0\n",
    "f5 = 3996.0\n",
    "f6 = 2000.0\n",
    "\n",
    "predicted_value = regressor.predict([[c1, d1, f1, c2, d2, f2, f3, f4, f5, f6]])[0]\n",
    "print(\"Predicted profit: \", round(predicted_value, 5))"
   ]
  },
  {
   "cell_type": "markdown",
   "id": "c5b2716d",
   "metadata": {},
   "source": [
    "# Kết quả là: 213447.42417"
   ]
  },
  {
   "cell_type": "markdown",
   "id": "cfad5365",
   "metadata": {},
   "source": [
    "# Câu 6"
   ]
  },
  {
   "cell_type": "code",
   "execution_count": 20,
   "id": "5617cbe3",
   "metadata": {},
   "outputs": [],
   "source": [
    "\n",
    "X = df.loc[:, [\"c1\" , \"d1\", \"f1\", \"c2\", \"d2\", \"f2\", \"f3\", \"f4\", \"f5\", \"f6\"]]\n",
    "y = df.loc[:, \"limit\"]\n",
    "from sklearn.model_selection import train_test_split\n",
    "# Tách trực tiếp từ df\n",
    "df_train, df_test = train_test_split(df, test_size=0.1, random_state=10)\n",
    "\n",
    "# Nếu sau này cần tách ra X và y từ df_train, df_test:\n",
    "X_trainKNN = df_train[[\"c1\", \"d1\", \"f1\"]]\n",
    "y_trainKNN = df_train[\"drop\"]\n",
    "\n",
    "X_testKNN = df_test[[\"c1\", \"d1\", \"f1\",]]\n",
    "y_testKNN = df_test[\"drop\"]\n"
   ]
  },
  {
   "cell_type": "code",
   "execution_count": null,
   "id": "c47fd0d6",
   "metadata": {},
   "outputs": [
    {
     "name": "stdout",
     "output_type": "stream",
     "text": [
      "0.5292962962962963\n"
     ]
    }
   ],
   "source": [
    "knn = KNeighborsClassifier(n_neighbors=20)\n",
    "knn.fit(X_trainKNN, y_trainKNN)\n",
    "Y_pred_KNN = knn.predict(X_testKNN)\n",
    "accuracy_knn = accuracy_score(y_testKNN, Y_pred_KNN) * 100 # Trên tập test\n",
    "acc_knn= knn.score(X_trainKNN, y_trainKNN) # Trên tập huấn luyện\n",
    "print(acc_knn)"
   ]
  },
  {
   "cell_type": "markdown",
   "id": "e96d484c",
   "metadata": {},
   "source": [
    "# Câu 7"
   ]
  },
  {
   "cell_type": "code",
   "execution_count": 22,
   "id": "87bedae5",
   "metadata": {},
   "outputs": [
    {
     "name": "stdout",
     "output_type": "stream",
     "text": [
      "Trung bình knn_feature: 0.5371074074\n"
     ]
    }
   ],
   "source": [
    "\n",
    "probs_knn = knn.predict_proba(X_trainKNN) # Nó là trên tập huấn luyện. Tại đề hỏi...\n",
    "probs_knn_Test = knn.predict_proba(X_testKNN) # Dành cho câu 9...\n",
    "\n",
    "df_train['knn_feature'] = probs_knn.max(axis=1)\n",
    "df_test['knn_feature'] = probs_knn_Test.max(axis=1)\n",
    "\n",
    "\n",
    "# Tính trung bình và làm tròn 2 chữ số\n",
    "mean_knn_feature = round(df_train['knn_feature'].mean(),10)\n",
    "print(\"Trung bình knn_feature:\", mean_knn_feature)"
   ]
  },
  {
   "cell_type": "markdown",
   "id": "493ae60e",
   "metadata": {},
   "source": [
    "# Câu 8"
   ]
  },
  {
   "cell_type": "code",
   "execution_count": 23,
   "id": "e2c47c38",
   "metadata": {},
   "outputs": [
    {
     "data": {
      "text/plain": [
       "2663     0.616622\n",
       "1391     0.610136\n",
       "18816    0.615249\n",
       "484      0.608126\n",
       "26434    0.611553\n",
       "           ...   \n",
       "28017    0.610108\n",
       "17728    0.612436\n",
       "29199    0.610388\n",
       "7293     0.605027\n",
       "17673    0.615483\n",
       "Name: gnb_feature, Length: 27000, dtype: float64"
      ]
     },
     "execution_count": 23,
     "metadata": {},
     "output_type": "execute_result"
    }
   ],
   "source": [
    "X_trainGNB = df_train[[\"c2\", \"d2\", \"f2\"]]\n",
    "y_trainGNB = df_train[\"delete\"]\n",
    "\n",
    "X_testGNB = df_test[[\"c2\", \"d2\", \"f2\",]]\n",
    "y_testGNB = df_test[\"delete\"]\n",
    "\n",
    "gaussian = GaussianNB()\n",
    "gaussian.fit(X_trainGNB, y_trainGNB)\n",
    "Y_predGNB = gaussian.predict(X_testGNB)\n",
    "accuracy_nb = round(accuracy_score(y_testGNB, Y_predGNB) * 100, 2)\n",
    "acc_gaussian = round(gaussian.score(X_trainGNB, y_trainGNB) * 100, 2)\n",
    "\n",
    "# Dự đoán xác suất\n",
    "probs_gnb = gaussian.predict_proba(X_trainGNB)\n",
    "probs_gnbTest = gaussian.predict_proba(X_testGNB)\n",
    "\n",
    "\n",
    "# Lấy xác suất cao nhất cho mỗi mẫu\n",
    "gnb_feature = probs_gnb.max(axis=1)\n",
    "gnb_featureTest = probs_gnbTest.max(axis=1)\n",
    "\n",
    "df_train['gnb_feature'] = gnb_feature\n",
    "df_test['gnb_feature'] = gnb_featureTest\n",
    "df_train['gnb_feature']"
   ]
  },
  {
   "cell_type": "code",
   "execution_count": 24,
   "id": "3caa4d42",
   "metadata": {},
   "outputs": [
    {
     "name": "stdout",
     "output_type": "stream",
     "text": [
      "2663     0.013731\n",
      "1391     0.091570\n",
      "18816    0.076489\n",
      "484      0.004498\n",
      "26434    0.009285\n",
      "           ...   \n",
      "28017    0.047529\n",
      "17728    0.004537\n",
      "29199    0.002608\n",
      "7293     0.000000\n",
      "17673    0.009552\n",
      "Name: fl_mean, Length: 27000, dtype: float64\n"
     ]
    }
   ],
   "source": [
    "import pandas as pd\n",
    "from sklearn.preprocessing import MinMaxScaler\n",
    "\n",
    "# Tính trung bình của các cột f3, f4, f5, f6\n",
    "df_train['fl_mean'] = df_train[['f3', 'f4', 'f5', 'f6']].mean(axis=1)\n",
    "df_test['fl_mean'] = df_test[['f3', 'f4', 'f5', 'f6']].mean(axis=1)\n",
    "\n",
    "\n",
    "# Khởi tạo MinMaxScaler\n",
    "scaler = MinMaxScaler()\n",
    "\n",
    "# Chuẩn hóa cột fl_mean (reshape vì scaler yêu cầu đầu vào là 2D array)\n",
    "df_train['fl_mean'] = scaler.fit_transform(df_train['fl_mean'].values.reshape(-1, 1))\n",
    "df_test['fl_mean'] = scaler.fit_transform(df_test['fl_mean'].values.reshape(-1, 1))\n",
    "\n",
    "\n",
    "# Bây giờ bạn có thể sử dụng cột fl_mean như một đặc trưng\n",
    "print(df_train['fl_mean'])"
   ]
  },
  {
   "cell_type": "code",
   "execution_count": 25,
   "id": "c4db98a7",
   "metadata": {},
   "outputs": [
    {
     "name": "stdout",
     "output_type": "stream",
     "text": [
      "Thống kê gộp chung của ma trận đặc trưng:\n",
      "Min: 0.0000\n",
      "Max: 1.0000\n",
      "Mean: 0.3862\n",
      "Variance: 0.0750\n"
     ]
    }
   ],
   "source": [
    "X_trainMLR = df_train[[\"knn_feature\", \"gnb_feature\", \"fl_mean\"]]\n",
    "y_trainMLR = df_train[\"limit\"]\n",
    "\n",
    "\n",
    "# Lấy ma trận đặc trưng và loại bỏ NaN\n",
    "X_train_clean = X_trainMLR.dropna()\n",
    "\n",
    "# Tính thống kê trên tất cả giá trị (đã gộp chung)\n",
    "all_values = X_train_clean.values.flatten()  # Chuyển thành 1 mảng phẳng\n",
    "\n",
    "stats = {\n",
    "    \"Min\": np.min(all_values),\n",
    "    \"Max\": np.max(all_values),\n",
    "    \"Mean\": np.mean(all_values),\n",
    "    \"Variance\": np.var(all_values, ddof=1)  # ddof=1 để tính mẫu (unbiased estimator)\n",
    "}\n",
    "\n",
    "print(\"Thống kê gộp chung của ma trận đặc trưng:\")\n",
    "for key, value in stats.items():\n",
    "    print(f\"{key}: {value:.4f}\")"
   ]
  },
  {
   "cell_type": "markdown",
   "id": "793d2326",
   "metadata": {},
   "source": [
    "# Câu 9"
   ]
  },
  {
   "cell_type": "code",
   "execution_count": 26,
   "id": "c325422f",
   "metadata": {},
   "outputs": [
    {
     "name": "stdout",
     "output_type": "stream",
     "text": [
      "Score or R-Squared: 0.12427814744531318\n",
      "Mean Absolute Error:  97952.5951262562\n"
     ]
    }
   ],
   "source": [
    "X_testMLR = df_train[[\"knn_feature\", \"gnb_feature\", \"fl_mean\"]]\n",
    "y_testMLR = df_train[\"limit\"]\n",
    "\n",
    "from sklearn.linear_model import LinearRegression\n",
    "Hybrid  = LinearRegression() # Mô hình kết hợp từ câu 6-10\n",
    "Hybrid.fit(X_trainMLR, y_trainMLR)\n",
    "\n",
    "\n",
    "from sklearn import metrics\n",
    "y_test_pred = Hybrid.predict(X_testMLR)\n",
    "\n",
    "print('Score or R-Squared:', Hybrid.score(X_testMLR, y_testMLR))\n",
    "print('Mean Absolute Error: ', \n",
    "      metrics.mean_absolute_error(y_testMLR, y_test_pred))"
   ]
  }
 ],
 "metadata": {
  "kernelspec": {
   "display_name": "base",
   "language": "python",
   "name": "python3"
  },
  "language_info": {
   "codemirror_mode": {
    "name": "ipython",
    "version": 3
   },
   "file_extension": ".py",
   "mimetype": "text/x-python",
   "name": "python",
   "nbconvert_exporter": "python",
   "pygments_lexer": "ipython3",
   "version": "3.12.7"
  }
 },
 "nbformat": 4,
 "nbformat_minor": 5
}
