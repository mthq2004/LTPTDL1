{
 "cells": [
  {
   "cell_type": "code",
   "execution_count": 132,
   "metadata": {},
   "outputs": [],
   "source": [
    "import pandas as pd\n",
    "import matplotlib.pyplot as mlt\n",
    "import seaborn as sns\n",
    "import numpy as numpy\n",
    "\n"
   ]
  },
  {
   "cell_type": "markdown",
   "metadata": {},
   "source": [
    "#### 1. Đọc dữ liệu "
   ]
  },
  {
   "cell_type": "code",
   "execution_count": 133,
   "metadata": {},
   "outputs": [
    {
     "data": {
      "text/html": [
       "<div>\n",
       "<style scoped>\n",
       "    .dataframe tbody tr th:only-of-type {\n",
       "        vertical-align: middle;\n",
       "    }\n",
       "\n",
       "    .dataframe tbody tr th {\n",
       "        vertical-align: top;\n",
       "    }\n",
       "\n",
       "    .dataframe thead th {\n",
       "        text-align: right;\n",
       "    }\n",
       "</style>\n",
       "<table border=\"1\" class=\"dataframe\">\n",
       "  <thead>\n",
       "    <tr style=\"text-align: right;\">\n",
       "      <th></th>\n",
       "      <th>Retail Branding</th>\n",
       "      <th>Marketing Name</th>\n",
       "      <th>Device</th>\n",
       "      <th>Model</th>\n",
       "    </tr>\n",
       "  </thead>\n",
       "  <tbody>\n",
       "    <tr>\n",
       "      <th>0</th>\n",
       "      <td>NaN</td>\n",
       "      <td>NaN</td>\n",
       "      <td>AD681H</td>\n",
       "      <td>Smartfren Andromax AD681H</td>\n",
       "    </tr>\n",
       "    <tr>\n",
       "      <th>1</th>\n",
       "      <td>NaN</td>\n",
       "      <td>NaN</td>\n",
       "      <td>FJL21</td>\n",
       "      <td>FJL21</td>\n",
       "    </tr>\n",
       "    <tr>\n",
       "      <th>2</th>\n",
       "      <td>NaN</td>\n",
       "      <td>NaN</td>\n",
       "      <td>T31</td>\n",
       "      <td>Panasonic T31</td>\n",
       "    </tr>\n",
       "    <tr>\n",
       "      <th>3</th>\n",
       "      <td>NaN</td>\n",
       "      <td>NaN</td>\n",
       "      <td>hws7721g</td>\n",
       "      <td>MediaPad 7 Youth 2</td>\n",
       "    </tr>\n",
       "    <tr>\n",
       "      <th>4</th>\n",
       "      <td>3Q</td>\n",
       "      <td>OC1020A</td>\n",
       "      <td>OC1020A</td>\n",
       "      <td>OC1020A</td>\n",
       "    </tr>\n",
       "    <tr>\n",
       "      <th>...</th>\n",
       "      <td>...</td>\n",
       "      <td>...</td>\n",
       "      <td>...</td>\n",
       "      <td>...</td>\n",
       "    </tr>\n",
       "    <tr>\n",
       "      <th>14541</th>\n",
       "      <td>pendo</td>\n",
       "      <td>PNDPP44QC10</td>\n",
       "      <td>PNDPP44QC10</td>\n",
       "      <td>PNDPP44QC10</td>\n",
       "    </tr>\n",
       "    <tr>\n",
       "      <th>14542</th>\n",
       "      <td>pendo</td>\n",
       "      <td>PNDPP44QC7</td>\n",
       "      <td>PNDPP44QC7</td>\n",
       "      <td>PNDPP44QC7</td>\n",
       "    </tr>\n",
       "    <tr>\n",
       "      <th>14543</th>\n",
       "      <td>sugar_aums</td>\n",
       "      <td>QPOINT</td>\n",
       "      <td>QPI-1</td>\n",
       "      <td>QPI-1</td>\n",
       "    </tr>\n",
       "    <tr>\n",
       "      <th>14544</th>\n",
       "      <td>tecmobile</td>\n",
       "      <td>OmnisOne</td>\n",
       "      <td>OmnisOne</td>\n",
       "      <td>Omnis One</td>\n",
       "    </tr>\n",
       "    <tr>\n",
       "      <th>14545</th>\n",
       "      <td>ucall</td>\n",
       "      <td>EASY1</td>\n",
       "      <td>EASY1</td>\n",
       "      <td>EASY1</td>\n",
       "    </tr>\n",
       "  </tbody>\n",
       "</table>\n",
       "<p>14546 rows × 4 columns</p>\n",
       "</div>"
      ],
      "text/plain": [
       "      Retail Branding Marketing Name       Device                      Model\n",
       "0                 NaN            NaN       AD681H  Smartfren Andromax AD681H\n",
       "1                 NaN            NaN        FJL21                      FJL21\n",
       "2                 NaN            NaN          T31              Panasonic T31\n",
       "3                 NaN            NaN     hws7721g         MediaPad 7 Youth 2\n",
       "4                  3Q        OC1020A      OC1020A                    OC1020A\n",
       "...               ...            ...          ...                        ...\n",
       "14541           pendo    PNDPP44QC10  PNDPP44QC10                PNDPP44QC10\n",
       "14542           pendo     PNDPP44QC7   PNDPP44QC7                 PNDPP44QC7\n",
       "14543      sugar_aums         QPOINT        QPI-1                      QPI-1\n",
       "14544       tecmobile       OmnisOne     OmnisOne                  Omnis One\n",
       "14545           ucall          EASY1        EASY1                      EASY1\n",
       "\n",
       "[14546 rows x 4 columns]"
      ]
     },
     "execution_count": 133,
     "metadata": {},
     "output_type": "execute_result"
    }
   ],
   "source": [
    "import pandas as pd\n",
    "thietBi = pd.read_csv('thietbi.csv')\n",
    "thietBi"
   ]
  },
  {
   "cell_type": "code",
   "execution_count": 134,
   "metadata": {},
   "outputs": [
    {
     "data": {
      "text/html": [
       "<div>\n",
       "<style scoped>\n",
       "    .dataframe tbody tr th:only-of-type {\n",
       "        vertical-align: middle;\n",
       "    }\n",
       "\n",
       "    .dataframe tbody tr th {\n",
       "        vertical-align: top;\n",
       "    }\n",
       "\n",
       "    .dataframe thead th {\n",
       "        text-align: right;\n",
       "    }\n",
       "</style>\n",
       "<table border=\"1\" class=\"dataframe\">\n",
       "  <thead>\n",
       "    <tr style=\"text-align: right;\">\n",
       "      <th></th>\n",
       "      <th>use_id</th>\n",
       "      <th>user_id</th>\n",
       "      <th>platform</th>\n",
       "      <th>platform_version</th>\n",
       "      <th>device</th>\n",
       "      <th>use_type_id</th>\n",
       "    </tr>\n",
       "  </thead>\n",
       "  <tbody>\n",
       "    <tr>\n",
       "      <th>0</th>\n",
       "      <td>22782</td>\n",
       "      <td>26980</td>\n",
       "      <td>ios</td>\n",
       "      <td>10.2</td>\n",
       "      <td>iPhone7,2</td>\n",
       "      <td>2</td>\n",
       "    </tr>\n",
       "    <tr>\n",
       "      <th>1</th>\n",
       "      <td>22783</td>\n",
       "      <td>29628</td>\n",
       "      <td>android</td>\n",
       "      <td>6.0</td>\n",
       "      <td>Nexus 5</td>\n",
       "      <td>3</td>\n",
       "    </tr>\n",
       "    <tr>\n",
       "      <th>2</th>\n",
       "      <td>22784</td>\n",
       "      <td>28473</td>\n",
       "      <td>android</td>\n",
       "      <td>5.1</td>\n",
       "      <td>SM-G903F</td>\n",
       "      <td>1</td>\n",
       "    </tr>\n",
       "    <tr>\n",
       "      <th>3</th>\n",
       "      <td>22785</td>\n",
       "      <td>15200</td>\n",
       "      <td>ios</td>\n",
       "      <td>10.2</td>\n",
       "      <td>iPhone7,2</td>\n",
       "      <td>3</td>\n",
       "    </tr>\n",
       "    <tr>\n",
       "      <th>4</th>\n",
       "      <td>22786</td>\n",
       "      <td>28239</td>\n",
       "      <td>android</td>\n",
       "      <td>6.0</td>\n",
       "      <td>ONE E1003</td>\n",
       "      <td>1</td>\n",
       "    </tr>\n",
       "    <tr>\n",
       "      <th>...</th>\n",
       "      <td>...</td>\n",
       "      <td>...</td>\n",
       "      <td>...</td>\n",
       "      <td>...</td>\n",
       "      <td>...</td>\n",
       "      <td>...</td>\n",
       "    </tr>\n",
       "    <tr>\n",
       "      <th>267</th>\n",
       "      <td>23049</td>\n",
       "      <td>29725</td>\n",
       "      <td>android</td>\n",
       "      <td>6.0</td>\n",
       "      <td>SM-G900F</td>\n",
       "      <td>1</td>\n",
       "    </tr>\n",
       "    <tr>\n",
       "      <th>268</th>\n",
       "      <td>23050</td>\n",
       "      <td>29726</td>\n",
       "      <td>ios</td>\n",
       "      <td>10.2</td>\n",
       "      <td>iPhone7,2</td>\n",
       "      <td>3</td>\n",
       "    </tr>\n",
       "    <tr>\n",
       "      <th>269</th>\n",
       "      <td>23051</td>\n",
       "      <td>29726</td>\n",
       "      <td>ios</td>\n",
       "      <td>10.2</td>\n",
       "      <td>iPhone7,2</td>\n",
       "      <td>3</td>\n",
       "    </tr>\n",
       "    <tr>\n",
       "      <th>270</th>\n",
       "      <td>23052</td>\n",
       "      <td>29727</td>\n",
       "      <td>ios</td>\n",
       "      <td>10.1</td>\n",
       "      <td>iPhone8,4</td>\n",
       "      <td>3</td>\n",
       "    </tr>\n",
       "    <tr>\n",
       "      <th>271</th>\n",
       "      <td>23053</td>\n",
       "      <td>20257</td>\n",
       "      <td>android</td>\n",
       "      <td>5.1</td>\n",
       "      <td>Vodafone Smart ultra 6</td>\n",
       "      <td>1</td>\n",
       "    </tr>\n",
       "  </tbody>\n",
       "</table>\n",
       "<p>272 rows × 6 columns</p>\n",
       "</div>"
      ],
      "text/plain": [
       "     use_id  user_id platform  platform_version                  device  \\\n",
       "0     22782    26980      ios              10.2               iPhone7,2   \n",
       "1     22783    29628  android               6.0                 Nexus 5   \n",
       "2     22784    28473  android               5.1                SM-G903F   \n",
       "3     22785    15200      ios              10.2               iPhone7,2   \n",
       "4     22786    28239  android               6.0               ONE E1003   \n",
       "..      ...      ...      ...               ...                     ...   \n",
       "267   23049    29725  android               6.0                SM-G900F   \n",
       "268   23050    29726      ios              10.2               iPhone7,2   \n",
       "269   23051    29726      ios              10.2               iPhone7,2   \n",
       "270   23052    29727      ios              10.1               iPhone8,4   \n",
       "271   23053    20257  android               5.1  Vodafone Smart ultra 6   \n",
       "\n",
       "     use_type_id  \n",
       "0              2  \n",
       "1              3  \n",
       "2              1  \n",
       "3              3  \n",
       "4              1  \n",
       "..           ...  \n",
       "267            1  \n",
       "268            3  \n",
       "269            3  \n",
       "270            3  \n",
       "271            1  \n",
       "\n",
       "[272 rows x 6 columns]"
      ]
     },
     "execution_count": 134,
     "metadata": {},
     "output_type": "execute_result"
    }
   ],
   "source": [
    "nguoidung_thietbi = pd.read_csv('nguoidung_thietbi.csv')\n",
    "nguoidung_thietbi\n"
   ]
  },
  {
   "cell_type": "code",
   "execution_count": 135,
   "metadata": {},
   "outputs": [
    {
     "data": {
      "text/html": [
       "<div>\n",
       "<style scoped>\n",
       "    .dataframe tbody tr th:only-of-type {\n",
       "        vertical-align: middle;\n",
       "    }\n",
       "\n",
       "    .dataframe tbody tr th {\n",
       "        vertical-align: top;\n",
       "    }\n",
       "\n",
       "    .dataframe thead th {\n",
       "        text-align: right;\n",
       "    }\n",
       "</style>\n",
       "<table border=\"1\" class=\"dataframe\">\n",
       "  <thead>\n",
       "    <tr style=\"text-align: right;\">\n",
       "      <th></th>\n",
       "      <th>outgoing_mins_per_month</th>\n",
       "      <th>outgoing_sms_per_month</th>\n",
       "      <th>monthly_mb</th>\n",
       "      <th>use_id</th>\n",
       "    </tr>\n",
       "  </thead>\n",
       "  <tbody>\n",
       "    <tr>\n",
       "      <th>0</th>\n",
       "      <td>21.97</td>\n",
       "      <td>4.82</td>\n",
       "      <td>1557.33</td>\n",
       "      <td>22787</td>\n",
       "    </tr>\n",
       "    <tr>\n",
       "      <th>1</th>\n",
       "      <td>1710.08</td>\n",
       "      <td>136.88</td>\n",
       "      <td>7267.55</td>\n",
       "      <td>22788</td>\n",
       "    </tr>\n",
       "    <tr>\n",
       "      <th>2</th>\n",
       "      <td>1710.08</td>\n",
       "      <td>136.88</td>\n",
       "      <td>7267.55</td>\n",
       "      <td>22789</td>\n",
       "    </tr>\n",
       "    <tr>\n",
       "      <th>3</th>\n",
       "      <td>94.46</td>\n",
       "      <td>35.17</td>\n",
       "      <td>519.12</td>\n",
       "      <td>22790</td>\n",
       "    </tr>\n",
       "    <tr>\n",
       "      <th>4</th>\n",
       "      <td>71.59</td>\n",
       "      <td>79.26</td>\n",
       "      <td>1557.33</td>\n",
       "      <td>22792</td>\n",
       "    </tr>\n",
       "    <tr>\n",
       "      <th>...</th>\n",
       "      <td>...</td>\n",
       "      <td>...</td>\n",
       "      <td>...</td>\n",
       "      <td>...</td>\n",
       "    </tr>\n",
       "    <tr>\n",
       "      <th>235</th>\n",
       "      <td>260.66</td>\n",
       "      <td>68.44</td>\n",
       "      <td>896.96</td>\n",
       "      <td>25008</td>\n",
       "    </tr>\n",
       "    <tr>\n",
       "      <th>236</th>\n",
       "      <td>97.12</td>\n",
       "      <td>36.50</td>\n",
       "      <td>2815.00</td>\n",
       "      <td>25040</td>\n",
       "    </tr>\n",
       "    <tr>\n",
       "      <th>237</th>\n",
       "      <td>355.93</td>\n",
       "      <td>12.37</td>\n",
       "      <td>6828.09</td>\n",
       "      <td>25046</td>\n",
       "    </tr>\n",
       "    <tr>\n",
       "      <th>238</th>\n",
       "      <td>632.06</td>\n",
       "      <td>120.46</td>\n",
       "      <td>1453.16</td>\n",
       "      <td>25058</td>\n",
       "    </tr>\n",
       "    <tr>\n",
       "      <th>239</th>\n",
       "      <td>488.70</td>\n",
       "      <td>906.92</td>\n",
       "      <td>3089.85</td>\n",
       "      <td>25220</td>\n",
       "    </tr>\n",
       "  </tbody>\n",
       "</table>\n",
       "<p>240 rows × 4 columns</p>\n",
       "</div>"
      ],
      "text/plain": [
       "     outgoing_mins_per_month  outgoing_sms_per_month  monthly_mb  use_id\n",
       "0                      21.97                    4.82     1557.33   22787\n",
       "1                    1710.08                  136.88     7267.55   22788\n",
       "2                    1710.08                  136.88     7267.55   22789\n",
       "3                      94.46                   35.17      519.12   22790\n",
       "4                      71.59                   79.26     1557.33   22792\n",
       "..                       ...                     ...         ...     ...\n",
       "235                   260.66                   68.44      896.96   25008\n",
       "236                    97.12                   36.50     2815.00   25040\n",
       "237                   355.93                   12.37     6828.09   25046\n",
       "238                   632.06                  120.46     1453.16   25058\n",
       "239                   488.70                  906.92     3089.85   25220\n",
       "\n",
       "[240 rows x 4 columns]"
      ]
     },
     "execution_count": 135,
     "metadata": {},
     "output_type": "execute_result"
    }
   ],
   "source": [
    "nguoidung_sudung = pd.read_csv('nguoidung_sudung.csv')\n",
    "nguoidung_sudung"
   ]
  },
  {
   "cell_type": "markdown",
   "metadata": {},
   "source": [
    "#### 2. Vẽ ERD"
   ]
  },
  {
   "cell_type": "code",
   "execution_count": 136,
   "metadata": {},
   "outputs": [],
   "source": [
    "import matplotlib.pyplot as plt\n",
    "import matplotlib.patches as mpatches"
   ]
  },
  {
   "cell_type": "code",
   "execution_count": 137,
   "metadata": {},
   "outputs": [
    {
     "data": {
      "image/png": "[encoded data removed]",
      "text/plain": [
       "<Figure size 1000x600 with 1 Axes>"
      ]
     },
     "metadata": {},
     "output_type": "display_data"
    }
   ],
   "source": [
    "# Tạo sơ đồ ERD\n",
    "fig, ax = plt.subplots(figsize=(10, 6))\n",
    "\n",
    "# Vẽ bảng thiết bị\n",
    "device_box = mpatches.FancyBboxPatch((0.05, 0.6), 0.3, 0.3, boxstyle=\"round,pad=0.1\", color=\"lightgreen\")\n",
    "ax.add_patch(device_box)\n",
    "ax.text(0.2, 0.85, 'Device', fontsize=12, ha='center')\n",
    "ax.text(0.1, 0.75, 'Device ID (PK)', fontsize=10, ha='left')\n",
    "ax.text(0.1, 0.65, 'Marketing Name', fontsize=10, ha='left')\n",
    "ax.text(0.1, 0.55, 'Model', fontsize=10, ha='left')\n",
    "\n",
    "# Vẽ bảng người dùng thiết bị\n",
    "user_device_box = mpatches.FancyBboxPatch((0.4, 0.6), 0.3, 0.3, boxstyle=\"round,pad=0.1\", color=\"lightblue\")\n",
    "ax.add_patch(user_device_box)\n",
    "ax.text(0.55, 0.85, 'User_Device', fontsize=12, ha='center')\n",
    "ax.text(0.45, 0.75, 'User ID (PK)', fontsize=10, ha='left')\n",
    "ax.text(0.45, 0.65, 'Device ID (FK)', fontsize=10, ha='left')\n",
    "ax.text(0.45, 0.55, 'Platform', fontsize=10, ha='left')\n",
    "\n",
    "# Vẽ bảng người dùng sử dụng\n",
    "user_usage_box = mpatches.FancyBboxPatch((0.05, 0.1), 0.3, 0.4, boxstyle=\"round,pad=0.1\", color=\"lightcoral\")\n",
    "ax.add_patch(user_usage_box)\n",
    "ax.text(0.2, 0.45, 'User_Usage', fontsize=12, ha='center')\n",
    "ax.text(0.1, 0.4, 'Usage ID (PK)', fontsize=10, ha='left')\n",
    "ax.text(0.1, 0.3, 'User ID (FK)', fontsize=10, ha='left')\n",
    "ax.text(0.1, 0.2, 'Outgoing Mins', fontsize=10, ha='left')\n",
    "ax.text(0.1, 0.1, 'Outgoing SMS', fontsize=10, ha='left')\n",
    "ax.text(0.1, 0, 'Monthly MB', fontsize=10, ha='left')\n",
    "\n",
    "# Thiết lập mối quan hệ\n",
    "ax.annotate('', xy=(0.4, 0.75), xytext=(0.35, 0.75),\n",
    "             arrowprops=dict(arrowstyle='->', lw=1.5))\n",
    "ax.annotate('', xy=(0.4, 0.45), xytext=(0.35, 0.45),\n",
    "             arrowprops=dict(arrowstyle='->', lw=1.5))\n",
    "\n",
    "# Thiết lập trục và hiển thị\n",
    "ax.set_xlim(0, 1)\n",
    "ax.set_ylim(-0.1, 1)\n",
    "ax.axis('off')  # Tắt trục\n",
    "plt.title('Entity Relationship Diagram (ERD)')\n",
    "plt.show()"
   ]
  },
  {
   "cell_type": "markdown",
   "metadata": {},
   "source": [
    "#### 3. Đổi tên dữ liệu "
   ]
  },
  {
   "cell_type": "code",
   "execution_count": 138,
   "metadata": {},
   "outputs": [],
   "source": [
    "thietBi.rename(columns= {'Retail Branding': 'Branding', \n",
    "                          'Marketing Name': 'MarketingName'}, inplace= True)\n"
   ]
  },
  {
   "cell_type": "markdown",
   "metadata": {},
   "source": [
    "#### 4. Trộn bảng \n",
    "> nguoidung_sudungvà nguoidung_thietbi thông qua inner join :\n",
    "#\n",
    ">[outgoing_mins_per_month, outgoing_sms_per_month, monthly_mb, use_id, platform, device]\n"
   ]
  },
  {
   "cell_type": "code",
   "execution_count": 139,
   "metadata": {},
   "outputs": [
    {
     "data": {
      "text/html": [
       "<div>\n",
       "<style scoped>\n",
       "    .dataframe tbody tr th:only-of-type {\n",
       "        vertical-align: middle;\n",
       "    }\n",
       "\n",
       "    .dataframe tbody tr th {\n",
       "        vertical-align: top;\n",
       "    }\n",
       "\n",
       "    .dataframe thead th {\n",
       "        text-align: right;\n",
       "    }\n",
       "</style>\n",
       "<table border=\"1\" class=\"dataframe\">\n",
       "  <thead>\n",
       "    <tr style=\"text-align: right;\">\n",
       "      <th></th>\n",
       "      <th>outgoing_mins_per_month</th>\n",
       "      <th>outgoing_sms_per_month</th>\n",
       "      <th>monthly_mb</th>\n",
       "      <th>use_id</th>\n",
       "      <th>platform</th>\n",
       "      <th>device</th>\n",
       "    </tr>\n",
       "  </thead>\n",
       "  <tbody>\n",
       "    <tr>\n",
       "      <th>0</th>\n",
       "      <td>21.97</td>\n",
       "      <td>4.82</td>\n",
       "      <td>1557.33</td>\n",
       "      <td>22787</td>\n",
       "      <td>android</td>\n",
       "      <td>GT-I9505</td>\n",
       "    </tr>\n",
       "    <tr>\n",
       "      <th>1</th>\n",
       "      <td>1710.08</td>\n",
       "      <td>136.88</td>\n",
       "      <td>7267.55</td>\n",
       "      <td>22788</td>\n",
       "      <td>android</td>\n",
       "      <td>SM-G930F</td>\n",
       "    </tr>\n",
       "    <tr>\n",
       "      <th>2</th>\n",
       "      <td>1710.08</td>\n",
       "      <td>136.88</td>\n",
       "      <td>7267.55</td>\n",
       "      <td>22789</td>\n",
       "      <td>android</td>\n",
       "      <td>SM-G930F</td>\n",
       "    </tr>\n",
       "    <tr>\n",
       "      <th>3</th>\n",
       "      <td>94.46</td>\n",
       "      <td>35.17</td>\n",
       "      <td>519.12</td>\n",
       "      <td>22790</td>\n",
       "      <td>android</td>\n",
       "      <td>D2303</td>\n",
       "    </tr>\n",
       "    <tr>\n",
       "      <th>4</th>\n",
       "      <td>71.59</td>\n",
       "      <td>79.26</td>\n",
       "      <td>1557.33</td>\n",
       "      <td>22792</td>\n",
       "      <td>android</td>\n",
       "      <td>SM-G361F</td>\n",
       "    </tr>\n",
       "  </tbody>\n",
       "</table>\n",
       "</div>"
      ],
      "text/plain": [
       "   outgoing_mins_per_month  outgoing_sms_per_month  monthly_mb  use_id  \\\n",
       "0                    21.97                    4.82     1557.33   22787   \n",
       "1                  1710.08                  136.88     7267.55   22788   \n",
       "2                  1710.08                  136.88     7267.55   22789   \n",
       "3                    94.46                   35.17      519.12   22790   \n",
       "4                    71.59                   79.26     1557.33   22792   \n",
       "\n",
       "  platform    device  \n",
       "0  android  GT-I9505  \n",
       "1  android  SM-G930F  \n",
       "2  android  SM-G930F  \n",
       "3  android     D2303  \n",
       "4  android  SM-G361F  "
      ]
     },
     "execution_count": 139,
     "metadata": {},
     "output_type": "execute_result"
    }
   ],
   "source": [
    "dfKetQua = pd.merge(nguoidung_sudung,\n",
    "                    nguoidung_thietbi[['use_id','platform','device']],\n",
    "                    on='use_id')\n",
    "dfKetQua.head(5)"
   ]
  },
  {
   "cell_type": "markdown",
   "metadata": {},
   "source": [
    "- nguoidung_sudung: Đây là DataFrame đầu tiên bạn muốn hợp nhất. Giả sử nó chứa thông tin người dùng và có cột use_id mà bạn muốn dùng làm khóa.\n",
    "#\n",
    "- nguoidung_thietbi[['use_id','platform','device']]: Đây là DataFrame thứ hai bạn muốn hợp nhất, nhưng chỉ lấy ba cột: use_id, platform, và device.\n",
    "#\n",
    "- Việc chỉ định [['use_id','platform','device']] có nghĩa là bạn chỉ quan tâm đến những cột này và sẽ không cần những cột khác trong nguoidung_thietbi.\n",
    "#\n",
    "- on='use_id': Đây là khóa mà bạn sẽ dùng để hợp nhất hai DataFrame. Hệ thống sẽ tìm các giá trị giống nhau trong cột use_id của cả hai DataFrame để thực hiện hợp nhất."
   ]
  },
  {
   "cell_type": "markdown",
   "metadata": {},
   "source": [
    "Left join "
   ]
  },
  {
   "cell_type": "code",
   "execution_count": 140,
   "metadata": {},
   "outputs": [
    {
     "data": {
      "text/html": [
       "<div>\n",
       "<style scoped>\n",
       "    .dataframe tbody tr th:only-of-type {\n",
       "        vertical-align: middle;\n",
       "    }\n",
       "\n",
       "    .dataframe tbody tr th {\n",
       "        vertical-align: top;\n",
       "    }\n",
       "\n",
       "    .dataframe thead th {\n",
       "        text-align: right;\n",
       "    }\n",
       "</style>\n",
       "<table border=\"1\" class=\"dataframe\">\n",
       "  <thead>\n",
       "    <tr style=\"text-align: right;\">\n",
       "      <th></th>\n",
       "      <th>outgoing_mins_per_month</th>\n",
       "      <th>outgoing_sms_per_month</th>\n",
       "      <th>monthly_mb</th>\n",
       "      <th>use_id</th>\n",
       "      <th>platform</th>\n",
       "      <th>device</th>\n",
       "    </tr>\n",
       "  </thead>\n",
       "  <tbody>\n",
       "    <tr>\n",
       "      <th>0</th>\n",
       "      <td>21.97</td>\n",
       "      <td>4.82</td>\n",
       "      <td>1557.33</td>\n",
       "      <td>22787</td>\n",
       "      <td>android</td>\n",
       "      <td>GT-I9505</td>\n",
       "    </tr>\n",
       "    <tr>\n",
       "      <th>1</th>\n",
       "      <td>1710.08</td>\n",
       "      <td>136.88</td>\n",
       "      <td>7267.55</td>\n",
       "      <td>22788</td>\n",
       "      <td>android</td>\n",
       "      <td>SM-G930F</td>\n",
       "    </tr>\n",
       "    <tr>\n",
       "      <th>2</th>\n",
       "      <td>1710.08</td>\n",
       "      <td>136.88</td>\n",
       "      <td>7267.55</td>\n",
       "      <td>22789</td>\n",
       "      <td>android</td>\n",
       "      <td>SM-G930F</td>\n",
       "    </tr>\n",
       "    <tr>\n",
       "      <th>3</th>\n",
       "      <td>94.46</td>\n",
       "      <td>35.17</td>\n",
       "      <td>519.12</td>\n",
       "      <td>22790</td>\n",
       "      <td>android</td>\n",
       "      <td>D2303</td>\n",
       "    </tr>\n",
       "    <tr>\n",
       "      <th>4</th>\n",
       "      <td>71.59</td>\n",
       "      <td>79.26</td>\n",
       "      <td>1557.33</td>\n",
       "      <td>22792</td>\n",
       "      <td>android</td>\n",
       "      <td>SM-G361F</td>\n",
       "    </tr>\n",
       "    <tr>\n",
       "      <th>...</th>\n",
       "      <td>...</td>\n",
       "      <td>...</td>\n",
       "      <td>...</td>\n",
       "      <td>...</td>\n",
       "      <td>...</td>\n",
       "      <td>...</td>\n",
       "    </tr>\n",
       "    <tr>\n",
       "      <th>235</th>\n",
       "      <td>260.66</td>\n",
       "      <td>68.44</td>\n",
       "      <td>896.96</td>\n",
       "      <td>25008</td>\n",
       "      <td>NaN</td>\n",
       "      <td>NaN</td>\n",
       "    </tr>\n",
       "    <tr>\n",
       "      <th>236</th>\n",
       "      <td>97.12</td>\n",
       "      <td>36.50</td>\n",
       "      <td>2815.00</td>\n",
       "      <td>25040</td>\n",
       "      <td>NaN</td>\n",
       "      <td>NaN</td>\n",
       "    </tr>\n",
       "    <tr>\n",
       "      <th>237</th>\n",
       "      <td>355.93</td>\n",
       "      <td>12.37</td>\n",
       "      <td>6828.09</td>\n",
       "      <td>25046</td>\n",
       "      <td>NaN</td>\n",
       "      <td>NaN</td>\n",
       "    </tr>\n",
       "    <tr>\n",
       "      <th>238</th>\n",
       "      <td>632.06</td>\n",
       "      <td>120.46</td>\n",
       "      <td>1453.16</td>\n",
       "      <td>25058</td>\n",
       "      <td>NaN</td>\n",
       "      <td>NaN</td>\n",
       "    </tr>\n",
       "    <tr>\n",
       "      <th>239</th>\n",
       "      <td>488.70</td>\n",
       "      <td>906.92</td>\n",
       "      <td>3089.85</td>\n",
       "      <td>25220</td>\n",
       "      <td>NaN</td>\n",
       "      <td>NaN</td>\n",
       "    </tr>\n",
       "  </tbody>\n",
       "</table>\n",
       "<p>240 rows × 6 columns</p>\n",
       "</div>"
      ],
      "text/plain": [
       "     outgoing_mins_per_month  outgoing_sms_per_month  monthly_mb  use_id  \\\n",
       "0                      21.97                    4.82     1557.33   22787   \n",
       "1                    1710.08                  136.88     7267.55   22788   \n",
       "2                    1710.08                  136.88     7267.55   22789   \n",
       "3                      94.46                   35.17      519.12   22790   \n",
       "4                      71.59                   79.26     1557.33   22792   \n",
       "..                       ...                     ...         ...     ...   \n",
       "235                   260.66                   68.44      896.96   25008   \n",
       "236                    97.12                   36.50     2815.00   25040   \n",
       "237                   355.93                   12.37     6828.09   25046   \n",
       "238                   632.06                  120.46     1453.16   25058   \n",
       "239                   488.70                  906.92     3089.85   25220   \n",
       "\n",
       "    platform    device  \n",
       "0    android  GT-I9505  \n",
       "1    android  SM-G930F  \n",
       "2    android  SM-G930F  \n",
       "3    android     D2303  \n",
       "4    android  SM-G361F  \n",
       "..       ...       ...  \n",
       "235      NaN       NaN  \n",
       "236      NaN       NaN  \n",
       "237      NaN       NaN  \n",
       "238      NaN       NaN  \n",
       "239      NaN       NaN  \n",
       "\n",
       "[240 rows x 6 columns]"
      ]
     },
     "execution_count": 140,
     "metadata": {},
     "output_type": "execute_result"
    }
   ],
   "source": [
    "dfKetQua = pd.merge(nguoidung_sudung,\n",
    "                    nguoidung_thietbi[['use_id','platform','device']],\n",
    "                    on= 'use_id', how='left')\n",
    "dfKetQua"
   ]
  },
  {
   "cell_type": "markdown",
   "metadata": {},
   "source": [
    "#### 5. Tiếp tục inner-join bảng thietbi và dfKetQua đểcó thêm 2 cột Model và Branding trong bảng kết quảcuối cùng. Lưu ý ởđây khóa liên kết sẽkhác tên"
   ]
  },
  {
   "cell_type": "markdown",
   "metadata": {},
   "source": [
    "Inner-join"
   ]
  },
  {
   "cell_type": "code",
   "execution_count": 141,
   "metadata": {},
   "outputs": [
    {
     "data": {
      "text/html": [
       "<div>\n",
       "<style scoped>\n",
       "    .dataframe tbody tr th:only-of-type {\n",
       "        vertical-align: middle;\n",
       "    }\n",
       "\n",
       "    .dataframe tbody tr th {\n",
       "        vertical-align: top;\n",
       "    }\n",
       "\n",
       "    .dataframe thead th {\n",
       "        text-align: right;\n",
       "    }\n",
       "</style>\n",
       "<table border=\"1\" class=\"dataframe\">\n",
       "  <thead>\n",
       "    <tr style=\"text-align: right;\">\n",
       "      <th></th>\n",
       "      <th>outgoing_mins_per_month</th>\n",
       "      <th>outgoing_sms_per_month</th>\n",
       "      <th>monthly_mb</th>\n",
       "      <th>use_id</th>\n",
       "      <th>platform</th>\n",
       "      <th>device</th>\n",
       "      <th>Branding</th>\n",
       "      <th>Model</th>\n",
       "    </tr>\n",
       "  </thead>\n",
       "  <tbody>\n",
       "    <tr>\n",
       "      <th>0</th>\n",
       "      <td>21.97</td>\n",
       "      <td>4.82</td>\n",
       "      <td>1557.33</td>\n",
       "      <td>22787</td>\n",
       "      <td>android</td>\n",
       "      <td>GT-I9505</td>\n",
       "      <td>Samsung</td>\n",
       "      <td>GT-I9505</td>\n",
       "    </tr>\n",
       "    <tr>\n",
       "      <th>1</th>\n",
       "      <td>69.80</td>\n",
       "      <td>14.70</td>\n",
       "      <td>25955.55</td>\n",
       "      <td>22801</td>\n",
       "      <td>android</td>\n",
       "      <td>GT-I9505</td>\n",
       "      <td>Samsung</td>\n",
       "      <td>GT-I9505</td>\n",
       "    </tr>\n",
       "    <tr>\n",
       "      <th>2</th>\n",
       "      <td>249.26</td>\n",
       "      <td>253.22</td>\n",
       "      <td>1557.33</td>\n",
       "      <td>22875</td>\n",
       "      <td>android</td>\n",
       "      <td>GT-I9505</td>\n",
       "      <td>Samsung</td>\n",
       "      <td>GT-I9505</td>\n",
       "    </tr>\n",
       "    <tr>\n",
       "      <th>3</th>\n",
       "      <td>249.26</td>\n",
       "      <td>253.22</td>\n",
       "      <td>1557.33</td>\n",
       "      <td>22876</td>\n",
       "      <td>android</td>\n",
       "      <td>GT-I9505</td>\n",
       "      <td>Samsung</td>\n",
       "      <td>GT-I9505</td>\n",
       "    </tr>\n",
       "    <tr>\n",
       "      <th>4</th>\n",
       "      <td>83.46</td>\n",
       "      <td>114.06</td>\n",
       "      <td>3114.67</td>\n",
       "      <td>22880</td>\n",
       "      <td>android</td>\n",
       "      <td>GT-I9505</td>\n",
       "      <td>Samsung</td>\n",
       "      <td>GT-I9505</td>\n",
       "    </tr>\n",
       "  </tbody>\n",
       "</table>\n",
       "</div>"
      ],
      "text/plain": [
       "   outgoing_mins_per_month  outgoing_sms_per_month  monthly_mb  use_id  \\\n",
       "0                    21.97                    4.82     1557.33   22787   \n",
       "1                    69.80                   14.70    25955.55   22801   \n",
       "2                   249.26                  253.22     1557.33   22875   \n",
       "3                   249.26                  253.22     1557.33   22876   \n",
       "4                    83.46                  114.06     3114.67   22880   \n",
       "\n",
       "  platform    device Branding     Model  \n",
       "0  android  GT-I9505  Samsung  GT-I9505  \n",
       "1  android  GT-I9505  Samsung  GT-I9505  \n",
       "2  android  GT-I9505  Samsung  GT-I9505  \n",
       "3  android  GT-I9505  Samsung  GT-I9505  \n",
       "4  android  GT-I9505  Samsung  GT-I9505  "
      ]
     },
     "execution_count": 141,
     "metadata": {},
     "output_type": "execute_result"
    }
   ],
   "source": [
    "dfKetQua = pd.merge(dfKetQua,\n",
    "                    thietBi[['Branding','Model']],\n",
    "                    left_on= 'device',\n",
    "                    right_on= 'Model')\n",
    "dfKetQua.head(5)"
   ]
  },
  {
   "cell_type": "markdown",
   "metadata": {},
   "source": [
    "dfKetQua: Đây là DataFrame đầu tiên bạn muốn hợp nhất, chứa thông tin người dùng đã được hợp nhất từ bước trước.\n",
    "\n",
    "thietBi[['Branding','Model']]: Đây là DataFrame thứ hai mà bạn muốn hợp nhất, nhưng chỉ lấy hai cột: Branding và Model. Việc chỉ định cột giúp giữ cho DataFrame nhỏ gọn và chỉ chứa thông tin cần thiết.\n",
    "\n",
    "left_on='device': Đây là cột trong dfKetQua mà bạn sẽ sử dụng để hợp nhất. Bạn muốn kết hợp dựa trên giá trị trong cột device.\n",
    "\n",
    "right_on='Model': Đây là cột trong thietBi mà bạn sẽ sử dụng để hợp nhất. Bạn muốn kết hợp dựa trên giá trị trong cột Model."
   ]
  },
  {
   "cell_type": "markdown",
   "metadata": {},
   "source": [
    "Left join"
   ]
  },
  {
   "cell_type": "code",
   "execution_count": 142,
   "metadata": {},
   "outputs": [
    {
     "name": "stdout",
     "output_type": "stream",
     "text": [
      "   outgoing_mins_per_month  outgoing_sms_per_month  monthly_mb  use_id  \\\n",
      "0                    21.97                    4.82     1557.33   22787   \n",
      "1                    69.80                   14.70    25955.55   22801   \n",
      "2                   249.26                  253.22     1557.33   22875   \n",
      "3                   249.26                  253.22     1557.33   22876   \n",
      "4                    83.46                  114.06     3114.67   22880   \n",
      "\n",
      "  platform    device Branding_x   Model_x Branding_y   Model_y  \n",
      "0  android  GT-I9505    Samsung  GT-I9505    Samsung  GT-I9505  \n",
      "1  android  GT-I9505    Samsung  GT-I9505    Samsung  GT-I9505  \n",
      "2  android  GT-I9505    Samsung  GT-I9505    Samsung  GT-I9505  \n",
      "3  android  GT-I9505    Samsung  GT-I9505    Samsung  GT-I9505  \n",
      "4  android  GT-I9505    Samsung  GT-I9505    Samsung  GT-I9505  \n"
     ]
    }
   ],
   "source": [
    "# left_join\n",
    "dfKetQuaCuoi = pd.merge(dfKetQua,\n",
    "                        thietBi[['Branding', 'Model']],\n",
    "                        left_on='device',\n",
    "                        right_on='Model', how='left')\n",
    "print(dfKetQuaCuoi.head(5))"
   ]
  },
  {
   "cell_type": "markdown",
   "metadata": {},
   "source": [
    "#### 6. Hãy liệt kê 5 dòng đầu tiên các mẫu thiết bị (cột device) bắt đầu bằng GT"
   ]
  },
  {
   "cell_type": "code",
   "execution_count": 143,
   "metadata": {},
   "outputs": [
    {
     "data": {
      "text/html": [
       "<div>\n",
       "<style scoped>\n",
       "    .dataframe tbody tr th:only-of-type {\n",
       "        vertical-align: middle;\n",
       "    }\n",
       "\n",
       "    .dataframe tbody tr th {\n",
       "        vertical-align: top;\n",
       "    }\n",
       "\n",
       "    .dataframe thead th {\n",
       "        text-align: right;\n",
       "    }\n",
       "</style>\n",
       "<table border=\"1\" class=\"dataframe\">\n",
       "  <thead>\n",
       "    <tr style=\"text-align: right;\">\n",
       "      <th></th>\n",
       "      <th>outgoing_mins_per_month</th>\n",
       "      <th>outgoing_sms_per_month</th>\n",
       "      <th>monthly_mb</th>\n",
       "      <th>use_id</th>\n",
       "      <th>platform</th>\n",
       "      <th>device</th>\n",
       "      <th>Branding</th>\n",
       "      <th>Model</th>\n",
       "    </tr>\n",
       "  </thead>\n",
       "  <tbody>\n",
       "    <tr>\n",
       "      <th>0</th>\n",
       "      <td>21.97</td>\n",
       "      <td>4.82</td>\n",
       "      <td>1557.33</td>\n",
       "      <td>22787</td>\n",
       "      <td>android</td>\n",
       "      <td>GT-I9505</td>\n",
       "      <td>Samsung</td>\n",
       "      <td>GT-I9505</td>\n",
       "    </tr>\n",
       "    <tr>\n",
       "      <th>1</th>\n",
       "      <td>69.80</td>\n",
       "      <td>14.70</td>\n",
       "      <td>25955.55</td>\n",
       "      <td>22801</td>\n",
       "      <td>android</td>\n",
       "      <td>GT-I9505</td>\n",
       "      <td>Samsung</td>\n",
       "      <td>GT-I9505</td>\n",
       "    </tr>\n",
       "    <tr>\n",
       "      <th>2</th>\n",
       "      <td>249.26</td>\n",
       "      <td>253.22</td>\n",
       "      <td>1557.33</td>\n",
       "      <td>22875</td>\n",
       "      <td>android</td>\n",
       "      <td>GT-I9505</td>\n",
       "      <td>Samsung</td>\n",
       "      <td>GT-I9505</td>\n",
       "    </tr>\n",
       "    <tr>\n",
       "      <th>3</th>\n",
       "      <td>249.26</td>\n",
       "      <td>253.22</td>\n",
       "      <td>1557.33</td>\n",
       "      <td>22876</td>\n",
       "      <td>android</td>\n",
       "      <td>GT-I9505</td>\n",
       "      <td>Samsung</td>\n",
       "      <td>GT-I9505</td>\n",
       "    </tr>\n",
       "    <tr>\n",
       "      <th>4</th>\n",
       "      <td>83.46</td>\n",
       "      <td>114.06</td>\n",
       "      <td>3114.67</td>\n",
       "      <td>22880</td>\n",
       "      <td>android</td>\n",
       "      <td>GT-I9505</td>\n",
       "      <td>Samsung</td>\n",
       "      <td>GT-I9505</td>\n",
       "    </tr>\n",
       "  </tbody>\n",
       "</table>\n",
       "</div>"
      ],
      "text/plain": [
       "   outgoing_mins_per_month  outgoing_sms_per_month  monthly_mb  use_id  \\\n",
       "0                    21.97                    4.82     1557.33   22787   \n",
       "1                    69.80                   14.70    25955.55   22801   \n",
       "2                   249.26                  253.22     1557.33   22875   \n",
       "3                   249.26                  253.22     1557.33   22876   \n",
       "4                    83.46                  114.06     3114.67   22880   \n",
       "\n",
       "  platform    device Branding     Model  \n",
       "0  android  GT-I9505  Samsung  GT-I9505  \n",
       "1  android  GT-I9505  Samsung  GT-I9505  \n",
       "2  android  GT-I9505  Samsung  GT-I9505  \n",
       "3  android  GT-I9505  Samsung  GT-I9505  \n",
       "4  android  GT-I9505  Samsung  GT-I9505  "
      ]
     },
     "execution_count": 143,
     "metadata": {},
     "output_type": "execute_result"
    }
   ],
   "source": [
    "# 6\n",
    "dfKetQua[dfKetQua.device.str.startswith('GT')].head(5)\n",
    "# contains('GT')]: ở giữa \n",
    "# endswith: o cuoi"
   ]
  },
  {
   "cell_type": "markdown",
   "metadata": {},
   "source": [
    "#### 7. Hãy thống kê trung bình số phút hàng tháng, trung bình sms và trung bình data, số lượng sử dụng của các nhãn hàng"
   ]
  },
  {
   "cell_type": "code",
   "execution_count": 144,
   "metadata": {},
   "outputs": [
    {
     "data": {
      "text/html": [
       "<div>\n",
       "<style scoped>\n",
       "    .dataframe tbody tr th:only-of-type {\n",
       "        vertical-align: middle;\n",
       "    }\n",
       "\n",
       "    .dataframe tbody tr th {\n",
       "        vertical-align: top;\n",
       "    }\n",
       "\n",
       "    .dataframe thead th {\n",
       "        text-align: right;\n",
       "    }\n",
       "</style>\n",
       "<table border=\"1\" class=\"dataframe\">\n",
       "  <thead>\n",
       "    <tr style=\"text-align: right;\">\n",
       "      <th></th>\n",
       "      <th>outgoing_mins_per_month</th>\n",
       "      <th>outgoing_sms_per_month</th>\n",
       "      <th>monthly_mb</th>\n",
       "      <th>use_id</th>\n",
       "      <th>platform</th>\n",
       "      <th>device</th>\n",
       "      <th>Branding</th>\n",
       "      <th>Model</th>\n",
       "    </tr>\n",
       "  </thead>\n",
       "  <tbody>\n",
       "    <tr>\n",
       "      <th>0</th>\n",
       "      <td>21.97</td>\n",
       "      <td>4.82</td>\n",
       "      <td>1557.33</td>\n",
       "      <td>22787</td>\n",
       "      <td>android</td>\n",
       "      <td>GT-I9505</td>\n",
       "      <td>Samsung</td>\n",
       "      <td>GT-I9505</td>\n",
       "    </tr>\n",
       "    <tr>\n",
       "      <th>1</th>\n",
       "      <td>69.80</td>\n",
       "      <td>14.70</td>\n",
       "      <td>25955.55</td>\n",
       "      <td>22801</td>\n",
       "      <td>android</td>\n",
       "      <td>GT-I9505</td>\n",
       "      <td>Samsung</td>\n",
       "      <td>GT-I9505</td>\n",
       "    </tr>\n",
       "    <tr>\n",
       "      <th>2</th>\n",
       "      <td>249.26</td>\n",
       "      <td>253.22</td>\n",
       "      <td>1557.33</td>\n",
       "      <td>22875</td>\n",
       "      <td>android</td>\n",
       "      <td>GT-I9505</td>\n",
       "      <td>Samsung</td>\n",
       "      <td>GT-I9505</td>\n",
       "    </tr>\n",
       "    <tr>\n",
       "      <th>3</th>\n",
       "      <td>249.26</td>\n",
       "      <td>253.22</td>\n",
       "      <td>1557.33</td>\n",
       "      <td>22876</td>\n",
       "      <td>android</td>\n",
       "      <td>GT-I9505</td>\n",
       "      <td>Samsung</td>\n",
       "      <td>GT-I9505</td>\n",
       "    </tr>\n",
       "    <tr>\n",
       "      <th>4</th>\n",
       "      <td>83.46</td>\n",
       "      <td>114.06</td>\n",
       "      <td>3114.67</td>\n",
       "      <td>22880</td>\n",
       "      <td>android</td>\n",
       "      <td>GT-I9505</td>\n",
       "      <td>Samsung</td>\n",
       "      <td>GT-I9505</td>\n",
       "    </tr>\n",
       "    <tr>\n",
       "      <th>...</th>\n",
       "      <td>...</td>\n",
       "      <td>...</td>\n",
       "      <td>...</td>\n",
       "      <td>...</td>\n",
       "      <td>...</td>\n",
       "      <td>...</td>\n",
       "      <td>...</td>\n",
       "      <td>...</td>\n",
       "    </tr>\n",
       "    <tr>\n",
       "      <th>196</th>\n",
       "      <td>22.85</td>\n",
       "      <td>34.54</td>\n",
       "      <td>6577.12</td>\n",
       "      <td>23029</td>\n",
       "      <td>android</td>\n",
       "      <td>HTC One_M8</td>\n",
       "      <td>HTC</td>\n",
       "      <td>HTC One_M8</td>\n",
       "    </tr>\n",
       "    <tr>\n",
       "      <th>197</th>\n",
       "      <td>180.18</td>\n",
       "      <td>17.49</td>\n",
       "      <td>2076.45</td>\n",
       "      <td>23039</td>\n",
       "      <td>android</td>\n",
       "      <td>SM-G531F</td>\n",
       "      <td>Samsung</td>\n",
       "      <td>SM-G531F</td>\n",
       "    </tr>\n",
       "    <tr>\n",
       "      <th>198</th>\n",
       "      <td>12.85</td>\n",
       "      <td>58.32</td>\n",
       "      <td>74.40</td>\n",
       "      <td>23040</td>\n",
       "      <td>android</td>\n",
       "      <td>HTC Desire 620</td>\n",
       "      <td>HTC</td>\n",
       "      <td>HTC Desire 620</td>\n",
       "    </tr>\n",
       "    <tr>\n",
       "      <th>199</th>\n",
       "      <td>42.75</td>\n",
       "      <td>46.83</td>\n",
       "      <td>5191.12</td>\n",
       "      <td>23053</td>\n",
       "      <td>android</td>\n",
       "      <td>Vodafone Smart ultra 6</td>\n",
       "      <td>Vodafone</td>\n",
       "      <td>Vodafone Smart ultra 6</td>\n",
       "    </tr>\n",
       "    <tr>\n",
       "      <th>200</th>\n",
       "      <td>42.75</td>\n",
       "      <td>46.83</td>\n",
       "      <td>5191.12</td>\n",
       "      <td>23053</td>\n",
       "      <td>android</td>\n",
       "      <td>Vodafone Smart ultra 6</td>\n",
       "      <td>ZTE</td>\n",
       "      <td>Vodafone Smart ultra 6</td>\n",
       "    </tr>\n",
       "  </tbody>\n",
       "</table>\n",
       "<p>201 rows × 8 columns</p>\n",
       "</div>"
      ],
      "text/plain": [
       "     outgoing_mins_per_month  outgoing_sms_per_month  monthly_mb  use_id  \\\n",
       "0                      21.97                    4.82     1557.33   22787   \n",
       "1                      69.80                   14.70    25955.55   22801   \n",
       "2                     249.26                  253.22     1557.33   22875   \n",
       "3                     249.26                  253.22     1557.33   22876   \n",
       "4                      83.46                  114.06     3114.67   22880   \n",
       "..                       ...                     ...         ...     ...   \n",
       "196                    22.85                   34.54     6577.12   23029   \n",
       "197                   180.18                   17.49     2076.45   23039   \n",
       "198                    12.85                   58.32       74.40   23040   \n",
       "199                    42.75                   46.83     5191.12   23053   \n",
       "200                    42.75                   46.83     5191.12   23053   \n",
       "\n",
       "    platform                  device  Branding                   Model  \n",
       "0    android                GT-I9505   Samsung                GT-I9505  \n",
       "1    android                GT-I9505   Samsung                GT-I9505  \n",
       "2    android                GT-I9505   Samsung                GT-I9505  \n",
       "3    android                GT-I9505   Samsung                GT-I9505  \n",
       "4    android                GT-I9505   Samsung                GT-I9505  \n",
       "..       ...                     ...       ...                     ...  \n",
       "196  android              HTC One_M8       HTC              HTC One_M8  \n",
       "197  android                SM-G531F   Samsung                SM-G531F  \n",
       "198  android          HTC Desire 620       HTC          HTC Desire 620  \n",
       "199  android  Vodafone Smart ultra 6  Vodafone  Vodafone Smart ultra 6  \n",
       "200  android  Vodafone Smart ultra 6       ZTE  Vodafone Smart ultra 6  \n",
       "\n",
       "[201 rows x 8 columns]"
      ]
     },
     "execution_count": 144,
     "metadata": {},
     "output_type": "execute_result"
    }
   ],
   "source": [
    "# 7.  Hãy thống kê trung bình số phút hàng tháng, trung bình sms và trung bình data, số lượng sử dụng của các nhãn hàng\n",
    "dfKetQua.groupby('Branding').agg({\n",
    "    'outgoing_mins_per_month' : 'mean',\n",
    "    'outgoing_sms_per_month' : 'mean',\n",
    "    'monthly_mb' : 'mean',\n",
    "    'use_id': 'count'\n",
    "})\n",
    "dfKetQua"
   ]
  },
  {
   "cell_type": "markdown",
   "metadata": {},
   "source": [
    "#### 8. Trực quan số lượng người dùng các nhãn hàng"
   ]
  },
  {
   "cell_type": "code",
   "execution_count": 145,
   "metadata": {},
   "outputs": [
    {
     "data": {
      "image/png": "[encoded data removed]",
      "text/plain": [
       "<Figure size 640x480 with 1 Axes>"
      ]
     },
     "metadata": {},
     "output_type": "display_data"
    }
   ],
   "source": [
    "# 8.  Trực quan số lượng người dùng các nhãn hàng\n",
    "import seaborn as sns \n",
    "import matplotlib.pyplot as plt\n",
    "sns.countplot(y='Branding', data=dfKetQua)\n",
    "plt.show()"
   ]
  },
  {
   "cell_type": "code",
   "execution_count": 146,
   "metadata": {},
   "outputs": [
    {
     "data": {
      "text/plain": [
       "Samsung     108\n",
       "HTC          44\n",
       "Sony         16\n",
       "Motorola     16\n",
       "OnePlus       6\n",
       "Huawei        3\n",
       "LGE           2\n",
       "Lenovo        2\n",
       "Lava          2\n",
       "Vodafone      1\n",
       "ZTE           1\n",
       "Name: Branding, dtype: int64"
      ]
     },
     "execution_count": 146,
     "metadata": {},
     "output_type": "execute_result"
    }
   ],
   "source": [
    "dfKetQua['Branding'].value_counts()"
   ]
  },
  {
   "cell_type": "markdown",
   "metadata": {},
   "source": [
    "#### 9.  Trực quan hóa dữ liệu trung bình phút gọi, trung bình sms và dung lượng sử dụng trên từng nhóm nhãn hàng bán lẻ\n"
   ]
  },
  {
   "cell_type": "code",
   "execution_count": 147,
   "metadata": {},
   "outputs": [
    {
     "data": {
      "image/png": "[encoded data removed]",
      "text/plain": [
       "<Figure size 640x480 with 1 Axes>"
      ]
     },
     "metadata": {},
     "output_type": "display_data"
    }
   ],
   "source": [
    "# 9.  Trực quan hóa dữ liệu trung bình phút gọi, trung bình sms và dung lượng sử dụng trên từng nhóm nhãn hàng bán lẻ\n",
    "import numpy as np \n",
    "sns.barplot(y='Branding', x='outgoing_mins_per_month', estimator=np.mean ,data=dfKetQua, orient='horizontal', errorbar=None)\n",
    "plt.show()\n",
    "\n",
    "# orient='horizontal': Điều này chỉ định rằng biểu đồ sẽ được hiển thị theo chiều ngang (nhãn hàng ở trục y và số phút ở trục x).\n",
    "# errorbar=None: Không hiển thị thanh sai số. Nếu bạn muốn thêm độ chính xác cho giá trị trung bình, có thể thay đổi tham số này.\n",
    "# orient='vertical: thay đổi biểu đồ sang dạng đứng"
   ]
  },
  {
   "cell_type": "code",
   "execution_count": 148,
   "metadata": {},
   "outputs": [
    {
     "data": {
      "image/png": "[encoded data removed]",
      "text/plain": [
       "<Figure size 640x480 with 1 Axes>"
      ]
     },
     "metadata": {},
     "output_type": "display_data"
    }
   ],
   "source": [
    "import numpy as np \n",
    "sns.barplot(y='Branding', x='outgoing_mins_per_month', estimator=np.mean ,data=dfKetQua, errorbar=None)\n",
    "plt.show()\n"
   ]
  },
  {
   "cell_type": "markdown",
   "metadata": {},
   "source": [
    "#####  trung bình phút gọi"
   ]
  },
  {
   "cell_type": "code",
   "execution_count": 149,
   "metadata": {},
   "outputs": [
    {
     "name": "stderr",
     "output_type": "stream",
     "text": [
      "C:\\Users\\LENOVO\\AppData\\Local\\Temp\\ipykernel_10564\\3266646637.py:1: FutureWarning: \n",
      "\n",
      "The `ci` parameter is deprecated. Use `errorbar=None` for the same effect.\n",
      "\n",
      "  sns.barplot(x='outgoing_mins_per_month', y='Branding', data= dfKetQua, palette='Set1', ci = None)\n"
     ]
    },
    {
     "data": {
      "image/png": "[encoded data removed]",
      "text/plain": [
       "<Figure size 640x480 with 1 Axes>"
      ]
     },
     "metadata": {},
     "output_type": "display_data"
    }
   ],
   "source": [
    "sns.barplot(x='outgoing_mins_per_month', y='Branding', data= dfKetQua, palette='Set1', ci = None)\n",
    "plt.show()\n",
    "\n",
    "\n",
    "# palette='Set1':\n",
    "# Tham số này chỉ định màu sắc cho các cột trong biểu đồ. \n",
    "# Set1 là một trong những bảng màu có sẵn trong Seaborn, \n",
    "# thường được sử dụng cho các biểu đồ có nhiều nhóm."
   ]
  },
  {
   "cell_type": "markdown",
   "metadata": {},
   "source": [
    "##### trung bình sms"
   ]
  },
  {
   "cell_type": "code",
   "execution_count": 150,
   "metadata": {},
   "outputs": [
    {
     "name": "stderr",
     "output_type": "stream",
     "text": [
      "C:\\Users\\LENOVO\\AppData\\Local\\Temp\\ipykernel_10564\\4077907549.py:1: FutureWarning: \n",
      "\n",
      "The `ci` parameter is deprecated. Use `errorbar=None` for the same effect.\n",
      "\n",
      "  sns.barplot(x='outgoing_sms_per_month',\n"
     ]
    },
    {
     "data": {
      "image/png": "[encoded data removed]",
      "text/plain": [
       "<Figure size 640x480 with 1 Axes>"
      ]
     },
     "metadata": {},
     "output_type": "display_data"
    }
   ],
   "source": [
    "sns.barplot(x='outgoing_sms_per_month',\n",
    "            y='Branding',\n",
    "            data= dfKetQua,\n",
    "            palette='Set1',\n",
    "            ci = None)\n",
    "plt.show()"
   ]
  },
  {
   "cell_type": "markdown",
   "metadata": {},
   "source": [
    "##### trung bình dung lượng sử dụng trên từng nhóm nhãn hàng bán lẻ\n"
   ]
  },
  {
   "cell_type": "code",
   "execution_count": 151,
   "metadata": {},
   "outputs": [
    {
     "name": "stderr",
     "output_type": "stream",
     "text": [
      "C:\\Users\\LENOVO\\AppData\\Local\\Temp\\ipykernel_10564\\3404083932.py:1: FutureWarning: \n",
      "\n",
      "The `ci` parameter is deprecated. Use `errorbar=None` for the same effect.\n",
      "\n",
      "  sns.barplot(x='monthly_mb',\n"
     ]
    },
    {
     "data": {
      "image/png": "[encoded data removed]",
      "text/plain": [
       "<Figure size 640x480 with 1 Axes>"
      ]
     },
     "metadata": {},
     "output_type": "display_data"
    }
   ],
   "source": [
    "sns.barplot(x='monthly_mb',\n",
    "            y='Branding',\n",
    "            data= dfKetQua,\n",
    "            palette='Set1',\n",
    "            ci = None)\n",
    "plt.show()"
   ]
  },
  {
   "cell_type": "markdown",
   "metadata": {},
   "source": [
    "##### Đưa ba bảng vào chung "
   ]
  },
  {
   "cell_type": "code",
   "execution_count": 152,
   "metadata": {},
   "outputs": [
    {
     "name": "stderr",
     "output_type": "stream",
     "text": [
      "C:\\Users\\LENOVO\\AppData\\Local\\Temp\\ipykernel_10564\\2010530187.py:3: FutureWarning: \n",
      "\n",
      "The `ci` parameter is deprecated. Use `errorbar=None` for the same effect.\n",
      "\n",
      "  sns.barplot(x='outgoing_mins_per_month',\n",
      "C:\\Users\\LENOVO\\AppData\\Local\\Temp\\ipykernel_10564\\2010530187.py:10: FutureWarning: \n",
      "\n",
      "The `ci` parameter is deprecated. Use `errorbar=None` for the same effect.\n",
      "\n",
      "  sns.barplot(x='outgoing_sms_per_month',\n",
      "C:\\Users\\LENOVO\\AppData\\Local\\Temp\\ipykernel_10564\\2010530187.py:17: FutureWarning: \n",
      "\n",
      "The `ci` parameter is deprecated. Use `errorbar=None` for the same effect.\n",
      "\n",
      "  sns.barplot(x='monthly_mb',\n"
     ]
    },
    {
     "data": {
      "image/png": "[encoded data removed]",
      "text/plain": [
       "<Figure size 1500x500 with 3 Axes>"
      ]
     },
     "metadata": {},
     "output_type": "display_data"
    }
   ],
   "source": [
    "fig, axes =plt.subplots(1,3, figsize=(15,5))\n",
    "#  trung bình phút gọi,\n",
    "sns.barplot(x='outgoing_mins_per_month',\n",
    "            y='Branding',\n",
    "            data= dfKetQua,\n",
    "            palette='Set1',\n",
    "            ci= None,\n",
    "            ax= axes[0])\n",
    "# trung bình sms\n",
    "sns.barplot(x='outgoing_sms_per_month',\n",
    "            y='Branding',\n",
    "            data= dfKetQua,\n",
    "            palette='Set2',\n",
    "            ci= None,\n",
    "            ax= axes[1])\n",
    "# trung bình dung lượng sử dụng trên từng nhóm nhãn hàng bán lẻ\n",
    "sns.barplot(x='monthly_mb',\n",
    "            y='Branding',\n",
    "            data= dfKetQua,\n",
    "            palette='Set3',\n",
    "            ci= None,\n",
    "            ax= axes[2])\n",
    "# canh khoảng cách giữ các bảng\n",
    "plt.tight_layout() \n",
    "plt.show()"
   ]
  },
  {
   "cell_type": "markdown",
   "metadata": {},
   "source": [
    "#### 10. Khảo sát tương quan giữa phút gọi, sms và dung lượng trên từng nhóm nhãn hàng"
   ]
  },
  {
   "cell_type": "code",
   "execution_count": 153,
   "metadata": {},
   "outputs": [
    {
     "data": {
      "image/png": "[encoded data removed]",
      "text/plain": [
       "<Figure size 640x480 with 1 Axes>"
      ]
     },
     "metadata": {},
     "output_type": "display_data"
    }
   ],
   "source": [
    "# 10. Khảo sát tương quan giữa phút gọi, sms và dung lượng trên từng nhóm nhãn hàng\n",
    "sns.scatterplot(\n",
    "    x='outgoing_mins_per_month',\n",
    "    y='outgoing_sms_per_month',\n",
    "    size = 'monthly_mb',\n",
    "\n",
    "    hue='Branding',\n",
    "    data=dfKetQua\n",
    ")\n",
    "plt.show()\n",
    "# Các Tham Số:\n",
    "# x='outgoing_mins_per_month':\n",
    "\n",
    "# Trục x sẽ chứa số phút gọi trung bình hàng tháng.\n",
    "# y='outgoing_sms_per_month':\n",
    "\n",
    "# Trục y sẽ chứa số SMS gửi đi trung bình hàng tháng.\n",
    "# size='monthly_mb':\n",
    "\n",
    "# Kích thước của các điểm trong biểu đồ sẽ tương ứng với dung lượng sử dụng hàng tháng \n",
    "# (được thể hiện qua cột monthly_mb). Điều này giúp bạn nhận biết các nhóm có mức sử dụng dữ liệu khác nhau.\n",
    "# hue='Branding':\n",
    "\n",
    "# Màu sắc của các điểm sẽ dựa trên nhãn hàng, giúp phân biệt các nhóm nhãn hàng khác nhau trong biểu đồ.\n",
    "# data=dfKetQua:\n",
    "\n",
    "# Đây là DataFrame chứa dữ liệu mà bạn muốn trực quan hóa.\n"
   ]
  },
  {
   "cell_type": "markdown",
   "metadata": {},
   "source": [
    "\n",
    "##### 11. Hãy kiểm định xem trung bình outgoing_mins_per_month có bằng 200 phút"
   ]
  },
  {
   "cell_type": "code",
   "execution_count": 154,
   "metadata": {},
   "outputs": [
    {
     "data": {
      "text/plain": [
       "0       21.97\n",
       "1       69.80\n",
       "2      249.26\n",
       "3      249.26\n",
       "4       83.46\n",
       "        ...  \n",
       "196     22.85\n",
       "197    180.18\n",
       "198     12.85\n",
       "199     42.75\n",
       "200     42.75\n",
       "Name: outgoing_mins_per_month, Length: 201, dtype: float64"
      ]
     },
     "execution_count": 154,
     "metadata": {},
     "output_type": "execute_result"
    }
   ],
   "source": [
    "dfKetQua['outgoing_mins_per_month']"
   ]
  },
  {
   "cell_type": "code",
   "execution_count": 155,
   "metadata": {},
   "outputs": [
    {
     "data": {
      "text/plain": [
       "(0.3678324474067914, 0.7129981730830808)"
      ]
     },
     "execution_count": 155,
     "metadata": {},
     "output_type": "execute_result"
    }
   ],
   "source": [
    "from statsmodels.stats.weightstats import ztest as ztest\n",
    "# One sample Z test\n",
    "ztest(dfKetQua['outgoing_mins_per_month'], value=200)\n",
    "# do p_value = 0.42193 > alpha : 0.05 ->  Du dieu kien noi outgoing_mins_per_month có bằng 200 phút"
   ]
  },
  {
   "cell_type": "markdown",
   "metadata": {},
   "source": [
    "##### 12. Hãy kiểm định xem trung bình outgoing_sms_per_month có bằng 100 tin nhắn"
   ]
  },
  {
   "cell_type": "code",
   "execution_count": 156,
   "metadata": {},
   "outputs": [
    {
     "data": {
      "text/plain": [
       "0        4.82\n",
       "1       14.70\n",
       "2      253.22\n",
       "3      253.22\n",
       "4      114.06\n",
       "        ...  \n",
       "196     34.54\n",
       "197     17.49\n",
       "198     58.32\n",
       "199     46.83\n",
       "200     46.83\n",
       "Name: outgoing_sms_per_month, Length: 201, dtype: float64"
      ]
     },
     "execution_count": 156,
     "metadata": {},
     "output_type": "execute_result"
    }
   ],
   "source": [
    "dfKetQua['outgoing_sms_per_month']"
   ]
  },
  {
   "cell_type": "code",
   "execution_count": 157,
   "metadata": {},
   "outputs": [
    {
     "data": {
      "text/plain": [
       "(-2.956708578196125, 0.003109418467062032)"
      ]
     },
     "execution_count": 157,
     "metadata": {},
     "output_type": "execute_result"
    }
   ],
   "source": [
    "from statsmodels.stats.weightstats import ztest as ztest\n",
    "\n",
    "ztest(dfKetQua['outgoing_sms_per_month'], value=100)\n",
    "# p_value = 6.898e-106 < 0.05 --> Khong du dieu kien noi "
   ]
  },
  {
   "cell_type": "markdown",
   "metadata": {},
   "source": [
    "##### p.value = 0.003 < 0.05 ==> bác bỏ trung bình outgoing_sms_per_month có bằng 100 tin nhắn"
   ]
  },
  {
   "cell_type": "markdown",
   "metadata": {},
   "source": [
    "##### 13.Hãy kiểm định xem trung bình monthly_mb có bằng 2048 mb"
   ]
  },
  {
   "cell_type": "code",
   "execution_count": 158,
   "metadata": {},
   "outputs": [
    {
     "data": {
      "text/plain": [
       "0       1557.33\n",
       "1      25955.55\n",
       "2       1557.33\n",
       "3       1557.33\n",
       "4       3114.67\n",
       "         ...   \n",
       "196     6577.12\n",
       "197     2076.45\n",
       "198       74.40\n",
       "199     5191.12\n",
       "200     5191.12\n",
       "Name: monthly_mb, Length: 201, dtype: float64"
      ]
     },
     "execution_count": 158,
     "metadata": {},
     "output_type": "execute_result"
    }
   ],
   "source": [
    "dfKetQua['monthly_mb']"
   ]
  },
  {
   "cell_type": "code",
   "execution_count": 159,
   "metadata": {},
   "outputs": [
    {
     "data": {
      "text/plain": [
       "(5.918078326415771, 3.257248511198895e-09)"
      ]
     },
     "execution_count": 159,
     "metadata": {},
     "output_type": "execute_result"
    }
   ],
   "source": [
    "from statsmodels.stats.weightstats import ztest as ztest\n",
    "\n",
    "ztest(dfKetQua['monthly_mb'], value=2048)\n",
    "# p_value = 6.898e-106 < 0.05 --> Khong du dieu kien noi \n",
    "# p_value =  5.271784083386454e-12 < 0.05 --> Khong du dieu kien de noi monthly_mb bang 2048mb\n",
    "# p.value = 3.257 > 0.05 ==> không bác bỏ trung bình monthly_mb có bằng 2048 mb"
   ]
  },
  {
   "cell_type": "markdown",
   "metadata": {},
   "source": [
    "##### 14. Hãy tạo ma trận tương quan giữa [outgoing_mins_per_month, outgoing_sms_per_month, monthly_mb] và sắp xếp tăng dần về mức độ tương quan"
   ]
  },
  {
   "cell_type": "code",
   "execution_count": 160,
   "metadata": {},
   "outputs": [
    {
     "name": "stdout",
     "output_type": "stream",
     "text": [
      "                  Feature1                 Feature2  Correlation\n",
      "5   outgoing_sms_per_month               monthly_mb    -0.046049\n",
      "7               monthly_mb   outgoing_sms_per_month    -0.046049\n",
      "1  outgoing_mins_per_month   outgoing_sms_per_month    -0.016494\n",
      "3   outgoing_sms_per_month  outgoing_mins_per_month    -0.016494\n",
      "2  outgoing_mins_per_month               monthly_mb     0.213489\n",
      "6               monthly_mb  outgoing_mins_per_month     0.213489\n"
     ]
    }
   ],
   "source": [
    "import pandas as pd\n",
    "\n",
    "# Giả sử df là DataFrame có các cột outgoing_mins_per_month, outgoing_sms_per_month, monthly_mb\n",
    "\n",
    "# Tính ma trận tương quan giữa các cột\n",
    "corr_matrix = dfKetQua[['outgoing_mins_per_month', 'outgoing_sms_per_month', 'monthly_mb']].corr()\n",
    "\n",
    "# Chuyển ma trận tương quan thành DataFrame và bỏ đi các giá trị trùng lặp\n",
    "corr_pairs = corr_matrix.unstack().reset_index()\n",
    "corr_pairs.columns = ['Feature1', 'Feature2', 'Correlation']\n",
    "\n",
    "# Lọc bỏ các giá trị trùng lặp và tự tương quan (giá trị với chính nó)\n",
    "corr_pairs = corr_pairs[corr_pairs['Feature1'] != corr_pairs['Feature2']].drop_duplicates()\n",
    "\n",
    "# Sắp xếp giá trị tương quan theo thứ tự tăng dần\n",
    "sorted_corr = corr_pairs.sort_values(by='Correlation')\n",
    "\n",
    "# Hiển thị kết quả\n",
    "print(sorted_corr)\n"
   ]
  },
  {
   "cell_type": "code",
   "execution_count": 161,
   "metadata": {},
   "outputs": [
    {
     "name": "stderr",
     "output_type": "stream",
     "text": [
      "C:\\Users\\LENOVO\\AppData\\Local\\Temp\\ipykernel_10564\\505078136.py:1: DeprecationWarning: Please use `pearsonr` from the `scipy.stats` namespace, the `scipy.stats.stats` namespace is deprecated.\n",
      "  from scipy.stats.stats import pearsonr\n"
     ]
    },
    {
     "data": {
      "text/plain": [
       "PearsonRResult(statistic=-0.016494441685319407, pvalue=0.8162223636414793)"
      ]
     },
     "execution_count": 161,
     "metadata": {},
     "output_type": "execute_result"
    }
   ],
   "source": [
    "from scipy.stats.stats import pearsonr\n",
    "pearsonr(dfKetQua['outgoing_mins_per_month'], dfKetQua['outgoing_sms_per_month'])"
   ]
  },
  {
   "cell_type": "markdown",
   "metadata": {},
   "source": [
    "###### p.value = 0.816 > 0.05 ==> không đủ điền kiện kế luận outgoing_mins_per_month và outgoing_sms_per_month tương quan"
   ]
  },
  {
   "cell_type": "markdown",
   "metadata": {},
   "source": [
    "\n",
    "##### 15.Kiểm định xem outgoing_mins_per_month, outgoing_sms_per_month có tương quan"
   ]
  },
  {
   "cell_type": "code",
   "execution_count": 162,
   "metadata": {},
   "outputs": [
    {
     "name": "stderr",
     "output_type": "stream",
     "text": [
      "C:\\Users\\LENOVO\\AppData\\Local\\Temp\\ipykernel_10564\\499596656.py:1: DeprecationWarning: Please use `pearsonr` from the `scipy.stats` namespace, the `scipy.stats.stats` namespace is deprecated.\n",
      "  from scipy.stats.stats import pearsonr\n"
     ]
    },
    {
     "data": {
      "text/plain": [
       "PearsonRResult(statistic=-0.016494441685319407, pvalue=0.8162223636414793)"
      ]
     },
     "execution_count": 162,
     "metadata": {},
     "output_type": "execute_result"
    }
   ],
   "source": [
    "\n",
    "from scipy.stats.stats import pearsonr\n",
    "\n",
    "pearsonr(dfKetQua['outgoing_mins_per_month'], dfKetQua['outgoing_sms_per_month'])\n",
    "# p_value = 0.816 > alpha = 0.05:\n",
    "# Accpect: Du dieu kien de chung tuong quan\n",
    "#p.value = 0.816 > 0.05 ==> không đủ điền kiện kế luận outgoing_mins_per_month và outgoing_sms_per_month tương quan"
   ]
  },
  {
   "cell_type": "markdown",
   "metadata": {},
   "source": [
    "##### 16. Hãy kiểm định xem có mối quan hệ nào giữa platform và branding"
   ]
  },
  {
   "cell_type": "code",
   "execution_count": 163,
   "metadata": {},
   "outputs": [
    {
     "data": {
      "text/html": [
       "<div>\n",
       "<style scoped>\n",
       "    .dataframe tbody tr th:only-of-type {\n",
       "        vertical-align: middle;\n",
       "    }\n",
       "\n",
       "    .dataframe tbody tr th {\n",
       "        vertical-align: top;\n",
       "    }\n",
       "\n",
       "    .dataframe thead th {\n",
       "        text-align: right;\n",
       "    }\n",
       "</style>\n",
       "<table border=\"1\" class=\"dataframe\">\n",
       "  <thead>\n",
       "    <tr style=\"text-align: right;\">\n",
       "      <th>Branding</th>\n",
       "      <th>HTC</th>\n",
       "      <th>Huawei</th>\n",
       "      <th>LGE</th>\n",
       "      <th>Lava</th>\n",
       "      <th>Lenovo</th>\n",
       "      <th>Motorola</th>\n",
       "      <th>OnePlus</th>\n",
       "      <th>Samsung</th>\n",
       "      <th>Sony</th>\n",
       "      <th>Vodafone</th>\n",
       "      <th>ZTE</th>\n",
       "    </tr>\n",
       "    <tr>\n",
       "      <th>platform</th>\n",
       "      <th></th>\n",
       "      <th></th>\n",
       "      <th></th>\n",
       "      <th></th>\n",
       "      <th></th>\n",
       "      <th></th>\n",
       "      <th></th>\n",
       "      <th></th>\n",
       "      <th></th>\n",
       "      <th></th>\n",
       "      <th></th>\n",
       "    </tr>\n",
       "  </thead>\n",
       "  <tbody>\n",
       "    <tr>\n",
       "      <th>android</th>\n",
       "      <td>44</td>\n",
       "      <td>3</td>\n",
       "      <td>2</td>\n",
       "      <td>2</td>\n",
       "      <td>2</td>\n",
       "      <td>16</td>\n",
       "      <td>6</td>\n",
       "      <td>108</td>\n",
       "      <td>16</td>\n",
       "      <td>1</td>\n",
       "      <td>1</td>\n",
       "    </tr>\n",
       "  </tbody>\n",
       "</table>\n",
       "</div>"
      ],
      "text/plain": [
       "Branding  HTC  Huawei  LGE  Lava  Lenovo  Motorola  OnePlus  Samsung  Sony  \\\n",
       "platform                                                                     \n",
       "android    44       3    2     2       2        16        6      108    16   \n",
       "\n",
       "Branding  Vodafone  ZTE  \n",
       "platform                 \n",
       "android          1    1  "
      ]
     },
     "execution_count": 163,
     "metadata": {},
     "output_type": "execute_result"
    }
   ],
   "source": [
    "crosdata = pd.crosstab(dfKetQua['platform'], [dfKetQua['Branding']], rownames=['platform'], colnames=['Branding'])\n",
    "crosdata"
   ]
  },
  {
   "cell_type": "code",
   "execution_count": 164,
   "metadata": {},
   "outputs": [
    {
     "name": "stdout",
     "output_type": "stream",
     "text": [
      "p value is 1.0\n",
      "Independent (H0 holds true)\n"
     ]
    }
   ],
   "source": [
    "from scipy.stats import chi2_contingency\n",
    "stat, p, dof, expected = chi2_contingency(crosdata)\n",
    " \n",
    "alpha = 0.05\n",
    "print(\"p value is \" + str(p))\n",
    "if p <= alpha:\n",
    "    print('Dependent (reject H0)')\n",
    "else:\n",
    "    print('Independent (H0 holds true)')\n",
    "   "
   ]
  },
  {
   "cell_type": "code",
   "execution_count": 165,
   "metadata": {},
   "outputs": [
    {
     "data": {
      "text/html": [
       "<div>\n",
       "<style scoped>\n",
       "    .dataframe tbody tr th:only-of-type {\n",
       "        vertical-align: middle;\n",
       "    }\n",
       "\n",
       "    .dataframe tbody tr th {\n",
       "        vertical-align: top;\n",
       "    }\n",
       "\n",
       "    .dataframe thead th {\n",
       "        text-align: right;\n",
       "    }\n",
       "</style>\n",
       "<table border=\"1\" class=\"dataframe\">\n",
       "  <thead>\n",
       "    <tr style=\"text-align: right;\">\n",
       "      <th></th>\n",
       "      <th>df</th>\n",
       "      <th>sum_sq</th>\n",
       "      <th>mean_sq</th>\n",
       "      <th>F</th>\n",
       "      <th>PR(&gt;F)</th>\n",
       "    </tr>\n",
       "  </thead>\n",
       "  <tbody>\n",
       "    <tr>\n",
       "      <th>Branding</th>\n",
       "      <td>10.0</td>\n",
       "      <td>2.020408e-28</td>\n",
       "      <td>2.020408e-29</td>\n",
       "      <td>44.07563</td>\n",
       "      <td>2.855061e-44</td>\n",
       "    </tr>\n",
       "    <tr>\n",
       "      <th>Residual</th>\n",
       "      <td>190.0</td>\n",
       "      <td>8.709517e-29</td>\n",
       "      <td>4.583957e-31</td>\n",
       "      <td>NaN</td>\n",
       "      <td>NaN</td>\n",
       "    </tr>\n",
       "  </tbody>\n",
       "</table>\n",
       "</div>"
      ],
      "text/plain": [
       "             df        sum_sq       mean_sq         F        PR(>F)\n",
       "Branding   10.0  2.020408e-28  2.020408e-29  44.07563  2.855061e-44\n",
       "Residual  190.0  8.709517e-29  4.583957e-31       NaN           NaN"
      ]
     },
     "execution_count": 165,
     "metadata": {},
     "output_type": "execute_result"
    }
   ],
   "source": [
    "# M1 va  M2 co tuong quan hay khong \n",
    "import statsmodels.api as sm\n",
    "\n",
    "from statsmodels.formula.api import ols\n",
    "\n",
    "model = ols('platform ~ Branding', data=dfKetQua).fit()\n",
    "aov_table = sm.stats.anova_lm(model, typ=1)\n",
    "aov_table\n",
    "# Do p_value = 2.511138e-37 < alpha = 0.05 --> Khong du dieu kien de noi platform phu thuoc vao Branding"
   ]
  },
  {
   "cell_type": "code",
   "execution_count": 166,
   "metadata": {},
   "outputs": [],
   "source": [
    "##### Kết luận\n",
    "# - p.value = 1.0 > 0.05\n",
    "# - đủ dữ kiện để nói rằng platform không phụ thuộc với Branding "
   ]
  },
  {
   "cell_type": "markdown",
   "metadata": {},
   "source": [
    "##### 17. Hãy kiểm định xem có mối quan hệ nào giữa monthly_mb và platform"
   ]
  },
  {
   "cell_type": "code",
   "execution_count": 167,
   "metadata": {},
   "outputs": [
    {
     "data": {
      "text/html": [
       "<div>\n",
       "<style scoped>\n",
       "    .dataframe tbody tr th:only-of-type {\n",
       "        vertical-align: middle;\n",
       "    }\n",
       "\n",
       "    .dataframe tbody tr th {\n",
       "        vertical-align: top;\n",
       "    }\n",
       "\n",
       "    .dataframe thead th {\n",
       "        text-align: right;\n",
       "    }\n",
       "</style>\n",
       "<table border=\"1\" class=\"dataframe\">\n",
       "  <thead>\n",
       "    <tr style=\"text-align: right;\">\n",
       "      <th></th>\n",
       "      <th>df</th>\n",
       "      <th>sum_sq</th>\n",
       "      <th>mean_sq</th>\n",
       "      <th>F</th>\n",
       "      <th>PR(&gt;F)</th>\n",
       "    </tr>\n",
       "  </thead>\n",
       "  <tbody>\n",
       "    <tr>\n",
       "      <th>monthly_mb</th>\n",
       "      <td>1.0</td>\n",
       "      <td>1.456485e-31</td>\n",
       "      <td>1.456485e-31</td>\n",
       "      <td>3.442848</td>\n",
       "      <td>0.065005</td>\n",
       "    </tr>\n",
       "    <tr>\n",
       "      <th>Residual</th>\n",
       "      <td>199.0</td>\n",
       "      <td>8.418625e-30</td>\n",
       "      <td>4.230465e-32</td>\n",
       "      <td>NaN</td>\n",
       "      <td>NaN</td>\n",
       "    </tr>\n",
       "  </tbody>\n",
       "</table>\n",
       "</div>"
      ],
      "text/plain": [
       "               df        sum_sq       mean_sq         F    PR(>F)\n",
       "monthly_mb    1.0  1.456485e-31  1.456485e-31  3.442848  0.065005\n",
       "Residual    199.0  8.418625e-30  4.230465e-32       NaN       NaN"
      ]
     },
     "execution_count": 167,
     "metadata": {},
     "output_type": "execute_result"
    }
   ],
   "source": [
    "# monthly_mb va  platform co tuong quan hay khong \n",
    "import statsmodels.api as sm\n",
    "\n",
    "from statsmodels.formula.api import ols\n",
    "\n",
    "model = ols('platform ~ monthly_mb', data=dfKetQua).fit()\n",
    "a = sm.stats.anova_lm(model, typ=1)\n",
    "a\n",
    "# Do p_value = 0.000003 < alpha = 0.05 --> reject\n"
   ]
  },
  {
   "cell_type": "code",
   "execution_count": 168,
   "metadata": {},
   "outputs": [
    {
     "data": {
      "text/html": [
       "<div>\n",
       "<style scoped>\n",
       "    .dataframe tbody tr th:only-of-type {\n",
       "        vertical-align: middle;\n",
       "    }\n",
       "\n",
       "    .dataframe tbody tr th {\n",
       "        vertical-align: top;\n",
       "    }\n",
       "\n",
       "    .dataframe thead th {\n",
       "        text-align: right;\n",
       "    }\n",
       "</style>\n",
       "<table border=\"1\" class=\"dataframe\">\n",
       "  <thead>\n",
       "    <tr style=\"text-align: right;\">\n",
       "      <th>platform</th>\n",
       "      <th>android</th>\n",
       "    </tr>\n",
       "    <tr>\n",
       "      <th>monthly_mb</th>\n",
       "      <th></th>\n",
       "    </tr>\n",
       "  </thead>\n",
       "  <tbody>\n",
       "    <tr>\n",
       "      <th>0.00</th>\n",
       "      <td>1</td>\n",
       "    </tr>\n",
       "    <tr>\n",
       "      <th>11.68</th>\n",
       "      <td>1</td>\n",
       "    </tr>\n",
       "    <tr>\n",
       "      <th>33.79</th>\n",
       "      <td>2</td>\n",
       "    </tr>\n",
       "    <tr>\n",
       "      <th>74.40</th>\n",
       "      <td>1</td>\n",
       "    </tr>\n",
       "    <tr>\n",
       "      <th>212.64</th>\n",
       "      <td>4</td>\n",
       "    </tr>\n",
       "    <tr>\n",
       "      <th>407.01</th>\n",
       "      <td>1</td>\n",
       "    </tr>\n",
       "    <tr>\n",
       "      <th>519.12</th>\n",
       "      <td>30</td>\n",
       "    </tr>\n",
       "    <tr>\n",
       "      <th>803.24</th>\n",
       "      <td>1</td>\n",
       "    </tr>\n",
       "    <tr>\n",
       "      <th>894.58</th>\n",
       "      <td>2</td>\n",
       "    </tr>\n",
       "    <tr>\n",
       "      <th>1038.21</th>\n",
       "      <td>8</td>\n",
       "    </tr>\n",
       "    <tr>\n",
       "      <th>1557.33</th>\n",
       "      <td>40</td>\n",
       "    </tr>\n",
       "    <tr>\n",
       "      <th>1620.05</th>\n",
       "      <td>1</td>\n",
       "    </tr>\n",
       "    <tr>\n",
       "      <th>1777.61</th>\n",
       "      <td>2</td>\n",
       "    </tr>\n",
       "    <tr>\n",
       "      <th>2076.45</th>\n",
       "      <td>11</td>\n",
       "    </tr>\n",
       "    <tr>\n",
       "      <th>2362.07</th>\n",
       "      <td>5</td>\n",
       "    </tr>\n",
       "    <tr>\n",
       "      <th>3114.67</th>\n",
       "      <td>30</td>\n",
       "    </tr>\n",
       "    <tr>\n",
       "      <th>4152.88</th>\n",
       "      <td>2</td>\n",
       "    </tr>\n",
       "    <tr>\n",
       "      <th>5191.12</th>\n",
       "      <td>21</td>\n",
       "    </tr>\n",
       "    <tr>\n",
       "      <th>6577.12</th>\n",
       "      <td>2</td>\n",
       "    </tr>\n",
       "    <tr>\n",
       "      <th>7267.55</th>\n",
       "      <td>6</td>\n",
       "    </tr>\n",
       "    <tr>\n",
       "      <th>7469.79</th>\n",
       "      <td>2</td>\n",
       "    </tr>\n",
       "    <tr>\n",
       "      <th>9005.49</th>\n",
       "      <td>1</td>\n",
       "    </tr>\n",
       "    <tr>\n",
       "      <th>9344.00</th>\n",
       "      <td>1</td>\n",
       "    </tr>\n",
       "    <tr>\n",
       "      <th>10158.50</th>\n",
       "      <td>1</td>\n",
       "    </tr>\n",
       "    <tr>\n",
       "      <th>10382.21</th>\n",
       "      <td>1</td>\n",
       "    </tr>\n",
       "    <tr>\n",
       "      <th>12458.67</th>\n",
       "      <td>4</td>\n",
       "    </tr>\n",
       "    <tr>\n",
       "      <th>15573.33</th>\n",
       "      <td>13</td>\n",
       "    </tr>\n",
       "    <tr>\n",
       "      <th>16611.55</th>\n",
       "      <td>1</td>\n",
       "    </tr>\n",
       "    <tr>\n",
       "      <th>20764.45</th>\n",
       "      <td>4</td>\n",
       "    </tr>\n",
       "    <tr>\n",
       "      <th>25955.55</th>\n",
       "      <td>1</td>\n",
       "    </tr>\n",
       "    <tr>\n",
       "      <th>31146.67</th>\n",
       "      <td>1</td>\n",
       "    </tr>\n",
       "  </tbody>\n",
       "</table>\n",
       "</div>"
      ],
      "text/plain": [
       "platform    android\n",
       "monthly_mb         \n",
       "0.00              1\n",
       "11.68             1\n",
       "33.79             2\n",
       "74.40             1\n",
       "212.64            4\n",
       "407.01            1\n",
       "519.12           30\n",
       "803.24            1\n",
       "894.58            2\n",
       "1038.21           8\n",
       "1557.33          40\n",
       "1620.05           1\n",
       "1777.61           2\n",
       "2076.45          11\n",
       "2362.07           5\n",
       "3114.67          30\n",
       "4152.88           2\n",
       "5191.12          21\n",
       "6577.12           2\n",
       "7267.55           6\n",
       "7469.79           2\n",
       "9005.49           1\n",
       "9344.00           1\n",
       "10158.50          1\n",
       "10382.21          1\n",
       "12458.67          4\n",
       "15573.33         13\n",
       "16611.55          1\n",
       "20764.45          4\n",
       "25955.55          1\n",
       "31146.67          1"
      ]
     },
     "execution_count": 168,
     "metadata": {},
     "output_type": "execute_result"
    }
   ],
   "source": [
    "crosdata = pd.crosstab(dfKetQua['monthly_mb'], [dfKetQua['platform']], rownames=['monthly_mb'], colnames=['platform'])\n",
    "crosdata"
   ]
  },
  {
   "cell_type": "code",
   "execution_count": 169,
   "metadata": {},
   "outputs": [
    {
     "name": "stdout",
     "output_type": "stream",
     "text": [
      "p value is 1.0\n",
      "Independent (H0 holds true)\n"
     ]
    }
   ],
   "source": [
    "from scipy.stats import chi2_contingency\n",
    "stat, p, dof, expected = chi2_contingency(crosdata)\n",
    " \n",
    "alpha = 0.05\n",
    "print(\"p value is \" + str(p))\n",
    "if p <= alpha:\n",
    "    print('Dependent (reject H0)')\n",
    "else:\n",
    "    print('Independent (H0 holds true)')"
   ]
  },
  {
   "cell_type": "code",
   "execution_count": 170,
   "metadata": {},
   "outputs": [
    {
     "data": {
      "text/plain": [
       "0      android\n",
       "1      android\n",
       "2      android\n",
       "3      android\n",
       "4      android\n",
       "        ...   \n",
       "196    android\n",
       "197    android\n",
       "198    android\n",
       "199    android\n",
       "200    android\n",
       "Name: platform, Length: 201, dtype: object"
      ]
     },
     "execution_count": 170,
     "metadata": {},
     "output_type": "execute_result"
    }
   ],
   "source": [
    "dfKetQua['platform']"
   ]
  },
  {
   "cell_type": "markdown",
   "metadata": {},
   "source": [
    "##### Kết luận\n",
    "- p.value = 1.0 > 0.05\n",
    "- đủ dữ kiện để nói rằng monthly_mb không phụ thuộc với platform"
   ]
  },
  {
   "cell_type": "markdown",
   "metadata": {},
   "source": [
    "##### 18. Hãy kiểm định xem có mối quan hệ nào giữa monthly_mb và platform theo loại branding (Two Anova)"
   ]
  },
  {
   "cell_type": "code",
   "execution_count": 171,
   "metadata": {},
   "outputs": [
    {
     "name": "stdout",
     "output_type": "stream",
     "text": [
      "                      df        sum_sq       mean_sq         F    PR(>F)\n",
      "Branding            10.0  2.792153e+08  2.792153e+07  0.974799  0.466796\n",
      "platform             0.0  0.000000e+00           NaN       NaN       NaN\n",
      "Branding:platform    0.0  0.000000e+00           NaN       NaN       NaN\n",
      "Residual           190.0  5.442239e+09  2.864336e+07       NaN       NaN\n"
     ]
    }
   ],
   "source": [
    "\n",
    "model = ols(' monthly_mb ~ Branding + platform + Branding:platform',data=dfKetQua).fit()\n",
    "result = sm.stats.anova_lm(model, type=2)\n",
    "print(result)\n",
    "# p_value > alpha : --> doc lap"
   ]
  },
  {
   "cell_type": "code",
   "execution_count": 172,
   "metadata": {},
   "outputs": [],
   "source": [
    "# ##### Kết luận\n",
    "# - Đủ dữ kiện để nói branding và platform không phụ thuộc với nhau với mức tin cậy 95%\n",
    "# - Đủ dữ kiện để nói monthly_mb và platform không phụ thuộc với nhau với mức tin cậy 95%\n",
    "# - Đủ dữ kiện để nói platform không phụ thuộc với monthly_mb theo từng loại branding với mức tin cậy 95%"
   ]
  },
  {
   "cell_type": "markdown",
   "metadata": {},
   "source": [
    "##### 19.Phân tích sự ảnh hưởng của outgoing_mins_per_month, outgoing_sms_per_month đến monthly_mb dựa trên mô hình hồi quy tuyến tính\n"
   ]
  },
  {
   "cell_type": "code",
   "execution_count": 173,
   "metadata": {},
   "outputs": [
    {
     "name": "stdout",
     "output_type": "stream",
     "text": [
      "                            OLS Regression Results                            \n",
      "==============================================================================\n",
      "Dep. Variable:                      y   R-squared:                       0.047\n",
      "Model:                            OLS   Adj. R-squared:                  0.038\n",
      "Method:                 Least Squares   F-statistic:                     4.925\n",
      "Date:                Sun, 22 Sep 2024   Prob (F-statistic):            0.00818\n",
      "Time:                        00:10:38   Log-Likelihood:                -2005.3\n",
      "No. Observations:                 201   AIC:                             4017.\n",
      "Df Residuals:                     198   BIC:                             4027.\n",
      "Df Model:                           2                                         \n",
      "Covariance Type:            nonrobust                                         \n",
      "==============================================================================\n",
      "                 coef    std err          t      P>|t|      [0.025      0.975]\n",
      "------------------------------------------------------------------------------\n",
      "const       3513.0441    631.350      5.564      0.000    2268.010    4758.078\n",
      "x1             4.8782      1.590      3.067      0.002       1.742       8.014\n",
      "x2            -2.8500      4.648     -0.613      0.540     -12.016       6.316\n",
      "==============================================================================\n",
      "Omnibus:                      107.866   Durbin-Watson:                   1.340\n",
      "Prob(Omnibus):                  0.000   Jarque-Bera (JB):              429.093\n",
      "Skew:                           2.237   Prob(JB):                     6.66e-94\n",
      "Kurtosis:                       8.587   Cond. No.                         539.\n",
      "==============================================================================\n",
      "\n",
      "Notes:\n",
      "[1] Standard Errors assume that the covariance matrix of the errors is correctly specified.\n",
      "Ket qua neu van muon lam =  4.844199999999999\n"
     ]
    }
   ],
   "source": [
    "import statsmodels.api as sm\n",
    "X_with_constant = sm.add_constant(dfKetQua[[\"outgoing_mins_per_month\",\"outgoing_sms_per_month\"]].values)\n",
    "y = dfKetQua[['monthly_mb']].values\n",
    "result = sm.OLS(y, X_with_constant).fit()\n",
    "print(result.summary())\n",
    "a =   5.2006 +  0.0161  * 6  + ( -0.0906 ) * 5\n",
    "print(f'Ket qua neu van muon lam =  {a}')\n",
    "# monthly_mb = a \n",
    "# outgoing_mins_per_month = b\n",
    "# outgoing_sms_per_month = c\n",
    "# a = f(b, c)\n",
    "# a =  a0 + a1 * b + a2 * c\n",
    "# a = 3384.4448 + 6.0640 * b - 9.4387 * c"
   ]
  },
  {
   "cell_type": "markdown",
   "metadata": {},
   "source": [
    "##### 20. Dựa trên mô hình hồi quy tuyến tính hãy cho biết nếu outgoing_mins_per_month, outgoing_sms_per_month lần lượt là 50 phút, 75 tin nhắn thì tháng đó người dùng sẽ tiêu hao bao nhiêu dung lượng internet (mb) cho quá trình sử dụng. (*) Lưu ý: Sinh viên xây dựng chương trình phần mềm hoàn chỉnh dạng Console Application với Input là outgoing_mins_per_month, outgoing_sms_per_month và output là giá trị monthly_mb dự báo được.\n"
   ]
  },
  {
   "cell_type": "code",
   "execution_count": 174,
   "metadata": {},
   "outputs": [
    {
     "name": "stdout",
     "output_type": "stream",
     "text": [
      "Chương trình dự đoán lượng dữ liệu internet tiêu thụ hàng tháng\n",
      "Dự đoán lượng dữ liệu internet tiêu thụ: 3557.45 MB\n"
     ]
    },
    {
     "name": "stderr",
     "output_type": "stream",
     "text": [
      "c:\\Users\\LENOVO\\anaconda3\\Lib\\site-packages\\sklearn\\base.py:464: UserWarning: X does not have valid feature names, but LinearRegression was fitted with feature names\n",
      "  warnings.warn(\n"
     ]
    }
   ],
   "source": [
    "import pandas as pd\n",
    "from sklearn.linear_model import LinearRegression\n",
    "\n",
    "# Giả sử dữ liệu của bạn đã được lưu trong DataFrame 'df'\n",
    "# df chứa các cột: 'outgoing_mins_per_month', 'outgoing_sms_per_month', 'monthly_mb'\n",
    "# Nếu bạn có sẵn dữ liệu trong df, chỉ cần dùng nó trực tiếp\n",
    "\n",
    "# Huấn luyện mô hình hồi quy tuyến tính với dữ liệu thực tế\n",
    "X = dfKetQua[['outgoing_mins_per_month', 'outgoing_sms_per_month']]  # Biến độc lập\n",
    "y = dfKetQua['monthly_mb']  # Biến phụ thuộc\n",
    "\n",
    "# Khởi tạo và huấn luyện mô hình hồi quy tuyến tính\n",
    "model = LinearRegression()\n",
    "model.fit(X, y)\n",
    "\n",
    "# Định nghĩa hàm dự đoán dựa trên mô hình đã huấn luyện\n",
    "def predict_monthly_mb(outgoing_mins_per_month, outgoing_sms_per_month):\n",
    "    return model.predict([[outgoing_mins_per_month, outgoing_sms_per_month]])[0]\n",
    "\n",
    "# Chương trình Console Application\n",
    "def main():\n",
    "    print(\"Chương trình dự đoán lượng dữ liệu internet tiêu thụ hàng tháng\")\n",
    "\n",
    "    # Nhập dữ liệu từ người dùng\n",
    "    outgoing_mins_per_month = 50\n",
    "    outgoing_sms_per_month = 70\n",
    "\n",
    "    # Dự đoán lượng dữ liệu tiêu thụ\n",
    "    predicted_mb = predict_monthly_mb(outgoing_mins_per_month, outgoing_sms_per_month)\n",
    "\n",
    "    # Hiển thị kết quả dự đoán\n",
    "    print(f\"Dự đoán lượng dữ liệu internet tiêu thụ: {predicted_mb:.2f} MB\")\n",
    "\n",
    "if __name__ == \"__main__\":\n",
    "    main()"
   ]
  }
 ],
 "metadata": {
  "kernelspec": {
   "display_name": "base",
   "language": "python",
   "name": "python3"
  },
  "language_info": {
   "codemirror_mode": {
    "name": "ipython",
    "version": 3
   },
   "file_extension": ".py",
   "mimetype": "text/x-python",
   "name": "python",
   "nbconvert_exporter": "python",
   "pygments_lexer": "ipython3",
   "version": "3.11.4"
  }
 },
 "nbformat": 4,
 "nbformat_minor": 2
}
