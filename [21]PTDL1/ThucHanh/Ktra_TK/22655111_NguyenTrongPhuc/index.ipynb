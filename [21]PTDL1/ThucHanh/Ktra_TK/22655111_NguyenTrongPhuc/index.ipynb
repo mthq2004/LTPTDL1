{
 "cells": [
  {
   "cell_type": "code",
   "execution_count": 52,
   "metadata": {},
   "outputs": [],
   "source": [
    "import pandas as pd\n",
    "import matplotlib.pyplot as plt\n",
    "import numpy as np\n",
    "import seaborn as sns"
   ]
  },
  {
   "cell_type": "code",
   "execution_count": 53,
   "metadata": {},
   "outputs": [
    {
     "data": {
      "text/html": [
       "<div>\n",
       "<style scoped>\n",
       "    .dataframe tbody tr th:only-of-type {\n",
       "        vertical-align: middle;\n",
       "    }\n",
       "\n",
       "    .dataframe tbody tr th {\n",
       "        vertical-align: top;\n",
       "    }\n",
       "\n",
       "    .dataframe thead th {\n",
       "        text-align: right;\n",
       "    }\n",
       "</style>\n",
       "<table border=\"1\" class=\"dataframe\">\n",
       "  <thead>\n",
       "    <tr style=\"text-align: right;\">\n",
       "      <th></th>\n",
       "      <th>ORDERNUMBER</th>\n",
       "      <th>QUANTITYORDERED</th>\n",
       "      <th>ORDERLINENUMBER</th>\n",
       "      <th>SALES</th>\n",
       "      <th>ORDERDATE</th>\n",
       "      <th>STATUS</th>\n",
       "      <th>COUNTRY</th>\n",
       "      <th>DEALSIZE</th>\n",
       "      <th>Discount</th>\n",
       "      <th>Profit</th>\n",
       "    </tr>\n",
       "  </thead>\n",
       "  <tbody>\n",
       "    <tr>\n",
       "      <th>0</th>\n",
       "      <td>10107</td>\n",
       "      <td>30</td>\n",
       "      <td>2</td>\n",
       "      <td>2871.00</td>\n",
       "      <td>2003-02-24</td>\n",
       "      <td>Shipped</td>\n",
       "      <td>USA</td>\n",
       "      <td>Small</td>\n",
       "      <td>0.00</td>\n",
       "      <td>41.9136</td>\n",
       "    </tr>\n",
       "    <tr>\n",
       "      <th>1</th>\n",
       "      <td>10121</td>\n",
       "      <td>34</td>\n",
       "      <td>5</td>\n",
       "      <td>2765.90</td>\n",
       "      <td>2003-05-07</td>\n",
       "      <td>Shipped</td>\n",
       "      <td>France</td>\n",
       "      <td>Small</td>\n",
       "      <td>0.00</td>\n",
       "      <td>219.5820</td>\n",
       "    </tr>\n",
       "    <tr>\n",
       "      <th>2</th>\n",
       "      <td>10134</td>\n",
       "      <td>41</td>\n",
       "      <td>2</td>\n",
       "      <td>3884.34</td>\n",
       "      <td>2003-07-01</td>\n",
       "      <td>Shipped</td>\n",
       "      <td>France</td>\n",
       "      <td>Medium</td>\n",
       "      <td>0.00</td>\n",
       "      <td>6.8714</td>\n",
       "    </tr>\n",
       "    <tr>\n",
       "      <th>3</th>\n",
       "      <td>10145</td>\n",
       "      <td>45</td>\n",
       "      <td>6</td>\n",
       "      <td>3746.70</td>\n",
       "      <td>2003-08-25</td>\n",
       "      <td>Shipped</td>\n",
       "      <td>USA</td>\n",
       "      <td>Medium</td>\n",
       "      <td>0.45</td>\n",
       "      <td>-383.0310</td>\n",
       "    </tr>\n",
       "    <tr>\n",
       "      <th>4</th>\n",
       "      <td>10159</td>\n",
       "      <td>49</td>\n",
       "      <td>14</td>\n",
       "      <td>5205.27</td>\n",
       "      <td>2003-10-10</td>\n",
       "      <td>Shipped</td>\n",
       "      <td>USA</td>\n",
       "      <td>Medium</td>\n",
       "      <td>0.20</td>\n",
       "      <td>2.5164</td>\n",
       "    </tr>\n",
       "    <tr>\n",
       "      <th>...</th>\n",
       "      <td>...</td>\n",
       "      <td>...</td>\n",
       "      <td>...</td>\n",
       "      <td>...</td>\n",
       "      <td>...</td>\n",
       "      <td>...</td>\n",
       "      <td>...</td>\n",
       "      <td>...</td>\n",
       "      <td>...</td>\n",
       "      <td>...</td>\n",
       "    </tr>\n",
       "    <tr>\n",
       "      <th>2818</th>\n",
       "      <td>10350</td>\n",
       "      <td>20</td>\n",
       "      <td>15</td>\n",
       "      <td>2244.40</td>\n",
       "      <td>2004-12-02</td>\n",
       "      <td>Shipped</td>\n",
       "      <td>Spain</td>\n",
       "      <td>Small</td>\n",
       "      <td>0.00</td>\n",
       "      <td>315.7404</td>\n",
       "    </tr>\n",
       "    <tr>\n",
       "      <th>2819</th>\n",
       "      <td>10373</td>\n",
       "      <td>29</td>\n",
       "      <td>1</td>\n",
       "      <td>3978.51</td>\n",
       "      <td>2005-01-31</td>\n",
       "      <td>Shipped</td>\n",
       "      <td>Finland</td>\n",
       "      <td>Medium</td>\n",
       "      <td>0.20</td>\n",
       "      <td>2.3520</td>\n",
       "    </tr>\n",
       "    <tr>\n",
       "      <th>2820</th>\n",
       "      <td>10386</td>\n",
       "      <td>43</td>\n",
       "      <td>4</td>\n",
       "      <td>5417.57</td>\n",
       "      <td>2005-03-01</td>\n",
       "      <td>Resolved</td>\n",
       "      <td>Spain</td>\n",
       "      <td>Medium</td>\n",
       "      <td>0.20</td>\n",
       "      <td>7.4694</td>\n",
       "    </tr>\n",
       "    <tr>\n",
       "      <th>2821</th>\n",
       "      <td>10397</td>\n",
       "      <td>34</td>\n",
       "      <td>1</td>\n",
       "      <td>2116.16</td>\n",
       "      <td>2005-03-28</td>\n",
       "      <td>Shipped</td>\n",
       "      <td>France</td>\n",
       "      <td>Small</td>\n",
       "      <td>0.20</td>\n",
       "      <td>22.6782</td>\n",
       "    </tr>\n",
       "    <tr>\n",
       "      <th>2822</th>\n",
       "      <td>10414</td>\n",
       "      <td>47</td>\n",
       "      <td>9</td>\n",
       "      <td>3079.44</td>\n",
       "      <td>2005-05-06</td>\n",
       "      <td>On Hold</td>\n",
       "      <td>USA</td>\n",
       "      <td>Medium</td>\n",
       "      <td>0.20</td>\n",
       "      <td>0.5580</td>\n",
       "    </tr>\n",
       "  </tbody>\n",
       "</table>\n",
       "<p>2823 rows × 10 columns</p>\n",
       "</div>"
      ],
      "text/plain": [
       "      ORDERNUMBER  QUANTITYORDERED  ORDERLINENUMBER    SALES  ORDERDATE  \\\n",
       "0           10107               30                2  2871.00 2003-02-24   \n",
       "1           10121               34                5  2765.90 2003-05-07   \n",
       "2           10134               41                2  3884.34 2003-07-01   \n",
       "3           10145               45                6  3746.70 2003-08-25   \n",
       "4           10159               49               14  5205.27 2003-10-10   \n",
       "...           ...              ...              ...      ...        ...   \n",
       "2818        10350               20               15  2244.40 2004-12-02   \n",
       "2819        10373               29                1  3978.51 2005-01-31   \n",
       "2820        10386               43                4  5417.57 2005-03-01   \n",
       "2821        10397               34                1  2116.16 2005-03-28   \n",
       "2822        10414               47                9  3079.44 2005-05-06   \n",
       "\n",
       "        STATUS  COUNTRY DEALSIZE  Discount    Profit  \n",
       "0      Shipped      USA    Small      0.00   41.9136  \n",
       "1      Shipped   France    Small      0.00  219.5820  \n",
       "2      Shipped   France   Medium      0.00    6.8714  \n",
       "3      Shipped      USA   Medium      0.45 -383.0310  \n",
       "4      Shipped      USA   Medium      0.20    2.5164  \n",
       "...        ...      ...      ...       ...       ...  \n",
       "2818   Shipped    Spain    Small      0.00  315.7404  \n",
       "2819   Shipped  Finland   Medium      0.20    2.3520  \n",
       "2820  Resolved    Spain   Medium      0.20    7.4694  \n",
       "2821   Shipped   France    Small      0.20   22.6782  \n",
       "2822   On Hold      USA   Medium      0.20    0.5580  \n",
       "\n",
       "[2823 rows x 10 columns]"
      ]
     },
     "execution_count": 53,
     "metadata": {},
     "output_type": "execute_result"
    }
   ],
   "source": [
    "import pandas as pd\n",
    "\n",
    "df = pd.read_excel('sales_data_sample.xlsx')\n",
    "df"
   ]
  },
  {
   "cell_type": "markdown",
   "metadata": {},
   "source": [
    "#### Câu 1: Mức độ ổn định tăng dần của giá trị đơn hàng "
   ]
  },
  {
   "cell_type": "code",
   "execution_count": 54,
   "metadata": {},
   "outputs": [],
   "source": [
    "# Small , Medium, Large\n",
    "# Xét r --> slot 4: CT 5: suy diễn tuyến tính "
   ]
  },
  {
   "cell_type": "code",
   "execution_count": 55,
   "metadata": {},
   "outputs": [
    {
     "data": {
      "text/html": [
       "<div>\n",
       "<style scoped>\n",
       "    .dataframe tbody tr th:only-of-type {\n",
       "        vertical-align: middle;\n",
       "    }\n",
       "\n",
       "    .dataframe tbody tr th {\n",
       "        vertical-align: top;\n",
       "    }\n",
       "\n",
       "    .dataframe thead th {\n",
       "        text-align: right;\n",
       "    }\n",
       "</style>\n",
       "<table border=\"1\" class=\"dataframe\">\n",
       "  <thead>\n",
       "    <tr style=\"text-align: right;\">\n",
       "      <th></th>\n",
       "      <th>DEALSIZE</th>\n",
       "      <th>mean</th>\n",
       "      <th>std</th>\n",
       "    </tr>\n",
       "  </thead>\n",
       "  <tbody>\n",
       "    <tr>\n",
       "      <th>0</th>\n",
       "      <td>Large</td>\n",
       "      <td>8293.753248</td>\n",
       "      <td>1294.739895</td>\n",
       "    </tr>\n",
       "    <tr>\n",
       "      <th>1</th>\n",
       "      <td>Medium</td>\n",
       "      <td>4398.433699</td>\n",
       "      <td>1047.090148</td>\n",
       "    </tr>\n",
       "    <tr>\n",
       "      <th>2</th>\n",
       "      <td>Small</td>\n",
       "      <td>2061.682800</td>\n",
       "      <td>577.183322</td>\n",
       "    </tr>\n",
       "  </tbody>\n",
       "</table>\n",
       "</div>"
      ],
      "text/plain": [
       "  DEALSIZE         mean          std\n",
       "0    Large  8293.753248  1294.739895\n",
       "1   Medium  4398.433699  1047.090148\n",
       "2    Small  2061.682800   577.183322"
      ]
     },
     "execution_count": 55,
     "metadata": {},
     "output_type": "execute_result"
    }
   ],
   "source": [
    "# Câu 1\n",
    "deal_size_stats = df.groupby('DEALSIZE')['SALES'].agg(['mean', 'std']).reset_index()\n",
    "deal_size_stats\n",
    "\n",
    "# Large , Medium , Small "
   ]
  },
  {
   "cell_type": "markdown",
   "metadata": {},
   "source": [
    "Nhóm Large: Tỷ lệ là  1294.74 /8293.75≈ 0.156\n",
    "\n",
    "Nhóm Medium: Tỷ lệ là 1047.09/4398.43≈0.238\n",
    "\n",
    "Nhóm Small: Tỷ lệ là  577.18 / 2061.68≈0.28\n",
    "\n",
    "--> Nhóm Large có tỷ lệ độ lệch chuẩn so với trung bình thấp nhất (0.156), cho thấy doanh số trong nhóm này biến động ít nhất so với giá trị trung bình của nó, nghĩa là doanh số của nhóm Large ổn định hơn so với các nhóm khác."
   ]
  },
  {
   "cell_type": "markdown",
   "metadata": {},
   "source": [
    "#### Câu 2: Hồi quy tuyến tính phân tích ảnh hưởng của số lượng mua hàng, giá trị bán hàng và giảm giá tác động đến lợi nhuận. Lần lượt tương ứng 50, 2000, 0 01"
   ]
  },
  {
   "cell_type": "code",
   "execution_count": 56,
   "metadata": {},
   "outputs": [
    {
     "name": "stdout",
     "output_type": "stream",
     "text": [
      "                            OLS Regression Results                            \n",
      "==============================================================================\n",
      "Dep. Variable:                      y   R-squared:                       0.064\n",
      "Model:                            OLS   Adj. R-squared:                  0.063\n",
      "Method:                 Least Squares   F-statistic:                     64.21\n",
      "Date:                Sun, 22 Sep 2024   Prob (F-statistic):           3.74e-40\n",
      "Time:                        12:16:37   Log-Likelihood:                -18760.\n",
      "No. Observations:                2823   AIC:                         3.753e+04\n",
      "Df Residuals:                    2819   BIC:                         3.755e+04\n",
      "Df Model:                           3                                         \n",
      "Covariance Type:            nonrobust                                         \n",
      "==============================================================================\n",
      "                 coef    std err          t      P>|t|      [0.025      0.975]\n",
      "------------------------------------------------------------------------------\n",
      "const         54.7781     13.377      4.095      0.000      28.549      81.007\n",
      "x1             0.3367      0.432      0.780      0.435      -0.510       1.183\n",
      "x2            -0.0013      0.002     -0.588      0.557      -0.006       0.003\n",
      "x3          -238.6262     17.257    -13.828      0.000    -272.463    -204.789\n",
      "==============================================================================\n",
      "Omnibus:                     2536.604   Durbin-Watson:                   1.949\n",
      "Prob(Omnibus):                  0.000   Jarque-Bera (JB):          3934610.876\n",
      "Skew:                           2.990   Prob(JB):                         0.00\n",
      "Kurtosis:                     185.797   Cond. No.                     2.02e+04\n",
      "==============================================================================\n",
      "\n",
      "Notes:\n",
      "[1] Standard Errors assume that the covariance matrix of the errors is correctly specified.\n",
      "[2] The condition number is large, 2.02e+04. This might indicate that there are\n",
      "strong multicollinearity or other numerical problems.\n"
     ]
    }
   ],
   "source": [
    "# lượng mua hàng: OrderQuantity : 50\n",
    "# Price : 2000\n",
    "# Discount: 001\n",
    "# Profit\n",
    "import statsmodels.api as sm\n",
    "\n",
    "# Giả sử df có cột dữ liệu M0, M1, M2, M3\n",
    "X_with_constant = sm.add_constant(df[[\"QUANTITYORDERED\", \"SALES\", \"Discount\"]].values)  # Thêm biến M0 vào\n",
    "y = df[['Profit']].values\n",
    "\n",
    "# Thực hiện hồi quy tuyến tính\n",
    "result = sm.OLS(y, X_with_constant).fit()\n",
    "print(result.summary())\n",
    "F_x =   54.7781  +  0.3367  * 50 +  -0.0013  * 2000 + -238.6262 * 0.01\n"
   ]
  },
  {
   "cell_type": "code",
   "execution_count": 57,
   "metadata": {},
   "outputs": [
    {
     "name": "stdout",
     "output_type": "stream",
     "text": [
      "F_x của phương tình hồi quy tuyến tính: 66.626838\n"
     ]
    }
   ],
   "source": [
    "print(f'F_x của phương tình hồi quy tuyến tính: {F_x}')"
   ]
  },
  {
   "cell_type": "markdown",
   "metadata": {},
   "source": [
    "#### Câu 3: Hãy cho biết giá trị độ lệch của mặt hàng sản phẩm "
   ]
  },
  {
   "cell_type": "code",
   "execution_count": 58,
   "metadata": {},
   "outputs": [
    {
     "name": "stdout",
     "output_type": "stream",
     "text": [
      "Skew: 1.161076000881289\n"
     ]
    }
   ],
   "source": [
    "skew_sales= df['SALES'].skew()\n",
    "print(f'Skew: {skew_sales}')"
   ]
  },
  {
   "cell_type": "markdown",
   "metadata": {},
   "source": [
    "#### Câu 4: Hãy cho biết giá trị độ lệch SALES khi đưa vào hàm transform = 1 / (log_x ^2 + 1)"
   ]
  },
  {
   "cell_type": "code",
   "execution_count": 59,
   "metadata": {},
   "outputs": [
    {
     "name": "stdout",
     "output_type": "stream",
     "text": [
      "Transform: 0.7679976616615047\n"
     ]
    }
   ],
   "source": [
    "skew_sales= df['SALES']\n",
    "trasform = 1 / (np.log(df['SALES'])**2 + 1)\n",
    "print(f'Transform: {trasform.skew()}')\n"
   ]
  },
  {
   "cell_type": "markdown",
   "metadata": {},
   "source": [
    "#### Câu 5: Hãy cho biết đơn hàng đặt nhiều nhất\n"
   ]
  },
  {
   "cell_type": "code",
   "execution_count": 60,
   "metadata": {},
   "outputs": [
    {
     "data": {
      "text/plain": [
       "10332    18\n",
       "Name: ORDERNUMBER, dtype: int64"
      ]
     },
     "execution_count": 60,
     "metadata": {},
     "output_type": "execute_result"
    }
   ],
   "source": [
    "df['ORDERNUMBER'].value_counts().head(1)"
   ]
  },
  {
   "cell_type": "markdown",
   "metadata": {},
   "source": [
    "#### Caau 6: Dựa vào biểu đồ scatter cho biết sự tương quan \n"
   ]
  },
  {
   "cell_type": "markdown",
   "metadata": {},
   "source": [
    "<img src='./image.png'></img>"
   ]
  },
  {
   "cell_type": "code",
   "execution_count": 61,
   "metadata": {},
   "outputs": [],
   "source": [
    "# Hướng lên --> Tuong quan thuan\n",
    "#  xuống    --> Tuong quan Nghich\n",
    "# Phan tan --> khong"
   ]
  },
  {
   "cell_type": "markdown",
   "metadata": {},
   "source": [
    "#### Câu 7: Hãy cho biết trung bình doanh số bán hàng của Hold có màu gì "
   ]
  },
  {
   "cell_type": "code",
   "execution_count": 62,
   "metadata": {},
   "outputs": [
    {
     "data": {
      "text/html": [
       "<div>\n",
       "<style scoped>\n",
       "    .dataframe tbody tr th:only-of-type {\n",
       "        vertical-align: middle;\n",
       "    }\n",
       "\n",
       "    .dataframe tbody tr th {\n",
       "        vertical-align: top;\n",
       "    }\n",
       "\n",
       "    .dataframe thead th {\n",
       "        text-align: right;\n",
       "    }\n",
       "</style>\n",
       "<table border=\"1\" class=\"dataframe\">\n",
       "  <thead>\n",
       "    <tr style=\"text-align: right;\">\n",
       "      <th></th>\n",
       "      <th>ORDERNUMBER</th>\n",
       "      <th>QUANTITYORDERED</th>\n",
       "      <th>ORDERLINENUMBER</th>\n",
       "      <th>SALES</th>\n",
       "      <th>ORDERDATE</th>\n",
       "      <th>STATUS</th>\n",
       "      <th>COUNTRY</th>\n",
       "      <th>DEALSIZE</th>\n",
       "      <th>Discount</th>\n",
       "      <th>Profit</th>\n",
       "    </tr>\n",
       "  </thead>\n",
       "  <tbody>\n",
       "    <tr>\n",
       "      <th>0</th>\n",
       "      <td>10107</td>\n",
       "      <td>30</td>\n",
       "      <td>2</td>\n",
       "      <td>2871.00</td>\n",
       "      <td>2003-02-24</td>\n",
       "      <td>Shipped</td>\n",
       "      <td>USA</td>\n",
       "      <td>Small</td>\n",
       "      <td>0.00</td>\n",
       "      <td>41.9136</td>\n",
       "    </tr>\n",
       "    <tr>\n",
       "      <th>1</th>\n",
       "      <td>10121</td>\n",
       "      <td>34</td>\n",
       "      <td>5</td>\n",
       "      <td>2765.90</td>\n",
       "      <td>2003-05-07</td>\n",
       "      <td>Shipped</td>\n",
       "      <td>France</td>\n",
       "      <td>Small</td>\n",
       "      <td>0.00</td>\n",
       "      <td>219.5820</td>\n",
       "    </tr>\n",
       "    <tr>\n",
       "      <th>2</th>\n",
       "      <td>10134</td>\n",
       "      <td>41</td>\n",
       "      <td>2</td>\n",
       "      <td>3884.34</td>\n",
       "      <td>2003-07-01</td>\n",
       "      <td>Shipped</td>\n",
       "      <td>France</td>\n",
       "      <td>Medium</td>\n",
       "      <td>0.00</td>\n",
       "      <td>6.8714</td>\n",
       "    </tr>\n",
       "    <tr>\n",
       "      <th>3</th>\n",
       "      <td>10145</td>\n",
       "      <td>45</td>\n",
       "      <td>6</td>\n",
       "      <td>3746.70</td>\n",
       "      <td>2003-08-25</td>\n",
       "      <td>Shipped</td>\n",
       "      <td>USA</td>\n",
       "      <td>Medium</td>\n",
       "      <td>0.45</td>\n",
       "      <td>-383.0310</td>\n",
       "    </tr>\n",
       "    <tr>\n",
       "      <th>4</th>\n",
       "      <td>10159</td>\n",
       "      <td>49</td>\n",
       "      <td>14</td>\n",
       "      <td>5205.27</td>\n",
       "      <td>2003-10-10</td>\n",
       "      <td>Shipped</td>\n",
       "      <td>USA</td>\n",
       "      <td>Medium</td>\n",
       "      <td>0.20</td>\n",
       "      <td>2.5164</td>\n",
       "    </tr>\n",
       "    <tr>\n",
       "      <th>...</th>\n",
       "      <td>...</td>\n",
       "      <td>...</td>\n",
       "      <td>...</td>\n",
       "      <td>...</td>\n",
       "      <td>...</td>\n",
       "      <td>...</td>\n",
       "      <td>...</td>\n",
       "      <td>...</td>\n",
       "      <td>...</td>\n",
       "      <td>...</td>\n",
       "    </tr>\n",
       "    <tr>\n",
       "      <th>2818</th>\n",
       "      <td>10350</td>\n",
       "      <td>20</td>\n",
       "      <td>15</td>\n",
       "      <td>2244.40</td>\n",
       "      <td>2004-12-02</td>\n",
       "      <td>Shipped</td>\n",
       "      <td>Spain</td>\n",
       "      <td>Small</td>\n",
       "      <td>0.00</td>\n",
       "      <td>315.7404</td>\n",
       "    </tr>\n",
       "    <tr>\n",
       "      <th>2819</th>\n",
       "      <td>10373</td>\n",
       "      <td>29</td>\n",
       "      <td>1</td>\n",
       "      <td>3978.51</td>\n",
       "      <td>2005-01-31</td>\n",
       "      <td>Shipped</td>\n",
       "      <td>Finland</td>\n",
       "      <td>Medium</td>\n",
       "      <td>0.20</td>\n",
       "      <td>2.3520</td>\n",
       "    </tr>\n",
       "    <tr>\n",
       "      <th>2820</th>\n",
       "      <td>10386</td>\n",
       "      <td>43</td>\n",
       "      <td>4</td>\n",
       "      <td>5417.57</td>\n",
       "      <td>2005-03-01</td>\n",
       "      <td>Resolved</td>\n",
       "      <td>Spain</td>\n",
       "      <td>Medium</td>\n",
       "      <td>0.20</td>\n",
       "      <td>7.4694</td>\n",
       "    </tr>\n",
       "    <tr>\n",
       "      <th>2821</th>\n",
       "      <td>10397</td>\n",
       "      <td>34</td>\n",
       "      <td>1</td>\n",
       "      <td>2116.16</td>\n",
       "      <td>2005-03-28</td>\n",
       "      <td>Shipped</td>\n",
       "      <td>France</td>\n",
       "      <td>Small</td>\n",
       "      <td>0.20</td>\n",
       "      <td>22.6782</td>\n",
       "    </tr>\n",
       "    <tr>\n",
       "      <th>2822</th>\n",
       "      <td>10414</td>\n",
       "      <td>47</td>\n",
       "      <td>9</td>\n",
       "      <td>3079.44</td>\n",
       "      <td>2005-05-06</td>\n",
       "      <td>On Hold</td>\n",
       "      <td>USA</td>\n",
       "      <td>Medium</td>\n",
       "      <td>0.20</td>\n",
       "      <td>0.5580</td>\n",
       "    </tr>\n",
       "  </tbody>\n",
       "</table>\n",
       "<p>2823 rows × 10 columns</p>\n",
       "</div>"
      ],
      "text/plain": [
       "      ORDERNUMBER  QUANTITYORDERED  ORDERLINENUMBER    SALES  ORDERDATE  \\\n",
       "0           10107               30                2  2871.00 2003-02-24   \n",
       "1           10121               34                5  2765.90 2003-05-07   \n",
       "2           10134               41                2  3884.34 2003-07-01   \n",
       "3           10145               45                6  3746.70 2003-08-25   \n",
       "4           10159               49               14  5205.27 2003-10-10   \n",
       "...           ...              ...              ...      ...        ...   \n",
       "2818        10350               20               15  2244.40 2004-12-02   \n",
       "2819        10373               29                1  3978.51 2005-01-31   \n",
       "2820        10386               43                4  5417.57 2005-03-01   \n",
       "2821        10397               34                1  2116.16 2005-03-28   \n",
       "2822        10414               47                9  3079.44 2005-05-06   \n",
       "\n",
       "        STATUS  COUNTRY DEALSIZE  Discount    Profit  \n",
       "0      Shipped      USA    Small      0.00   41.9136  \n",
       "1      Shipped   France    Small      0.00  219.5820  \n",
       "2      Shipped   France   Medium      0.00    6.8714  \n",
       "3      Shipped      USA   Medium      0.45 -383.0310  \n",
       "4      Shipped      USA   Medium      0.20    2.5164  \n",
       "...        ...      ...      ...       ...       ...  \n",
       "2818   Shipped    Spain    Small      0.00  315.7404  \n",
       "2819   Shipped  Finland   Medium      0.20    2.3520  \n",
       "2820  Resolved    Spain   Medium      0.20    7.4694  \n",
       "2821   Shipped   France    Small      0.20   22.6782  \n",
       "2822   On Hold      USA   Medium      0.20    0.5580  \n",
       "\n",
       "[2823 rows x 10 columns]"
      ]
     },
     "execution_count": 62,
     "metadata": {},
     "output_type": "execute_result"
    }
   ],
   "source": [
    "df"
   ]
  },
  {
   "cell_type": "code",
   "execution_count": 63,
   "metadata": {},
   "outputs": [
    {
     "data": {
      "image/png": "[encoded data removed]",
      "text/plain": [
       "<Figure size 640x480 with 1 Axes>"
      ]
     },
     "metadata": {},
     "output_type": "display_data"
    }
   ],
   "source": [
    "import numpy as np\n",
    "sns.barplot(x='STATUS', y='SALES', data=df, errorbar=None, estimator=np.mean)\n",
    "plt.show()"
   ]
  },
  {
   "cell_type": "markdown",
   "metadata": {},
   "source": [
    "#### Câu 8: Biểu đồ nào phù hợp định tính \n",
    "##### a: Hist\n",
    "##### b: Pie \n",
    "##### c: Scatter\n",
    "##### e. Bar\n",
    "##### f: Line\n",
    "##### g: Box anf Whisker\n",
    "##### h: Stem anf Leaf"
   ]
  },
  {
   "cell_type": "code",
   "execution_count": 64,
   "metadata": {},
   "outputs": [],
   "source": [
    "# Hist (Histogram): Thường dùng cho dữ liệu định lượng (hiển thị phân bố tần suất), không phù hợp cho phân tích định tính.\n",
    "\n",
    "# Pie (Biểu đồ tròn): Phù hợp. Biểu đồ này giúp bạn hiểu phân bổ tỷ lệ giữa các nhóm trong một tổng thể, rất hữu ích khi bạn muốn biểu diễn phần trăm hay các danh mục.\n",
    "\n",
    "# Scatter (Biểu đồ phân tán): Dùng để hiển thị mối tương quan giữa hai biến định lượng, nên không phù hợp cho định tính.\n",
    "\n",
    "# Bar (Biểu đồ cột): Phù hợp. Dùng để hiển thị sự so sánh giữa các danh mục, rất hữu ích cho dữ liệu định tính như so sánh các nhóm, phân loại.\n",
    "\n",
    "# Line (Biểu đồ đường): Thường dùng cho dữ liệu định lượng hoặc dữ liệu có tính thời gian, không phù hợp cho định tính.\n",
    "\n",
    "# Box and Whisker (Biểu đồ hộp): Chủ yếu để phân tích dữ liệu định lượng và tìm hiểu sự phân phối của dữ liệu, không phù hợp cho định tính.\n",
    "\n",
    "# Stem and Leaf (Biểu đồ thân lá): Cũng là dạng biểu đồ định lượng, hiển thị phân phối dữ liệu số, không phù hợp cho định tính."
   ]
  },
  {
   "cell_type": "code",
   "execution_count": 65,
   "metadata": {},
   "outputs": [],
   "source": [
    "#  b, e"
   ]
  },
  {
   "cell_type": "markdown",
   "metadata": {},
   "source": [
    "#### Câu 9: Hồi quy tuyến tính phân tích ảnh hưởng của số lượng mua hàng, giá trị bán hàng và giảm giá tác động đến lợi nhuận. \n",
    "#### Hãy cho biết có ý nghĩa hay không ?"
   ]
  },
  {
   "cell_type": "markdown",
   "metadata": {},
   "source": [
    "  Prob (F-statistic) =  3.74e-40 > 5% ==> Mo hinh ko y nghi\n"
   ]
  },
  {
   "cell_type": "code",
   "execution_count": 66,
   "metadata": {},
   "outputs": [
    {
     "name": "stdout",
     "output_type": "stream",
     "text": [
      "                            OLS Regression Results                            \n",
      "==============================================================================\n",
      "Dep. Variable:                      y   R-squared:                       0.064\n",
      "Model:                            OLS   Adj. R-squared:                  0.063\n",
      "Method:                 Least Squares   F-statistic:                     64.21\n",
      "Date:                Sun, 22 Sep 2024   Prob (F-statistic):           3.74e-40\n",
      "Time:                        12:16:38   Log-Likelihood:                -18760.\n",
      "No. Observations:                2823   AIC:                         3.753e+04\n",
      "Df Residuals:                    2819   BIC:                         3.755e+04\n",
      "Df Model:                           3                                         \n",
      "Covariance Type:            nonrobust                                         \n",
      "==============================================================================\n",
      "                 coef    std err          t      P>|t|      [0.025      0.975]\n",
      "------------------------------------------------------------------------------\n",
      "const         54.7781     13.377      4.095      0.000      28.549      81.007\n",
      "x1             0.3367      0.432      0.780      0.435      -0.510       1.183\n",
      "x2            -0.0013      0.002     -0.588      0.557      -0.006       0.003\n",
      "x3          -238.6262     17.257    -13.828      0.000    -272.463    -204.789\n",
      "==============================================================================\n",
      "Omnibus:                     2536.604   Durbin-Watson:                   1.949\n",
      "Prob(Omnibus):                  0.000   Jarque-Bera (JB):          3934610.876\n",
      "Skew:                           2.990   Prob(JB):                         0.00\n",
      "Kurtosis:                     185.797   Cond. No.                     2.02e+04\n",
      "==============================================================================\n",
      "\n",
      "Notes:\n",
      "[1] Standard Errors assume that the covariance matrix of the errors is correctly specified.\n",
      "[2] The condition number is large, 2.02e+04. This might indicate that there are\n",
      "strong multicollinearity or other numerical problems.\n"
     ]
    }
   ],
   "source": [
    "# lượng mua hàng: OrderQuantity : 50\n",
    "# Price : 2000\n",
    "# Discount: 001\n",
    "# Profit\n",
    "import statsmodels.api as sm\n",
    "\n",
    "# Giả sử df có cột dữ liệu M0, M1, M2, M3\n",
    "X_with_constant = sm.add_constant(df[[\"QUANTITYORDERED\", \"SALES\", \"Discount\"]].values)  # Thêm biến M0 vào\n",
    "y = df[['Profit']].values\n",
    "\n",
    "# Thực hiện hồi quy tuyến tính\n",
    "result = sm.OLS(y, X_with_constant).fit()\n",
    "print(result.summary())\n",
    "F_x =   54.7781  +  0.3367  * 50 +  -0.0013  * 2000 + -238.6262 * 0.01\n",
    "# R-squared:  0.064 =  0.064 * 100% = 6.4% > 5% moi chap nhan\n",
    "#  Adj. R-squared =  -0.010\n",
    "#   Prob (F-statistic) =  3.74e-40 > 5% ==> Mo hinh ko y nghi\n",
    "#   Prob (F-statistic) < 5% ==> Mo hinh co y nghia\n"
   ]
  },
  {
   "cell_type": "markdown",
   "metadata": {},
   "source": [
    "#### Câu 10: Hãy cho biết dựa vào biểu đồ boxplot về doanh số trên từng nhóm kích thước đặt hàng , nếu dữ liệu thiếu trên nhóm DELSALES = MEdium thì dữ liệu thiếu có thể thay thế bằng ?"
   ]
  },
  {
   "cell_type": "code",
   "execution_count": 67,
   "metadata": {},
   "outputs": [
    {
     "data": {
      "text/html": [
       "<div>\n",
       "<style scoped>\n",
       "    .dataframe tbody tr th:only-of-type {\n",
       "        vertical-align: middle;\n",
       "    }\n",
       "\n",
       "    .dataframe tbody tr th {\n",
       "        vertical-align: top;\n",
       "    }\n",
       "\n",
       "    .dataframe thead th {\n",
       "        text-align: right;\n",
       "    }\n",
       "</style>\n",
       "<table border=\"1\" class=\"dataframe\">\n",
       "  <thead>\n",
       "    <tr style=\"text-align: right;\">\n",
       "      <th></th>\n",
       "      <th>ORDERNUMBER</th>\n",
       "      <th>QUANTITYORDERED</th>\n",
       "      <th>ORDERLINENUMBER</th>\n",
       "      <th>SALES</th>\n",
       "      <th>ORDERDATE</th>\n",
       "      <th>STATUS</th>\n",
       "      <th>COUNTRY</th>\n",
       "      <th>DEALSIZE</th>\n",
       "      <th>Discount</th>\n",
       "      <th>Profit</th>\n",
       "    </tr>\n",
       "  </thead>\n",
       "  <tbody>\n",
       "    <tr>\n",
       "      <th>0</th>\n",
       "      <td>10107</td>\n",
       "      <td>30</td>\n",
       "      <td>2</td>\n",
       "      <td>2871.00</td>\n",
       "      <td>2003-02-24</td>\n",
       "      <td>Shipped</td>\n",
       "      <td>USA</td>\n",
       "      <td>Small</td>\n",
       "      <td>0.00</td>\n",
       "      <td>41.9136</td>\n",
       "    </tr>\n",
       "    <tr>\n",
       "      <th>1</th>\n",
       "      <td>10121</td>\n",
       "      <td>34</td>\n",
       "      <td>5</td>\n",
       "      <td>2765.90</td>\n",
       "      <td>2003-05-07</td>\n",
       "      <td>Shipped</td>\n",
       "      <td>France</td>\n",
       "      <td>Small</td>\n",
       "      <td>0.00</td>\n",
       "      <td>219.5820</td>\n",
       "    </tr>\n",
       "    <tr>\n",
       "      <th>2</th>\n",
       "      <td>10134</td>\n",
       "      <td>41</td>\n",
       "      <td>2</td>\n",
       "      <td>3884.34</td>\n",
       "      <td>2003-07-01</td>\n",
       "      <td>Shipped</td>\n",
       "      <td>France</td>\n",
       "      <td>Medium</td>\n",
       "      <td>0.00</td>\n",
       "      <td>6.8714</td>\n",
       "    </tr>\n",
       "    <tr>\n",
       "      <th>3</th>\n",
       "      <td>10145</td>\n",
       "      <td>45</td>\n",
       "      <td>6</td>\n",
       "      <td>3746.70</td>\n",
       "      <td>2003-08-25</td>\n",
       "      <td>Shipped</td>\n",
       "      <td>USA</td>\n",
       "      <td>Medium</td>\n",
       "      <td>0.45</td>\n",
       "      <td>-383.0310</td>\n",
       "    </tr>\n",
       "    <tr>\n",
       "      <th>4</th>\n",
       "      <td>10159</td>\n",
       "      <td>49</td>\n",
       "      <td>14</td>\n",
       "      <td>5205.27</td>\n",
       "      <td>2003-10-10</td>\n",
       "      <td>Shipped</td>\n",
       "      <td>USA</td>\n",
       "      <td>Medium</td>\n",
       "      <td>0.20</td>\n",
       "      <td>2.5164</td>\n",
       "    </tr>\n",
       "    <tr>\n",
       "      <th>...</th>\n",
       "      <td>...</td>\n",
       "      <td>...</td>\n",
       "      <td>...</td>\n",
       "      <td>...</td>\n",
       "      <td>...</td>\n",
       "      <td>...</td>\n",
       "      <td>...</td>\n",
       "      <td>...</td>\n",
       "      <td>...</td>\n",
       "      <td>...</td>\n",
       "    </tr>\n",
       "    <tr>\n",
       "      <th>2818</th>\n",
       "      <td>10350</td>\n",
       "      <td>20</td>\n",
       "      <td>15</td>\n",
       "      <td>2244.40</td>\n",
       "      <td>2004-12-02</td>\n",
       "      <td>Shipped</td>\n",
       "      <td>Spain</td>\n",
       "      <td>Small</td>\n",
       "      <td>0.00</td>\n",
       "      <td>315.7404</td>\n",
       "    </tr>\n",
       "    <tr>\n",
       "      <th>2819</th>\n",
       "      <td>10373</td>\n",
       "      <td>29</td>\n",
       "      <td>1</td>\n",
       "      <td>3978.51</td>\n",
       "      <td>2005-01-31</td>\n",
       "      <td>Shipped</td>\n",
       "      <td>Finland</td>\n",
       "      <td>Medium</td>\n",
       "      <td>0.20</td>\n",
       "      <td>2.3520</td>\n",
       "    </tr>\n",
       "    <tr>\n",
       "      <th>2820</th>\n",
       "      <td>10386</td>\n",
       "      <td>43</td>\n",
       "      <td>4</td>\n",
       "      <td>5417.57</td>\n",
       "      <td>2005-03-01</td>\n",
       "      <td>Resolved</td>\n",
       "      <td>Spain</td>\n",
       "      <td>Medium</td>\n",
       "      <td>0.20</td>\n",
       "      <td>7.4694</td>\n",
       "    </tr>\n",
       "    <tr>\n",
       "      <th>2821</th>\n",
       "      <td>10397</td>\n",
       "      <td>34</td>\n",
       "      <td>1</td>\n",
       "      <td>2116.16</td>\n",
       "      <td>2005-03-28</td>\n",
       "      <td>Shipped</td>\n",
       "      <td>France</td>\n",
       "      <td>Small</td>\n",
       "      <td>0.20</td>\n",
       "      <td>22.6782</td>\n",
       "    </tr>\n",
       "    <tr>\n",
       "      <th>2822</th>\n",
       "      <td>10414</td>\n",
       "      <td>47</td>\n",
       "      <td>9</td>\n",
       "      <td>3079.44</td>\n",
       "      <td>2005-05-06</td>\n",
       "      <td>On Hold</td>\n",
       "      <td>USA</td>\n",
       "      <td>Medium</td>\n",
       "      <td>0.20</td>\n",
       "      <td>0.5580</td>\n",
       "    </tr>\n",
       "  </tbody>\n",
       "</table>\n",
       "<p>2823 rows × 10 columns</p>\n",
       "</div>"
      ],
      "text/plain": [
       "      ORDERNUMBER  QUANTITYORDERED  ORDERLINENUMBER    SALES  ORDERDATE  \\\n",
       "0           10107               30                2  2871.00 2003-02-24   \n",
       "1           10121               34                5  2765.90 2003-05-07   \n",
       "2           10134               41                2  3884.34 2003-07-01   \n",
       "3           10145               45                6  3746.70 2003-08-25   \n",
       "4           10159               49               14  5205.27 2003-10-10   \n",
       "...           ...              ...              ...      ...        ...   \n",
       "2818        10350               20               15  2244.40 2004-12-02   \n",
       "2819        10373               29                1  3978.51 2005-01-31   \n",
       "2820        10386               43                4  5417.57 2005-03-01   \n",
       "2821        10397               34                1  2116.16 2005-03-28   \n",
       "2822        10414               47                9  3079.44 2005-05-06   \n",
       "\n",
       "        STATUS  COUNTRY DEALSIZE  Discount    Profit  \n",
       "0      Shipped      USA    Small      0.00   41.9136  \n",
       "1      Shipped   France    Small      0.00  219.5820  \n",
       "2      Shipped   France   Medium      0.00    6.8714  \n",
       "3      Shipped      USA   Medium      0.45 -383.0310  \n",
       "4      Shipped      USA   Medium      0.20    2.5164  \n",
       "...        ...      ...      ...       ...       ...  \n",
       "2818   Shipped    Spain    Small      0.00  315.7404  \n",
       "2819   Shipped  Finland   Medium      0.20    2.3520  \n",
       "2820  Resolved    Spain   Medium      0.20    7.4694  \n",
       "2821   Shipped   France    Small      0.20   22.6782  \n",
       "2822   On Hold      USA   Medium      0.20    0.5580  \n",
       "\n",
       "[2823 rows x 10 columns]"
      ]
     },
     "execution_count": 67,
     "metadata": {},
     "output_type": "execute_result"
    }
   ],
   "source": [
    "df"
   ]
  },
  {
   "cell_type": "markdown",
   "metadata": {},
   "source": [
    "#### Câu 11 : Hãy cho biết mối tương quan giữu ORDERQUANTY va SALES "
   ]
  },
  {
   "cell_type": "code",
   "execution_count": 68,
   "metadata": {},
   "outputs": [
    {
     "name": "stderr",
     "output_type": "stream",
     "text": [
      "C:\\Users\\LENOVO\\AppData\\Local\\Temp\\ipykernel_22940\\280123026.py:2: DeprecationWarning: Please use `pearsonr` from the `scipy.stats` namespace, the `scipy.stats.stats` namespace is deprecated.\n",
      "  from scipy.stats.stats import pearsonr\n"
     ]
    },
    {
     "data": {
      "text/plain": [
       "PearsonRResult(statistic=0.5514261919183585, pvalue=2.3595947970311953e-224)"
      ]
     },
     "execution_count": 68,
     "metadata": {},
     "output_type": "execute_result"
    }
   ],
   "source": [
    "# Cau 3: M2 va M3 co tuong quan khong\n",
    "from scipy.stats.stats import pearsonr\n",
    "\n",
    "pearsonr(df['QUANTITYORDERED'], df['SALES'])\n",
    "#  p < 0.05 --> r = 0.5514261919183585 > 0 tương quan thuận "
   ]
  },
  {
   "cell_type": "markdown",
   "metadata": {},
   "source": [
    "#### Câu 12: delimiter = coman , Tab, Space, Pipe   , Colon, Slash"
   ]
  },
  {
   "cell_type": "markdown",
   "metadata": {},
   "source": [
    "#### Câu 13: Hãy cho biết biến DELSIZE thuộc thang đo nào ?"
   ]
  },
  {
   "cell_type": "code",
   "execution_count": 69,
   "metadata": {},
   "outputs": [
    {
     "data": {
      "text/plain": [
       "Medium    1384\n",
       "Small     1282\n",
       "Large      157\n",
       "Name: DEALSIZE, dtype: int64"
      ]
     },
     "execution_count": 69,
     "metadata": {},
     "output_type": "execute_result"
    }
   ],
   "source": [
    "df['DEALSIZE'].value_counts()\n",
    "# --> Phan loai"
   ]
  },
  {
   "cell_type": "markdown",
   "metadata": {},
   "source": [
    "#### Câu 14: Nếu sử dụng One HOt Coding để số hóa dữ liệu DEALSIZE  thì kết quá cuối cùng là ?"
   ]
  },
  {
   "cell_type": "code",
   "execution_count": 70,
   "metadata": {},
   "outputs": [
    {
     "name": "stdout",
     "output_type": "stream",
     "text": [
      "   DEALSIZE_Large  DEALSIZE_Medium  DEALSIZE_Small\n",
      "0               0                0               1\n",
      "1               0                1               0\n",
      "2               1                0               0\n",
      "3               0                0               1\n",
      "4               0                1               0\n"
     ]
    }
   ],
   "source": [
    "import pandas as pd\n",
    "\n",
    "# Giả sử dữ liệu\n",
    "data = {'DEALSIZE': ['Small', 'Medium', 'Large', 'Small', 'Medium']}\n",
    "a = pd.DataFrame(data)\n",
    "\n",
    "# Áp dụng One-Hot Encoding\n",
    "df_encoded = pd.get_dummies(a, columns=['DEALSIZE'])\n",
    "\n",
    "# Hiển thị kết quả\n",
    "print(df_encoded)\n"
   ]
  },
  {
   "cell_type": "markdown",
   "metadata": {},
   "source": [
    "#### Câu 15: Có mối quan hệ nào giữua trạng thái giao hàng và đặt hàng không ?\n"
   ]
  },
  {
   "cell_type": "code",
   "execution_count": 71,
   "metadata": {},
   "outputs": [
    {
     "data": {
      "text/html": [
       "<div>\n",
       "<style scoped>\n",
       "    .dataframe tbody tr th:only-of-type {\n",
       "        vertical-align: middle;\n",
       "    }\n",
       "\n",
       "    .dataframe tbody tr th {\n",
       "        vertical-align: top;\n",
       "    }\n",
       "\n",
       "    .dataframe thead th {\n",
       "        text-align: right;\n",
       "    }\n",
       "</style>\n",
       "<table border=\"1\" class=\"dataframe\">\n",
       "  <thead>\n",
       "    <tr style=\"text-align: right;\">\n",
       "      <th></th>\n",
       "      <th>ORDERNUMBER</th>\n",
       "      <th>QUANTITYORDERED</th>\n",
       "      <th>ORDERLINENUMBER</th>\n",
       "      <th>SALES</th>\n",
       "      <th>ORDERDATE</th>\n",
       "      <th>STATUS</th>\n",
       "      <th>COUNTRY</th>\n",
       "      <th>DEALSIZE</th>\n",
       "      <th>Discount</th>\n",
       "      <th>Profit</th>\n",
       "    </tr>\n",
       "  </thead>\n",
       "  <tbody>\n",
       "    <tr>\n",
       "      <th>0</th>\n",
       "      <td>10107</td>\n",
       "      <td>30</td>\n",
       "      <td>2</td>\n",
       "      <td>2871.00</td>\n",
       "      <td>2003-02-24</td>\n",
       "      <td>Shipped</td>\n",
       "      <td>USA</td>\n",
       "      <td>Small</td>\n",
       "      <td>0.00</td>\n",
       "      <td>41.9136</td>\n",
       "    </tr>\n",
       "    <tr>\n",
       "      <th>1</th>\n",
       "      <td>10121</td>\n",
       "      <td>34</td>\n",
       "      <td>5</td>\n",
       "      <td>2765.90</td>\n",
       "      <td>2003-05-07</td>\n",
       "      <td>Shipped</td>\n",
       "      <td>France</td>\n",
       "      <td>Small</td>\n",
       "      <td>0.00</td>\n",
       "      <td>219.5820</td>\n",
       "    </tr>\n",
       "    <tr>\n",
       "      <th>2</th>\n",
       "      <td>10134</td>\n",
       "      <td>41</td>\n",
       "      <td>2</td>\n",
       "      <td>3884.34</td>\n",
       "      <td>2003-07-01</td>\n",
       "      <td>Shipped</td>\n",
       "      <td>France</td>\n",
       "      <td>Medium</td>\n",
       "      <td>0.00</td>\n",
       "      <td>6.8714</td>\n",
       "    </tr>\n",
       "    <tr>\n",
       "      <th>3</th>\n",
       "      <td>10145</td>\n",
       "      <td>45</td>\n",
       "      <td>6</td>\n",
       "      <td>3746.70</td>\n",
       "      <td>2003-08-25</td>\n",
       "      <td>Shipped</td>\n",
       "      <td>USA</td>\n",
       "      <td>Medium</td>\n",
       "      <td>0.45</td>\n",
       "      <td>-383.0310</td>\n",
       "    </tr>\n",
       "    <tr>\n",
       "      <th>4</th>\n",
       "      <td>10159</td>\n",
       "      <td>49</td>\n",
       "      <td>14</td>\n",
       "      <td>5205.27</td>\n",
       "      <td>2003-10-10</td>\n",
       "      <td>Shipped</td>\n",
       "      <td>USA</td>\n",
       "      <td>Medium</td>\n",
       "      <td>0.20</td>\n",
       "      <td>2.5164</td>\n",
       "    </tr>\n",
       "    <tr>\n",
       "      <th>...</th>\n",
       "      <td>...</td>\n",
       "      <td>...</td>\n",
       "      <td>...</td>\n",
       "      <td>...</td>\n",
       "      <td>...</td>\n",
       "      <td>...</td>\n",
       "      <td>...</td>\n",
       "      <td>...</td>\n",
       "      <td>...</td>\n",
       "      <td>...</td>\n",
       "    </tr>\n",
       "    <tr>\n",
       "      <th>2818</th>\n",
       "      <td>10350</td>\n",
       "      <td>20</td>\n",
       "      <td>15</td>\n",
       "      <td>2244.40</td>\n",
       "      <td>2004-12-02</td>\n",
       "      <td>Shipped</td>\n",
       "      <td>Spain</td>\n",
       "      <td>Small</td>\n",
       "      <td>0.00</td>\n",
       "      <td>315.7404</td>\n",
       "    </tr>\n",
       "    <tr>\n",
       "      <th>2819</th>\n",
       "      <td>10373</td>\n",
       "      <td>29</td>\n",
       "      <td>1</td>\n",
       "      <td>3978.51</td>\n",
       "      <td>2005-01-31</td>\n",
       "      <td>Shipped</td>\n",
       "      <td>Finland</td>\n",
       "      <td>Medium</td>\n",
       "      <td>0.20</td>\n",
       "      <td>2.3520</td>\n",
       "    </tr>\n",
       "    <tr>\n",
       "      <th>2820</th>\n",
       "      <td>10386</td>\n",
       "      <td>43</td>\n",
       "      <td>4</td>\n",
       "      <td>5417.57</td>\n",
       "      <td>2005-03-01</td>\n",
       "      <td>Resolved</td>\n",
       "      <td>Spain</td>\n",
       "      <td>Medium</td>\n",
       "      <td>0.20</td>\n",
       "      <td>7.4694</td>\n",
       "    </tr>\n",
       "    <tr>\n",
       "      <th>2821</th>\n",
       "      <td>10397</td>\n",
       "      <td>34</td>\n",
       "      <td>1</td>\n",
       "      <td>2116.16</td>\n",
       "      <td>2005-03-28</td>\n",
       "      <td>Shipped</td>\n",
       "      <td>France</td>\n",
       "      <td>Small</td>\n",
       "      <td>0.20</td>\n",
       "      <td>22.6782</td>\n",
       "    </tr>\n",
       "    <tr>\n",
       "      <th>2822</th>\n",
       "      <td>10414</td>\n",
       "      <td>47</td>\n",
       "      <td>9</td>\n",
       "      <td>3079.44</td>\n",
       "      <td>2005-05-06</td>\n",
       "      <td>On Hold</td>\n",
       "      <td>USA</td>\n",
       "      <td>Medium</td>\n",
       "      <td>0.20</td>\n",
       "      <td>0.5580</td>\n",
       "    </tr>\n",
       "  </tbody>\n",
       "</table>\n",
       "<p>2823 rows × 10 columns</p>\n",
       "</div>"
      ],
      "text/plain": [
       "      ORDERNUMBER  QUANTITYORDERED  ORDERLINENUMBER    SALES  ORDERDATE  \\\n",
       "0           10107               30                2  2871.00 2003-02-24   \n",
       "1           10121               34                5  2765.90 2003-05-07   \n",
       "2           10134               41                2  3884.34 2003-07-01   \n",
       "3           10145               45                6  3746.70 2003-08-25   \n",
       "4           10159               49               14  5205.27 2003-10-10   \n",
       "...           ...              ...              ...      ...        ...   \n",
       "2818        10350               20               15  2244.40 2004-12-02   \n",
       "2819        10373               29                1  3978.51 2005-01-31   \n",
       "2820        10386               43                4  5417.57 2005-03-01   \n",
       "2821        10397               34                1  2116.16 2005-03-28   \n",
       "2822        10414               47                9  3079.44 2005-05-06   \n",
       "\n",
       "        STATUS  COUNTRY DEALSIZE  Discount    Profit  \n",
       "0      Shipped      USA    Small      0.00   41.9136  \n",
       "1      Shipped   France    Small      0.00  219.5820  \n",
       "2      Shipped   France   Medium      0.00    6.8714  \n",
       "3      Shipped      USA   Medium      0.45 -383.0310  \n",
       "4      Shipped      USA   Medium      0.20    2.5164  \n",
       "...        ...      ...      ...       ...       ...  \n",
       "2818   Shipped    Spain    Small      0.00  315.7404  \n",
       "2819   Shipped  Finland   Medium      0.20    2.3520  \n",
       "2820  Resolved    Spain   Medium      0.20    7.4694  \n",
       "2821   Shipped   France    Small      0.20   22.6782  \n",
       "2822   On Hold      USA   Medium      0.20    0.5580  \n",
       "\n",
       "[2823 rows x 10 columns]"
      ]
     },
     "execution_count": 71,
     "metadata": {},
     "output_type": "execute_result"
    }
   ],
   "source": [
    "df"
   ]
  },
  {
   "cell_type": "code",
   "execution_count": 72,
   "metadata": {},
   "outputs": [
    {
     "data": {
      "text/html": [
       "<div>\n",
       "<style scoped>\n",
       "    .dataframe tbody tr th:only-of-type {\n",
       "        vertical-align: middle;\n",
       "    }\n",
       "\n",
       "    .dataframe tbody tr th {\n",
       "        vertical-align: top;\n",
       "    }\n",
       "\n",
       "    .dataframe thead th {\n",
       "        text-align: right;\n",
       "    }\n",
       "</style>\n",
       "<table border=\"1\" class=\"dataframe\">\n",
       "  <thead>\n",
       "    <tr style=\"text-align: right;\">\n",
       "      <th></th>\n",
       "      <th>df</th>\n",
       "      <th>sum_sq</th>\n",
       "      <th>mean_sq</th>\n",
       "      <th>F</th>\n",
       "      <th>PR(&gt;F)</th>\n",
       "    </tr>\n",
       "  </thead>\n",
       "  <tbody>\n",
       "    <tr>\n",
       "      <th>STATUS</th>\n",
       "      <td>5.0</td>\n",
       "      <td>3562.031394</td>\n",
       "      <td>712.406279</td>\n",
       "      <td>7.594977</td>\n",
       "      <td>4.252819e-07</td>\n",
       "    </tr>\n",
       "    <tr>\n",
       "      <th>Residual</th>\n",
       "      <td>2817.0</td>\n",
       "      <td>264233.652630</td>\n",
       "      <td>93.799664</td>\n",
       "      <td>NaN</td>\n",
       "      <td>NaN</td>\n",
       "    </tr>\n",
       "  </tbody>\n",
       "</table>\n",
       "</div>"
      ],
      "text/plain": [
       "              df         sum_sq     mean_sq         F        PR(>F)\n",
       "STATUS       5.0    3562.031394  712.406279  7.594977  4.252819e-07\n",
       "Residual  2817.0  264233.652630   93.799664       NaN           NaN"
      ]
     },
     "execution_count": 72,
     "metadata": {},
     "output_type": "execute_result"
    }
   ],
   "source": [
    "# QUANTITYORDERED co phu thuoc STATUS\n",
    "import statsmodels.api as sm\n",
    "\n",
    "from statsmodels.formula.api import ols\n",
    "\n",
    "model = ols('QUANTITYORDERED ~ STATUS', data=df).fit()\n",
    "aov_table = sm.stats.anova_lm(model, typ=1)\n",
    "aov_table\n",
    "# p_value = 4.252819e-07 < 0.05 --> reject --> Phu thuoc"
   ]
  },
  {
   "cell_type": "markdown",
   "metadata": {},
   "source": [
    "#### Cau 16:"
   ]
  },
  {
   "cell_type": "markdown",
   "metadata": {},
   "source": [
    "Trong đó:\n",
    "- Z là giá trị sau chuẩn hóa (0.25)\n",
    "\n",
    "- X là giá trị trước chuẩn hóa\n",
    "- μ là giá trị trung **bình**\n",
    "\n",
    "- σ là độ lệch chuẩn"
   ]
  },
  {
   "cell_type": "code",
   "execution_count": 73,
   "metadata": {},
   "outputs": [
    {
     "name": "stdout",
     "output_type": "stream",
     "text": [
      "Gia tri SALES truoc chuan hoa: 4014.355348344361\n"
     ]
    }
   ],
   "source": [
    "# z = 0.25 \n",
    "#  u = \n",
    "mean_sales = df['SALES'].mean()\n",
    "\n",
    "# o = \n",
    "std_sales = df['SALES'].std()\n",
    "# X = Z * o + u \n",
    "x = 0.25 * std_sales + mean_sales\n",
    "print(f'Gia tri SALES truoc chuan hoa: {x}') \n"
   ]
  },
  {
   "cell_type": "markdown",
   "metadata": {},
   "source": [
    "#### Câu 17: Nếu sử dụng Min MAX scalar cho SALES có index từ 50 đến 59 thành bao nhiêu ?\n"
   ]
  },
  {
   "cell_type": "markdown",
   "metadata": {},
   "source": [
    "X = X −X _min /  X_max−X _min\n",
    "​\n",
    " \n",
    "​\n",
    " \n",
    "X: Giá trị gốc của dữ liệu.\n",
    "X_{\\min}: Giá trị nhỏ nhất trong tập dữ liệu.\n",
    "X_{\\max}: Giá trị lớn nhất trong tập dữ liệu."
   ]
  },
  {
   "cell_type": "code",
   "execution_count": 74,
   "metadata": {},
   "outputs": [
    {
     "data": {
      "text/html": [
       "<div>\n",
       "<style scoped>\n",
       "    .dataframe tbody tr th:only-of-type {\n",
       "        vertical-align: middle;\n",
       "    }\n",
       "\n",
       "    .dataframe tbody tr th {\n",
       "        vertical-align: top;\n",
       "    }\n",
       "\n",
       "    .dataframe thead th {\n",
       "        text-align: right;\n",
       "    }\n",
       "</style>\n",
       "<table border=\"1\" class=\"dataframe\">\n",
       "  <thead>\n",
       "    <tr style=\"text-align: right;\">\n",
       "      <th></th>\n",
       "      <th>SALES</th>\n",
       "    </tr>\n",
       "  </thead>\n",
       "  <tbody>\n",
       "    <tr>\n",
       "      <th>50</th>\n",
       "      <td>0.571492</td>\n",
       "    </tr>\n",
       "    <tr>\n",
       "      <th>51</th>\n",
       "      <td>0.142230</td>\n",
       "    </tr>\n",
       "    <tr>\n",
       "      <th>52</th>\n",
       "      <td>0.268965</td>\n",
       "    </tr>\n",
       "    <tr>\n",
       "      <th>53</th>\n",
       "      <td>0.846934</td>\n",
       "    </tr>\n",
       "    <tr>\n",
       "      <th>54</th>\n",
       "      <td>0.251044</td>\n",
       "    </tr>\n",
       "    <tr>\n",
       "      <th>55</th>\n",
       "      <td>0.169972</td>\n",
       "    </tr>\n",
       "    <tr>\n",
       "      <th>56</th>\n",
       "      <td>0.207757</td>\n",
       "    </tr>\n",
       "    <tr>\n",
       "      <th>57</th>\n",
       "      <td>0.346367</td>\n",
       "    </tr>\n",
       "    <tr>\n",
       "      <th>58</th>\n",
       "      <td>0.333417</td>\n",
       "    </tr>\n",
       "    <tr>\n",
       "      <th>59</th>\n",
       "      <td>0.233724</td>\n",
       "    </tr>\n",
       "  </tbody>\n",
       "</table>\n",
       "</div>"
      ],
      "text/plain": [
       "       SALES\n",
       "50  0.571492\n",
       "51  0.142230\n",
       "52  0.268965\n",
       "53  0.846934\n",
       "54  0.251044\n",
       "55  0.169972\n",
       "56  0.207757\n",
       "57  0.346367\n",
       "58  0.333417\n",
       "59  0.233724"
      ]
     },
     "execution_count": 74,
     "metadata": {},
     "output_type": "execute_result"
    }
   ],
   "source": [
    "from sklearn.preprocessing import StandardScaler, MinMaxScaler, MaxAbsScaler, OneHotEncoder, LabelBinarizer\n",
    "scaler = MinMaxScaler()\n",
    "\n",
    "scaled = scaler.fit_transform(df[['SALES']])\n",
    "\n",
    "scaled_df = pd.DataFrame(scaled, columns=df[['SALES']].columns)\n",
    "\n",
    "scaled_df[50:60]\n"
   ]
  },
  {
   "cell_type": "markdown",
   "metadata": {},
   "source": [
    "####  Câu 18: Hồi quy tuyến tính phân tích ảnh hưởng của số lượng mua hàng, giá trị bán hàng và giảm giá tác động đến lợi nhuận. Hãy cho biết thứ tự mức độ tác động từ cao đến thấp phụ thuộc "
   ]
  },
  {
   "cell_type": "code",
   "execution_count": 75,
   "metadata": {},
   "outputs": [
    {
     "name": "stdout",
     "output_type": "stream",
     "text": [
      "19\n"
     ]
    }
   ],
   "source": [
    "unique_countries = df['COUNTRY'].nunique()\n",
    "print(unique_countries)"
   ]
  },
  {
   "cell_type": "markdown",
   "metadata": {},
   "source": [
    "#### Câu 19: Hãy cho biết có bao nhêu đơn hàng đặt hàng công ty ABC"
   ]
  },
  {
   "cell_type": "code",
   "execution_count": 1,
   "metadata": {},
   "outputs": [
    {
     "ename": "NameError",
     "evalue": "name 'df' is not defined",
     "output_type": "error",
     "traceback": [
      "\u001b[1;31m---------------------------------------------------------------------------\u001b[0m",
      "\u001b[1;31mNameError\u001b[0m                                 Traceback (most recent call last)",
      "Cell \u001b[1;32mIn[1], line 1\u001b[0m\n\u001b[1;32m----> 1\u001b[0m df[\u001b[38;5;124m'\u001b[39m\u001b[38;5;124mORDERNUMBER\u001b[39m\u001b[38;5;124m'\u001b[39m]\u001b[38;5;241m.\u001b[39mvalue_counts()\u001b[38;5;241m.\u001b[39mhead(\u001b[38;5;241m1\u001b[39m)\n",
      "\u001b[1;31mNameError\u001b[0m: name 'df' is not defined"
     ]
    }
   ],
   "source": [
    "df['ORDERNUMBER'].value_counts().head(1)"
   ]
  },
  {
   "cell_type": "markdown",
   "metadata": {},
   "source": [
    "\n",
    "unique_countries = df['COUNTRY'].nunique()\n",
    "print(unique_countries)"
   ]
  }
 ],
 "metadata": {
  "kernelspec": {
   "display_name": "base",
   "language": "python",
   "name": "python3"
  },
  "language_info": {
   "codemirror_mode": {
    "name": "ipython",
    "version": 3
   },
   "file_extension": ".py",
   "mimetype": "text/x-python",
   "name": "python",
   "nbconvert_exporter": "python",
   "pygments_lexer": "ipython3",
   "version": "3.11.4"
  }
 },
 "nbformat": 4,
 "nbformat_minor": 2
}
