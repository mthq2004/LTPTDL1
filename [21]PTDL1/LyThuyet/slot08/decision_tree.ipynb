{
 "cells": [
  {
   "cell_type": "code",
   "execution_count": null,
   "metadata": {},
   "outputs": [],
   "source": [
    "# Entropy nhỏ --> IG lớn --> Chọn tách trước "
   ]
  },
  {
   "cell_type": "markdown",
   "metadata": {},
   "source": [
    "#### Bước 1: Import các thư viện cần thiết"
   ]
  },
  {
   "cell_type": "code",
   "execution_count": null,
   "metadata": {},
   "outputs": [],
   "source": [
    "from sklearn.tree import DecisionTreeClassifier, plot_tree\n",
    "import matplotlib.pyplot as plt\n"
   ]
  },
  {
   "cell_type": "markdown",
   "metadata": {},
   "source": [
    "#### Bước 2: Chuẩn bị dữ liệu\n",
    "Giả sử bạn đã có dữ liệu huấn luyện (X_train, y_train). Dưới đây là ví dụ về cách bạn có thể sử dụng bộ dữ liệu mẫu, nhưng trong thực tế, bạn nên sử dụng bộ dữ liệu của mình."
   ]
  },
  {
   "cell_type": "code",
   "execution_count": null,
   "metadata": {},
   "outputs": [],
   "source": [
    "from sklearn.datasets import load_iris\n",
    "from sklearn.model_selection import train_test_split\n",
    "\n",
    "# Load bộ dữ liệu mẫu Iris\n",
    "iris = load_iris()\n",
    "X = iris.data\n",
    "y = iris.target\n",
    "\n",
    "# Chia dữ liệu thành tập huấn luyện và tập kiểm tra\n",
    "X_train, X_test, y_train, y_test = train_test_split(X, y, test_size=0.3, random_state=42)\n"
   ]
  },
  {
   "cell_type": "markdown",
   "metadata": {},
   "source": [
    "#### Bước 3: Xây dựng mô hình cây quyết định"
   ]
  },
  {
   "cell_type": "code",
   "execution_count": null,
   "metadata": {},
   "outputs": [],
   "source": [
    "# Tạo mô hình Decision Tree Classifier\n",
    "modelDT = DecisionTreeClassifier(random_state=42)\n",
    "\n",
    "# Huấn luyện mô hình\n",
    "modelDT.fit(X_train, y_train)\n"
   ]
  },
  {
   "cell_type": "markdown",
   "metadata": {},
   "source": [
    "#### Bước 4: Hiển thị cây quyết định\n",
    "Sử dụng đoạn mã bạn đã cung cấp để vẽ cây quyết định:"
   ]
  },
  {
   "cell_type": "code",
   "execution_count": null,
   "metadata": {},
   "outputs": [],
   "source": [
    "# Convert feature columns to a list of strings\n",
    "feature_cols = list(iris.feature_names)\n",
    "\n",
    "# Convert class names to a list of strings\n",
    "class_names = list(iris.target_names)\n",
    "\n",
    "# Plot the decision tree\n",
    "plt.figure(figsize=(15, 10))\n",
    "plot_tree(modelDT, feature_names=feature_cols, \n",
    "          class_names=class_names, fontsize=12, filled=True)\n",
    "\n",
    "plt.show()\n"
   ]
  },
  {
   "cell_type": "markdown",
   "metadata": {},
   "source": [
    "<p>Chú thích: \n",
    "<p>Mua: 0: Đây là lớp 0 trong tập dữ liệu.\n",
    "<p>Nang: 1: Đây là lớp 1 trong tập dữ liệu.\n",
    "<p>U am: 2: Đây là lớp 2 trong tập dữ liệu.\n",
    "<p>Chiều cao cây: 3: Chiều cao của cây được thể hiện trong phần đồ thị.\n",
    "<p>Kết quả là bạn sẽ thấy hình ảnh của cây quyết định, với các nút biểu diễn các điều kiện quyết định và các lá biểu diễn các kết quả dự đoán."
   ]
  }
 ],
 "metadata": {
  "language_info": {
   "name": "python"
  }
 },
 "nbformat": 4,
 "nbformat_minor": 2
}
