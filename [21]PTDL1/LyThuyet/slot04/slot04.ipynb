{
 "cells": [
  {
   "cell_type": "code",
   "execution_count": 49,
   "metadata": {},
   "outputs": [],
   "source": [
    "# Dinh tinh: count ~ normal\n",
    "# Dinh luong: min , max , std , sum , count (ko thuong)\n",
    "# Cong thuc 1, 2 , 3 , 4 , 5 : p_value > alpha --> accpect\n",
    "#              6, 7          : p_value >alpha --> reject\n",
    "# Vi du: dinh tinh \n",
    "# - Giới tính (Nam, Nữ)\n",
    "# - Màu sắc (Xanh, Đỏ, Vàng)\n",
    "# - Mức độ hài lòng (Kém, Trung bình, Tốt)\n",
    "#H0: Giả thiết suy diễn\n",
    "# alpha: mức sai lần: 10% 5% 1%\n",
    "# độ tin cậy: 90% 95% 99%"
   ]
  },
  {
   "cell_type": "code",
   "execution_count": 50,
   "metadata": {},
   "outputs": [
    {
     "data": {
      "text/html": [
       "<div>\n",
       "<style scoped>\n",
       "    .dataframe tbody tr th:only-of-type {\n",
       "        vertical-align: middle;\n",
       "    }\n",
       "\n",
       "    .dataframe tbody tr th {\n",
       "        vertical-align: top;\n",
       "    }\n",
       "\n",
       "    .dataframe thead th {\n",
       "        text-align: right;\n",
       "    }\n",
       "</style>\n",
       "<table border=\"1\" class=\"dataframe\">\n",
       "  <thead>\n",
       "    <tr style=\"text-align: right;\">\n",
       "      <th></th>\n",
       "      <th>MSSV</th>\n",
       "      <th>GT</th>\n",
       "      <th>DT</th>\n",
       "      <th>KV</th>\n",
       "      <th>M1</th>\n",
       "      <th>M2</th>\n",
       "      <th>M3</th>\n",
       "      <th>KT</th>\n",
       "      <th>NGAYTHI</th>\n",
       "      <th>DINHHUONGNGHENGHIEP</th>\n",
       "    </tr>\n",
       "  </thead>\n",
       "  <tbody>\n",
       "    <tr>\n",
       "      <th>0</th>\n",
       "      <td>SV001</td>\n",
       "      <td>F</td>\n",
       "      <td>NaN</td>\n",
       "      <td>2NT</td>\n",
       "      <td>3.25</td>\n",
       "      <td>3.25</td>\n",
       "      <td>4.50</td>\n",
       "      <td>A1</td>\n",
       "      <td>12/7/2018</td>\n",
       "      <td>No</td>\n",
       "    </tr>\n",
       "    <tr>\n",
       "      <th>1</th>\n",
       "      <td>SV002</td>\n",
       "      <td>M</td>\n",
       "      <td>NaN</td>\n",
       "      <td>1</td>\n",
       "      <td>6.00</td>\n",
       "      <td>4.00</td>\n",
       "      <td>3.50</td>\n",
       "      <td>C</td>\n",
       "      <td>12/7/2018</td>\n",
       "      <td>Yes</td>\n",
       "    </tr>\n",
       "    <tr>\n",
       "      <th>2</th>\n",
       "      <td>SV003</td>\n",
       "      <td>M</td>\n",
       "      <td>NaN</td>\n",
       "      <td>1</td>\n",
       "      <td>5.00</td>\n",
       "      <td>6.75</td>\n",
       "      <td>4.00</td>\n",
       "      <td>C</td>\n",
       "      <td>12/7/2018</td>\n",
       "      <td>No</td>\n",
       "    </tr>\n",
       "    <tr>\n",
       "      <th>3</th>\n",
       "      <td>SV004</td>\n",
       "      <td>M</td>\n",
       "      <td>NaN</td>\n",
       "      <td>1</td>\n",
       "      <td>4.25</td>\n",
       "      <td>4.25</td>\n",
       "      <td>5.25</td>\n",
       "      <td>D1</td>\n",
       "      <td>12/7/2018</td>\n",
       "      <td>No</td>\n",
       "    </tr>\n",
       "    <tr>\n",
       "      <th>4</th>\n",
       "      <td>SV005</td>\n",
       "      <td>M</td>\n",
       "      <td>NaN</td>\n",
       "      <td>2NT</td>\n",
       "      <td>4.25</td>\n",
       "      <td>4.50</td>\n",
       "      <td>5.00</td>\n",
       "      <td>A</td>\n",
       "      <td>12/7/2018</td>\n",
       "      <td>No</td>\n",
       "    </tr>\n",
       "    <tr>\n",
       "      <th>...</th>\n",
       "      <td>...</td>\n",
       "      <td>...</td>\n",
       "      <td>...</td>\n",
       "      <td>...</td>\n",
       "      <td>...</td>\n",
       "      <td>...</td>\n",
       "      <td>...</td>\n",
       "      <td>...</td>\n",
       "      <td>...</td>\n",
       "      <td>...</td>\n",
       "    </tr>\n",
       "    <tr>\n",
       "      <th>95</th>\n",
       "      <td>SV0096</td>\n",
       "      <td>F</td>\n",
       "      <td>NaN</td>\n",
       "      <td>1</td>\n",
       "      <td>5.25</td>\n",
       "      <td>1.50</td>\n",
       "      <td>6.25</td>\n",
       "      <td>C</td>\n",
       "      <td>7/20/2022</td>\n",
       "      <td>Yes</td>\n",
       "    </tr>\n",
       "    <tr>\n",
       "      <th>96</th>\n",
       "      <td>SV0097</td>\n",
       "      <td>F</td>\n",
       "      <td>NaN</td>\n",
       "      <td>1</td>\n",
       "      <td>5.25</td>\n",
       "      <td>3.75</td>\n",
       "      <td>4.75</td>\n",
       "      <td>C</td>\n",
       "      <td>7/20/2022</td>\n",
       "      <td>No</td>\n",
       "    </tr>\n",
       "    <tr>\n",
       "      <th>97</th>\n",
       "      <td>SV0098</td>\n",
       "      <td>M</td>\n",
       "      <td>NaN</td>\n",
       "      <td>2NT</td>\n",
       "      <td>7.00</td>\n",
       "      <td>8.00</td>\n",
       "      <td>4.00</td>\n",
       "      <td>C</td>\n",
       "      <td>7/20/2022</td>\n",
       "      <td>Yes</td>\n",
       "    </tr>\n",
       "    <tr>\n",
       "      <th>98</th>\n",
       "      <td>SV0099</td>\n",
       "      <td>M</td>\n",
       "      <td>NaN</td>\n",
       "      <td>1</td>\n",
       "      <td>5.00</td>\n",
       "      <td>3.50</td>\n",
       "      <td>5.50</td>\n",
       "      <td>C</td>\n",
       "      <td>7/20/2022</td>\n",
       "      <td>No</td>\n",
       "    </tr>\n",
       "    <tr>\n",
       "      <th>99</th>\n",
       "      <td>SV00100</td>\n",
       "      <td>M</td>\n",
       "      <td>NaN</td>\n",
       "      <td>2NT</td>\n",
       "      <td>5.25</td>\n",
       "      <td>2.50</td>\n",
       "      <td>4.25</td>\n",
       "      <td>C</td>\n",
       "      <td>7/20/2022</td>\n",
       "      <td>Yes</td>\n",
       "    </tr>\n",
       "  </tbody>\n",
       "</table>\n",
       "<p>100 rows × 10 columns</p>\n",
       "</div>"
      ],
      "text/plain": [
       "       MSSV GT  DT   KV    M1    M2    M3  KT    NGAYTHI DINHHUONGNGHENGHIEP\n",
       "0     SV001  F NaN  2NT  3.25  3.25  4.50  A1  12/7/2018                  No\n",
       "1     SV002  M NaN    1  6.00  4.00  3.50   C  12/7/2018                 Yes\n",
       "2     SV003  M NaN    1  5.00  6.75  4.00   C  12/7/2018                  No\n",
       "3     SV004  M NaN    1  4.25  4.25  5.25  D1  12/7/2018                  No\n",
       "4     SV005  M NaN  2NT  4.25  4.50  5.00   A  12/7/2018                  No\n",
       "..      ... ..  ..  ...   ...   ...   ...  ..        ...                 ...\n",
       "95   SV0096  F NaN    1  5.25  1.50  6.25   C  7/20/2022                 Yes\n",
       "96   SV0097  F NaN    1  5.25  3.75  4.75   C  7/20/2022                  No\n",
       "97   SV0098  M NaN  2NT  7.00  8.00  4.00   C  7/20/2022                 Yes\n",
       "98   SV0099  M NaN    1  5.00  3.50  5.50   C  7/20/2022                  No\n",
       "99  SV00100  M NaN  2NT  5.25  2.50  4.25   C  7/20/2022                 Yes\n",
       "\n",
       "[100 rows x 10 columns]"
      ]
     },
     "execution_count": 50,
     "metadata": {},
     "output_type": "execute_result"
    }
   ],
   "source": [
    "\n",
    "\n",
    "\n",
    "import pandas as pd\n",
    "df = pd.read_csv('dulieuxettuyendaihoc.csv',\n",
    "                 header=0,delimiter=',',encoding='utf-8')\n",
    "df "
   ]
  },
  {
   "cell_type": "code",
   "execution_count": 51,
   "metadata": {},
   "outputs": [
    {
     "data": {
      "text/html": [
       "<div>\n",
       "<style scoped>\n",
       "    .dataframe tbody tr th:only-of-type {\n",
       "        vertical-align: middle;\n",
       "    }\n",
       "\n",
       "    .dataframe tbody tr th {\n",
       "        vertical-align: top;\n",
       "    }\n",
       "\n",
       "    .dataframe thead th {\n",
       "        text-align: right;\n",
       "    }\n",
       "</style>\n",
       "<table border=\"1\" class=\"dataframe\">\n",
       "  <thead>\n",
       "    <tr style=\"text-align: right;\">\n",
       "      <th></th>\n",
       "      <th>MSSV</th>\n",
       "      <th>GT</th>\n",
       "      <th>DT</th>\n",
       "      <th>KV</th>\n",
       "      <th>M1</th>\n",
       "      <th>M2</th>\n",
       "      <th>M3</th>\n",
       "      <th>KT</th>\n",
       "      <th>NT</th>\n",
       "      <th>NGHE</th>\n",
       "    </tr>\n",
       "  </thead>\n",
       "  <tbody>\n",
       "    <tr>\n",
       "      <th>0</th>\n",
       "      <td>SV001</td>\n",
       "      <td>F</td>\n",
       "      <td>NaN</td>\n",
       "      <td>2NT</td>\n",
       "      <td>3.25</td>\n",
       "      <td>3.25</td>\n",
       "      <td>4.50</td>\n",
       "      <td>A1</td>\n",
       "      <td>12/7/2018</td>\n",
       "      <td>No</td>\n",
       "    </tr>\n",
       "    <tr>\n",
       "      <th>1</th>\n",
       "      <td>SV002</td>\n",
       "      <td>M</td>\n",
       "      <td>NaN</td>\n",
       "      <td>1</td>\n",
       "      <td>6.00</td>\n",
       "      <td>4.00</td>\n",
       "      <td>3.50</td>\n",
       "      <td>C</td>\n",
       "      <td>12/7/2018</td>\n",
       "      <td>Yes</td>\n",
       "    </tr>\n",
       "    <tr>\n",
       "      <th>2</th>\n",
       "      <td>SV003</td>\n",
       "      <td>M</td>\n",
       "      <td>NaN</td>\n",
       "      <td>1</td>\n",
       "      <td>5.00</td>\n",
       "      <td>6.75</td>\n",
       "      <td>4.00</td>\n",
       "      <td>C</td>\n",
       "      <td>12/7/2018</td>\n",
       "      <td>No</td>\n",
       "    </tr>\n",
       "    <tr>\n",
       "      <th>3</th>\n",
       "      <td>SV004</td>\n",
       "      <td>M</td>\n",
       "      <td>NaN</td>\n",
       "      <td>1</td>\n",
       "      <td>4.25</td>\n",
       "      <td>4.25</td>\n",
       "      <td>5.25</td>\n",
       "      <td>D1</td>\n",
       "      <td>12/7/2018</td>\n",
       "      <td>No</td>\n",
       "    </tr>\n",
       "    <tr>\n",
       "      <th>4</th>\n",
       "      <td>SV005</td>\n",
       "      <td>M</td>\n",
       "      <td>NaN</td>\n",
       "      <td>2NT</td>\n",
       "      <td>4.25</td>\n",
       "      <td>4.50</td>\n",
       "      <td>5.00</td>\n",
       "      <td>A</td>\n",
       "      <td>12/7/2018</td>\n",
       "      <td>No</td>\n",
       "    </tr>\n",
       "    <tr>\n",
       "      <th>...</th>\n",
       "      <td>...</td>\n",
       "      <td>...</td>\n",
       "      <td>...</td>\n",
       "      <td>...</td>\n",
       "      <td>...</td>\n",
       "      <td>...</td>\n",
       "      <td>...</td>\n",
       "      <td>...</td>\n",
       "      <td>...</td>\n",
       "      <td>...</td>\n",
       "    </tr>\n",
       "    <tr>\n",
       "      <th>95</th>\n",
       "      <td>SV0096</td>\n",
       "      <td>F</td>\n",
       "      <td>NaN</td>\n",
       "      <td>1</td>\n",
       "      <td>5.25</td>\n",
       "      <td>1.50</td>\n",
       "      <td>6.25</td>\n",
       "      <td>C</td>\n",
       "      <td>7/20/2022</td>\n",
       "      <td>Yes</td>\n",
       "    </tr>\n",
       "    <tr>\n",
       "      <th>96</th>\n",
       "      <td>SV0097</td>\n",
       "      <td>F</td>\n",
       "      <td>NaN</td>\n",
       "      <td>1</td>\n",
       "      <td>5.25</td>\n",
       "      <td>3.75</td>\n",
       "      <td>4.75</td>\n",
       "      <td>C</td>\n",
       "      <td>7/20/2022</td>\n",
       "      <td>No</td>\n",
       "    </tr>\n",
       "    <tr>\n",
       "      <th>97</th>\n",
       "      <td>SV0098</td>\n",
       "      <td>M</td>\n",
       "      <td>NaN</td>\n",
       "      <td>2NT</td>\n",
       "      <td>7.00</td>\n",
       "      <td>8.00</td>\n",
       "      <td>4.00</td>\n",
       "      <td>C</td>\n",
       "      <td>7/20/2022</td>\n",
       "      <td>Yes</td>\n",
       "    </tr>\n",
       "    <tr>\n",
       "      <th>98</th>\n",
       "      <td>SV0099</td>\n",
       "      <td>M</td>\n",
       "      <td>NaN</td>\n",
       "      <td>1</td>\n",
       "      <td>5.00</td>\n",
       "      <td>3.50</td>\n",
       "      <td>5.50</td>\n",
       "      <td>C</td>\n",
       "      <td>7/20/2022</td>\n",
       "      <td>No</td>\n",
       "    </tr>\n",
       "    <tr>\n",
       "      <th>99</th>\n",
       "      <td>SV00100</td>\n",
       "      <td>M</td>\n",
       "      <td>NaN</td>\n",
       "      <td>2NT</td>\n",
       "      <td>5.25</td>\n",
       "      <td>2.50</td>\n",
       "      <td>4.25</td>\n",
       "      <td>C</td>\n",
       "      <td>7/20/2022</td>\n",
       "      <td>Yes</td>\n",
       "    </tr>\n",
       "  </tbody>\n",
       "</table>\n",
       "<p>100 rows × 10 columns</p>\n",
       "</div>"
      ],
      "text/plain": [
       "       MSSV GT  DT   KV    M1    M2    M3  KT         NT NGHE\n",
       "0     SV001  F NaN  2NT  3.25  3.25  4.50  A1  12/7/2018   No\n",
       "1     SV002  M NaN    1  6.00  4.00  3.50   C  12/7/2018  Yes\n",
       "2     SV003  M NaN    1  5.00  6.75  4.00   C  12/7/2018   No\n",
       "3     SV004  M NaN    1  4.25  4.25  5.25  D1  12/7/2018   No\n",
       "4     SV005  M NaN  2NT  4.25  4.50  5.00   A  12/7/2018   No\n",
       "..      ... ..  ..  ...   ...   ...   ...  ..        ...  ...\n",
       "95   SV0096  F NaN    1  5.25  1.50  6.25   C  7/20/2022  Yes\n",
       "96   SV0097  F NaN    1  5.25  3.75  4.75   C  7/20/2022   No\n",
       "97   SV0098  M NaN  2NT  7.00  8.00  4.00   C  7/20/2022  Yes\n",
       "98   SV0099  M NaN    1  5.00  3.50  5.50   C  7/20/2022   No\n",
       "99  SV00100  M NaN  2NT  5.25  2.50  4.25   C  7/20/2022  Yes\n",
       "\n",
       "[100 rows x 10 columns]"
      ]
     },
     "execution_count": 51,
     "metadata": {},
     "output_type": "execute_result"
    }
   ],
   "source": [
    "df.rename(columns={'NGAYTHI':'NT',\n",
    "                   'DINHHUONGNGHENGHIEP':'NGHE'}, \n",
    "                   inplace=True)\n",
    "df\n"
   ]
  },
  {
   "cell_type": "code",
   "execution_count": 52,
   "metadata": {},
   "outputs": [
    {
     "data": {
      "text/plain": [
       "A     49\n",
       "D1    22\n",
       "C     14\n",
       "B      9\n",
       "A1     6\n",
       "Name: KT, dtype: int64"
      ]
     },
     "execution_count": 52,
     "metadata": {},
     "output_type": "execute_result"
    }
   ],
   "source": [
    "# Kiem tra truoc khi su dung \n",
    "df['KT'].value_counts()"
   ]
  },
  {
   "cell_type": "code",
   "execution_count": 53,
   "metadata": {},
   "outputs": [
    {
     "data": {
      "text/plain": [
       "1     6.00\n",
       "2     5.00\n",
       "6     6.50\n",
       "22    5.00\n",
       "23    6.75\n",
       "24    7.00\n",
       "25    4.75\n",
       "26    5.25\n",
       "27    5.25\n",
       "95    5.25\n",
       "96    5.25\n",
       "97    7.00\n",
       "98    5.00\n",
       "99    5.25\n",
       "Name: M1, dtype: float64"
      ]
     },
     "execution_count": 53,
     "metadata": {},
     "output_type": "execute_result"
    }
   ],
   "source": [
    "# Cau 1: su dung du lieu mau\n",
    "# Hay suy dien xem trung binh thi M1\n",
    "# cua toan bo thi sinh thi khoi C bang 4.0 \n",
    "#  Gia thuyet H_0: tb(M1)/c = 4.0 ko, xem diem trung binh no co phai 4.0 khong\n",
    "dfKhoiC = df.loc[df['KT'] == 'C']\n",
    "dfKhoiC['M1']"
   ]
  },
  {
   "cell_type": "code",
   "execution_count": 54,
   "metadata": {},
   "outputs": [
    {
     "data": {
      "text/plain": [
       "count    14.000000\n",
       "mean      5.660714\n",
       "std       0.812209\n",
       "min       4.750000\n",
       "25%       5.062500\n",
       "50%       5.250000\n",
       "75%       6.375000\n",
       "max       7.000000\n",
       "Name: M1, dtype: float64"
      ]
     },
     "execution_count": 54,
     "metadata": {},
     "output_type": "execute_result"
    }
   ],
   "source": [
    "dfKhoiC['M1'].describe()"
   ]
  },
  {
   "cell_type": "markdown",
   "metadata": {},
   "source": [
    "#### 1. One sample T-test (n_sample < 30): Dinh luong\n",
    " - Gia dinh: H0: y =x\n",
    " - p_value >= alpha --> accpect\n",
    " - p_value < alpha --> reject\n",
    " #\n",
    " - Dấu hiệu dùng: \n",
    " - One-sample T-test được dùng khi bạn muốn so sánh trung bình của một mẫu với một giá trị trung bình đã biết hoặc được giả định. \n",
    "- Ví dụ: bạn muốn kiểm tra xem chiều cao trung bình của một nhóm học sinh có khác biệt đáng kể so với 165 cm không.\n",
    "- Giả định: H0: tbinh nhóm học sinh cao bằng 165cm"
   ]
  },
  {
   "cell_type": "code",
   "execution_count": 55,
   "metadata": {},
   "outputs": [],
   "source": [
    "# Syntax:\n",
    "# Vi du diem thi M2 cua khoi C co bang 5.0 khong\n",
    "# import scipy.stats as stats\n",
    "# stats.ttest_1samp(dfKhoiC['M2'], popmean=5.0)\n",
    "# Nếu t càng lớn hoặc nhỏ hơn 0 thì mức độ khác biệt giữa trung bình mẫu và giá trị giả định càng lớn.\n",
    "\n",
    "# Sau khi tính ra giá trị t, bạn sẽ tra cứu bảng phân phối T hoặc tính giá trị p-value để xác định xem \n",
    "# sự khác biệt này có ý nghĩa thống kê hay không."
   ]
  },
  {
   "cell_type": "code",
   "execution_count": 56,
   "metadata": {},
   "outputs": [
    {
     "data": {
      "text/plain": [
       "(14,)"
      ]
     },
     "execution_count": 56,
     "metadata": {},
     "output_type": "execute_result"
    }
   ],
   "source": [
    "dfKhoiC['M1'].shape"
   ]
  },
  {
   "cell_type": "code",
   "execution_count": 57,
   "metadata": {},
   "outputs": [
    {
     "data": {
      "text/plain": [
       "TtestResult(statistic=7.650519779016341, pvalue=3.6339826927369557e-06, df=13)"
      ]
     },
     "execution_count": 57,
     "metadata": {},
     "output_type": "execute_result"
    }
   ],
   "source": [
    "import scipy.stats as stats\n",
    "\n",
    "stats.ttest_1samp(dfKhoiC['M1'], popmean=4.0)\n",
    "# Do anpha = 0.05 va p value = 3.63398 \n",
    "# Ko du du kien de noi rang trung binh mon M1 la 4.0\n",
    "# Hay noi cach khac ko chap nhan H0 o muc sai lam 5% (neu khong noi la mac dinh 5%)\n",
    "# p_value < alpha ==> reject: diem thi tb cua khoi C khong bang 4.0\n",
    "# ==> khong du dieu kien de noi rang tb diem thi cua thi sinh khoi C la 4.0 voi muc sai lam 5%"
   ]
  },
  {
   "cell_type": "code",
   "execution_count": 58,
   "metadata": {},
   "outputs": [
    {
     "data": {
      "text/html": [
       "<div>\n",
       "<style scoped>\n",
       "    .dataframe tbody tr th:only-of-type {\n",
       "        vertical-align: middle;\n",
       "    }\n",
       "\n",
       "    .dataframe tbody tr th {\n",
       "        vertical-align: top;\n",
       "    }\n",
       "\n",
       "    .dataframe thead th {\n",
       "        text-align: right;\n",
       "    }\n",
       "</style>\n",
       "<table border=\"1\" class=\"dataframe\">\n",
       "  <thead>\n",
       "    <tr style=\"text-align: right;\">\n",
       "      <th></th>\n",
       "      <th>MSSV</th>\n",
       "      <th>GT</th>\n",
       "      <th>DT</th>\n",
       "      <th>KV</th>\n",
       "      <th>M1</th>\n",
       "      <th>M2</th>\n",
       "      <th>M3</th>\n",
       "      <th>KT</th>\n",
       "      <th>NT</th>\n",
       "      <th>NGHE</th>\n",
       "    </tr>\n",
       "  </thead>\n",
       "  <tbody>\n",
       "    <tr>\n",
       "      <th>1</th>\n",
       "      <td>SV002</td>\n",
       "      <td>M</td>\n",
       "      <td>NaN</td>\n",
       "      <td>1</td>\n",
       "      <td>6.00</td>\n",
       "      <td>4.00</td>\n",
       "      <td>3.50</td>\n",
       "      <td>C</td>\n",
       "      <td>12/7/2018</td>\n",
       "      <td>Yes</td>\n",
       "    </tr>\n",
       "    <tr>\n",
       "      <th>2</th>\n",
       "      <td>SV003</td>\n",
       "      <td>M</td>\n",
       "      <td>NaN</td>\n",
       "      <td>1</td>\n",
       "      <td>5.00</td>\n",
       "      <td>6.75</td>\n",
       "      <td>4.00</td>\n",
       "      <td>C</td>\n",
       "      <td>12/7/2018</td>\n",
       "      <td>No</td>\n",
       "    </tr>\n",
       "    <tr>\n",
       "      <th>6</th>\n",
       "      <td>SV007</td>\n",
       "      <td>F</td>\n",
       "      <td>NaN</td>\n",
       "      <td>2</td>\n",
       "      <td>6.50</td>\n",
       "      <td>6.75</td>\n",
       "      <td>5.25</td>\n",
       "      <td>C</td>\n",
       "      <td>12/7/2018</td>\n",
       "      <td>Yes</td>\n",
       "    </tr>\n",
       "    <tr>\n",
       "      <th>22</th>\n",
       "      <td>SV0023</td>\n",
       "      <td>F</td>\n",
       "      <td>NaN</td>\n",
       "      <td>2</td>\n",
       "      <td>5.00</td>\n",
       "      <td>3.50</td>\n",
       "      <td>6.00</td>\n",
       "      <td>C</td>\n",
       "      <td>6/13/2019</td>\n",
       "      <td>No</td>\n",
       "    </tr>\n",
       "    <tr>\n",
       "      <th>23</th>\n",
       "      <td>SV0024</td>\n",
       "      <td>M</td>\n",
       "      <td>NaN</td>\n",
       "      <td>2NT</td>\n",
       "      <td>6.75</td>\n",
       "      <td>5.25</td>\n",
       "      <td>5.00</td>\n",
       "      <td>C</td>\n",
       "      <td>6/13/2019</td>\n",
       "      <td>No</td>\n",
       "    </tr>\n",
       "    <tr>\n",
       "      <th>24</th>\n",
       "      <td>SV0025</td>\n",
       "      <td>F</td>\n",
       "      <td>NaN</td>\n",
       "      <td>1</td>\n",
       "      <td>7.00</td>\n",
       "      <td>2.25</td>\n",
       "      <td>5.25</td>\n",
       "      <td>C</td>\n",
       "      <td>6/13/2019</td>\n",
       "      <td>Yes</td>\n",
       "    </tr>\n",
       "    <tr>\n",
       "      <th>25</th>\n",
       "      <td>SV0026</td>\n",
       "      <td>F</td>\n",
       "      <td>NaN</td>\n",
       "      <td>1</td>\n",
       "      <td>4.75</td>\n",
       "      <td>2.00</td>\n",
       "      <td>5.50</td>\n",
       "      <td>C</td>\n",
       "      <td>6/13/2019</td>\n",
       "      <td>No</td>\n",
       "    </tr>\n",
       "    <tr>\n",
       "      <th>26</th>\n",
       "      <td>SV0027</td>\n",
       "      <td>F</td>\n",
       "      <td>NaN</td>\n",
       "      <td>1</td>\n",
       "      <td>5.25</td>\n",
       "      <td>4.50</td>\n",
       "      <td>4.75</td>\n",
       "      <td>C</td>\n",
       "      <td>6/13/2019</td>\n",
       "      <td>No</td>\n",
       "    </tr>\n",
       "    <tr>\n",
       "      <th>27</th>\n",
       "      <td>SV0028</td>\n",
       "      <td>F</td>\n",
       "      <td>NaN</td>\n",
       "      <td>2NT</td>\n",
       "      <td>5.25</td>\n",
       "      <td>5.00</td>\n",
       "      <td>3.50</td>\n",
       "      <td>C</td>\n",
       "      <td>6/13/2019</td>\n",
       "      <td>Yes</td>\n",
       "    </tr>\n",
       "    <tr>\n",
       "      <th>95</th>\n",
       "      <td>SV0096</td>\n",
       "      <td>F</td>\n",
       "      <td>NaN</td>\n",
       "      <td>1</td>\n",
       "      <td>5.25</td>\n",
       "      <td>1.50</td>\n",
       "      <td>6.25</td>\n",
       "      <td>C</td>\n",
       "      <td>7/20/2022</td>\n",
       "      <td>Yes</td>\n",
       "    </tr>\n",
       "    <tr>\n",
       "      <th>96</th>\n",
       "      <td>SV0097</td>\n",
       "      <td>F</td>\n",
       "      <td>NaN</td>\n",
       "      <td>1</td>\n",
       "      <td>5.25</td>\n",
       "      <td>3.75</td>\n",
       "      <td>4.75</td>\n",
       "      <td>C</td>\n",
       "      <td>7/20/2022</td>\n",
       "      <td>No</td>\n",
       "    </tr>\n",
       "    <tr>\n",
       "      <th>97</th>\n",
       "      <td>SV0098</td>\n",
       "      <td>M</td>\n",
       "      <td>NaN</td>\n",
       "      <td>2NT</td>\n",
       "      <td>7.00</td>\n",
       "      <td>8.00</td>\n",
       "      <td>4.00</td>\n",
       "      <td>C</td>\n",
       "      <td>7/20/2022</td>\n",
       "      <td>Yes</td>\n",
       "    </tr>\n",
       "    <tr>\n",
       "      <th>98</th>\n",
       "      <td>SV0099</td>\n",
       "      <td>M</td>\n",
       "      <td>NaN</td>\n",
       "      <td>1</td>\n",
       "      <td>5.00</td>\n",
       "      <td>3.50</td>\n",
       "      <td>5.50</td>\n",
       "      <td>C</td>\n",
       "      <td>7/20/2022</td>\n",
       "      <td>No</td>\n",
       "    </tr>\n",
       "    <tr>\n",
       "      <th>99</th>\n",
       "      <td>SV00100</td>\n",
       "      <td>M</td>\n",
       "      <td>NaN</td>\n",
       "      <td>2NT</td>\n",
       "      <td>5.25</td>\n",
       "      <td>2.50</td>\n",
       "      <td>4.25</td>\n",
       "      <td>C</td>\n",
       "      <td>7/20/2022</td>\n",
       "      <td>Yes</td>\n",
       "    </tr>\n",
       "  </tbody>\n",
       "</table>\n",
       "</div>"
      ],
      "text/plain": [
       "       MSSV GT  DT   KV    M1    M2    M3 KT         NT NGHE\n",
       "1     SV002  M NaN    1  6.00  4.00  3.50  C  12/7/2018  Yes\n",
       "2     SV003  M NaN    1  5.00  6.75  4.00  C  12/7/2018   No\n",
       "6     SV007  F NaN    2  6.50  6.75  5.25  C  12/7/2018  Yes\n",
       "22   SV0023  F NaN    2  5.00  3.50  6.00  C  6/13/2019   No\n",
       "23   SV0024  M NaN  2NT  6.75  5.25  5.00  C  6/13/2019   No\n",
       "24   SV0025  F NaN    1  7.00  2.25  5.25  C  6/13/2019  Yes\n",
       "25   SV0026  F NaN    1  4.75  2.00  5.50  C  6/13/2019   No\n",
       "26   SV0027  F NaN    1  5.25  4.50  4.75  C  6/13/2019   No\n",
       "27   SV0028  F NaN  2NT  5.25  5.00  3.50  C  6/13/2019  Yes\n",
       "95   SV0096  F NaN    1  5.25  1.50  6.25  C  7/20/2022  Yes\n",
       "96   SV0097  F NaN    1  5.25  3.75  4.75  C  7/20/2022   No\n",
       "97   SV0098  M NaN  2NT  7.00  8.00  4.00  C  7/20/2022  Yes\n",
       "98   SV0099  M NaN    1  5.00  3.50  5.50  C  7/20/2022   No\n",
       "99  SV00100  M NaN  2NT  5.25  2.50  4.25  C  7/20/2022  Yes"
      ]
     },
     "execution_count": 58,
     "metadata": {},
     "output_type": "execute_result"
    }
   ],
   "source": [
    "# SInh vien ktra xem diem trung binh mon M2 cua khoi c co 5.0 hay khong\n",
    "dfKhoiC = df.loc[df['KT'] == 'C']\n",
    "# .loc[] sẽ dùng kết quả của biểu thức điều kiện (df['KT'] == 'C') để lọc các hàng trong DataFrame.\n",
    "# Ở đây, df['KT'] == 'C' trả về một mảng boolean, và .loc[] sẽ chỉ giữ lại các hàng mà điều kiện là True.\n",
    "dfKhoiC\n"
   ]
  },
  {
   "cell_type": "code",
   "execution_count": 59,
   "metadata": {},
   "outputs": [
    {
     "data": {
      "text/plain": [
       "count    14.000000\n",
       "mean      4.232143\n",
       "std       1.947544\n",
       "min       1.500000\n",
       "25%       2.750000\n",
       "50%       3.875000\n",
       "75%       5.187500\n",
       "max       8.000000\n",
       "Name: M2, dtype: float64"
      ]
     },
     "execution_count": 59,
     "metadata": {},
     "output_type": "execute_result"
    }
   ],
   "source": [
    "dfKhoiC['M2'].describe()\n"
   ]
  },
  {
   "cell_type": "code",
   "execution_count": 60,
   "metadata": {},
   "outputs": [
    {
     "data": {
      "text/plain": [
       "(14,)"
      ]
     },
     "execution_count": 60,
     "metadata": {},
     "output_type": "execute_result"
    }
   ],
   "source": [
    "dfKhoiC['M2'].shape"
   ]
  },
  {
   "cell_type": "markdown",
   "metadata": {},
   "source": [
    "<p> count: Số lượng phần tử (số lượng giá trị không bị thiếu trong cột).\n",
    "<p> mean: Giá trị trung bình của các giá trị trong cột.\n",
    "<p> std: Độ lệch chuẩn (mức độ phân tán của các giá trị).\n",
    "<p> min: Giá trị nhỏ nhất trong cột.\n",
    "<p> 25%: Phân vị thứ 25 (còn gọi là Q1, giá trị tại 25% số lượng giá trị).\n",
    "<p> 50%: Phân vị thứ 50 (còn gọi là trung vị hoặc median, giá trị giữa của dãy số).\n",
    "<p> 75%: Phân vị thứ 75 (Q3, giá trị tại 75% số lượng giá trị).\n",
    "<p> max: Giá trị lớn nhất trong cột.\n",
    "<p> Median (trung vị) là giá trị chính giữa trong một tập hợp các số khi chúng được sắp xếp theo thứ tự từ nhỏ đến lớn."
   ]
  },
  {
   "cell_type": "code",
   "execution_count": 61,
   "metadata": {},
   "outputs": [
    {
     "data": {
      "text/plain": [
       "TtestResult(statistic=-1.4752216305397354, pvalue=0.16395763655140863, df=13)"
      ]
     },
     "execution_count": 61,
     "metadata": {},
     "output_type": "execute_result"
    }
   ],
   "source": [
    "# Cau 2: su dung du lieu mau\n",
    "# Hay suy dien xem trung binh thi M2\n",
    "# cua toan bo thi sinh thi khoi C bang 5.0 \n",
    "#  Gia thuyet H_0: tb(M1)/c = 5.0 ko, xem diem trung binh no co phai 5.0 khong\n",
    "import scipy.stats as stats\n",
    "\n",
    "stats.ttest_1samp(dfKhoiC['M2'], popmean=5.0)\n",
    "# Do p_value > alpha :  du dieu kien ket luan \n",
    "#Đủ dữ kiện để suy diễn điểm trung bình M2 cho thí sinh thi khối C là 5.0 với mức tin cậy 95%"
   ]
  },
  {
   "cell_type": "markdown",
   "metadata": {},
   "source": [
    "### 2. Two sample T Test (n_sample < 30): Dinh luong X, Y\n",
    "- muc dich ktra tb cua 2 bien so dinh tinh co bang nhau khong\n",
    "- H0: X = Y (x, y la trung binh) \n",
    "- p_value > alpha: --> accept\n",
    "- p_value <= alpha: --> reject\n",
    "- p_value: muc tin cay [10%, 5%]"
   ]
  },
  {
   "cell_type": "code",
   "execution_count": 62,
   "metadata": {},
   "outputs": [
    {
     "data": {
      "text/plain": [
       "(14, 10)"
      ]
     },
     "execution_count": 62,
     "metadata": {},
     "output_type": "execute_result"
    }
   ],
   "source": [
    "dfKhoiC.shape"
   ]
  },
  {
   "cell_type": "code",
   "execution_count": 63,
   "metadata": {},
   "outputs": [
    {
     "data": {
      "text/plain": [
       "Ttest_indResult(statistic=2.5331368604654054, pvalue=0.017676922552296807)"
      ]
     },
     "execution_count": 63,
     "metadata": {},
     "output_type": "execute_result"
    }
   ],
   "source": [
    "# Cau 1: Ktra trung binh diem thi cua M1 co bang M2 hay khong?\n",
    "# H0: M1/c = M2/c = 5% =0.05d\n",
    "dfKhoiC = df.loc[df['KT'] == 'C']\n",
    "stats.ttest_ind(dfKhoiC['M1'], dfKhoiC['M2'], equal_var=True)\n",
    "# do p_value < alpha = 5% nen khong du dieu kien"
   ]
  },
  {
   "cell_type": "code",
   "execution_count": 64,
   "metadata": {},
   "outputs": [
    {
     "data": {
      "text/plain": [
       "Ttest_indResult(statistic=2.6321295849540447, pvalue=0.014085909192033959)"
      ]
     },
     "execution_count": 64,
     "metadata": {},
     "output_type": "execute_result"
    }
   ],
   "source": [
    "#Cau 2: Tb diem thi cua M1 co bang M3 thi sinh thi khoi C voi tin cay 95%\n",
    "\n",
    "dfKhoiC = df.loc[df['KT'] == 'C']\n",
    "stats.ttest_ind(dfKhoiC['M1'], dfKhoiC['M3'], equal_var=True)\n",
    "# equal_var = False Giả định rằng phương sai của hai nhóm không bằng nhau, để điều chỉnh phép kiểm định."
   ]
  },
  {
   "cell_type": "code",
   "execution_count": 65,
   "metadata": {},
   "outputs": [
    {
     "data": {
      "text/plain": [
       "A     49\n",
       "D1    22\n",
       "C     14\n",
       "B      9\n",
       "A1     6\n",
       "Name: KT, dtype: int64"
      ]
     },
     "execution_count": 65,
     "metadata": {},
     "output_type": "execute_result"
    }
   ],
   "source": [
    "df['KT'].value_counts()"
   ]
  },
  {
   "cell_type": "markdown",
   "metadata": {},
   "source": [
    "#### 3. One Sample Z-test (n_sample >= 30) lam nhu One sample T test\n",
    "- Giả định: H0: u = u0 \n",
    "- p_value >= alpha -->accpect\n",
    "- p_value < alpha --> reject\n",
    "#### Cong dung:\n",
    "Dùng để kiểm định trung bình của biến định lượng có bằng một giá trị cho trước với điều kiện số lượng mẫu > 30"
   ]
  },
  {
   "cell_type": "code",
   "execution_count": 66,
   "metadata": {},
   "outputs": [
    {
     "data": {
      "text/plain": [
       "(100,)"
      ]
     },
     "execution_count": 66,
     "metadata": {},
     "output_type": "execute_result"
    }
   ],
   "source": [
    "df['M1'].shape"
   ]
  },
  {
   "cell_type": "code",
   "execution_count": 67,
   "metadata": {},
   "outputs": [
    {
     "data": {
      "text/plain": [
       "(-29.907152266677993, 1.588509177330612e-196)"
      ]
     },
     "execution_count": 67,
     "metadata": {},
     "output_type": "execute_result"
    }
   ],
   "source": [
    "# Cau 1:  Ktra diem trung binh cua M1 co bang 8.0 hay khong ?\n",
    "from statsmodels.stats.weightstats import ztest as ztest\n",
    "\n",
    "ztest(df['M1'], value=8.0)\n",
    "\n",
    "# Khong du du kien de noi rang trung binh cua M1 bang 8.0 ==> reject"
   ]
  },
  {
   "cell_type": "code",
   "execution_count": 68,
   "metadata": {},
   "outputs": [
    {
     "data": {
      "text/plain": [
       "(-23.06488697108683, 1.0428701078797563e-117)"
      ]
     },
     "execution_count": 68,
     "metadata": {},
     "output_type": "execute_result"
    }
   ],
   "source": [
    "# Cau 2:  Ktra diem trung binh cua M2 co bang 6.7 hay khong ?\n",
    "from statsmodels.stats.weightstats import ztest as ztest\n",
    "\n",
    "ztest(df['M2'], value= 6.7)\n",
    "\n",
    "# Khong du du kien de noi rang trung binh cua M2 bang 6.7 ==> reject"
   ]
  },
  {
   "cell_type": "markdown",
   "metadata": {},
   "source": [
    "### 4. Two sample Z-test (n >= 30) \n",
    "- Gia dinh: H0: X = Y (x, y trung binh) = 2 thang bang nhau\n",
    "- p_value > alpha --> accpect \n",
    "- p_value <= alpha --> reject"
   ]
  },
  {
   "cell_type": "code",
   "execution_count": 69,
   "metadata": {},
   "outputs": [
    {
     "data": {
      "text/plain": [
       "(-2.9004757923795, 0.0037259661678783573)"
      ]
     },
     "execution_count": 69,
     "metadata": {},
     "output_type": "execute_result"
    }
   ],
   "source": [
    "# Hay ktra diem Tbinh M1 co bang M2 hay khong\n",
    "ztest(df['M1'], df['M2'], value=0)\n",
    "# p value = 0.0037259661678783573 < alpha\n",
    "# khong du du kien de noi M1 vang M2\n"
   ]
  },
  {
   "cell_type": "code",
   "execution_count": 70,
   "metadata": {},
   "outputs": [
    {
     "data": {
      "text/plain": [
       "(-4.172765180703833, 3.009250404643791e-05)"
      ]
     },
     "execution_count": 70,
     "metadata": {},
     "output_type": "execute_result"
    }
   ],
   "source": [
    "# Hay ktra diem Tbinh M3 co bang M2 hay khong\n",
    "ztest(df['M2'], df['M3'], value=0)\n",
    "# p value =  3.009250404643791e-05 < alpha = 0.05 \n",
    "# khong du dieu kien de noi\n",
    "#Không đủ dữ kiện để chứng minh điểm trung bình M2 bằng M3 với mức tin cậy 95%"
   ]
  },
  {
   "cell_type": "code",
   "execution_count": 71,
   "metadata": {},
   "outputs": [
    {
     "data": {
      "text/plain": [
       "'\\n    one sample T Test: n < 30\\n    two sample T test : n < 30\\n    one sample Z test: n>= 30\\n    two sample Z test: n >= 30\\n'"
      ]
     },
     "execution_count": 71,
     "metadata": {},
     "output_type": "execute_result"
    }
   ],
   "source": [
    "'''\n",
    "    one sample T Test: n < 30\n",
    "    two sample T test : n < 30\n",
    "    one sample Z test: n>= 30\n",
    "    two sample Z test: n >= 30\n",
    "'''"
   ]
  },
  {
   "cell_type": "markdown",
   "metadata": {},
   "source": [
    "<h3 style=\"color: skyblue\"> 5. Suy diễn tương quan: định lượng X , Y</h3>\n",
    "\n",
    "- r_(x,y) < 0 ==> Tuong quan nghich , X tang Y giam va nguoc lai\n",
    "-  r_(x,y) = 0 ==> ko tuong quan\n",
    "-  r_(x,y) > 0 ==> tuong quan thuan , X tang Y tang, X giam Y giam\n",
    "-  r_(x,y) thuoc [-1, 1] \n",
    "-  |r_(x,y)| \n",
    "-   Hinh:\n",
    "- ----Yeu-------|------Trung binh -----|----Kha-----|-----Tot------|---------Hoan Hao------------ \n",
    "-                 0.5          0.65        0.8           0.95\n",
    "- Gia thuyet : H0 = r_(x,y) = 0\n",
    " #\n",
    " #\n",
    "  #### 1.Giả thuyết cần kiểm định:\n",
    "- (H0): Không có tương quan (hệ số tương quan r = 0).\n",
    "- (H1): Có  tương quan tuyến  (r ≠ 0).\n",
    "#\n",
    "#\n",
    "  #### 2. Giải thích cụ thể:\n",
    "- |r| > 0.7         : Tương quan mạnh.\n",
    "- 0.3 < |r| < 0.7   : Tương quan trung bình.\n",
    "- |r| < 0.3         : Tương quan yếu hoặc không có\n",
    "#\n",
    "#\n",
    "  #### 3. P-value (giá trị p):\n",
    "- Nếu p-value > 0.05: Không đủ bằng chứng để bác bỏ H0, không tương quan, accpect Hr --> ko xét r --> r= 0\n",
    "- Nếu p-value ≤ 0.05: Có bằng chứng để bác bỏ H0, tương quan , reject H0 --> xét đến r"
   ]
  },
  {
   "cell_type": "code",
   "execution_count": 72,
   "metadata": {},
   "outputs": [
    {
     "name": "stderr",
     "output_type": "stream",
     "text": [
      "C:\\Users\\LENOVO\\AppData\\Local\\Temp\\ipykernel_2080\\2666140487.py:5: DeprecationWarning: Please use `pearsonr` from the `scipy.stats` namespace, the `scipy.stats.stats` namespace is deprecated.\n",
      "  from scipy.stats.stats import pearsonr\n"
     ]
    },
    {
     "data": {
      "text/plain": [
       "PearsonRResult(statistic=0.035154057257850216, pvalue=0.7284198928723641)"
      ]
     },
     "execution_count": 72,
     "metadata": {},
     "output_type": "execute_result"
    }
   ],
   "source": [
    "# Cau 1 : M1 va  M2 co tuong quan hay khong \n",
    "# H0: M1 M2 khong tuong quan\n",
    "# p_value > alpha --> accpect --> r = 0\n",
    "# \n",
    "from scipy.stats.stats import pearsonr\n",
    "\n",
    "pearsonr(df['M1'], df['M2'])\n",
    "# |r| = 0.035154057257850216, pvalue=0.7284198928723641 > alpha )\n",
    "# Du du kien de suy dien M1 va M2 khong tuong quan voi muc tin 95%"
   ]
  },
  {
   "cell_type": "code",
   "execution_count": 73,
   "metadata": {},
   "outputs": [
    {
     "name": "stderr",
     "output_type": "stream",
     "text": [
      "C:\\Users\\LENOVO\\AppData\\Local\\Temp\\ipykernel_2080\\511577475.py:2: DeprecationWarning: Please use `pearsonr` from the `scipy.stats` namespace, the `scipy.stats.stats` namespace is deprecated.\n",
      "  from scipy.stats.stats import pearsonr\n"
     ]
    },
    {
     "data": {
      "text/plain": [
       "PearsonRResult(statistic=0.018730760164383124, pvalue=0.8532534347055029)"
      ]
     },
     "execution_count": 73,
     "metadata": {},
     "output_type": "execute_result"
    }
   ],
   "source": [
    "#Cau 2:  M1 va M3 co tuong quan khong\n",
    "from scipy.stats.stats import pearsonr\n",
    "\n",
    "pearsonr(df['M1'], df['M3'])\n",
    "# M2 va M3 khong tuong quan khong\n",
    "#Không đủ điều kiện để nói M1 và M2 là tương quan (Không tương quan)"
   ]
  },
  {
   "cell_type": "code",
   "execution_count": 74,
   "metadata": {},
   "outputs": [
    {
     "name": "stderr",
     "output_type": "stream",
     "text": [
      "C:\\Users\\LENOVO\\AppData\\Local\\Temp\\ipykernel_2080\\1022350455.py:2: DeprecationWarning: Please use `pearsonr` from the `scipy.stats` namespace, the `scipy.stats.stats` namespace is deprecated.\n",
      "  from scipy.stats.stats import pearsonr\n"
     ]
    },
    {
     "data": {
      "text/plain": [
       "PearsonRResult(statistic=-0.09152288755408225, pvalue=0.36513447674961524)"
      ]
     },
     "execution_count": 74,
     "metadata": {},
     "output_type": "execute_result"
    }
   ],
   "source": [
    "# Cau 3: M2 va M3 co tuong quan khong\n",
    "from scipy.stats.stats import pearsonr\n",
    "\n",
    "pearsonr(df['M2'], df['M3'])\n",
    "#  Khong du du kien de suy dien M2 va M3 . Suy ra khong tuong quan"
   ]
  },
  {
   "cell_type": "code",
   "execution_count": 75,
   "metadata": {},
   "outputs": [
    {
     "name": "stderr",
     "output_type": "stream",
     "text": [
      "C:\\Users\\LENOVO\\AppData\\Local\\Temp\\ipykernel_2080\\3678351755.py:1: DeprecationWarning: Please use `pearsonr` from the `scipy.stats` namespace, the `scipy.stats.stats` namespace is deprecated.\n",
      "  from scipy.stats.stats import pearsonr\n"
     ]
    },
    {
     "data": {
      "text/plain": [
       "PearsonRResult(statistic=-0.09152288755408225, pvalue=0.36513447674961524)"
      ]
     },
     "execution_count": 75,
     "metadata": {},
     "output_type": "execute_result"
    }
   ],
   "source": [
    "from scipy.stats.stats import pearsonr\n",
    "\n",
    "pearsonr(df['M3'], df['M2'])"
   ]
  },
  {
   "cell_type": "markdown",
   "metadata": {},
   "source": [
    "<h3 style=\"color:red\"> 6. Suy diễn fisher: 2 biến định tính<h3>\n",
    " \n",
    "    H0: 2 biến độc lập, không phụ thuộc \n",
    "    Dinh tinh dung moi: Count\n",
    "#### 1. H0 (Giả thuyết không): \n",
    "- H0: độc lập -->  Không có mối quan hệ giữa hai biến, nghĩa là phân phối giữa các nhóm không khác biệt.\n",
    "- H1 (Giả thuyết đối): phụ thuộc --> Có mối quan hệ giữa hai biến.\n",
    "#### 2. Gia tri p_value:\n",
    "- p_value > alpha --> accpect --> ko có mối quan hệ \n",
    "- p_value <= alpha -->reject --> có mối quan hệ\n",
    "#### 3. Dữ liệu là biến định tính: \n",
    "- Cả hai biến phải là định tính, và thường được trình bày dưới dạng bảng tần số (bảng chéo).\n",
    "####\n",
    "- Kiểm tra sự độc lập của 2 biến ĐỊNH TÍNH mà ở đó giá trị thể hiện ở dạng nhị phân dạng nhị phân 2x2\n",
    "- Chủ yếu các phương pháp kiểm tra định tính sẽ được suy diễn từ bảng cross tab\n",
    "- Ho: 2 biến độc lập\n",
    "- Count là hàm dùng cho biến định tính\n",
    "\n"
   ]
  },
  {
   "cell_type": "code",
   "execution_count": 76,
   "metadata": {},
   "outputs": [],
   "source": [
    "import scipy.stats as stats"
   ]
  },
  {
   "cell_type": "code",
   "execution_count": 77,
   "metadata": {},
   "outputs": [
    {
     "data": {
      "text/plain": [
       "M    52\n",
       "F    48\n",
       "Name: GT, dtype: int64"
      ]
     },
     "execution_count": 77,
     "metadata": {},
     "output_type": "execute_result"
    }
   ],
   "source": [
    "df['GT'].value_counts()"
   ]
  },
  {
   "cell_type": "code",
   "execution_count": 78,
   "metadata": {},
   "outputs": [
    {
     "data": {
      "text/plain": [
       "No     55\n",
       "Yes    45\n",
       "Name: NGHE, dtype: int64"
      ]
     },
     "execution_count": 78,
     "metadata": {},
     "output_type": "execute_result"
    }
   ],
   "source": [
    "df['NGHE'].value_counts()"
   ]
  },
  {
   "cell_type": "code",
   "execution_count": 79,
   "metadata": {},
   "outputs": [
    {
     "data": {
      "text/html": [
       "<div>\n",
       "<style scoped>\n",
       "    .dataframe tbody tr th:only-of-type {\n",
       "        vertical-align: middle;\n",
       "    }\n",
       "\n",
       "    .dataframe tbody tr th {\n",
       "        vertical-align: top;\n",
       "    }\n",
       "\n",
       "    .dataframe thead th {\n",
       "        text-align: right;\n",
       "    }\n",
       "</style>\n",
       "<table border=\"1\" class=\"dataframe\">\n",
       "  <thead>\n",
       "    <tr style=\"text-align: right;\">\n",
       "      <th>NGHE</th>\n",
       "      <th>No</th>\n",
       "      <th>Yes</th>\n",
       "    </tr>\n",
       "    <tr>\n",
       "      <th>GT</th>\n",
       "      <th></th>\n",
       "      <th></th>\n",
       "    </tr>\n",
       "  </thead>\n",
       "  <tbody>\n",
       "    <tr>\n",
       "      <th>F</th>\n",
       "      <td>23</td>\n",
       "      <td>25</td>\n",
       "    </tr>\n",
       "    <tr>\n",
       "      <th>M</th>\n",
       "      <td>32</td>\n",
       "      <td>20</td>\n",
       "    </tr>\n",
       "  </tbody>\n",
       "</table>\n",
       "</div>"
      ],
      "text/plain": [
       "NGHE  No  Yes\n",
       "GT           \n",
       "F     23   25\n",
       "M     32   20"
      ]
     },
     "execution_count": 79,
     "metadata": {},
     "output_type": "execute_result"
    }
   ],
   "source": [
    "# Hãy kiểm tra xem có sự phụ thuộc nào giữa việc sinh viên có định hướng nghề nghiệp và giới tính khi thí sinh đăng ký dự thi không\n",
    "crosdata = pd.crosstab(df['GT'], [df['NGHE']], rownames=['GT'], colnames=['NGHE'])\n",
    "crosdata\n",
    "# Tong 4 lai bang 100\n",
    "# F: co 25 ban duoc dinh huong nghe nghiep\n",
    "# M: co 20 ban \n",
    "# Có 25 sinh viên nữ được định hướng nghề nghiệp\n",
    "# Có 23 sinh viên nữ không được định hướng nghề nghiệp\n",
    "# Có 32 sinh viên nam không được định hướng nghề nghiệp\n",
    "# Có 20 sinh viên nam được định hướng nghề nghiệp\n"
   ]
  },
  {
   "cell_type": "code",
   "execution_count": 80,
   "metadata": {},
   "outputs": [
    {
     "name": "stdout",
     "output_type": "stream",
     "text": [
      "odd ratio is : 0.575\n",
      "p_value is : 0.22763927303454412\n"
     ]
    }
   ],
   "source": [
    "odd_ratio, p_value = stats.fisher_exact(crosdata)\n",
    "print('odd ratio is : ' + str(odd_ratio))\n",
    "print('p_value is : ' + str(p_value))\n",
    "# Dac trung fisher khong co su khac biet giua 2 bien dinh tinh \n",
    "# Do p_value : 0.227 > alpha = 0.05 =>> chap nhan H0: du dieu kien de noi rang Nghe doc lap voi Gioi Tinh\n",
    "# pvalue: 0.22763927303454412 > 0.05\n",
    "# Chấp nhận Ho: Đủ điều kiện để nói rằng việc hướng nghiệp là độc lập so với giới tính\n",
    "# Chấp nhận Ho: Không đủ điều kiện để nói rằng giới tính phụ thuộc vào hướng nghiệp\n",
    "# Việc khi tuyển sinh thì giới ảnh hưởng đến việc lựa chọn nghề nghiệp"
   ]
  },
  {
   "cell_type": "markdown",
   "metadata": {},
   "source": [
    "<h3 style=\"color:skyblue\"> 7: Suy diễn Chi-quare: 2 biến định tính</h3>\n",
    "\n",
    "        Gia dinh: H0: 2 biến độc lập, không phụ thuộc \n",
    "        Note: khong nhi phan thi lam duoc\n",
    "#### 1. Giả thuyết kiểm định:\n",
    "- H0 (Giả thuyết không): Hai biến độc lập với nhau, không có mối quan hệ giữa chúng.\n",
    "- H1 (Giả thuyết đối): Hai biến có mối quan hệ với nhau.\n",
    "#### 2. Giá trị p_value:  \n",
    "- Nếu p-value > 0.05: Bạn không đủ bằng chứng để bác bỏ giả thuyết không và có thể kết luận rằng không có mối quan hệ rõ ràng giữa hai biến \n",
    "--> Độc lập\n",
    "- Nếu p-value ≤ 0.05: Bạn có thể bác bỏ giả thuyết không và kết luận rằng hai biến có mối quan hệ thống kê.\n",
    "--> Phụ thuộc\n",
    "#### 3. Dữ  liệu\tBảng chéo có thể lớn hơn 2x2 (như 3x3, 4x2,...)"
   ]
  },
  {
   "cell_type": "code",
   "execution_count": 81,
   "metadata": {},
   "outputs": [
    {
     "data": {
      "text/html": [
       "<div>\n",
       "<style scoped>\n",
       "    .dataframe tbody tr th:only-of-type {\n",
       "        vertical-align: middle;\n",
       "    }\n",
       "\n",
       "    .dataframe tbody tr th {\n",
       "        vertical-align: top;\n",
       "    }\n",
       "\n",
       "    .dataframe thead th {\n",
       "        text-align: right;\n",
       "    }\n",
       "</style>\n",
       "<table border=\"1\" class=\"dataframe\">\n",
       "  <thead>\n",
       "    <tr style=\"text-align: right;\">\n",
       "      <th>KT</th>\n",
       "      <th>A</th>\n",
       "      <th>A1</th>\n",
       "      <th>B</th>\n",
       "      <th>C</th>\n",
       "      <th>D1</th>\n",
       "    </tr>\n",
       "    <tr>\n",
       "      <th>KV</th>\n",
       "      <th></th>\n",
       "      <th></th>\n",
       "      <th></th>\n",
       "      <th></th>\n",
       "      <th></th>\n",
       "    </tr>\n",
       "  </thead>\n",
       "  <tbody>\n",
       "    <tr>\n",
       "      <th>1</th>\n",
       "      <td>29</td>\n",
       "      <td>2</td>\n",
       "      <td>8</td>\n",
       "      <td>8</td>\n",
       "      <td>13</td>\n",
       "    </tr>\n",
       "    <tr>\n",
       "      <th>2</th>\n",
       "      <td>9</td>\n",
       "      <td>0</td>\n",
       "      <td>0</td>\n",
       "      <td>2</td>\n",
       "      <td>8</td>\n",
       "    </tr>\n",
       "    <tr>\n",
       "      <th>2NT</th>\n",
       "      <td>11</td>\n",
       "      <td>4</td>\n",
       "      <td>1</td>\n",
       "      <td>4</td>\n",
       "      <td>1</td>\n",
       "    </tr>\n",
       "  </tbody>\n",
       "</table>\n",
       "</div>"
      ],
      "text/plain": [
       "KT    A  A1  B  C  D1\n",
       "KV                   \n",
       "1    29   2  8  8  13\n",
       "2     9   0  0  2   8\n",
       "2NT  11   4  1  4   1"
      ]
     },
     "execution_count": 81,
     "metadata": {},
     "output_type": "execute_result"
    }
   ],
   "source": [
    "from scipy.stats import chi2_contingency\n",
    "\n",
    "crosdata = pd.crosstab(df['KV'], [df['KT']], rownames=['KV'], colnames=['KT'])\n",
    "crosdata\n",
    "\n"
   ]
  },
  {
   "cell_type": "code",
   "execution_count": 83,
   "metadata": {},
   "outputs": [
    {
     "data": {
      "image/png": "[encoded data removed]",
      "text/plain": [
       "<Figure size 640x480 with 2 Axes>"
      ]
     },
     "metadata": {},
     "output_type": "display_data"
    }
   ],
   "source": [
    "# Bieu do histmap \n",
    "import matplotlib.pyplot as plt\n",
    "plt.pcolor(crosdata,cmap='RdBu')\n",
    "plt.colorbar()\n",
    "plt.show()\n"
   ]
  },
  {
   "cell_type": "code",
   "execution_count": 35,
   "metadata": {},
   "outputs": [
    {
     "name": "stdout",
     "output_type": "stream",
     "text": [
      "p value is 0.02012461887796485\n",
      "Dependent (reject H0)\n"
     ]
    }
   ],
   "source": [
    "# Khoi thi doc lap voi khu vuc \n",
    "stat, p, dof, expected = chi2_contingency(crosdata)\n",
    " \n",
    "alpha = 0.05\n",
    "print(\"p value is \" + str(p))\n",
    "if p <= alpha:\n",
    "    print('Dependent (reject H0)')\n",
    "else:\n",
    "    print('Independent (H0 holds true)')\n",
    "# Ket luan : do p value is 0.02012461887796485 < alpha = 0.05\n",
    "# Nen ko du du kien de noi rang khoi thi doc lap voi khu vuc, Khu vu phu thuoc vao khoi thi"
   ]
  },
  {
   "cell_type": "markdown",
   "metadata": {},
   "source": [
    "<h3 style=\"color:yellow\"> 8. One Way ANOVA: định lượng và định tính</h3>\n",
    " \n",
    "-  Dùng để kiểm tra trung bình định lượng trên từng nhóm định tính có bằng nhau hay không\n",
    "\n",
    "-   Gia dinh: H0: X_(n1) =   X_(n2) =  X_(nm)\n",
    "#### 1. Giả thuyết \n",
    "- H0: Trung bình của các nhóm là như nhau (không có sự khác biệt). H0: ko phụ thuộc  \n",
    "- H1: Có ít nhất một nhóm có trung bình khác biệt so với các nhóm khác.\n",
    "#### 2. Dấu hiệu:\n",
    "- ANOVA một chiều (One-way ANOVA) áp dụng khi bạn muốn kiểm tra sự khác biệt giữa trung bình \n",
    "- của nhiều nhóm dựa trên một biến độc lập định tính và một biến phụ thuộc định lượng.\n",
    "- p_value >0 -->accpect ,  ko phu thuoc \n",
    "- p_value <= 0 --> reject , phu thuoc \n"
   ]
  },
  {
   "cell_type": "markdown",
   "metadata": {},
   "source": [
    "<p style=\"color:yellow\">M1: Đây là biến phụ thuộc (dependent variable), nghĩa là biến mà chúng ta muốn dự đoán hoặc giải thích.\n",
    "<p style=\"color:yellow\">GT: Đây là biến độc lập (independent variable), nghĩa là biến mà chúng ta dùng để giải thích sự thay đổi của M1."
   ]
  },
  {
   "cell_type": "code",
   "execution_count": 36,
   "metadata": {},
   "outputs": [
    {
     "data": {
      "text/html": [
       "<div>\n",
       "<style scoped>\n",
       "    .dataframe tbody tr th:only-of-type {\n",
       "        vertical-align: middle;\n",
       "    }\n",
       "\n",
       "    .dataframe tbody tr th {\n",
       "        vertical-align: top;\n",
       "    }\n",
       "\n",
       "    .dataframe thead th {\n",
       "        text-align: right;\n",
       "    }\n",
       "</style>\n",
       "<table border=\"1\" class=\"dataframe\">\n",
       "  <thead>\n",
       "    <tr style=\"text-align: right;\">\n",
       "      <th></th>\n",
       "      <th>df</th>\n",
       "      <th>sum_sq</th>\n",
       "      <th>mean_sq</th>\n",
       "      <th>F</th>\n",
       "      <th>PR(&gt;F)</th>\n",
       "    </tr>\n",
       "  </thead>\n",
       "  <tbody>\n",
       "    <tr>\n",
       "      <th>GT</th>\n",
       "      <td>1.0</td>\n",
       "      <td>1.203141</td>\n",
       "      <td>1.203141</td>\n",
       "      <td>0.590538</td>\n",
       "      <td>0.444059</td>\n",
       "    </tr>\n",
       "    <tr>\n",
       "      <th>Residual</th>\n",
       "      <td>98.0</td>\n",
       "      <td>199.661859</td>\n",
       "      <td>2.037366</td>\n",
       "      <td>NaN</td>\n",
       "      <td>NaN</td>\n",
       "    </tr>\n",
       "  </tbody>\n",
       "</table>\n",
       "</div>"
      ],
      "text/plain": [
       "            df      sum_sq   mean_sq         F    PR(>F)\n",
       "GT         1.0    1.203141  1.203141  0.590538  0.444059\n",
       "Residual  98.0  199.661859  2.037366       NaN       NaN"
      ]
     },
     "execution_count": 36,
     "metadata": {},
     "output_type": "execute_result"
    }
   ],
   "source": [
    "# Cau 1:  Diem M1 co phu thuoc gioi tinh hay khong\n",
    "# Gia dinh rang cac dieu kien cua du lieu thoa man su dung one-way anova\n",
    "# H0 : U_m1 (F) =  U_m1 (M)\n",
    "import statsmodels.api as sm\n",
    "\n",
    "from statsmodels.formula.api import ols\n",
    "\n",
    "model = ols('M1 ~ GT', data=df).fit()\n",
    "aov_table = sm.stats.anova_lm(model, typ=1)\n",
    "aov_table\n",
    "# p_value = 0.444059 > 0.05 ==> accept \n",
    "# M1 khong phu thuoc vao gioi tinh\n"
   ]
  },
  {
   "cell_type": "code",
   "execution_count": null,
   "metadata": {},
   "outputs": [],
   "source": []
  },
  {
   "cell_type": "code",
   "execution_count": 37,
   "metadata": {},
   "outputs": [
    {
     "data": {
      "text/html": [
       "<div>\n",
       "<style scoped>\n",
       "    .dataframe tbody tr th:only-of-type {\n",
       "        vertical-align: middle;\n",
       "    }\n",
       "\n",
       "    .dataframe tbody tr th {\n",
       "        vertical-align: top;\n",
       "    }\n",
       "\n",
       "    .dataframe thead th {\n",
       "        text-align: right;\n",
       "    }\n",
       "</style>\n",
       "<table border=\"1\" class=\"dataframe\">\n",
       "  <thead>\n",
       "    <tr style=\"text-align: right;\">\n",
       "      <th></th>\n",
       "      <th>df</th>\n",
       "      <th>sum_sq</th>\n",
       "      <th>mean_sq</th>\n",
       "      <th>F</th>\n",
       "      <th>PR(&gt;F)</th>\n",
       "    </tr>\n",
       "  </thead>\n",
       "  <tbody>\n",
       "    <tr>\n",
       "      <th>KV</th>\n",
       "      <td>2.0</td>\n",
       "      <td>6.053398</td>\n",
       "      <td>3.026699</td>\n",
       "      <td>2.790934</td>\n",
       "      <td>0.066299</td>\n",
       "    </tr>\n",
       "    <tr>\n",
       "      <th>Residual</th>\n",
       "      <td>97.0</td>\n",
       "      <td>105.194102</td>\n",
       "      <td>1.084475</td>\n",
       "      <td>NaN</td>\n",
       "      <td>NaN</td>\n",
       "    </tr>\n",
       "  </tbody>\n",
       "</table>\n",
       "</div>"
      ],
      "text/plain": [
       "            df      sum_sq   mean_sq         F    PR(>F)\n",
       "KV         2.0    6.053398  3.026699  2.790934  0.066299\n",
       "Residual  97.0  105.194102  1.084475       NaN       NaN"
      ]
     },
     "execution_count": 37,
     "metadata": {},
     "output_type": "execute_result"
    }
   ],
   "source": [
    "# M2 co phu thuoc khu vuc khong\n",
    "import statsmodels.api as sm\n",
    "\n",
    "from statsmodels.formula.api import ols\n",
    "\n",
    "model = ols('M2 ~ KV', data=df).fit()\n",
    "aov_table = sm.stats.anova_lm(model, typ=1)\n",
    "aov_table"
   ]
  },
  {
   "cell_type": "code",
   "execution_count": 38,
   "metadata": {},
   "outputs": [
    {
     "data": {
      "text/html": [
       "<div>\n",
       "<style scoped>\n",
       "    .dataframe tbody tr th:only-of-type {\n",
       "        vertical-align: middle;\n",
       "    }\n",
       "\n",
       "    .dataframe tbody tr th {\n",
       "        vertical-align: top;\n",
       "    }\n",
       "\n",
       "    .dataframe thead th {\n",
       "        text-align: right;\n",
       "    }\n",
       "</style>\n",
       "<table border=\"1\" class=\"dataframe\">\n",
       "  <thead>\n",
       "    <tr style=\"text-align: right;\">\n",
       "      <th></th>\n",
       "      <th>df</th>\n",
       "      <th>sum_sq</th>\n",
       "      <th>mean_sq</th>\n",
       "      <th>F</th>\n",
       "      <th>PR(&gt;F)</th>\n",
       "    </tr>\n",
       "  </thead>\n",
       "  <tbody>\n",
       "    <tr>\n",
       "      <th>KV</th>\n",
       "      <td>2.0</td>\n",
       "      <td>9.398277</td>\n",
       "      <td>4.699138</td>\n",
       "      <td>4.655263</td>\n",
       "      <td>0.011735</td>\n",
       "    </tr>\n",
       "    <tr>\n",
       "      <th>Residual</th>\n",
       "      <td>97.0</td>\n",
       "      <td>97.914223</td>\n",
       "      <td>1.009425</td>\n",
       "      <td>NaN</td>\n",
       "      <td>NaN</td>\n",
       "    </tr>\n",
       "  </tbody>\n",
       "</table>\n",
       "</div>"
      ],
      "text/plain": [
       "            df     sum_sq   mean_sq         F    PR(>F)\n",
       "KV         2.0   9.398277  4.699138  4.655263  0.011735\n",
       "Residual  97.0  97.914223  1.009425       NaN       NaN"
      ]
     },
     "execution_count": 38,
     "metadata": {},
     "output_type": "execute_result"
    }
   ],
   "source": [
    "# M3 co phu thuoc khoi thi khong\n",
    "import statsmodels.api as sm\n",
    "\n",
    "from statsmodels.formula.api import ols\n",
    "\n",
    "model = ols('M3 ~ KV', data=df).fit()\n",
    "aov_table = sm.stats.anova_lm(model, typ=1)\n",
    "aov_table"
   ]
  },
  {
   "cell_type": "markdown",
   "metadata": {},
   "source": [
    "### 9. Two Way ANOVA: 2 biến định tính lên 1 biến định lượng \n",
    "    Gia dinh: p_value > alpha : độc lập  \n",
    "#### 1. Dấu hiệu:\n",
    "- ANOVA hai chiều (Two-way ANOVA) được sử dụng khi bạn muốn kiểm tra sự ảnh hưởng của \n",
    "- hai biến độc lập định tính lên một biến phụ thuộc định lượng, và có thể kiểm tra \n",
    "- thêm sự tương tác giữa hai biến độc lập đó.\n",
    "  #\n",
    "- Ví dụ:\n",
    "  #\n",
    "- Giả sử bạn đang nghiên cứu ảnh hưởng của giới tính (Nam/Nữ) và loại thuốc (A/B/C) lên mức độ huyết áp.\n",
    "- Biến phụ thuộc (định lượng): Mức huyết áp (số đo thực tế).\n",
    "- Biến độc lập 1 (định tính): Giới tính (Nam/Nữ).\n",
    "- Biến độc lập 2 (định tính): Loại thuốc (A/B/C).\n",
    "\n",
    "- model = ols('HuyetAp ~ GioiTinh + LoaiThuoc + GioiTinh:LoaiThuoc', data=df).fit() </div>\n",
    "- Cái nào quan trọng thì xếp trước như quan tâm đến GioiTinh hơn LoaiThuoc"
   ]
  },
  {
   "cell_type": "code",
   "execution_count": 39,
   "metadata": {},
   "outputs": [
    {
     "name": "stdout",
     "output_type": "stream",
     "text": [
      "            df      sum_sq   mean_sq         F    PR(>F)\n",
      "GT         1.0    1.203141  1.203141  0.598960  0.440917\n",
      "KV         2.0    3.493206  1.746603  0.869512  0.422500\n",
      "GT:KV      2.0    7.349290  3.674645  1.829350  0.166186\n",
      "Residual  94.0  188.819363  2.008717       NaN       NaN\n"
     ]
    }
   ],
   "source": [
    "# Hay cho biet diem M1 co phu thuoc vao loai GT tren tung nhom KV hay khong\n",
    "\n",
    "model = ols('M1 ~ GT + KV + GT:KV',data=df).fit()\n",
    "result = sm.stats.anova_lm(model, type=2)\n",
    "print(result)\n",
    "# Note: loai truoc, nhom sau\n",
    "# xem giá trị pr(>F)\n",
    "# Độc lập trên từng GT với từng nhóm KV với M1\n"
   ]
  },
  {
   "cell_type": "code",
   "execution_count": 40,
   "metadata": {},
   "outputs": [
    {
     "name": "stdout",
     "output_type": "stream",
     "text": [
      "            df     sum_sq   mean_sq         F    PR(>F)\n",
      "KT         4.0   7.442679  1.860670  1.836390  0.129079\n",
      "KV         2.0   8.672703  4.336351  4.279766  0.016872\n",
      "KT:KV      8.0   7.087667  0.885958  0.874397  0.541329\n",
      "Residual  87.0  88.150282  1.013222       NaN       NaN\n"
     ]
    }
   ],
   "source": [
    "# M2 co phu thuoc tren tung nhom KV theo tung loai KT hay khong\n",
    "\n",
    "model = ols('M2 ~ KT + KV + KT:KV',data=df).fit()\n",
    "result = sm.stats.anova_lm(model, type=2)\n",
    "print(result)\n",
    "# ĐỘC LẬP\n",
    "# PHỤ THUỘC\n",
    "# ĐỘC LẬP"
   ]
  },
  {
   "cell_type": "code",
   "execution_count": 41,
   "metadata": {},
   "outputs": [
    {
     "name": "stdout",
     "output_type": "stream",
     "text": [
      "            df     sum_sq   mean_sq         F    PR(>F)\n",
      "KT         4.0   7.442679  1.860670  1.836390  0.129079\n",
      "KV         2.0   8.672703  4.336351  4.279766  0.016872\n",
      "KT:KV      8.0   7.087667  0.885958  0.874397  0.541329\n",
      "Residual  87.0  88.150282  1.013222       NaN       NaN\n"
     ]
    }
   ],
   "source": [
    "model = ols('M2 ~ KT + KV + KT:KV',data=df).fit()\n",
    "a = sm.stats.anova_lm(model, type=2)\n",
    "print(a)\n",
    "# M2 ĐỘC LẬP KT\n",
    "# M2 PHỤ THUỘC KV\n",
    "# M2 ĐỘC LẬP VỚI KV TRÊN TỪNG LOẠI KT"
   ]
  },
  {
   "cell_type": "markdown",
   "metadata": {},
   "source": [
    "<h3 style=\"color: yellow\">10. Phân tích hồi quy tuyến tính </h3>\n",
    "Mục đích: Phân tích tác động hay ảnh hưởng giữa các yếu tố đến mục tiêu ( thường dùng các biến định lượng )\n",
    "    "
   ]
  },
  {
   "cell_type": "code",
   "execution_count": 42,
   "metadata": {},
   "outputs": [
    {
     "name": "stdout",
     "output_type": "stream",
     "text": [
      "                            OLS Regression Results                            \n",
      "==============================================================================\n",
      "Dep. Variable:                      y   R-squared:                       0.000\n",
      "Model:                            OLS   Adj. R-squared:                 -0.010\n",
      "Method:                 Least Squares   F-statistic:                   0.03439\n",
      "Date:                Sat, 12 Oct 2024   Prob (F-statistic):              0.853\n",
      "Time:                        20:37:30   Log-Likelihood:                -145.41\n",
      "No. Observations:                 100   AIC:                             294.8\n",
      "Df Residuals:                      98   BIC:                             300.0\n",
      "Df Model:                           1                                         \n",
      "Covariance Type:            nonrobust                                         \n",
      "==============================================================================\n",
      "                 coef    std err          t      P>|t|      [0.025      0.975]\n",
      "------------------------------------------------------------------------------\n",
      "const          4.8238      0.295     16.338      0.000       4.238       5.410\n",
      "x1             0.0137      0.074      0.185      0.853      -0.133       0.160\n",
      "==============================================================================\n",
      "Omnibus:                        6.663   Durbin-Watson:                   1.749\n",
      "Prob(Omnibus):                  0.036   Jarque-Bera (JB):                6.173\n",
      "Skew:                           0.586   Prob(JB):                       0.0457\n",
      "Kurtosis:                       3.327   Cond. No.                         11.9\n",
      "==============================================================================\n",
      "\n",
      "Notes:\n",
      "[1] Standard Errors assume that the covariance matrix of the errors is correctly specified.\n"
     ]
    }
   ],
   "source": [
    "# Phan tich anh huong cua M1 --> M3\n",
    "# tim f : M3 = f(M1)\n",
    "#            = A_0 + A1 * M1\n",
    "\n",
    "# A_0 he so tu do (intercept) \n",
    "#A1: cot f\n",
    "# M1 bien doc lap\n",
    "# M3 bien phu thuoc = bien muc tieu\n",
    "# \n",
    "import statsmodels.api as sm\n",
    "X_with_constant = sm.add_constant(df[[\"M1\"]].values)\n",
    "y = df[['M3']].values\n",
    "result = sm.OLS(y, X_with_constant).fit()\n",
    "print(result.summary())\n",
    "# Cach doc \n",
    "# R-squared: 0.000 = 0.000 * 100% = 0% > 0.05 moi chap nhan\n",
    "#  Adj. R-squared =  -0.010\n",
    "#   Prob (F-statistic) =  0.853 > 5% ==> Mo hinh ko y nghi\n",
    "#   Prob (F-statistic) < 5% ==> Mo hinh co y nghia\n",
    "# A_0 = 4.8238\n",
    "# A_1 = cotf = 0.0137\n",
    "# Vay M3 = A_0 + A1 * M1 \n",
    "# <=> M3 =  4.8238 + 0.0137 * M1\n",
    "# Gia su M1 la 6.7 thi M3 la bao nhieu\n",
    "# M3 = f(6.7) = 4.8238 + 0.0137 * 6.7= 4.91\n",
    "# P>|t| = 0.853  > 0.05 ==> Khong y nghia\n"
   ]
  },
  {
   "cell_type": "code",
   "execution_count": 43,
   "metadata": {},
   "outputs": [
    {
     "name": "stdout",
     "output_type": "stream",
     "text": [
      "                            OLS Regression Results                            \n",
      "==============================================================================\n",
      "Dep. Variable:                      y   R-squared:                       0.008\n",
      "Model:                            OLS   Adj. R-squared:                 -0.002\n",
      "Method:                 Least Squares   F-statistic:                    0.8278\n",
      "Date:                Sat, 12 Oct 2024   Prob (F-statistic):              0.365\n",
      "Time:                        20:37:31   Log-Likelihood:                -145.00\n",
      "No. Observations:                 100   AIC:                             294.0\n",
      "Df Residuals:                      98   BIC:                             299.2\n",
      "Df Model:                           1                                         \n",
      "Covariance Type:            nonrobust                                         \n",
      "==============================================================================\n",
      "                 coef    std err          t      P>|t|      [0.025      0.975]\n",
      "------------------------------------------------------------------------------\n",
      "const          5.2575      0.433     12.139      0.000       4.398       6.117\n",
      "x1            -0.0899      0.099     -0.910      0.365      -0.286       0.106\n",
      "==============================================================================\n",
      "Omnibus:                        8.856   Durbin-Watson:                   1.716\n",
      "Prob(Omnibus):                  0.012   Jarque-Bera (JB):                8.604\n",
      "Skew:                           0.639   Prob(JB):                       0.0135\n",
      "Kurtosis:                       3.658   Cond. No.                         19.1\n",
      "==============================================================================\n",
      "\n",
      "Notes:\n",
      "[1] Standard Errors assume that the covariance matrix of the errors is correctly specified.\n"
     ]
    }
   ],
   "source": [
    "# Sinh vien kham pha anh huong cua M2 den diem thi M3\n",
    "# Cho biet M2 = 5.7, Hoi M3 duoc du bao bao nhieu\n",
    "# M3 = f(M2) = 5.2575 - 0.0899 * 5.7\n",
    "import statsmodels.api as sm\n",
    "X_with_constant = sm.add_constant(df[[\"M2\"]].values)\n",
    "y = df[['M3']].values\n",
    "result = sm.OLS(y, X_with_constant).fit()\n",
    "print(result.summary())"
   ]
  },
  {
   "cell_type": "code",
   "execution_count": 44,
   "metadata": {},
   "outputs": [
    {
     "name": "stdout",
     "output_type": "stream",
     "text": [
      "                            OLS Regression Results                            \n",
      "==============================================================================\n",
      "Dep. Variable:                      y   R-squared:                       0.009\n",
      "Model:                            OLS   Adj. R-squared:                 -0.012\n",
      "Method:                 Least Squares   F-statistic:                    0.4335\n",
      "Date:                Sat, 12 Oct 2024   Prob (F-statistic):              0.649\n",
      "Time:                        20:37:31   Log-Likelihood:                -144.98\n",
      "No. Observations:                 100   AIC:                             296.0\n",
      "Df Residuals:                      97   BIC:                             303.8\n",
      "Df Model:                           2                                         \n",
      "Covariance Type:            nonrobust                                         \n",
      "==============================================================================\n",
      "                 coef    std err          t      P>|t|      [0.025      0.975]\n",
      "------------------------------------------------------------------------------\n",
      "const          5.2006      0.508     10.241      0.000       4.193       6.209\n",
      "x1             0.0161      0.074      0.217      0.828      -0.131       0.163\n",
      "x2            -0.0906      0.099     -0.912      0.364      -0.288       0.107\n",
      "==============================================================================\n",
      "Omnibus:                        8.456   Durbin-Watson:                   1.724\n",
      "Prob(Omnibus):                  0.015   Jarque-Bera (JB):                8.119\n",
      "Skew:                           0.626   Prob(JB):                       0.0173\n",
      "Kurtosis:                       3.619   Cond. No.                         29.0\n",
      "==============================================================================\n",
      "\n",
      "Notes:\n",
      "[1] Standard Errors assume that the covariance matrix of the errors is correctly specified.\n",
      "Ket qua neu van muon lam =  4.844199999999999\n"
     ]
    }
   ],
   "source": [
    "# anh huong cua M1, M2 --> M3\n",
    "# M3 = f(M1, M2) = A0 + A1 * M1 + A2 * M2\n",
    "# =                 5.2006 +  0.0161  * M1  + ( -0.0906 ) * M2\n",
    "# Do P>|t|_m1 = 0.828  > 0.05 khong co y nghia \n",
    "# Do P>|t|_m2 = 0.364   > 0.05 khong co y nghia \n",
    "# F-statistic = 0.4335 < 0.05 moi co y nghia\n",
    "\n",
    "import statsmodels.api as sm\n",
    "X_with_constant = sm.add_constant(df[[\"M1\",\"M2\"]].values)\n",
    "y = df[['M3']].values\n",
    "result = sm.OLS(y, X_with_constant).fit()\n",
    "print(result.summary())\n",
    "a =   5.2006 +  0.0161  * 6  + ( -0.0906 ) * 5\n",
    "print(f'Ket qua neu van muon lam =  {a}')\n"
   ]
  },
  {
   "cell_type": "code",
   "execution_count": 45,
   "metadata": {},
   "outputs": [
    {
     "name": "stdout",
     "output_type": "stream",
     "text": [
      "                                 OLS Regression Results                                \n",
      "=======================================================================================\n",
      "Dep. Variable:                      y   R-squared (uncentered):                   0.911\n",
      "Model:                            OLS   Adj. R-squared (uncentered):              0.909\n",
      "Method:                 Least Squares   F-statistic:                              500.8\n",
      "Date:                Sat, 12 Oct 2024   Prob (F-statistic):                    3.54e-52\n",
      "Time:                        20:37:31   Log-Likelihood:                         -181.63\n",
      "No. Observations:                 100   AIC:                                      367.3\n",
      "Df Residuals:                      98   BIC:                                      372.5\n",
      "Df Model:                           2                                                  \n",
      "Covariance Type:            nonrobust                                                  \n",
      "==============================================================================\n",
      "                 coef    std err          t      P>|t|      [0.025      0.975]\n",
      "------------------------------------------------------------------------------\n",
      "x1             0.4062      0.091      4.466      0.000       0.226       0.587\n",
      "x2             0.7367      0.083      8.879      0.000       0.572       0.901\n",
      "==============================================================================\n",
      "Omnibus:                        3.155   Durbin-Watson:                   1.975\n",
      "Prob(Omnibus):                  0.206   Jarque-Bera (JB):                2.527\n",
      "Skew:                          -0.358   Prob(JB):                        0.283\n",
      "Kurtosis:                       3.306   Cond. No.                         4.65\n",
      "==============================================================================\n",
      "\n",
      "Notes:\n",
      "[1] R² is computed without centering (uncentered) since the model does not contain a constant.\n",
      "[2] Standard Errors assume that the covariance matrix of the errors is correctly specified.\n"
     ]
    }
   ],
   "source": [
    "# Danh gia Bien so nao tac dong den doi tuong\n",
    "# cho biet tac dong M1 M2 den M3\n",
    "X = df[[\"M1\",\"M2\"]].values\n",
    "y = df[['M3']].values\n",
    "result = sm.OLS(y, X).fit()\n",
    "print(result.summary())\n",
    "# coef lay tri tuyet doi --> cai nao lon hon thi tac dong M3 nhieu hon\n"
   ]
  }
 ],
 "metadata": {
  "kernelspec": {
   "display_name": "base",
   "language": "python",
   "name": "python3"
  },
  "language_info": {
   "codemirror_mode": {
    "name": "ipython",
    "version": 3
   },
   "file_extension": ".py",
   "mimetype": "text/x-python",
   "name": "python",
   "nbconvert_exporter": "python",
   "pygments_lexer": "ipython3",
   "version": "3.11.4"
  }
 },
 "nbformat": 4,
 "nbformat_minor": 2
}
