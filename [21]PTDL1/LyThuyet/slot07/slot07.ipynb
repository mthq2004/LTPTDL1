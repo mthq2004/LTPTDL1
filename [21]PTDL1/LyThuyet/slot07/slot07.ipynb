{
 "cells": [
  {
   "cell_type": "markdown",
   "metadata": {},
   "source": [
    "#### 1. Khái niệm quyết định câu (Decision Tree)\n"
   ]
  },
  {
   "cell_type": "markdown",
   "metadata": {},
   "source": [
    "##### Những đặc trưng ban đầu:\n",
    "1. Thời tiết\n",
    "2. Độ ẩm\n",
    "3. Gió\n",
    "\n",
    "\n",
    "<img src=\"./image1.png\"></img>\n"
   ]
  },
  {
   "cell_type": "code",
   "execution_count": 1,
   "metadata": {},
   "outputs": [],
   "source": [
    "# Cây quyết định là một mô hình học máy có giám sát. \n",
    "# Cây quyết định sẽ được xây dựng từ tập dữ liệu lịch sử dựa trên những đặc trưng feature và output target . \n",
    "# Để từ đó tùy theo từng input để sử dụng cây quyết định để đưa ra kết quả . Trong cây quyết định node sẽ là cấc đặc trưng\n",
    "# còn lá left sẽ các quyết định  "
   ]
  },
  {
   "cell_type": "code",
   "execution_count": 2,
   "metadata": {},
   "outputs": [
    {
     "data": {
      "text/html": [
       "<div>\n",
       "<style scoped>\n",
       "    .dataframe tbody tr th:only-of-type {\n",
       "        vertical-align: middle;\n",
       "    }\n",
       "\n",
       "    .dataframe tbody tr th {\n",
       "        vertical-align: top;\n",
       "    }\n",
       "\n",
       "    .dataframe thead th {\n",
       "        text-align: right;\n",
       "    }\n",
       "</style>\n",
       "<table border=\"1\" class=\"dataframe\">\n",
       "  <thead>\n",
       "    <tr style=\"text-align: right;\">\n",
       "      <th></th>\n",
       "      <th>Sức khỏe</th>\n",
       "      <th>Thời tiết</th>\n",
       "      <th>Kết quả</th>\n",
       "    </tr>\n",
       "  </thead>\n",
       "  <tbody>\n",
       "    <tr>\n",
       "      <th>0</th>\n",
       "      <td>ốm</td>\n",
       "      <td>u ám</td>\n",
       "      <td>nghỉ</td>\n",
       "    </tr>\n",
       "    <tr>\n",
       "      <th>1</th>\n",
       "      <td>ốm</td>\n",
       "      <td>mưa</td>\n",
       "      <td>nghỉ</td>\n",
       "    </tr>\n",
       "    <tr>\n",
       "      <th>2</th>\n",
       "      <td>ốm</td>\n",
       "      <td>nắng</td>\n",
       "      <td>nghỉ</td>\n",
       "    </tr>\n",
       "    <tr>\n",
       "      <th>3</th>\n",
       "      <td>ốm</td>\n",
       "      <td>u ám</td>\n",
       "      <td>học</td>\n",
       "    </tr>\n",
       "    <tr>\n",
       "      <th>4</th>\n",
       "      <td>tốt</td>\n",
       "      <td>u ám</td>\n",
       "      <td>học</td>\n",
       "    </tr>\n",
       "    <tr>\n",
       "      <th>5</th>\n",
       "      <td>tốt</td>\n",
       "      <td>mưa</td>\n",
       "      <td>học</td>\n",
       "    </tr>\n",
       "    <tr>\n",
       "      <th>6</th>\n",
       "      <td>tốt</td>\n",
       "      <td>nắng</td>\n",
       "      <td>nghỉ</td>\n",
       "    </tr>\n",
       "  </tbody>\n",
       "</table>\n",
       "</div>"
      ],
      "text/plain": [
       "  Sức khỏe Thời tiết Kết quả\n",
       "0       ốm      u ám    nghỉ\n",
       "1       ốm       mưa    nghỉ\n",
       "2       ốm      nắng    nghỉ\n",
       "3       ốm      u ám     học\n",
       "4      tốt      u ám     học\n",
       "5      tốt       mưa     học\n",
       "6      tốt      nắng    nghỉ"
      ]
     },
     "execution_count": 2,
     "metadata": {},
     "output_type": "execute_result"
    }
   ],
   "source": [
    "import pandas as pd\n",
    "df = pd.read_excel(\"lophoc.xlsx\")\n",
    "df"
   ]
  },
  {
   "cell_type": "markdown",
   "metadata": {},
   "source": [
    "#### 2. Đại lương Entropy: Giúp quyết định \n",
    "<p>  Entropy: là một đại lượng đo lường mức độ hỗn loạn của dữ liệu <br></p>\n",
    "<b>1. Entropy: Càng cao </b>\n",
    "\n",
    "-  Entropy: càng cao --> Mức độ hỗn loạn càng cao --> Trong dữ liệu chứ nhiều thông tin \n",
    "\n",
    "- Entropy: cao --> Thông tin bị vẩn đục, dơ \n",
    "\n",
    "--> Thông tin rất đa dạng \n",
    "  \n",
    "<b>2. Entropy: Càng thấp </b> \n",
    "- Khó đưa quyết định khi dữ liệu có Entropy cao \n",
    "-  Thông tin chứa ít --> Chất lượng thông tin trở nên pure (tinh khiết)\n",
    "-  ---> Thông tin kém đa dạng ---> Dễ đưa ra quyết định khi Entropy thấp  <br>\n",
    "  \n",
    "\n",
    "<b>3. Cách tính Entropy:  </b> \n",
    "\n",
    "<img src=\"./CachTinhENtropy.png\" style=\"width: 50%\"></img>\n"
   ]
  },
  {
   "cell_type": "markdown",
   "metadata": {},
   "source": [
    "#### Trong phân lớp nhị phân: Entropy phân lướp là có giá trị là tin cậy \n",
    "> <i><b>Entropy=−p \n",
    "1\n",
    "​\n",
    " log \n",
    "2\n",
    "​\n",
    " (p \n",
    "1\n",
    "​\n",
    " )−p \n",
    "2\n",
    "​\n",
    " log \n",
    "2\n",
    "​\n",
    " (p \n",
    "2\n",
    "​\n",
    " )</b></i>"
   ]
  },
  {
   "cell_type": "markdown",
   "metadata": {},
   "source": [
    "#### Entropy cap 2: "
   ]
  },
  {
   "cell_type": "code",
   "execution_count": 3,
   "metadata": {},
   "outputs": [
    {
     "name": "stdout",
     "output_type": "stream",
     "text": [
      "Entropy: 1.0\n"
     ]
    }
   ],
   "source": [
    "import math\n",
    "p1 = 4/8\n",
    "p2 = 4/8\n",
    "entropy = -(p1 * math.log2(p1)) - (p2 * math.log2(p2))\n",
    "\n",
    "print(\"Entropy:\", entropy)"
   ]
  },
  {
   "cell_type": "markdown",
   "metadata": {},
   "source": [
    "##### Information Gain : Là hàm số dùng để thể hiện tốc độ Entropy khi thực hiện phân nhanh dữ liệu, phân chia dữ liệu\n",
    "-  Công thuc: IG =  E - WE\n",
    "\n",
    "1. Giá trị IG càng cao ---> Tốc độ giảm Entropy càng cao --> Entropy càng thấp ---> Dễ đưa ra quyết định\n",
    "\n",
    "2. NHư vậy bản chấT GIẢI  thuật cây quyết định là tìm cách chọn lưa các đặc trưng để phân chia dữ liệu dựa vào địa lượng Information Gain\n",
    "3. Nếu có nhiều cách phân chia thì ta chọn IG lớn nhất \n"
   ]
  },
  {
   "cell_type": "markdown",
   "metadata": {},
   "source": [
    "<img src=\"./a.png\" style=\"width: 50%\"></img>"
   ]
  },
  {
   "cell_type": "markdown",
   "metadata": {},
   "source": [
    "##### IG lớn ---> CHọn thằng đó "
   ]
  },
  {
   "cell_type": "markdown",
   "metadata": {},
   "source": []
  },
  {
   "cell_type": "code",
   "execution_count": 4,
   "metadata": {},
   "outputs": [
    {
     "name": "stdout",
     "output_type": "stream",
     "text": [
      "Entropy: -0.679142857142857\n"
     ]
    }
   ],
   "source": [
    "# Tính ENtroppy \n",
    "import math\n",
    "\n",
    "\n",
    "entropyR = -0.918 * 3/7 - 1 * 2/7\n",
    "\n",
    "print(\"Entropy:\", entropyR)"
   ]
  },
  {
   "cell_type": "markdown",
   "metadata": {},
   "source": [
    "<img src=\"./img2.png\"></img>"
   ]
  },
  {
   "cell_type": "markdown",
   "metadata": {},
   "source": [
    "<img src=\"./moHinh.png\"></img>"
   ]
  },
  {
   "cell_type": "markdown",
   "metadata": {},
   "source": [
    "# BAi Tap"
   ]
  },
  {
   "cell_type": "code",
   "execution_count": 5,
   "metadata": {},
   "outputs": [],
   "source": [
    "import pandas as pd\n",
    "from sklearn.tree import DecisionTreeClassifier\n",
    "from sklearn.model_selection import train_test_split\n",
    "from sklearn import metrics"
   ]
  },
  {
   "cell_type": "code",
   "execution_count": 6,
   "metadata": {},
   "outputs": [
    {
     "data": {
      "text/html": [
       "<div>\n",
       "<style scoped>\n",
       "    .dataframe tbody tr th:only-of-type {\n",
       "        vertical-align: middle;\n",
       "    }\n",
       "\n",
       "    .dataframe tbody tr th {\n",
       "        vertical-align: top;\n",
       "    }\n",
       "\n",
       "    .dataframe thead th {\n",
       "        text-align: right;\n",
       "    }\n",
       "</style>\n",
       "<table border=\"1\" class=\"dataframe\">\n",
       "  <thead>\n",
       "    <tr style=\"text-align: right;\">\n",
       "      <th></th>\n",
       "      <th>Sức khỏe</th>\n",
       "      <th>Thời tiết</th>\n",
       "      <th>Kết quả</th>\n",
       "    </tr>\n",
       "  </thead>\n",
       "  <tbody>\n",
       "    <tr>\n",
       "      <th>0</th>\n",
       "      <td>ốm</td>\n",
       "      <td>u ám</td>\n",
       "      <td>nghỉ</td>\n",
       "    </tr>\n",
       "    <tr>\n",
       "      <th>1</th>\n",
       "      <td>ốm</td>\n",
       "      <td>mưa</td>\n",
       "      <td>nghỉ</td>\n",
       "    </tr>\n",
       "    <tr>\n",
       "      <th>2</th>\n",
       "      <td>ốm</td>\n",
       "      <td>nắng</td>\n",
       "      <td>nghỉ</td>\n",
       "    </tr>\n",
       "    <tr>\n",
       "      <th>3</th>\n",
       "      <td>ốm</td>\n",
       "      <td>u ám</td>\n",
       "      <td>học</td>\n",
       "    </tr>\n",
       "    <tr>\n",
       "      <th>4</th>\n",
       "      <td>tốt</td>\n",
       "      <td>u ám</td>\n",
       "      <td>học</td>\n",
       "    </tr>\n",
       "    <tr>\n",
       "      <th>5</th>\n",
       "      <td>tốt</td>\n",
       "      <td>mưa</td>\n",
       "      <td>học</td>\n",
       "    </tr>\n",
       "    <tr>\n",
       "      <th>6</th>\n",
       "      <td>tốt</td>\n",
       "      <td>nắng</td>\n",
       "      <td>nghỉ</td>\n",
       "    </tr>\n",
       "  </tbody>\n",
       "</table>\n",
       "</div>"
      ],
      "text/plain": [
       "  Sức khỏe Thời tiết Kết quả\n",
       "0       ốm      u ám    nghỉ\n",
       "1       ốm       mưa    nghỉ\n",
       "2       ốm      nắng    nghỉ\n",
       "3       ốm      u ám     học\n",
       "4      tốt      u ám     học\n",
       "5      tốt       mưa     học\n",
       "6      tốt      nắng    nghỉ"
      ]
     },
     "execution_count": 6,
     "metadata": {},
     "output_type": "execute_result"
    }
   ],
   "source": [
    "df = pd.read_excel(\"lophoc.xlsx\", sheet_name='data')\n",
    "df"
   ]
  },
  {
   "cell_type": "code",
   "execution_count": 7,
   "metadata": {},
   "outputs": [
    {
     "data": {
      "text/html": [
       "<div>\n",
       "<style scoped>\n",
       "    .dataframe tbody tr th:only-of-type {\n",
       "        vertical-align: middle;\n",
       "    }\n",
       "\n",
       "    .dataframe tbody tr th {\n",
       "        vertical-align: top;\n",
       "    }\n",
       "\n",
       "    .dataframe thead th {\n",
       "        text-align: right;\n",
       "    }\n",
       "</style>\n",
       "<table border=\"1\" class=\"dataframe\">\n",
       "  <thead>\n",
       "    <tr style=\"text-align: right;\">\n",
       "      <th></th>\n",
       "      <th>Sức khỏe</th>\n",
       "      <th>Thời tiết</th>\n",
       "    </tr>\n",
       "  </thead>\n",
       "  <tbody>\n",
       "    <tr>\n",
       "      <th>0</th>\n",
       "      <td>ốm</td>\n",
       "      <td>u ám</td>\n",
       "    </tr>\n",
       "    <tr>\n",
       "      <th>1</th>\n",
       "      <td>ốm</td>\n",
       "      <td>mưa</td>\n",
       "    </tr>\n",
       "    <tr>\n",
       "      <th>2</th>\n",
       "      <td>ốm</td>\n",
       "      <td>nắng</td>\n",
       "    </tr>\n",
       "    <tr>\n",
       "      <th>3</th>\n",
       "      <td>ốm</td>\n",
       "      <td>u ám</td>\n",
       "    </tr>\n",
       "    <tr>\n",
       "      <th>4</th>\n",
       "      <td>tốt</td>\n",
       "      <td>u ám</td>\n",
       "    </tr>\n",
       "    <tr>\n",
       "      <th>5</th>\n",
       "      <td>tốt</td>\n",
       "      <td>mưa</td>\n",
       "    </tr>\n",
       "    <tr>\n",
       "      <th>6</th>\n",
       "      <td>tốt</td>\n",
       "      <td>nắng</td>\n",
       "    </tr>\n",
       "  </tbody>\n",
       "</table>\n",
       "</div>"
      ],
      "text/plain": [
       "  Sức khỏe Thời tiết\n",
       "0       ốm      u ám\n",
       "1       ốm       mưa\n",
       "2       ốm      nắng\n",
       "3       ốm      u ám\n",
       "4      tốt      u ám\n",
       "5      tốt       mưa\n",
       "6      tốt      nắng"
      ]
     },
     "execution_count": 7,
     "metadata": {},
     "output_type": "execute_result"
    }
   ],
   "source": [
    "# Tạo dữ liệu Input (đặc trưng) và Output (Mục tiêu)\n",
    "X = df.iloc[:, :-1]\n",
    "\n",
    "y = df.iloc[:, -1]\n",
    "\n",
    "X"
   ]
  },
  {
   "cell_type": "code",
   "execution_count": 8,
   "metadata": {},
   "outputs": [
    {
     "name": "stderr",
     "output_type": "stream",
     "text": [
      "C:\\Users\\LENOVO\\AppData\\Local\\Temp\\ipykernel_12604\\2882001989.py:4: SettingWithCopyWarning: \n",
      "A value is trying to be set on a copy of a slice from a DataFrame.\n",
      "Try using .loc[row_indexer,col_indexer] = value instead\n",
      "\n",
      "See the caveats in the documentation: https://pandas.pydata.org/pandas-docs/stable/user_guide/indexing.html#returning-a-view-versus-a-copy\n",
      "  X['Sức khỏe']= enHealth.fit_transform(X['Sức khỏe'])\n",
      "C:\\Users\\LENOVO\\AppData\\Local\\Temp\\ipykernel_12604\\2882001989.py:7: SettingWithCopyWarning: \n",
      "A value is trying to be set on a copy of a slice from a DataFrame.\n",
      "Try using .loc[row_indexer,col_indexer] = value instead\n",
      "\n",
      "See the caveats in the documentation: https://pandas.pydata.org/pandas-docs/stable/user_guide/indexing.html#returning-a-view-versus-a-copy\n",
      "  X['Thời tiết']= enWeather.fit_transform(X['Thời tiết'])\n"
     ]
    },
    {
     "data": {
      "text/html": [
       "<div>\n",
       "<style scoped>\n",
       "    .dataframe tbody tr th:only-of-type {\n",
       "        vertical-align: middle;\n",
       "    }\n",
       "\n",
       "    .dataframe tbody tr th {\n",
       "        vertical-align: top;\n",
       "    }\n",
       "\n",
       "    .dataframe thead th {\n",
       "        text-align: right;\n",
       "    }\n",
       "</style>\n",
       "<table border=\"1\" class=\"dataframe\">\n",
       "  <thead>\n",
       "    <tr style=\"text-align: right;\">\n",
       "      <th></th>\n",
       "      <th>Sức khỏe</th>\n",
       "      <th>Thời tiết</th>\n",
       "    </tr>\n",
       "  </thead>\n",
       "  <tbody>\n",
       "    <tr>\n",
       "      <th>0</th>\n",
       "      <td>1</td>\n",
       "      <td>2</td>\n",
       "    </tr>\n",
       "    <tr>\n",
       "      <th>1</th>\n",
       "      <td>1</td>\n",
       "      <td>0</td>\n",
       "    </tr>\n",
       "    <tr>\n",
       "      <th>2</th>\n",
       "      <td>1</td>\n",
       "      <td>1</td>\n",
       "    </tr>\n",
       "    <tr>\n",
       "      <th>3</th>\n",
       "      <td>1</td>\n",
       "      <td>2</td>\n",
       "    </tr>\n",
       "    <tr>\n",
       "      <th>4</th>\n",
       "      <td>0</td>\n",
       "      <td>2</td>\n",
       "    </tr>\n",
       "    <tr>\n",
       "      <th>5</th>\n",
       "      <td>0</td>\n",
       "      <td>0</td>\n",
       "    </tr>\n",
       "    <tr>\n",
       "      <th>6</th>\n",
       "      <td>0</td>\n",
       "      <td>1</td>\n",
       "    </tr>\n",
       "  </tbody>\n",
       "</table>\n",
       "</div>"
      ],
      "text/plain": [
       "   Sức khỏe  Thời tiết\n",
       "0         1          2\n",
       "1         1          0\n",
       "2         1          1\n",
       "3         1          2\n",
       "4         0          2\n",
       "5         0          0\n",
       "6         0          1"
      ]
     },
     "execution_count": 8,
     "metadata": {},
     "output_type": "execute_result"
    }
   ],
   "source": [
    "from sklearn.preprocessing import LabelEncoder\n",
    "enHealth = LabelEncoder()\n",
    "\n",
    "X['Sức khỏe']= enHealth.fit_transform(X['Sức khỏe'])\n",
    "\n",
    "enWeather = LabelEncoder()\n",
    "X['Thời tiết']= enWeather.fit_transform(X['Thời tiết'])\n",
    "X\n"
   ]
  },
  {
   "cell_type": "code",
   "execution_count": 9,
   "metadata": {},
   "outputs": [],
   "source": [
    "# Trước khi đưa vào mô hình cắt dữ liệu làm đôi\n",
    "X_train , X_test , y_train, y_test = train_test_split(X, y, test_size=0.2, random_state=34)\n"
   ]
  },
  {
   "cell_type": "code",
   "execution_count": 10,
   "metadata": {},
   "outputs": [],
   "source": [
    "# Nếu dùng IG phân chia nhanh thì dùng criterion=\"entropy\"\n",
    "# Mik dang dung giai thuat ID3\n",
    "# max_depth=3 giới thiệu chiều cao của cây "
   ]
  },
  {
   "cell_type": "code",
   "execution_count": 11,
   "metadata": {},
   "outputs": [],
   "source": [
    "modelDT = DecisionTreeClassifier(criterion=\"entropy\", random_state=34)\n",
    "modelDT = modelDT.fit(X_train, y_train)\n"
   ]
  },
  {
   "cell_type": "code",
   "execution_count": 12,
   "metadata": {},
   "outputs": [
    {
     "data": {
      "text/plain": [
       "array(['học', 'nghỉ'], dtype=object)"
      ]
     },
     "execution_count": 12,
     "metadata": {},
     "output_type": "execute_result"
    }
   ],
   "source": [
    "# Phân lớp: Học nghỉ\n",
    "modelDT.classes_"
   ]
  },
  {
   "cell_type": "code",
   "execution_count": 13,
   "metadata": {},
   "outputs": [
    {
     "data": {
      "text/plain": [
       "Index(['Sức khỏe', 'Thời tiết'], dtype='object')"
      ]
     },
     "execution_count": 13,
     "metadata": {},
     "output_type": "execute_result"
    }
   ],
   "source": [
    "from sklearn.tree import plot_tree\n",
    "import matplotlib.pyplot as plt\n",
    "\n",
    "feature_cols = X_train.columns\n",
    "feature_cols\n"
   ]
  },
  {
   "cell_type": "code",
   "execution_count": 14,
   "metadata": {},
   "outputs": [
    {
     "data": {
      "image/png": "[encoded data removed]",
      "text/plain": [
       "<Figure size 1500x1000 with 1 Axes>"
      ]
     },
     "metadata": {},
     "output_type": "display_data"
    }
   ],
   "source": [
    "from sklearn.tree import plot_tree\n",
    "import matplotlib.pyplot as plt\n",
    "\n",
    "# Convert feature columns to a list of strings\n",
    "feature_cols = list(X_train.columns.astype(str))\n",
    "\n",
    "# Convert class names to a list of strings\n",
    "class_names = list(modelDT.classes_.astype(str))\n",
    "\n",
    "# Plot the decision tree\n",
    "plt.figure(figsize=(15, 10))\n",
    "plot_tree(modelDT, feature_names=feature_cols, \n",
    "          class_names=class_names, fontsize=12, filled=True)\n",
    "\n",
    "plt.show()\n",
    "# Mua: 0\n",
    "# Nang: 1\n",
    "# U am: 2\n",
    "# Chieu cao cay: 3\n"
   ]
  },
  {
   "cell_type": "code",
   "execution_count": 15,
   "metadata": {},
   "outputs": [
    {
     "name": "stdout",
     "output_type": "stream",
     "text": [
      "Accuracy: 0.5\n"
     ]
    }
   ],
   "source": [
    "# Đánh giá mô hình\n",
    "y_test_pred = modelDT.predict(X_test)\n",
    "\n",
    "print(\"Accuracy:\", metrics.accuracy_score(y_test, y_test_pred))"
   ]
  },
  {
   "cell_type": "code",
   "execution_count": 16,
   "metadata": {},
   "outputs": [
    {
     "data": {
      "text/plain": [
       "array([[0, 1],\n",
       "       [0, 1]], dtype=int64)"
      ]
     },
     "execution_count": 16,
     "metadata": {},
     "output_type": "execute_result"
    }
   ],
   "source": [
    "from sklearn.metrics import confusion_matrix\n",
    "cf_matrix = confusion_matrix(y_test, y_test_pred)\n",
    "\n",
    "cf_matrix"
   ]
  },
  {
   "cell_type": "code",
   "execution_count": 17,
   "metadata": {},
   "outputs": [
    {
     "ename": "NameError",
     "evalue": "name 'encHealth' is not defined",
     "output_type": "error",
     "traceback": [
      "\u001b[1;31m---------------------------------------------------------------------------\u001b[0m",
      "\u001b[1;31mNameError\u001b[0m                                 Traceback (most recent call last)",
      "Cell \u001b[1;32mIn[17], line 3\u001b[0m\n\u001b[0;32m      1\u001b[0m \u001b[38;5;28;01mimport\u001b[39;00m \u001b[38;5;21;01mnumpy\u001b[39;00m \u001b[38;5;28;01mas\u001b[39;00m \u001b[38;5;21;01mnp\u001b[39;00m\n\u001b[0;32m      2\u001b[0m healthy \u001b[38;5;241m=\u001b[39m \u001b[38;5;124m'\u001b[39m\u001b[38;5;124mốm\u001b[39m\u001b[38;5;124m'\u001b[39m\n\u001b[1;32m----> 3\u001b[0m healthy_scaled \u001b[38;5;241m=\u001b[39m encHealth\u001b[38;5;241m.\u001b[39mtransform([healthy])\n\u001b[0;32m      5\u001b[0m weather \u001b[38;5;241m=\u001b[39m \u001b[38;5;124m'\u001b[39m\u001b[38;5;124mnắng\u001b[39m\u001b[38;5;124m'\u001b[39m\n\u001b[0;32m      6\u001b[0m weather_scaled \u001b[38;5;241m=\u001b[39m encHealth\u001b[38;5;241m.\u001b[39mtransform([weather])\n",
      "\u001b[1;31mNameError\u001b[0m: name 'encHealth' is not defined"
     ]
    }
   ],
   "source": [
    "import numpy as np\n",
    "healthy = 'ốm'\n",
    "healthy_scaled = encHealth.transform([healthy])\n",
    "\n",
    "weather = 'nắng'\n",
    "weather_scaled = encHealth.transform([weather])\n",
    "\n",
    "feature_sample = np.array([healthy_scaled[0], weather_scaled[0]])\n",
    "\n",
    "y_sample_pred = modelDT.predict([feature_sample])\n",
    "y_sample_pred\n",
    "\n"
   ]
  },
  {
   "cell_type": "markdown",
   "metadata": {},
   "source": [
    "Dựa trên sơ đồ Tree hãy tính IG mức độ giảm ENtropy từ thằng Gốc chia ra 2 thằng cam ,xanh"
   ]
  }
 ],
 "metadata": {
  "kernelspec": {
   "display_name": "base",
   "language": "python",
   "name": "python3"
  },
  "language_info": {
   "codemirror_mode": {
    "name": "ipython",
    "version": 3
   },
   "file_extension": ".py",
   "mimetype": "text/x-python",
   "name": "python",
   "nbconvert_exporter": "python",
   "pygments_lexer": "ipython3",
   "version": "3.11.4"
  }
 },
 "nbformat": 4,
 "nbformat_minor": 2
}
