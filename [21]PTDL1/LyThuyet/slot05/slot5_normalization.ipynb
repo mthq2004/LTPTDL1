{
 "cells": [
  {
   "cell_type": "markdown",
   "metadata": {},
   "source": [
    "#### 1. Giới Thiệu Các Phương Pháp Biến Đổi Dữ Liệu\n",
    "\n",
    "##### Phương pháp biến đổi hàm số\n",
    "- **Normalization**: Chuẩn hóa dữ liệu vào một khoảng nhất định, thường là từ 0 đến 1.\n",
    "- **Standardization**: Biến đổi dữ liệu để có trung bình bằng 0 và độ lệch chuẩn bằng 1.\n",
    "- **Function**: Chỉ ra rằng các biến đổi hàm số cũng có thể được áp dụng để xử lý dữ liệu.\n"
   ]
  },
  {
   "cell_type": "markdown",
   "metadata": {},
   "source": [
    "#### 2. Tạo DataFrame với Dữ Liệu Ví Dụ"
   ]
  },
  {
   "cell_type": "code",
   "execution_count": 100,
   "metadata": {},
   "outputs": [],
   "source": [
    "import pandas as pd"
   ]
  },
  {
   "cell_type": "markdown",
   "metadata": {},
   "source": [
    "Giải thích: Tạo một DataFrame df chứa ba cột: Year, HCM (lương ở Hồ Chí Minh), và LA (lương ở Los Angeles)."
   ]
  },
  {
   "cell_type": "code",
   "execution_count": 101,
   "metadata": {},
   "outputs": [
    {
     "data": {
      "text/html": [
       "<div>\n",
       "<style scoped>\n",
       "    .dataframe tbody tr th:only-of-type {\n",
       "        vertical-align: middle;\n",
       "    }\n",
       "\n",
       "    .dataframe tbody tr th {\n",
       "        vertical-align: top;\n",
       "    }\n",
       "\n",
       "    .dataframe thead th {\n",
       "        text-align: right;\n",
       "    }\n",
       "</style>\n",
       "<table border=\"1\" class=\"dataframe\">\n",
       "  <thead>\n",
       "    <tr style=\"text-align: right;\">\n",
       "      <th></th>\n",
       "      <th>Year</th>\n",
       "      <th>HCM</th>\n",
       "      <th>LA</th>\n",
       "    </tr>\n",
       "  </thead>\n",
       "  <tbody>\n",
       "    <tr>\n",
       "      <th>0</th>\n",
       "      <td>2010</td>\n",
       "      <td>8.5</td>\n",
       "      <td>5.5</td>\n",
       "    </tr>\n",
       "    <tr>\n",
       "      <th>1</th>\n",
       "      <td>2011</td>\n",
       "      <td>9.0</td>\n",
       "      <td>6.0</td>\n",
       "    </tr>\n",
       "    <tr>\n",
       "      <th>2</th>\n",
       "      <td>2012</td>\n",
       "      <td>10.5</td>\n",
       "      <td>6.0</td>\n",
       "    </tr>\n",
       "    <tr>\n",
       "      <th>3</th>\n",
       "      <td>2013</td>\n",
       "      <td>12.0</td>\n",
       "      <td>5.5</td>\n",
       "    </tr>\n",
       "    <tr>\n",
       "      <th>4</th>\n",
       "      <td>2014</td>\n",
       "      <td>11.0</td>\n",
       "      <td>6.0</td>\n",
       "    </tr>\n",
       "    <tr>\n",
       "      <th>5</th>\n",
       "      <td>2015</td>\n",
       "      <td>10.0</td>\n",
       "      <td>5.0</td>\n",
       "    </tr>\n",
       "  </tbody>\n",
       "</table>\n",
       "</div>"
      ],
      "text/plain": [
       "   Year   HCM   LA\n",
       "0  2010   8.5  5.5\n",
       "1  2011   9.0  6.0\n",
       "2  2012  10.5  6.0\n",
       "3  2013  12.0  5.5\n",
       "4  2014  11.0  6.0\n",
       "5  2015  10.0  5.0"
      ]
     },
     "execution_count": 101,
     "metadata": {},
     "output_type": "execute_result"
    }
   ],
   "source": [
    "year = [2010,2011,2012,2013,2014,2015]\n",
    "\n",
    "salaryHCM = [8.5,9.0,10.5,12.0,11.0,10.0]\n",
    "\n",
    "salaryLA = [5.5,6.0,6.0,5.5,6.0,5.0]\n",
    "\n",
    "df = pd.DataFrame(list(zip(year, salaryHCM,salaryLA)),\n",
    "                  columns=['Year', 'HCM','LA'])\n",
    "df"
   ]
  },
  {
   "cell_type": "markdown",
   "metadata": {},
   "source": [
    "#\n",
    "- int32 => 2^32\n",
    "- int64 => 2^64"
   ]
  },
  {
   "cell_type": "markdown",
   "metadata": {},
   "source": [
    "<h3 style=\"color: skyblue\">3.  Max Absolute Scaling</h3>\n"
   ]
  },
  {
   "cell_type": "markdown",
   "metadata": {},
   "source": [
    "- Giải thích: Phần này đề cập đến phương pháp chuẩn hóa dựa trên giá trị tuyệt đối lớn nhất. <br>\n",
    "- Max Absolute Scaling là một phương pháp chuẩn hóa dữ liệu, trong đó mỗi giá trị trong cột được chia cho giá trị tuyệt đối lớn nhất trong cột đó. Mục đích là để đưa tất cả các giá trị về khoảng [-1, 1]."
   ]
  },
  {
   "cell_type": "markdown",
   "metadata": {},
   "source": [
    "##### Ví dụ cho `macLA`\n",
    "\n",
    "**Năm 2011**:\n",
    "- Giá trị `LA` = 6.0, và giá trị lớn nhất trong `LA` là 6.0.\n",
    "\n",
    "**Tính toán**:\n",
    " macLA= 6.0/6.0 = 1.0\n",
    "\n"
   ]
  },
  {
   "cell_type": "code",
   "execution_count": 102,
   "metadata": {},
   "outputs": [
    {
     "data": {
      "text/html": [
       "<div>\n",
       "<style scoped>\n",
       "    .dataframe tbody tr th:only-of-type {\n",
       "        vertical-align: middle;\n",
       "    }\n",
       "\n",
       "    .dataframe tbody tr th {\n",
       "        vertical-align: top;\n",
       "    }\n",
       "\n",
       "    .dataframe thead th {\n",
       "        text-align: right;\n",
       "    }\n",
       "</style>\n",
       "<table border=\"1\" class=\"dataframe\">\n",
       "  <thead>\n",
       "    <tr style=\"text-align: right;\">\n",
       "      <th></th>\n",
       "      <th>Year</th>\n",
       "      <th>HCM</th>\n",
       "      <th>LA</th>\n",
       "      <th>macLA</th>\n",
       "    </tr>\n",
       "  </thead>\n",
       "  <tbody>\n",
       "    <tr>\n",
       "      <th>0</th>\n",
       "      <td>2010</td>\n",
       "      <td>8.5</td>\n",
       "      <td>5.5</td>\n",
       "      <td>0.916667</td>\n",
       "    </tr>\n",
       "    <tr>\n",
       "      <th>1</th>\n",
       "      <td>2011</td>\n",
       "      <td>9.0</td>\n",
       "      <td>6.0</td>\n",
       "      <td>1.000000</td>\n",
       "    </tr>\n",
       "    <tr>\n",
       "      <th>2</th>\n",
       "      <td>2012</td>\n",
       "      <td>10.5</td>\n",
       "      <td>6.0</td>\n",
       "      <td>1.000000</td>\n",
       "    </tr>\n",
       "    <tr>\n",
       "      <th>3</th>\n",
       "      <td>2013</td>\n",
       "      <td>12.0</td>\n",
       "      <td>5.5</td>\n",
       "      <td>0.916667</td>\n",
       "    </tr>\n",
       "    <tr>\n",
       "      <th>4</th>\n",
       "      <td>2014</td>\n",
       "      <td>11.0</td>\n",
       "      <td>6.0</td>\n",
       "      <td>1.000000</td>\n",
       "    </tr>\n",
       "    <tr>\n",
       "      <th>5</th>\n",
       "      <td>2015</td>\n",
       "      <td>10.0</td>\n",
       "      <td>5.0</td>\n",
       "      <td>0.833333</td>\n",
       "    </tr>\n",
       "  </tbody>\n",
       "</table>\n",
       "</div>"
      ],
      "text/plain": [
       "   Year   HCM   LA     macLA\n",
       "0  2010   8.5  5.5  0.916667\n",
       "1  2011   9.0  6.0  1.000000\n",
       "2  2012  10.5  6.0  1.000000\n",
       "3  2013  12.0  5.5  0.916667\n",
       "4  2014  11.0  6.0  1.000000\n",
       "5  2015  10.0  5.0  0.833333"
      ]
     },
     "execution_count": 102,
     "metadata": {},
     "output_type": "execute_result"
    }
   ],
   "source": [
    "# Hướng dẫn max absolute scale về đoạn [-1,1]\n",
    "max_la = df['LA'].abs().max()\n",
    "df['macLA'] = df['LA'] / max_la\n",
    "\n",
    "df\n",
    "\n",
    "# x_moi = x / max(|x|)"
   ]
  },
  {
   "cell_type": "code",
   "execution_count": 103,
   "metadata": {},
   "outputs": [
    {
     "data": {
      "text/html": [
       "<div>\n",
       "<style scoped>\n",
       "    .dataframe tbody tr th:only-of-type {\n",
       "        vertical-align: middle;\n",
       "    }\n",
       "\n",
       "    .dataframe tbody tr th {\n",
       "        vertical-align: top;\n",
       "    }\n",
       "\n",
       "    .dataframe thead th {\n",
       "        text-align: right;\n",
       "    }\n",
       "</style>\n",
       "<table border=\"1\" class=\"dataframe\">\n",
       "  <thead>\n",
       "    <tr style=\"text-align: right;\">\n",
       "      <th></th>\n",
       "      <th>Year</th>\n",
       "      <th>HCM</th>\n",
       "      <th>LA</th>\n",
       "      <th>macLA</th>\n",
       "      <th>macHCM</th>\n",
       "    </tr>\n",
       "  </thead>\n",
       "  <tbody>\n",
       "    <tr>\n",
       "      <th>0</th>\n",
       "      <td>2010</td>\n",
       "      <td>8.5</td>\n",
       "      <td>5.5</td>\n",
       "      <td>0.916667</td>\n",
       "      <td>0.708333</td>\n",
       "    </tr>\n",
       "    <tr>\n",
       "      <th>1</th>\n",
       "      <td>2011</td>\n",
       "      <td>9.0</td>\n",
       "      <td>6.0</td>\n",
       "      <td>1.000000</td>\n",
       "      <td>0.750000</td>\n",
       "    </tr>\n",
       "    <tr>\n",
       "      <th>2</th>\n",
       "      <td>2012</td>\n",
       "      <td>10.5</td>\n",
       "      <td>6.0</td>\n",
       "      <td>1.000000</td>\n",
       "      <td>0.875000</td>\n",
       "    </tr>\n",
       "    <tr>\n",
       "      <th>3</th>\n",
       "      <td>2013</td>\n",
       "      <td>12.0</td>\n",
       "      <td>5.5</td>\n",
       "      <td>0.916667</td>\n",
       "      <td>1.000000</td>\n",
       "    </tr>\n",
       "    <tr>\n",
       "      <th>4</th>\n",
       "      <td>2014</td>\n",
       "      <td>11.0</td>\n",
       "      <td>6.0</td>\n",
       "      <td>1.000000</td>\n",
       "      <td>0.916667</td>\n",
       "    </tr>\n",
       "    <tr>\n",
       "      <th>5</th>\n",
       "      <td>2015</td>\n",
       "      <td>10.0</td>\n",
       "      <td>5.0</td>\n",
       "      <td>0.833333</td>\n",
       "      <td>0.833333</td>\n",
       "    </tr>\n",
       "  </tbody>\n",
       "</table>\n",
       "</div>"
      ],
      "text/plain": [
       "   Year   HCM   LA     macLA    macHCM\n",
       "0  2010   8.5  5.5  0.916667  0.708333\n",
       "1  2011   9.0  6.0  1.000000  0.750000\n",
       "2  2012  10.5  6.0  1.000000  0.875000\n",
       "3  2013  12.0  5.5  0.916667  1.000000\n",
       "4  2014  11.0  6.0  1.000000  0.916667\n",
       "5  2015  10.0  5.0  0.833333  0.833333"
      ]
     },
     "execution_count": 103,
     "metadata": {},
     "output_type": "execute_result"
    }
   ],
   "source": [
    "max_la = df['HCM'].abs().max()\n",
    "df['macHCM'] = df['HCM'] / max_la\n",
    "\n",
    "df\n"
   ]
  },
  {
   "cell_type": "markdown",
   "metadata": {},
   "source": [
    "<h3 style=\"color: skyblue\">4. Sử Dụng MaxAbsScaler<h3>\n"
   ]
  },
  {
   "cell_type": "markdown",
   "metadata": {},
   "source": [
    "Giải thích: Sử dụng MaxAbsScaler từ sklearn để chuẩn hóa dữ liệu về khoảng [-1, 1] dựa trên giá trị tuyệt đối lớn nhất."
   ]
  },
  {
   "cell_type": "markdown",
   "metadata": {},
   "source": [
    "\n",
    "1. Tính Toán Giá Trị Lớn Nhất\n",
    "\n",
    "Cột HCM: <br>\n",
    "Giá trị lớn nhất là 12.0.<br>\n",
    "8.5 / 12.0 =  0.708333\n",
    "\n",
    "\n",
    "Cột LA:<br>\n",
    "Giá trị lớn nhất là 6.0.\n",
    "<br>5.5 /6.0 = 0.916667\n"
   ]
  },
  {
   "cell_type": "code",
   "execution_count": 104,
   "metadata": {},
   "outputs": [
    {
     "name": "stdout",
     "output_type": "stream",
     "text": [
      "        HCM        LA\n",
      "0  0.708333  0.916667\n",
      "1  0.750000  1.000000\n",
      "2  0.875000  1.000000\n",
      "3  1.000000  0.916667\n",
      "4  0.916667  1.000000\n",
      "5  0.833333  0.833333\n"
     ]
    }
   ],
   "source": [
    "from sklearn.preprocessing import MaxAbsScaler\n",
    "scaler = MaxAbsScaler()\n",
    "scaled = scaler.fit_transform(df[['HCM','LA']])\n",
    "scaled_df = pd.DataFrame(scaled, columns=df[['HCM','LA']].columns)\n",
    "\n",
    "print(scaled_df)\n"
   ]
  },
  {
   "cell_type": "markdown",
   "metadata": {},
   "source": [
    "##### 5. Dùng Scaler Để Chuyển Đổi Giá Trị Mới"
   ]
  },
  {
   "cell_type": "code",
   "execution_count": 105,
   "metadata": {},
   "outputs": [
    {
     "name": "stderr",
     "output_type": "stream",
     "text": [
      "c:\\Users\\LENOVO\\anaconda3\\Lib\\site-packages\\sklearn\\base.py:464: UserWarning: X does not have valid feature names, but MaxAbsScaler was fitted with feature names\n",
      "  warnings.warn(\n"
     ]
    },
    {
     "data": {
      "text/plain": [
       "array([[0.375     , 0.95833333]])"
      ]
     },
     "execution_count": 105,
     "metadata": {},
     "output_type": "execute_result"
    }
   ],
   "source": [
    "vSc = scaler.transform([[4.5,5.75]])\n",
    "vSc\n",
    "# Giải thích: Dùng scaler đã được huấn luyện để biến đổi một giá trị mới [4.5, 5.75] \n",
    "# theo cùng một chuẩn hóa mà đã áp dụng cho dữ liệu trước đó."
   ]
  },
  {
   "cell_type": "code",
   "execution_count": null,
   "metadata": {},
   "outputs": [],
   "source": []
  },
  {
   "cell_type": "markdown",
   "metadata": {},
   "source": [
    "<img src=\"./1.png\" style=\"border: 1px solid white; border-radius: 10px\"></img>"
   ]
  },
  {
   "cell_type": "markdown",
   "metadata": {},
   "source": [
    "#### 6. Chuyển Đổi Ngược"
   ]
  },
  {
   "cell_type": "markdown",
   "metadata": {},
   "source": [
    "Giải thích: Sử dụng inverse_transform để chuyển đổi giá trị đã chuẩn hóa về giá trị ban đầu tương ứng."
   ]
  },
  {
   "cell_type": "code",
   "execution_count": 106,
   "metadata": {},
   "outputs": [
    {
     "data": {
      "text/plain": [
       "array([[6. , 4.8]])"
      ]
     },
     "execution_count": 106,
     "metadata": {},
     "output_type": "execute_result"
    }
   ],
   "source": [
    "vR = scaler.inverse_transform([[0.5,0.8]])\n",
    "vR\n"
   ]
  },
  {
   "cell_type": "markdown",
   "metadata": {},
   "source": [
    "<h3 style=\"color: skyblue\"> 7. Min-Max Scaling</h3>\n",
    "Min-Max Scaling là một kỹ thuật chuẩn hóa dữ liệu, trong đó các giá trị được chuyển đổi để nằm trong một khoảng xác định, thường là [0, 1]. Công thức cho Min-Max Scaling là:"
   ]
  },
  {
   "cell_type": "markdown",
   "metadata": {},
   "source": [
    "<img src=\"./2.png\"></img>"
   ]
  },
  {
   "cell_type": "markdown",
   "metadata": {},
   "source": [
    "1. x: Giá trị gốc cần chuẩn hóa.\n",
    "\n",
    "\n",
    "2. min: Giá trị nhỏ nhất trong cột.\n",
    "\n",
    "3. max: Giá trị lớn nhất trong cột.\n",
    "\n"
   ]
  },
  {
   "cell_type": "markdown",
   "metadata": {},
   "source": [
    "### Min_Max_Scaler\n",
    "- x_new = (x_std - min) / (max - min) thuộc [0,1] \n",
    "- VD: (5.5-5.0)/(6.0-5.0) = 0.5"
   ]
  },
  {
   "cell_type": "code",
   "execution_count": 107,
   "metadata": {},
   "outputs": [
    {
     "data": {
      "text/html": [
       "<div>\n",
       "<style scoped>\n",
       "    .dataframe tbody tr th:only-of-type {\n",
       "        vertical-align: middle;\n",
       "    }\n",
       "\n",
       "    .dataframe tbody tr th {\n",
       "        vertical-align: top;\n",
       "    }\n",
       "\n",
       "    .dataframe thead th {\n",
       "        text-align: right;\n",
       "    }\n",
       "</style>\n",
       "<table border=\"1\" class=\"dataframe\">\n",
       "  <thead>\n",
       "    <tr style=\"text-align: right;\">\n",
       "      <th></th>\n",
       "      <th>Year</th>\n",
       "      <th>HCM</th>\n",
       "      <th>LA</th>\n",
       "      <th>macLA</th>\n",
       "      <th>macHCM</th>\n",
       "      <th>mmcLA</th>\n",
       "    </tr>\n",
       "  </thead>\n",
       "  <tbody>\n",
       "    <tr>\n",
       "      <th>0</th>\n",
       "      <td>2010</td>\n",
       "      <td>8.5</td>\n",
       "      <td>5.5</td>\n",
       "      <td>0.916667</td>\n",
       "      <td>0.708333</td>\n",
       "      <td>0.5</td>\n",
       "    </tr>\n",
       "    <tr>\n",
       "      <th>1</th>\n",
       "      <td>2011</td>\n",
       "      <td>9.0</td>\n",
       "      <td>6.0</td>\n",
       "      <td>1.000000</td>\n",
       "      <td>0.750000</td>\n",
       "      <td>1.0</td>\n",
       "    </tr>\n",
       "    <tr>\n",
       "      <th>2</th>\n",
       "      <td>2012</td>\n",
       "      <td>10.5</td>\n",
       "      <td>6.0</td>\n",
       "      <td>1.000000</td>\n",
       "      <td>0.875000</td>\n",
       "      <td>1.0</td>\n",
       "    </tr>\n",
       "    <tr>\n",
       "      <th>3</th>\n",
       "      <td>2013</td>\n",
       "      <td>12.0</td>\n",
       "      <td>5.5</td>\n",
       "      <td>0.916667</td>\n",
       "      <td>1.000000</td>\n",
       "      <td>0.5</td>\n",
       "    </tr>\n",
       "    <tr>\n",
       "      <th>4</th>\n",
       "      <td>2014</td>\n",
       "      <td>11.0</td>\n",
       "      <td>6.0</td>\n",
       "      <td>1.000000</td>\n",
       "      <td>0.916667</td>\n",
       "      <td>1.0</td>\n",
       "    </tr>\n",
       "    <tr>\n",
       "      <th>5</th>\n",
       "      <td>2015</td>\n",
       "      <td>10.0</td>\n",
       "      <td>5.0</td>\n",
       "      <td>0.833333</td>\n",
       "      <td>0.833333</td>\n",
       "      <td>0.0</td>\n",
       "    </tr>\n",
       "  </tbody>\n",
       "</table>\n",
       "</div>"
      ],
      "text/plain": [
       "   Year   HCM   LA     macLA    macHCM  mmcLA\n",
       "0  2010   8.5  5.5  0.916667  0.708333    0.5\n",
       "1  2011   9.0  6.0  1.000000  0.750000    1.0\n",
       "2  2012  10.5  6.0  1.000000  0.875000    1.0\n",
       "3  2013  12.0  5.5  0.916667  1.000000    0.5\n",
       "4  2014  11.0  6.0  1.000000  0.916667    1.0\n",
       "5  2015  10.0  5.0  0.833333  0.833333    0.0"
      ]
     },
     "execution_count": 107,
     "metadata": {},
     "output_type": "execute_result"
    }
   ],
   "source": [
    "# Min_Max_Scaler cho LA\n",
    "min_la = df['LA'].min()\n",
    "max_la = df['LA'].max()\n",
    "df['mmcLA'] = (df['LA'] - min_la) / (max_la - min_la)\n",
    "\n",
    "df"
   ]
  },
  {
   "cell_type": "code",
   "execution_count": 108,
   "metadata": {},
   "outputs": [
    {
     "data": {
      "text/html": [
       "<div>\n",
       "<style scoped>\n",
       "    .dataframe tbody tr th:only-of-type {\n",
       "        vertical-align: middle;\n",
       "    }\n",
       "\n",
       "    .dataframe tbody tr th {\n",
       "        vertical-align: top;\n",
       "    }\n",
       "\n",
       "    .dataframe thead th {\n",
       "        text-align: right;\n",
       "    }\n",
       "</style>\n",
       "<table border=\"1\" class=\"dataframe\">\n",
       "  <thead>\n",
       "    <tr style=\"text-align: right;\">\n",
       "      <th></th>\n",
       "      <th>Year</th>\n",
       "      <th>HCM</th>\n",
       "      <th>LA</th>\n",
       "      <th>macLA</th>\n",
       "      <th>macHCM</th>\n",
       "      <th>mmcLA</th>\n",
       "      <th>mmcHCM</th>\n",
       "    </tr>\n",
       "  </thead>\n",
       "  <tbody>\n",
       "    <tr>\n",
       "      <th>0</th>\n",
       "      <td>2010</td>\n",
       "      <td>8.5</td>\n",
       "      <td>5.5</td>\n",
       "      <td>0.916667</td>\n",
       "      <td>0.708333</td>\n",
       "      <td>0.5</td>\n",
       "      <td>0.000000</td>\n",
       "    </tr>\n",
       "    <tr>\n",
       "      <th>1</th>\n",
       "      <td>2011</td>\n",
       "      <td>9.0</td>\n",
       "      <td>6.0</td>\n",
       "      <td>1.000000</td>\n",
       "      <td>0.750000</td>\n",
       "      <td>1.0</td>\n",
       "      <td>0.142857</td>\n",
       "    </tr>\n",
       "    <tr>\n",
       "      <th>2</th>\n",
       "      <td>2012</td>\n",
       "      <td>10.5</td>\n",
       "      <td>6.0</td>\n",
       "      <td>1.000000</td>\n",
       "      <td>0.875000</td>\n",
       "      <td>1.0</td>\n",
       "      <td>0.571429</td>\n",
       "    </tr>\n",
       "    <tr>\n",
       "      <th>3</th>\n",
       "      <td>2013</td>\n",
       "      <td>12.0</td>\n",
       "      <td>5.5</td>\n",
       "      <td>0.916667</td>\n",
       "      <td>1.000000</td>\n",
       "      <td>0.5</td>\n",
       "      <td>1.000000</td>\n",
       "    </tr>\n",
       "    <tr>\n",
       "      <th>4</th>\n",
       "      <td>2014</td>\n",
       "      <td>11.0</td>\n",
       "      <td>6.0</td>\n",
       "      <td>1.000000</td>\n",
       "      <td>0.916667</td>\n",
       "      <td>1.0</td>\n",
       "      <td>0.714286</td>\n",
       "    </tr>\n",
       "    <tr>\n",
       "      <th>5</th>\n",
       "      <td>2015</td>\n",
       "      <td>10.0</td>\n",
       "      <td>5.0</td>\n",
       "      <td>0.833333</td>\n",
       "      <td>0.833333</td>\n",
       "      <td>0.0</td>\n",
       "      <td>0.428571</td>\n",
       "    </tr>\n",
       "  </tbody>\n",
       "</table>\n",
       "</div>"
      ],
      "text/plain": [
       "   Year   HCM   LA     macLA    macHCM  mmcLA    mmcHCM\n",
       "0  2010   8.5  5.5  0.916667  0.708333    0.5  0.000000\n",
       "1  2011   9.0  6.0  1.000000  0.750000    1.0  0.142857\n",
       "2  2012  10.5  6.0  1.000000  0.875000    1.0  0.571429\n",
       "3  2013  12.0  5.5  0.916667  1.000000    0.5  1.000000\n",
       "4  2014  11.0  6.0  1.000000  0.916667    1.0  0.714286\n",
       "5  2015  10.0  5.0  0.833333  0.833333    0.0  0.428571"
      ]
     },
     "execution_count": 108,
     "metadata": {},
     "output_type": "execute_result"
    }
   ],
   "source": [
    "# Min_Max_Scaler cho HCM\n",
    "min_la = df['HCM'].min()\n",
    "max_la = df['HCM'].max()\n",
    "df['mmcHCM'] = (df['HCM'] - min_la) / (max_la - min_la)\n",
    "\n",
    "df"
   ]
  },
  {
   "cell_type": "code",
   "execution_count": 109,
   "metadata": {},
   "outputs": [
    {
     "name": "stdout",
     "output_type": "stream",
     "text": [
      "        HCM   LA\n",
      "0  0.000000  0.5\n",
      "1  0.142857  1.0\n",
      "2  0.571429  1.0\n",
      "3  1.000000  0.5\n",
      "4  0.714286  1.0\n",
      "5  0.428571  0.0\n"
     ]
    }
   ],
   "source": [
    "from sklearn.preprocessing import MinMaxScaler\n",
    "# Tạo một đối tượng scaler từ lớp MinMaxScaler.\n",
    "scaler = MinMaxScaler()\n",
    "\n",
    "# fit: Tính toán giá trị lớn nhất và giá trị nhỏ nhất trong dữ liệu ở các cột HCM và LA.\n",
    "# transform: Sử dụng các giá trị đã tính toán để chuẩn hóa dữ liệu trong các cột đó.\n",
    "scaled = scaler.fit_transform(df[['HCM','LA']])\n",
    "\n",
    "# huẩn hóa thành một DataFrame mới scaled_df, với các cột có tên giống như trong DataFrame gốc df.\n",
    "scaled_df = pd.DataFrame(scaled, columns=df[['HCM','LA']].columns)\n",
    "\n",
    "print(scaled_df)"
   ]
  },
  {
   "cell_type": "code",
   "execution_count": 110,
   "metadata": {},
   "outputs": [
    {
     "name": "stdout",
     "output_type": "stream",
     "text": [
      "Lương HCM đã chuẩn hóa: 0.4286\n",
      "Lương LA đã chuẩn hóa: -0.5000\n"
     ]
    }
   ],
   "source": [
    "# giả sử lương HCM 10 triệu LA 4,5 triệu khi qua Min_Max_Scaler bằng bao nhiêu\n",
    "\n",
    "min_hcm = df['HCM'].min()\n",
    "max_hcm = df['HCM'].max()\n",
    "min_la = df['LA'].min()\n",
    "max_la = df['LA'].max()\n",
    "\n",
    "# Lương mới\n",
    "new_salary_hcm = 10  # triệu\n",
    "new_salary_la = 4.5  # triệu\n",
    "\n",
    "# Áp dụng Min-Max Scaling\n",
    "scaled_hcm = (new_salary_hcm - min_hcm) / (max_hcm - min_hcm)\n",
    "scaled_la = (new_salary_la - min_la) / (max_la - min_la)\n",
    "\n",
    "# In kết quả\n",
    "print(f\"Lương HCM đã chuẩn hóa: {scaled_hcm:.4f}\")\n",
    "print(f\"Lương LA đã chuẩn hóa: {scaled_la:.4f}\")"
   ]
  },
  {
   "cell_type": "markdown",
   "metadata": {},
   "source": [
    "<img src=\"./3.png\"></img>"
   ]
  },
  {
   "cell_type": "markdown",
   "metadata": {},
   "source": [
    "<h3 style=\"color:skyblue\">8. Z-score Normalization</h3>"
   ]
  },
  {
   "cell_type": "markdown",
   "metadata": {},
   "source": [
    "Z-score normalization (hay còn gọi là chuẩn hóa Z) là một phương pháp chuẩn hóa dữ liệu mà trong đó giá trị được điều chỉnh sao cho có trung bình bằng 0 và độ lệch chuẩn bằng 1. Công thức tính Z-score là:"
   ]
  },
  {
   "cell_type": "markdown",
   "metadata": {},
   "source": [
    "<img src=\"./4.png\"><img>"
   ]
  },
  {
   "cell_type": "markdown",
   "metadata": {},
   "source": [
    "- z: Giá trị chuẩn hóa Z-score.\n",
    "- x: Giá trị gốc.\n",
    "- μ: Trung bình của tập dữ liệu.\n",
    "- σ: Độ lệch chuẩn của tập dữ liệu."
   ]
  },
  {
   "cell_type": "code",
   "execution_count": 111,
   "metadata": {},
   "outputs": [
    {
     "data": {
      "text/html": [
       "<div>\n",
       "<style scoped>\n",
       "    .dataframe tbody tr th:only-of-type {\n",
       "        vertical-align: middle;\n",
       "    }\n",
       "\n",
       "    .dataframe tbody tr th {\n",
       "        vertical-align: top;\n",
       "    }\n",
       "\n",
       "    .dataframe thead th {\n",
       "        text-align: right;\n",
       "    }\n",
       "</style>\n",
       "<table border=\"1\" class=\"dataframe\">\n",
       "  <thead>\n",
       "    <tr style=\"text-align: right;\">\n",
       "      <th></th>\n",
       "      <th>HCM</th>\n",
       "      <th>LA</th>\n",
       "    </tr>\n",
       "  </thead>\n",
       "  <tbody>\n",
       "    <tr>\n",
       "      <th>count</th>\n",
       "      <td>6.000000</td>\n",
       "      <td>6.000000</td>\n",
       "    </tr>\n",
       "    <tr>\n",
       "      <th>mean</th>\n",
       "      <td>10.166667</td>\n",
       "      <td>5.666667</td>\n",
       "    </tr>\n",
       "    <tr>\n",
       "      <th>std</th>\n",
       "      <td>1.290994</td>\n",
       "      <td>0.408248</td>\n",
       "    </tr>\n",
       "    <tr>\n",
       "      <th>min</th>\n",
       "      <td>8.500000</td>\n",
       "      <td>5.000000</td>\n",
       "    </tr>\n",
       "    <tr>\n",
       "      <th>25%</th>\n",
       "      <td>9.250000</td>\n",
       "      <td>5.500000</td>\n",
       "    </tr>\n",
       "    <tr>\n",
       "      <th>50%</th>\n",
       "      <td>10.250000</td>\n",
       "      <td>5.750000</td>\n",
       "    </tr>\n",
       "    <tr>\n",
       "      <th>75%</th>\n",
       "      <td>10.875000</td>\n",
       "      <td>6.000000</td>\n",
       "    </tr>\n",
       "    <tr>\n",
       "      <th>max</th>\n",
       "      <td>12.000000</td>\n",
       "      <td>6.000000</td>\n",
       "    </tr>\n",
       "  </tbody>\n",
       "</table>\n",
       "</div>"
      ],
      "text/plain": [
       "             HCM        LA\n",
       "count   6.000000  6.000000\n",
       "mean   10.166667  5.666667\n",
       "std     1.290994  0.408248\n",
       "min     8.500000  5.000000\n",
       "25%     9.250000  5.500000\n",
       "50%    10.250000  5.750000\n",
       "75%    10.875000  6.000000\n",
       "max    12.000000  6.000000"
      ]
     },
     "execution_count": 111,
     "metadata": {},
     "output_type": "execute_result"
    }
   ],
   "source": [
    "# Nếu 1 người thu nhập ở HCM 15 triệu và \n",
    "# một người ở LA là 12 triệu,  người nào thoải máy hơn.\n",
    "df[['HCM','LA']].describe()"
   ]
  },
  {
   "cell_type": "markdown",
   "metadata": {},
   "source": [
    "#### Chuẩn hóa dữ liệu"
   ]
  },
  {
   "cell_type": "code",
   "execution_count": 112,
   "metadata": {},
   "outputs": [
    {
     "data": {
      "text/html": [
       "<div>\n",
       "<style scoped>\n",
       "    .dataframe tbody tr th:only-of-type {\n",
       "        vertical-align: middle;\n",
       "    }\n",
       "\n",
       "    .dataframe tbody tr th {\n",
       "        vertical-align: top;\n",
       "    }\n",
       "\n",
       "    .dataframe thead th {\n",
       "        text-align: right;\n",
       "    }\n",
       "</style>\n",
       "<table border=\"1\" class=\"dataframe\">\n",
       "  <thead>\n",
       "    <tr style=\"text-align: right;\">\n",
       "      <th></th>\n",
       "      <th>Year</th>\n",
       "      <th>HCM</th>\n",
       "      <th>LA</th>\n",
       "      <th>macLA</th>\n",
       "      <th>macHCM</th>\n",
       "      <th>mmcLA</th>\n",
       "      <th>mmcHCM</th>\n",
       "      <th>zLA</th>\n",
       "    </tr>\n",
       "  </thead>\n",
       "  <tbody>\n",
       "    <tr>\n",
       "      <th>0</th>\n",
       "      <td>2010</td>\n",
       "      <td>8.5</td>\n",
       "      <td>5.5</td>\n",
       "      <td>0.916667</td>\n",
       "      <td>0.708333</td>\n",
       "      <td>0.5</td>\n",
       "      <td>0.000000</td>\n",
       "      <td>-0.408248</td>\n",
       "    </tr>\n",
       "    <tr>\n",
       "      <th>1</th>\n",
       "      <td>2011</td>\n",
       "      <td>9.0</td>\n",
       "      <td>6.0</td>\n",
       "      <td>1.000000</td>\n",
       "      <td>0.750000</td>\n",
       "      <td>1.0</td>\n",
       "      <td>0.142857</td>\n",
       "      <td>0.816497</td>\n",
       "    </tr>\n",
       "    <tr>\n",
       "      <th>2</th>\n",
       "      <td>2012</td>\n",
       "      <td>10.5</td>\n",
       "      <td>6.0</td>\n",
       "      <td>1.000000</td>\n",
       "      <td>0.875000</td>\n",
       "      <td>1.0</td>\n",
       "      <td>0.571429</td>\n",
       "      <td>0.816497</td>\n",
       "    </tr>\n",
       "    <tr>\n",
       "      <th>3</th>\n",
       "      <td>2013</td>\n",
       "      <td>12.0</td>\n",
       "      <td>5.5</td>\n",
       "      <td>0.916667</td>\n",
       "      <td>1.000000</td>\n",
       "      <td>0.5</td>\n",
       "      <td>1.000000</td>\n",
       "      <td>-0.408248</td>\n",
       "    </tr>\n",
       "    <tr>\n",
       "      <th>4</th>\n",
       "      <td>2014</td>\n",
       "      <td>11.0</td>\n",
       "      <td>6.0</td>\n",
       "      <td>1.000000</td>\n",
       "      <td>0.916667</td>\n",
       "      <td>1.0</td>\n",
       "      <td>0.714286</td>\n",
       "      <td>0.816497</td>\n",
       "    </tr>\n",
       "    <tr>\n",
       "      <th>5</th>\n",
       "      <td>2015</td>\n",
       "      <td>10.0</td>\n",
       "      <td>5.0</td>\n",
       "      <td>0.833333</td>\n",
       "      <td>0.833333</td>\n",
       "      <td>0.0</td>\n",
       "      <td>0.428571</td>\n",
       "      <td>-1.632993</td>\n",
       "    </tr>\n",
       "  </tbody>\n",
       "</table>\n",
       "</div>"
      ],
      "text/plain": [
       "   Year   HCM   LA     macLA    macHCM  mmcLA    mmcHCM       zLA\n",
       "0  2010   8.5  5.5  0.916667  0.708333    0.5  0.000000 -0.408248\n",
       "1  2011   9.0  6.0  1.000000  0.750000    1.0  0.142857  0.816497\n",
       "2  2012  10.5  6.0  1.000000  0.875000    1.0  0.571429  0.816497\n",
       "3  2013  12.0  5.5  0.916667  1.000000    0.5  1.000000 -0.408248\n",
       "4  2014  11.0  6.0  1.000000  0.916667    1.0  0.714286  0.816497\n",
       "5  2015  10.0  5.0  0.833333  0.833333    0.0  0.428571 -1.632993"
      ]
     },
     "execution_count": 112,
     "metadata": {},
     "output_type": "execute_result"
    }
   ],
   "source": [
    "# Chuẩn hóa dữ liệu của LA\n",
    "mean_la = df['LA'].mean()\n",
    "std_la = df['LA'].std()\n",
    "df['zLA'] = (df['LA'] - mean_la) / std_la\n",
    "\n",
    "df"
   ]
  },
  {
   "cell_type": "code",
   "execution_count": 113,
   "metadata": {},
   "outputs": [
    {
     "data": {
      "text/plain": [
       "-1.2945736434108526"
      ]
     },
     "execution_count": 113,
     "metadata": {},
     "output_type": "execute_result"
    }
   ],
   "source": [
    "# z_HCM = (8.5-10.17)/1.29\n",
    "(8.5-10.17)/1.29"
   ]
  },
  {
   "cell_type": "code",
   "execution_count": 114,
   "metadata": {},
   "outputs": [
    {
     "data": {
      "text/plain": [
       "-0.4249999999999998"
      ]
     },
     "execution_count": 114,
     "metadata": {},
     "output_type": "execute_result"
    }
   ],
   "source": [
    "# z_LA = (5.5-5.67)/0.4\n",
    "(5.5-5.67)/0.4"
   ]
  },
  {
   "cell_type": "code",
   "execution_count": 115,
   "metadata": {},
   "outputs": [
    {
     "data": {
      "text/html": [
       "<div>\n",
       "<style scoped>\n",
       "    .dataframe tbody tr th:only-of-type {\n",
       "        vertical-align: middle;\n",
       "    }\n",
       "\n",
       "    .dataframe tbody tr th {\n",
       "        vertical-align: top;\n",
       "    }\n",
       "\n",
       "    .dataframe thead th {\n",
       "        text-align: right;\n",
       "    }\n",
       "</style>\n",
       "<table border=\"1\" class=\"dataframe\">\n",
       "  <thead>\n",
       "    <tr style=\"text-align: right;\">\n",
       "      <th></th>\n",
       "      <th>Year</th>\n",
       "      <th>HCM</th>\n",
       "      <th>LA</th>\n",
       "      <th>macLA</th>\n",
       "      <th>macHCM</th>\n",
       "      <th>mmcLA</th>\n",
       "      <th>mmcHCM</th>\n",
       "      <th>zLA</th>\n",
       "      <th>zHCM</th>\n",
       "    </tr>\n",
       "  </thead>\n",
       "  <tbody>\n",
       "    <tr>\n",
       "      <th>0</th>\n",
       "      <td>2010</td>\n",
       "      <td>8.5</td>\n",
       "      <td>5.5</td>\n",
       "      <td>0.916667</td>\n",
       "      <td>0.708333</td>\n",
       "      <td>0.5</td>\n",
       "      <td>0.000000</td>\n",
       "      <td>-0.408248</td>\n",
       "      <td>-1.290994</td>\n",
       "    </tr>\n",
       "    <tr>\n",
       "      <th>1</th>\n",
       "      <td>2011</td>\n",
       "      <td>9.0</td>\n",
       "      <td>6.0</td>\n",
       "      <td>1.000000</td>\n",
       "      <td>0.750000</td>\n",
       "      <td>1.0</td>\n",
       "      <td>0.142857</td>\n",
       "      <td>0.816497</td>\n",
       "      <td>-0.903696</td>\n",
       "    </tr>\n",
       "    <tr>\n",
       "      <th>2</th>\n",
       "      <td>2012</td>\n",
       "      <td>10.5</td>\n",
       "      <td>6.0</td>\n",
       "      <td>1.000000</td>\n",
       "      <td>0.875000</td>\n",
       "      <td>1.0</td>\n",
       "      <td>0.571429</td>\n",
       "      <td>0.816497</td>\n",
       "      <td>0.258199</td>\n",
       "    </tr>\n",
       "    <tr>\n",
       "      <th>3</th>\n",
       "      <td>2013</td>\n",
       "      <td>12.0</td>\n",
       "      <td>5.5</td>\n",
       "      <td>0.916667</td>\n",
       "      <td>1.000000</td>\n",
       "      <td>0.5</td>\n",
       "      <td>1.000000</td>\n",
       "      <td>-0.408248</td>\n",
       "      <td>1.420094</td>\n",
       "    </tr>\n",
       "    <tr>\n",
       "      <th>4</th>\n",
       "      <td>2014</td>\n",
       "      <td>11.0</td>\n",
       "      <td>6.0</td>\n",
       "      <td>1.000000</td>\n",
       "      <td>0.916667</td>\n",
       "      <td>1.0</td>\n",
       "      <td>0.714286</td>\n",
       "      <td>0.816497</td>\n",
       "      <td>0.645497</td>\n",
       "    </tr>\n",
       "    <tr>\n",
       "      <th>5</th>\n",
       "      <td>2015</td>\n",
       "      <td>10.0</td>\n",
       "      <td>5.0</td>\n",
       "      <td>0.833333</td>\n",
       "      <td>0.833333</td>\n",
       "      <td>0.0</td>\n",
       "      <td>0.428571</td>\n",
       "      <td>-1.632993</td>\n",
       "      <td>-0.129099</td>\n",
       "    </tr>\n",
       "  </tbody>\n",
       "</table>\n",
       "</div>"
      ],
      "text/plain": [
       "   Year   HCM   LA     macLA    macHCM  mmcLA    mmcHCM       zLA      zHCM\n",
       "0  2010   8.5  5.5  0.916667  0.708333    0.5  0.000000 -0.408248 -1.290994\n",
       "1  2011   9.0  6.0  1.000000  0.750000    1.0  0.142857  0.816497 -0.903696\n",
       "2  2012  10.5  6.0  1.000000  0.875000    1.0  0.571429  0.816497  0.258199\n",
       "3  2013  12.0  5.5  0.916667  1.000000    0.5  1.000000 -0.408248  1.420094\n",
       "4  2014  11.0  6.0  1.000000  0.916667    1.0  0.714286  0.816497  0.645497\n",
       "5  2015  10.0  5.0  0.833333  0.833333    0.0  0.428571 -1.632993 -0.129099"
      ]
     },
     "execution_count": 115,
     "metadata": {},
     "output_type": "execute_result"
    }
   ],
   "source": [
    "# Chuẩn hóa dữ liệu của HCM\n",
    "mean_la = df['HCM'].mean()\n",
    "std_la = df['HCM'].std()\n",
    "df['zHCM'] = (df['HCM'] - mean_la) / std_la\n",
    "\n",
    "df"
   ]
  },
  {
   "cell_type": "markdown",
   "metadata": {},
   "source": [
    "> ##### So sanh 2 thanh pho dung: Min-Max Scaling or Z-score Normalization"
   ]
  },
  {
   "cell_type": "code",
   "execution_count": 116,
   "metadata": {},
   "outputs": [
    {
     "name": "stderr",
     "output_type": "stream",
     "text": [
      "c:\\Users\\LENOVO\\anaconda3\\Lib\\site-packages\\sklearn\\base.py:464: UserWarning: X does not have valid feature names, but MinMaxScaler was fitted with feature names\n",
      "  warnings.warn(\n"
     ]
    },
    {
     "data": {
      "text/plain": [
       "array([[1.85714286, 7.        ]])"
      ]
     },
     "execution_count": 116,
     "metadata": {},
     "output_type": "execute_result"
    }
   ],
   "source": [
    "# 1 người thu nhập 15 triệu ở TPHCM và 1 người thu nhập  12 triệu ở LA thì ở đâu thoải máy hơn\n",
    "sV = scaler.transform([[15,12]])\n",
    "sV\n",
    "# ==> Sống ở LA thoải mái hơn\n",
    "# Nếu 7.0 lớn hơn 1.85714286, điều này có nghĩa là thu nhập của người ở LA tương đối cao hơn so với thu nhập của người ở HCM \n",
    "# trong bối cảnh dữ liệu mà bạn đã huấn luyện. Điều này cho thấy rằng người ở LA có thể sống thoải mái hơn so với người ở HCM."
   ]
  },
  {
   "cell_type": "markdown",
   "metadata": {},
   "source": [
    "<h3 style=\"color: skyblue\">9. Transfrom Function</h3>"
   ]
  },
  {
   "cell_type": "code",
   "execution_count": 117,
   "metadata": {},
   "outputs": [
    {
     "data": {
      "text/html": [
       "<div>\n",
       "<style scoped>\n",
       "    .dataframe tbody tr th:only-of-type {\n",
       "        vertical-align: middle;\n",
       "    }\n",
       "\n",
       "    .dataframe tbody tr th {\n",
       "        vertical-align: top;\n",
       "    }\n",
       "\n",
       "    .dataframe thead th {\n",
       "        text-align: right;\n",
       "    }\n",
       "</style>\n",
       "<table border=\"1\" class=\"dataframe\">\n",
       "  <thead>\n",
       "    <tr style=\"text-align: right;\">\n",
       "      <th></th>\n",
       "      <th>Year</th>\n",
       "      <th>HCM</th>\n",
       "      <th>LA</th>\n",
       "      <th>macLA</th>\n",
       "      <th>macHCM</th>\n",
       "      <th>mmcLA</th>\n",
       "      <th>mmcHCM</th>\n",
       "      <th>zLA</th>\n",
       "      <th>zHCM</th>\n",
       "      <th>TransformX</th>\n",
       "    </tr>\n",
       "  </thead>\n",
       "  <tbody>\n",
       "    <tr>\n",
       "      <th>0</th>\n",
       "      <td>2010</td>\n",
       "      <td>8.5</td>\n",
       "      <td>5.5</td>\n",
       "      <td>0.916667</td>\n",
       "      <td>0.708333</td>\n",
       "      <td>0.5</td>\n",
       "      <td>0.000000</td>\n",
       "      <td>-0.408248</td>\n",
       "      <td>-1.290994</td>\n",
       "      <td>31.25</td>\n",
       "    </tr>\n",
       "    <tr>\n",
       "      <th>1</th>\n",
       "      <td>2011</td>\n",
       "      <td>9.0</td>\n",
       "      <td>6.0</td>\n",
       "      <td>1.000000</td>\n",
       "      <td>0.750000</td>\n",
       "      <td>1.0</td>\n",
       "      <td>0.142857</td>\n",
       "      <td>0.816497</td>\n",
       "      <td>-0.903696</td>\n",
       "      <td>37.00</td>\n",
       "    </tr>\n",
       "    <tr>\n",
       "      <th>2</th>\n",
       "      <td>2012</td>\n",
       "      <td>10.5</td>\n",
       "      <td>6.0</td>\n",
       "      <td>1.000000</td>\n",
       "      <td>0.875000</td>\n",
       "      <td>1.0</td>\n",
       "      <td>0.571429</td>\n",
       "      <td>0.816497</td>\n",
       "      <td>0.258199</td>\n",
       "      <td>37.00</td>\n",
       "    </tr>\n",
       "    <tr>\n",
       "      <th>3</th>\n",
       "      <td>2013</td>\n",
       "      <td>12.0</td>\n",
       "      <td>5.5</td>\n",
       "      <td>0.916667</td>\n",
       "      <td>1.000000</td>\n",
       "      <td>0.5</td>\n",
       "      <td>1.000000</td>\n",
       "      <td>-0.408248</td>\n",
       "      <td>1.420094</td>\n",
       "      <td>31.25</td>\n",
       "    </tr>\n",
       "    <tr>\n",
       "      <th>4</th>\n",
       "      <td>2014</td>\n",
       "      <td>11.0</td>\n",
       "      <td>6.0</td>\n",
       "      <td>1.000000</td>\n",
       "      <td>0.916667</td>\n",
       "      <td>1.0</td>\n",
       "      <td>0.714286</td>\n",
       "      <td>0.816497</td>\n",
       "      <td>0.645497</td>\n",
       "      <td>37.00</td>\n",
       "    </tr>\n",
       "    <tr>\n",
       "      <th>5</th>\n",
       "      <td>2015</td>\n",
       "      <td>10.0</td>\n",
       "      <td>5.0</td>\n",
       "      <td>0.833333</td>\n",
       "      <td>0.833333</td>\n",
       "      <td>0.0</td>\n",
       "      <td>0.428571</td>\n",
       "      <td>-1.632993</td>\n",
       "      <td>-0.129099</td>\n",
       "      <td>26.00</td>\n",
       "    </tr>\n",
       "  </tbody>\n",
       "</table>\n",
       "</div>"
      ],
      "text/plain": [
       "   Year   HCM   LA     macLA    macHCM  mmcLA    mmcHCM       zLA      zHCM  \\\n",
       "0  2010   8.5  5.5  0.916667  0.708333    0.5  0.000000 -0.408248 -1.290994   \n",
       "1  2011   9.0  6.0  1.000000  0.750000    1.0  0.142857  0.816497 -0.903696   \n",
       "2  2012  10.5  6.0  1.000000  0.875000    1.0  0.571429  0.816497  0.258199   \n",
       "3  2013  12.0  5.5  0.916667  1.000000    0.5  1.000000 -0.408248  1.420094   \n",
       "4  2014  11.0  6.0  1.000000  0.916667    1.0  0.714286  0.816497  0.645497   \n",
       "5  2015  10.0  5.0  0.833333  0.833333    0.0  0.428571 -1.632993 -0.129099   \n",
       "\n",
       "   TransformX  \n",
       "0       31.25  \n",
       "1       37.00  \n",
       "2       37.00  \n",
       "3       31.25  \n",
       "4       37.00  \n",
       "5       26.00  "
      ]
     },
     "execution_count": 117,
     "metadata": {},
     "output_type": "execute_result"
    }
   ],
   "source": [
    "def funcX(x):\n",
    "    return x*x + 1\n",
    "\n",
    "df['TransformX'] = funcX(df[[\"LA\"]])\n",
    "\n",
    "df\n"
   ]
  }
 ],
 "metadata": {
  "kernelspec": {
   "display_name": "Python 3",
   "language": "python",
   "name": "python3"
  },
  "language_info": {
   "codemirror_mode": {
    "name": "ipython",
    "version": 3
   },
   "file_extension": ".py",
   "mimetype": "text/x-python",
   "name": "python",
   "nbconvert_exporter": "python",
   "pygments_lexer": "ipython3",
   "version": "3.11.4"
  }
 },
 "nbformat": 4,
 "nbformat_minor": 2
}
