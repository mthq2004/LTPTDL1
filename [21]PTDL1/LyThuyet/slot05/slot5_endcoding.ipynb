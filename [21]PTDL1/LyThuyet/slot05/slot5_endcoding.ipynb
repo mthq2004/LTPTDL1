{
 "cells": [
  {
   "cell_type": "markdown",
   "metadata": {},
   "source": [
    "<h1 style=\"text-align: center ;\">Encoding</h1>"
   ]
  },
  {
   "cell_type": "markdown",
   "metadata": {},
   "source": [
    "#### <i>1. Label Encoding:</i>\n",
    "Màu sắc: Red, Green, Blue có thể được mã hóa thành 0, 1, 2.\n",
    "Nhược điểm: Có thể gây ra sự nhầm lẫn về thứ tự vì các số nguyên không phải lúc nào cũng phản ánh một thứ tự tự nhiên.\n",
    "\n",
    "#### <i>2. One-Hot Encoding:</i>\n",
    " Nếu một giá trị tồn tại, cột tương ứng sẽ có giá trị 1, ngược lại sẽ là 0.\n",
    "\n",
    "#### <i>3. Binary Encoding:</i>\n",
    "Chuyển đổi giá trị thành số nhị phân và sau đó tách thành các cột.\n",
    "\n",
    "#### <i>4. Target Encoding:</i>\n",
    "Gán giá trị trung bình (hoặc một thống kê khác) của biến mục tiêu cho mỗi giá trị phân loại. Điều này có thể tạo ra thông tin có giá trị nhưng có thể dẫn đến overfitting nếu không cẩn thận."
   ]
  },
  {
   "cell_type": "markdown",
   "metadata": {},
   "source": [
    "#### 1. Nhập Thư Viện Cần Thiết"
   ]
  },
  {
   "cell_type": "code",
   "execution_count": 1,
   "metadata": {},
   "outputs": [],
   "source": [
    "import pandas as pd"
   ]
  },
  {
   "cell_type": "markdown",
   "metadata": {},
   "source": [
    "#### 2. Tạo Dữ Liệu Mẫu"
   ]
  },
  {
   "cell_type": "code",
   "execution_count": 2,
   "metadata": {},
   "outputs": [
    {
     "data": {
      "text/html": [
       "<div>\n",
       "<style scoped>\n",
       "    .dataframe tbody tr th:only-of-type {\n",
       "        vertical-align: middle;\n",
       "    }\n",
       "\n",
       "    .dataframe tbody tr th {\n",
       "        vertical-align: top;\n",
       "    }\n",
       "\n",
       "    .dataframe thead th {\n",
       "        text-align: right;\n",
       "    }\n",
       "</style>\n",
       "<table border=\"1\" class=\"dataframe\">\n",
       "  <thead>\n",
       "    <tr style=\"text-align: right;\">\n",
       "      <th></th>\n",
       "      <th>GDP</th>\n",
       "      <th>Countries</th>\n",
       "    </tr>\n",
       "  </thead>\n",
       "  <tbody>\n",
       "    <tr>\n",
       "      <th>0</th>\n",
       "      <td>11</td>\n",
       "      <td>Spain</td>\n",
       "    </tr>\n",
       "    <tr>\n",
       "      <th>1</th>\n",
       "      <td>22</td>\n",
       "      <td>France</td>\n",
       "    </tr>\n",
       "    <tr>\n",
       "      <th>2</th>\n",
       "      <td>33</td>\n",
       "      <td>Spain</td>\n",
       "    </tr>\n",
       "    <tr>\n",
       "      <th>3</th>\n",
       "      <td>44</td>\n",
       "      <td>Germany</td>\n",
       "    </tr>\n",
       "    <tr>\n",
       "      <th>4</th>\n",
       "      <td>55</td>\n",
       "      <td>France</td>\n",
       "    </tr>\n",
       "  </tbody>\n",
       "</table>\n",
       "</div>"
      ],
      "text/plain": [
       "   GDP Countries\n",
       "0   11     Spain\n",
       "1   22    France\n",
       "2   33     Spain\n",
       "3   44   Germany\n",
       "4   55    France"
      ]
     },
     "execution_count": 2,
     "metadata": {},
     "output_type": "execute_result"
    }
   ],
   "source": [
    "gdp = [11, 22, 33, 44, 55, 66, 77]\n",
    "countries = ['Spain', 'France', 'Spain', 'Germany', 'France']\n",
    "\n",
    "# create data frame from list \n",
    "df = pd.DataFrame(list(zip(gdp, countries)),\n",
    "                  columns=['GDP', 'Countries'])\n",
    "df"
   ]
  },
  {
   "cell_type": "markdown",
   "metadata": {},
   "source": [
    "#### 3. Đánh Nhãn cho DataFrame với <b>Label Encoding</b>\n",
    "Tự đánh nhãn từ chữ --> số"
   ]
  },
  {
   "cell_type": "code",
   "execution_count": 3,
   "metadata": {},
   "outputs": [
    {
     "data": {
      "text/html": [
       "<div>\n",
       "<style scoped>\n",
       "    .dataframe tbody tr th:only-of-type {\n",
       "        vertical-align: middle;\n",
       "    }\n",
       "\n",
       "    .dataframe tbody tr th {\n",
       "        vertical-align: top;\n",
       "    }\n",
       "\n",
       "    .dataframe thead th {\n",
       "        text-align: right;\n",
       "    }\n",
       "</style>\n",
       "<table border=\"1\" class=\"dataframe\">\n",
       "  <thead>\n",
       "    <tr style=\"text-align: right;\">\n",
       "      <th></th>\n",
       "      <th>GDP</th>\n",
       "      <th>Countries</th>\n",
       "      <th>labelCountries</th>\n",
       "    </tr>\n",
       "  </thead>\n",
       "  <tbody>\n",
       "    <tr>\n",
       "      <th>0</th>\n",
       "      <td>11</td>\n",
       "      <td>Spain</td>\n",
       "      <td>2</td>\n",
       "    </tr>\n",
       "    <tr>\n",
       "      <th>1</th>\n",
       "      <td>22</td>\n",
       "      <td>France</td>\n",
       "      <td>0</td>\n",
       "    </tr>\n",
       "    <tr>\n",
       "      <th>2</th>\n",
       "      <td>33</td>\n",
       "      <td>Spain</td>\n",
       "      <td>2</td>\n",
       "    </tr>\n",
       "    <tr>\n",
       "      <th>3</th>\n",
       "      <td>44</td>\n",
       "      <td>Germany</td>\n",
       "      <td>1</td>\n",
       "    </tr>\n",
       "    <tr>\n",
       "      <th>4</th>\n",
       "      <td>55</td>\n",
       "      <td>France</td>\n",
       "      <td>0</td>\n",
       "    </tr>\n",
       "  </tbody>\n",
       "</table>\n",
       "</div>"
      ],
      "text/plain": [
       "   GDP Countries  labelCountries\n",
       "0   11     Spain               2\n",
       "1   22    France               0\n",
       "2   33     Spain               2\n",
       "3   44   Germany               1\n",
       "4   55    France               0"
      ]
     },
     "execution_count": 3,
     "metadata": {},
     "output_type": "execute_result"
    }
   ],
   "source": [
    "# Đánh nhãn cho datafarme\n",
    "# Import label encoder\n",
    "from sklearn import preprocessing\n",
    "\n",
    "# Iabel_encoder object knows\n",
    "# how to understand word labels.\n",
    "label_encoder = preprocessing.LabelEncoder()\n",
    "\n",
    "# Encode labels in column 'species\"\n",
    "df['labelCountries']= label_encoder.fit_transform(df['Countries']) \n",
    "\n",
    "df\n"
   ]
  },
  {
   "cell_type": "code",
   "execution_count": null,
   "metadata": {},
   "outputs": [],
   "source": [
    "# Giải thích: Sử dụng LabelEncoder từ sklearn để chuyển đổi các tên quốc gia thành các giá trị số nguyên.\n",
    "# Kết quả: Cột mới labelCountries được thêm vào DataFrame, chứa các giá trị mã hóa cho từng quốc gia."
   ]
  },
  {
   "cell_type": "markdown",
   "metadata": {},
   "source": [
    "#### 4. <b>One-Hot Encoding</b>\n",
    "Chuyển về Nhị phân 0 1 "
   ]
  },
  {
   "cell_type": "code",
   "execution_count": 4,
   "metadata": {},
   "outputs": [
    {
     "name": "stdout",
     "output_type": "stream",
     "text": [
      "   Country_France  Country_Germany  Country_Spain\n",
      "0               0                0              1\n",
      "1               1                0              0\n",
      "2               0                0              1\n",
      "3               0                1              0\n",
      "4               1                0              0\n"
     ]
    }
   ],
   "source": [
    "# tạo ra 3 datafarmedatafarme\n",
    "dfOneHotEncoding = pd.get_dummies(df.Countries, prefix='Country')\n",
    "print(dfOneHotEncoding.head())\n",
    "# 1 và 2 là False\n",
    "# 0 là True"
   ]
  },
  {
   "cell_type": "markdown",
   "metadata": {},
   "source": [
    "#### 5. Kết Hợp DataFrames"
   ]
  },
  {
   "cell_type": "code",
   "execution_count": 5,
   "metadata": {},
   "outputs": [
    {
     "data": {
      "text/html": [
       "<div>\n",
       "<style scoped>\n",
       "    .dataframe tbody tr th:only-of-type {\n",
       "        vertical-align: middle;\n",
       "    }\n",
       "\n",
       "    .dataframe tbody tr th {\n",
       "        vertical-align: top;\n",
       "    }\n",
       "\n",
       "    .dataframe thead th {\n",
       "        text-align: right;\n",
       "    }\n",
       "</style>\n",
       "<table border=\"1\" class=\"dataframe\">\n",
       "  <thead>\n",
       "    <tr style=\"text-align: right;\">\n",
       "      <th></th>\n",
       "      <th>GDP</th>\n",
       "      <th>Countries</th>\n",
       "      <th>labelCountries</th>\n",
       "      <th>Country_France</th>\n",
       "      <th>Country_Germany</th>\n",
       "      <th>Country_Spain</th>\n",
       "    </tr>\n",
       "  </thead>\n",
       "  <tbody>\n",
       "    <tr>\n",
       "      <th>0</th>\n",
       "      <td>11</td>\n",
       "      <td>Spain</td>\n",
       "      <td>2</td>\n",
       "      <td>0</td>\n",
       "      <td>0</td>\n",
       "      <td>1</td>\n",
       "    </tr>\n",
       "    <tr>\n",
       "      <th>1</th>\n",
       "      <td>22</td>\n",
       "      <td>France</td>\n",
       "      <td>0</td>\n",
       "      <td>1</td>\n",
       "      <td>0</td>\n",
       "      <td>0</td>\n",
       "    </tr>\n",
       "    <tr>\n",
       "      <th>2</th>\n",
       "      <td>33</td>\n",
       "      <td>Spain</td>\n",
       "      <td>2</td>\n",
       "      <td>0</td>\n",
       "      <td>0</td>\n",
       "      <td>1</td>\n",
       "    </tr>\n",
       "    <tr>\n",
       "      <th>3</th>\n",
       "      <td>44</td>\n",
       "      <td>Germany</td>\n",
       "      <td>1</td>\n",
       "      <td>0</td>\n",
       "      <td>1</td>\n",
       "      <td>0</td>\n",
       "    </tr>\n",
       "    <tr>\n",
       "      <th>4</th>\n",
       "      <td>55</td>\n",
       "      <td>France</td>\n",
       "      <td>0</td>\n",
       "      <td>1</td>\n",
       "      <td>0</td>\n",
       "      <td>0</td>\n",
       "    </tr>\n",
       "  </tbody>\n",
       "</table>\n",
       "</div>"
      ],
      "text/plain": [
       "   GDP Countries  labelCountries  Country_France  Country_Germany  \\\n",
       "0   11     Spain               2               0                0   \n",
       "1   22    France               0               1                0   \n",
       "2   33     Spain               2               0                0   \n",
       "3   44   Germany               1               0                1   \n",
       "4   55    France               0               1                0   \n",
       "\n",
       "   Country_Spain  \n",
       "0              1  \n",
       "1              0  \n",
       "2              1  \n",
       "3              0  \n",
       "4              0  "
      ]
     },
     "execution_count": 5,
     "metadata": {},
     "output_type": "execute_result"
    }
   ],
   "source": [
    "# Là lấy df = df + dfOneHotEncoding --> Gộp chung lại \n",
    "df = pd.concat([df, dfOneHotEncoding], axis=1)\n",
    "df\n",
    "#             label       france  Germany Spain\n",
    "# Spain       2       <   0       0       1       > = Căn của 0^2+0^2+1^2 = 1\n",
    "# france      2       <   1       0       0       > = 1\n",
    "# Germany     2       <   0       1       0       > = 1\n"
   ]
  },
  {
   "cell_type": "markdown",
   "metadata": {},
   "source": [
    "#### 6. Sử Dụng LabelBinarizer"
   ]
  },
  {
   "cell_type": "code",
   "execution_count": null,
   "metadata": {},
   "outputs": [],
   "source": [
    "# Giải thích: LabelBinarizer được sử dụng để chuyển đổi các giá trị phân loại thành dạng nhị phân.\n",
    "# Kết quả: Biến y chứa dữ liệu nhị phân tương ứng với các quốc gia."
   ]
  },
  {
   "cell_type": "code",
   "execution_count": 6,
   "metadata": {},
   "outputs": [
    {
     "data": {
      "text/plain": [
       "array([[0, 0, 1],\n",
       "       [1, 0, 0],\n",
       "       [0, 0, 1],\n",
       "       [0, 1, 0],\n",
       "       [1, 0, 0]])"
      ]
     },
     "execution_count": 6,
     "metadata": {},
     "output_type": "execute_result"
    }
   ],
   "source": [
    "from sklearn.preprocessing import LabelBinarizer\n",
    "y = LabelBinarizer().fit_transform(df.Countries)\n",
    "y\n"
   ]
  },
  {
   "cell_type": "code",
   "execution_count": null,
   "metadata": {},
   "outputs": [],
   "source": [
    "# Mỗi hàng trong mảng này tương ứng với một giá trị trong cột Countries.\n",
    "# Mỗi cột đại diện cho một quốc gia:\n",
    "# Cột 1 (Spain): Nếu giá trị là \"Spain\", thì là 1, ngược lại là 0.\n",
    "# Cột 2 (France): Nếu giá trị là \"France\", thì là 1, ngược lại là 0.\n",
    "# Cột 3 (Germany): Nếu giá trị là \"Germany\", thì là 1, ngược lại là 0."
   ]
  },
  {
   "cell_type": "markdown",
   "metadata": {},
   "source": [
    "<p> fit_transform(df[['Countries']]): Tạo một ma trận nhị phân (sparse matrix) từ cột Countries.</p>\n",
    "<p> toarray(): Chuyển đổi ma trận sparse đó thành một mảng NumPy thông thường.</p>"
   ]
  },
  {
   "cell_type": "code",
   "execution_count": 7,
   "metadata": {},
   "outputs": [
    {
     "name": "stdout",
     "output_type": "stream",
     "text": [
      "[[0. 0. 1.]\n",
      " [1. 0. 0.]\n",
      " [0. 0. 1.]\n",
      " [0. 1. 0.]\n",
      " [1. 0. 0.]]\n"
     ]
    }
   ],
   "source": [
    "from sklearn.preprocessing import OneHotEncoder\n",
    "y = OneHotEncoder().fit_transform(df[['Countries']]).toarray()\n",
    "print(y)"
   ]
  }
 ],
 "metadata": {
  "kernelspec": {
   "display_name": "Python 3",
   "language": "python",
   "name": "python3"
  },
  "language_info": {
   "codemirror_mode": {
    "name": "ipython",
    "version": 3
   },
   "file_extension": ".py",
   "mimetype": "text/x-python",
   "name": "python",
   "nbconvert_exporter": "python",
   "pygments_lexer": "ipython3",
   "version": "3.11.4"
  }
 },
 "nbformat": 4,
 "nbformat_minor": 2
}
