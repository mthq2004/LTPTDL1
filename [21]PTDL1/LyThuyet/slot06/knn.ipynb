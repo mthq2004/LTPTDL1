{
 "cells": [
  {
   "cell_type": "code",
   "execution_count": 25,
   "metadata": {},
   "outputs": [
    {
     "name": "stdout",
     "output_type": "stream",
     "text": [
      "        name  t_i  c_i  target\n",
      "0        An   145  233       1\n",
      "1       Binh  130  250       1\n",
      "2      Thanh  130  204       1\n",
      "3         Tu  130  254       0\n",
      "4        Anh  140  203       0\n",
      "5   Thanh An  130  256       0\n",
      "6       Quoc  140  294       1\n",
      "7       Kien  120  263       1\n",
      "8       Long  172  199       1\n",
      "9         Vu  150  168       1\n",
      "10      Vinh  120  229       0\n",
      "11      Sang  140  268       0\n"
     ]
    }
   ],
   "source": [
    "import pandas as pd\n",
    "\n",
    "# Đọc dữ liệu từ file CSV\n",
    "df = pd.read_excel(\"heart_short.xlsx\")\n",
    "\n",
    "# Xem dữ liệu\n",
    "print(df)\n",
    "\n",
    "# Input (đặc trưng) và Output (mục tiêu)\n",
    "X = df[['t_i', 'c_i']]  # Đặc trưng\n",
    "y = df['target']        # Mục tiêu\n"
   ]
  },
  {
   "cell_type": "code",
   "execution_count": 26,
   "metadata": {},
   "outputs": [
    {
     "name": "stdout",
     "output_type": "stream",
     "text": [
      "X_train:\n",
      "     t_i  c_i\n",
      "5   130  256\n",
      "2   130  204\n",
      "1   130  250\n",
      "11  140  268\n",
      "4   140  203\n",
      "7   120  263\n",
      "3   130  254\n",
      "6   140  294\n",
      "X_test:\n",
      "     t_i  c_i\n",
      "10  120  229\n",
      "9   150  168\n",
      "0   145  233\n",
      "8   172  199\n"
     ]
    }
   ],
   "source": [
    "from sklearn.model_selection import train_test_split\n",
    "\n",
    "# Chia tập dữ liệu (70% train, 30% test)\n",
    "X_train, X_test, y_train, y_test = train_test_split(X, y, test_size=0.3, random_state=42)\n",
    "\n",
    "print(\"X_train:\\n\", X_train)\n",
    "print(\"X_test:\\n\", X_test)\n"
   ]
  },
  {
   "cell_type": "code",
   "execution_count": 27,
   "metadata": {},
   "outputs": [
    {
     "data": {
      "text/html": [
       "<style>#sk-container-id-6 {color: black;}#sk-container-id-6 pre{padding: 0;}#sk-container-id-6 div.sk-toggleable {background-color: white;}#sk-container-id-6 label.sk-toggleable__label {cursor: pointer;display: block;width: 100%;margin-bottom: 0;padding: 0.3em;box-sizing: border-box;text-align: center;}#sk-container-id-6 label.sk-toggleable__label-arrow:before {content: \"▸\";float: left;margin-right: 0.25em;color: #696969;}#sk-container-id-6 label.sk-toggleable__label-arrow:hover:before {color: black;}#sk-container-id-6 div.sk-estimator:hover label.sk-toggleable__label-arrow:before {color: black;}#sk-container-id-6 div.sk-toggleable__content {max-height: 0;max-width: 0;overflow: hidden;text-align: left;background-color: #f0f8ff;}#sk-container-id-6 div.sk-toggleable__content pre {margin: 0.2em;color: black;border-radius: 0.25em;background-color: #f0f8ff;}#sk-container-id-6 input.sk-toggleable__control:checked~div.sk-toggleable__content {max-height: 200px;max-width: 100%;overflow: auto;}#sk-container-id-6 input.sk-toggleable__control:checked~label.sk-toggleable__label-arrow:before {content: \"▾\";}#sk-container-id-6 div.sk-estimator input.sk-toggleable__control:checked~label.sk-toggleable__label {background-color: #d4ebff;}#sk-container-id-6 div.sk-label input.sk-toggleable__control:checked~label.sk-toggleable__label {background-color: #d4ebff;}#sk-container-id-6 input.sk-hidden--visually {border: 0;clip: rect(1px 1px 1px 1px);clip: rect(1px, 1px, 1px, 1px);height: 1px;margin: -1px;overflow: hidden;padding: 0;position: absolute;width: 1px;}#sk-container-id-6 div.sk-estimator {font-family: monospace;background-color: #f0f8ff;border: 1px dotted black;border-radius: 0.25em;box-sizing: border-box;margin-bottom: 0.5em;}#sk-container-id-6 div.sk-estimator:hover {background-color: #d4ebff;}#sk-container-id-6 div.sk-parallel-item::after {content: \"\";width: 100%;border-bottom: 1px solid gray;flex-grow: 1;}#sk-container-id-6 div.sk-label:hover label.sk-toggleable__label {background-color: #d4ebff;}#sk-container-id-6 div.sk-serial::before {content: \"\";position: absolute;border-left: 1px solid gray;box-sizing: border-box;top: 0;bottom: 0;left: 50%;z-index: 0;}#sk-container-id-6 div.sk-serial {display: flex;flex-direction: column;align-items: center;background-color: white;padding-right: 0.2em;padding-left: 0.2em;position: relative;}#sk-container-id-6 div.sk-item {position: relative;z-index: 1;}#sk-container-id-6 div.sk-parallel {display: flex;align-items: stretch;justify-content: center;background-color: white;position: relative;}#sk-container-id-6 div.sk-item::before, #sk-container-id-6 div.sk-parallel-item::before {content: \"\";position: absolute;border-left: 1px solid gray;box-sizing: border-box;top: 0;bottom: 0;left: 50%;z-index: -1;}#sk-container-id-6 div.sk-parallel-item {display: flex;flex-direction: column;z-index: 1;position: relative;background-color: white;}#sk-container-id-6 div.sk-parallel-item:first-child::after {align-self: flex-end;width: 50%;}#sk-container-id-6 div.sk-parallel-item:last-child::after {align-self: flex-start;width: 50%;}#sk-container-id-6 div.sk-parallel-item:only-child::after {width: 0;}#sk-container-id-6 div.sk-dashed-wrapped {border: 1px dashed gray;margin: 0 0.4em 0.5em 0.4em;box-sizing: border-box;padding-bottom: 0.4em;background-color: white;}#sk-container-id-6 div.sk-label label {font-family: monospace;font-weight: bold;display: inline-block;line-height: 1.2em;}#sk-container-id-6 div.sk-label-container {text-align: center;}#sk-container-id-6 div.sk-container {/* jupyter's `normalize.less` sets `[hidden] { display: none; }` but bootstrap.min.css set `[hidden] { display: none !important; }` so we also need the `!important` here to be able to override the default hidden behavior on the sphinx rendered scikit-learn.org. See: https://github.com/scikit-learn/scikit-learn/issues/21755 */display: inline-block !important;position: relative;}#sk-container-id-6 div.sk-text-repr-fallback {display: none;}</style><div id=\"sk-container-id-6\" class=\"sk-top-container\"><div class=\"sk-text-repr-fallback\"><pre>KNeighborsClassifier(n_neighbors=3)</pre><b>In a Jupyter environment, please rerun this cell to show the HTML representation or trust the notebook. <br />On GitHub, the HTML representation is unable to render, please try loading this page with nbviewer.org.</b></div><div class=\"sk-container\" hidden><div class=\"sk-item\"><div class=\"sk-estimator sk-toggleable\"><input class=\"sk-toggleable__control sk-hidden--visually\" id=\"sk-estimator-id-6\" type=\"checkbox\" checked><label for=\"sk-estimator-id-6\" class=\"sk-toggleable__label sk-toggleable__label-arrow\">KNeighborsClassifier</label><div class=\"sk-toggleable__content\"><pre>KNeighborsClassifier(n_neighbors=3)</pre></div></div></div></div></div>"
      ],
      "text/plain": [
       "KNeighborsClassifier(n_neighbors=3)"
      ]
     },
     "execution_count": 27,
     "metadata": {},
     "output_type": "execute_result"
    }
   ],
   "source": [
    "from sklearn.neighbors import KNeighborsClassifier\n",
    "\n",
    "# Khởi tạo mô hình KNN với k = 3\n",
    "knnModel = KNeighborsClassifier(n_neighbors=3)\n",
    "\n",
    "# Huấn luyện mô hình trên tập train\n",
    "knnModel.fit(X_train, y_train)\n"
   ]
  },
  {
   "cell_type": "code",
   "execution_count": 28,
   "metadata": {},
   "outputs": [
    {
     "name": "stdout",
     "output_type": "stream",
     "text": [
      "Giá trị thực tế X_test: [0 1 1 1]\n",
      "Giá trị dự đoán X_test: [1 1 0 1]\n",
      "\n",
      "Dự đoán cho có bệnh(target = 1):\n",
      "Giá trị thực tế target=1: [1 1 1]\n",
      "Giá trị dự đoán target=1: [1 0 1]\n",
      "True Positive (TP): 2\n",
      "False Positive (FP): 1\n",
      "\n",
      "Dự đoán cho không bệnh (target = 0 ):\n",
      "Giá trị thực tế target=0: [0]\n",
      "Giá trị dự đoán target=0: [1]\n",
      "True Negative (TN): 0\n",
      "False Negative (FN): 1\n"
     ]
    }
   ],
   "source": [
    "from sklearn.metrics import confusion_matrix\n",
    "\n",
    "# Dự đoán\n",
    "y_pred = knnModel.predict(X_test)\n",
    "\n",
    "# In giá trị thực tế và giá trị dự đoán\n",
    "print(\"Giá trị thực tế X_test:\", y_test.values)\n",
    "print(\"Giá trị dự đoán X_test:\", y_pred)\n",
    "\n",
    "# Tính ma trận nhầm lẫn (Confusion Matrix)\n",
    "cm = confusion_matrix(y_test, y_pred)\n",
    "\n",
    "# Trích xuất các giá trị True Positive, False Positive, True Negative, False Negative\n",
    "TN, FP, FN, TP = cm.ravel()\n",
    "\n",
    "\n",
    "\n",
    "# Dự đoán cho target = 1\n",
    "print(\"\\nDự đoán cho có bệnh(target = 1):\")\n",
    "print(\"Giá trị thực tế target=1:\", y_test[y_test == 1].values)\n",
    "print(\"Giá trị dự đoán target=1:\", y_pred[y_test == 1])\n",
    "print(f\"True Positive (TP): {TP}\")\n",
    "print(f\"False Positive (FP): {FP}\")\n",
    "\n",
    "# Dự đoán cho target = 0\n",
    "print(\"\\nDự đoán cho không bệnh (target = 0 ):\")\n",
    "print(\"Giá trị thực tế target=0:\", y_test[y_test == 0].values)\n",
    "print(\"Giá trị dự đoán target=0:\", y_pred[y_test == 0])\n",
    "print(f\"True Negative (TN): {TN}\")\n",
    "print(f\"False Negative (FN): {FN}\")\n",
    "\n"
   ]
  },
  {
   "cell_type": "code",
   "execution_count": 29,
   "metadata": {},
   "outputs": [
    {
     "name": "stdout",
     "output_type": "stream",
     "text": [
      "Độ chính xác của mô hình: 50.00%\n",
      "Precision: 66.67%\n",
      "Recall: 66.67%\n",
      "F1-Score: 66.67%\n"
     ]
    }
   ],
   "source": [
    "from sklearn.metrics import precision_score, recall_score, f1_score, accuracy_score\n",
    "\n",
    "# Đã tính toán độ chính xác (accuracy)\n",
    "accuracy = accuracy_score(y_test, y_pred)\n",
    "print(f\"Độ chính xác của mô hình: {accuracy * 100:.2f}%\")\n",
    "\n",
    "# Precision: Tỷ lệ dự đoán đúng cho lớp 1 (có bệnh)\n",
    "precision = precision_score(y_test, y_pred)\n",
    "print(f\"Precision: {precision * 100:.2f}%\")\n",
    "\n",
    "# Recall: Tỷ lệ nhận diện đúng lớp 1 (có bệnh)\n",
    "recall = recall_score(y_test, y_pred)\n",
    "print(f\"Recall: {recall * 100:.2f}%\")\n",
    "\n",
    "# F1-Score: Trung bình hài hòa giữa precision và recall\n",
    "f1 = f1_score(y_test, y_pred)\n",
    "print(f\"F1-Score: {f1 * 100:.2f}%\")\n"
   ]
  },
  {
   "cell_type": "code",
   "execution_count": null,
   "metadata": {},
   "outputs": [],
   "source": []
  }
 ],
 "metadata": {
  "kernelspec": {
   "display_name": "base",
   "language": "python",
   "name": "python3"
  },
  "language_info": {
   "codemirror_mode": {
    "name": "ipython",
    "version": 3
   },
   "file_extension": ".py",
   "mimetype": "text/x-python",
   "name": "python",
   "nbconvert_exporter": "python",
   "pygments_lexer": "ipython3",
   "version": "3.11.4"
  }
 },
 "nbformat": 4,
 "nbformat_minor": 2
}
