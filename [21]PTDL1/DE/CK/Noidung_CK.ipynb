{
 "cells": [
  {
   "cell_type": "code",
   "execution_count": null,
   "metadata": {},
   "outputs": [],
   "source": [
    "# K-NN: 5 câu \n",
    "# Descision Tree: 5 câu \n",
    "# Gaussion Naive: 5 câu \n",
    "# Regression: hồi quy --> 10 câu "
   ]
  }
 ],
 "metadata": {
  "language_info": {
   "name": "python"
  }
 },
 "nbformat": 4,
 "nbformat_minor": 2
}
