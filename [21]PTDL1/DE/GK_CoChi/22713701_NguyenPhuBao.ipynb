{
 "cells": [
  {
   "cell_type": "code",
   "execution_count": 4,
   "metadata": {},
   "outputs": [],
   "source": [
    "import numpy as np\n",
    "import pandas as pd\n",
    "import matplotlib.pyplot as plt\n",
    "import seaborn as sns"
   ]
  },
  {
   "cell_type": "markdown",
   "metadata": {},
   "source": [
    "### Phần 1"
   ]
  },
  {
   "cell_type": "markdown",
   "metadata": {},
   "source": [
    "<h3 style=\"color: skyblue\">1. Đọc dữ liệu</3> \n"
   ]
  },
  {
   "cell_type": "code",
   "execution_count": 6,
   "metadata": {},
   "outputs": [
    {
     "data": {
      "text/html": [
       "<div>\n",
       "<style scoped>\n",
       "    .dataframe tbody tr th:only-of-type {\n",
       "        vertical-align: middle;\n",
       "    }\n",
       "\n",
       "    .dataframe tbody tr th {\n",
       "        vertical-align: top;\n",
       "    }\n",
       "\n",
       "    .dataframe thead th {\n",
       "        text-align: right;\n",
       "    }\n",
       "</style>\n",
       "<table border=\"1\" class=\"dataframe\">\n",
       "  <thead>\n",
       "    <tr style=\"text-align: right;\">\n",
       "      <th></th>\n",
       "      <th>CartCode</th>\n",
       "      <th>Total</th>\n",
       "      <th>Discount</th>\n",
       "      <th>CustomerSalary</th>\n",
       "      <th>CustomerAge</th>\n",
       "      <th>Sex</th>\n",
       "      <th>MaritalStatus</th>\n",
       "      <th>IntervalTime</th>\n",
       "      <th>UseCreditCard</th>\n",
       "      <th>ListOfProduct</th>\n",
       "    </tr>\n",
       "  </thead>\n",
       "  <tbody>\n",
       "    <tr>\n",
       "      <th>0</th>\n",
       "      <td>C0</td>\n",
       "      <td>131</td>\n",
       "      <td>0.02</td>\n",
       "      <td>1178</td>\n",
       "      <td>36</td>\n",
       "      <td>F</td>\n",
       "      <td>1</td>\n",
       "      <td>I4</td>\n",
       "      <td>NO</td>\n",
       "      <td>shrimp&gt;almonds&gt;avocado&gt;vegetables mix&gt;green gr...</td>\n",
       "    </tr>\n",
       "    <tr>\n",
       "      <th>1</th>\n",
       "      <td>C1</td>\n",
       "      <td>96</td>\n",
       "      <td>0.08</td>\n",
       "      <td>898</td>\n",
       "      <td>49</td>\n",
       "      <td>M</td>\n",
       "      <td>1</td>\n",
       "      <td>I3</td>\n",
       "      <td>YES</td>\n",
       "      <td>burgers&gt;meatballs&gt;eggs</td>\n",
       "    </tr>\n",
       "    <tr>\n",
       "      <th>2</th>\n",
       "      <td>C2</td>\n",
       "      <td>76</td>\n",
       "      <td>0.22</td>\n",
       "      <td>818</td>\n",
       "      <td>22</td>\n",
       "      <td>F</td>\n",
       "      <td>1</td>\n",
       "      <td>I1</td>\n",
       "      <td>YES</td>\n",
       "      <td>chutney</td>\n",
       "    </tr>\n",
       "    <tr>\n",
       "      <th>3</th>\n",
       "      <td>C3</td>\n",
       "      <td>133</td>\n",
       "      <td>0.08</td>\n",
       "      <td>2071</td>\n",
       "      <td>58</td>\n",
       "      <td>F</td>\n",
       "      <td>1</td>\n",
       "      <td>I4</td>\n",
       "      <td>NO</td>\n",
       "      <td>turkey&gt;avocado</td>\n",
       "    </tr>\n",
       "    <tr>\n",
       "      <th>4</th>\n",
       "      <td>C4</td>\n",
       "      <td>229</td>\n",
       "      <td>0.07</td>\n",
       "      <td>860</td>\n",
       "      <td>26</td>\n",
       "      <td>M</td>\n",
       "      <td>1</td>\n",
       "      <td>I4</td>\n",
       "      <td>YES</td>\n",
       "      <td>mineral water&gt;milk&gt;energy bar&gt;whole wheat rice...</td>\n",
       "    </tr>\n",
       "  </tbody>\n",
       "</table>\n",
       "</div>"
      ],
      "text/plain": [
       "  CartCode  Total  Discount  CustomerSalary  CustomerAge Sex  MaritalStatus  \\\n",
       "0       C0    131      0.02            1178           36   F              1   \n",
       "1       C1     96      0.08             898           49   M              1   \n",
       "2       C2     76      0.22             818           22   F              1   \n",
       "3       C3    133      0.08            2071           58   F              1   \n",
       "4       C4    229      0.07             860           26   M              1   \n",
       "\n",
       "  IntervalTime UseCreditCard  \\\n",
       "0           I4            NO   \n",
       "1           I3           YES   \n",
       "2           I1           YES   \n",
       "3           I4            NO   \n",
       "4           I4           YES   \n",
       "\n",
       "                                       ListOfProduct  \n",
       "0  shrimp>almonds>avocado>vegetables mix>green gr...  \n",
       "1                             burgers>meatballs>eggs  \n",
       "2                                            chutney  \n",
       "3                                     turkey>avocado  \n",
       "4  mineral water>milk>energy bar>whole wheat rice...  "
      ]
     },
     "execution_count": 6,
     "metadata": {},
     "output_type": "execute_result"
    }
   ],
   "source": [
    "# 1, đọc file dữ liệu\n",
    "df = pd.read_csv('data-final-exam-01.csv')\n",
    "# hien thi toan bo du lieu cua file\n",
    "df.head()"
   ]
  },
  {
   "cell_type": "markdown",
   "metadata": {},
   "source": [
    "\n",
    "<h3 style=\"color: skyblue\">2. Phân loại định lượng - định tính </h3>"
   ]
  },
  {
   "cell_type": "code",
   "execution_count": 5,
   "metadata": {},
   "outputs": [
    {
     "name": "stdout",
     "output_type": "stream",
     "text": [
      "Biến định lượng: Index(['Total', 'Discount', 'CustomerSalary', 'CustomerAge', 'MaritalStatus'], dtype='object')\n",
      "Biến định tính: Index(['CartCode', 'Sex', 'IntervalTime', 'UseCreditCard', 'ListOfProduct'], dtype='object')\n"
     ]
    }
   ],
   "source": [
    "#phan cac loai bien\n",
    "dinhluong_column=df.select_dtypes(include=['int64', 'float64']).columns\n",
    "dinhtinh_column=df.select_dtypes(include=['object']).columns\n",
    "\n",
    "print(f\"Biến định lượng: {dinhluong_column}\")\n",
    "print(f\"Biến định tính: {dinhtinh_column}\")\n",
    "# Kiểu dữ liệu và thang đo:\n",
    "# - Biến định lượng: thường là kiểu số nguyên (int) hoặc số thực (float), thang đo: tỉ lệ hoặc khoảng.\n",
    "# - Biến định tính: thường là kiểu chuỗi (object), thang đo: danh nghĩa hoặc thứ bậc."
   ]
  },
  {
   "cell_type": "markdown",
   "metadata": {},
   "source": [
    "\n",
    "<h3 style=\"color: skyblue\">3. Phân thang đo </h3>"
   ]
  },
  {
   "cell_type": "markdown",
   "metadata": {},
   "source": [
    "<img src=\"./thangDo.png\"></img>"
   ]
  },
  {
   "cell_type": "markdown",
   "metadata": {},
   "source": [
    "<img src=\"./thangDo2.png\"></img>"
   ]
  },
  {
   "cell_type": "code",
   "execution_count": 8,
   "metadata": {},
   "outputs": [
    {
     "name": "stdout",
     "output_type": "stream",
     "text": [
      "Biến 'CartCode' là định tính (object) - Thang đo: Nominal scale\n",
      "Biến 'Total' là định lượng (int64) - Thang đo: Ordinal scale\n",
      "Biến 'Discount' là định lượng (float64) - Thang đo: Ratio scale\n",
      "Biến 'CustomerSalary' là định lượng (int64) - Thang đo: Ordinal scale\n",
      "Biến 'CustomerAge' là định lượng (int64) - Thang đo: Ordinal scale\n",
      "Biến 'Sex' là định tính (object) - Thang đo: Nominal scale\n",
      "Biến 'MaritalStatus' là định lượng (int64) - Thang đo: Ordinal scale\n",
      "Biến 'IntervalTime' là định tính (object) - Thang đo: Nominal scale\n",
      "Biến 'UseCreditCard' là định tính (object) - Thang đo: Nominal scale\n",
      "Biến 'ListOfProduct' là định tính (object) - Thang đo: Nominal scale\n"
     ]
    }
   ],
   "source": [
    "def kieu_dl(df):\n",
    "    for col in df.columns:\n",
    "        dtype = df[col].dtype\n",
    "        if dtype == 'int64' or dtype == 'float64':\n",
    "            # Định lượng - thường là tỷ lệ hoặc thứ tự\n",
    "            scale = \"Ratio scale\" if dtype == 'float64' else \"Ordinal scale\"\n",
    "            print(f\"Biến '{col}' là định lượng ({dtype}) - Thang đo: {scale}\")\n",
    "        else:\n",
    "            # Định tính - thường là danh nghĩa\n",
    "            print(f\"Biến '{col}' là định tính ({dtype}) - Thang đo: Nominal scale\")\n",
    "\n",
    "# Gọi hàm để phân tích và in ra kiểu dữ liệu và thang đo\n",
    "kieu_dl(df)"
   ]
  },
  {
   "cell_type": "markdown",
   "metadata": {},
   "source": [
    "<h3 style=\"color: skyblue\">4. Biểu đồ dữ liệu thiếu </h3>"
   ]
  },
  {
   "cell_type": "code",
   "execution_count": 10,
   "metadata": {},
   "outputs": [
    {
     "data": {
      "image/png": "[encoded data removed]",
      "text/plain": [
       "<Figure size 1200x600 with 1 Axes>"
      ]
     },
     "metadata": {},
     "output_type": "display_data"
    }
   ],
   "source": [
    "# 2 dùng biểu đồ để trực quan hóa dữ liệu bị thiếu\n",
    "plt.figure(figsize=(12, 6))\n",
    "sns.heatmap(df.isnull(), cmap='viridis', cbar=False)\n",
    "plt.title('Heatmap dữ liệu bị thiếu')\n",
    "plt.show()\n",
    "# kết luận: không có dữ liệu thiếu"
   ]
  },
  {
   "cell_type": "markdown",
   "metadata": {},
   "source": [
    "<h3 style=\"color: skyblue\">5. Thay thế các giá trị bị thiếu bằng yếu vị (mode) cho từng cột\n",
    "</h3>\n"
   ]
  },
  {
   "cell_type": "code",
   "execution_count": 11,
   "metadata": {},
   "outputs": [
    {
     "name": "stdout",
     "output_type": "stream",
     "text": [
      "CartCode          0\n",
      "Total             0\n",
      "Discount          0\n",
      "CustomerSalary    0\n",
      "CustomerAge       0\n",
      "Sex               0\n",
      "MaritalStatus     0\n",
      "IntervalTime      0\n",
      "UseCreditCard     0\n",
      "ListOfProduct     0\n",
      "dtype: int64\n"
     ]
    },
    {
     "name": "stderr",
     "output_type": "stream",
     "text": [
      "C:\\Users\\Tieu Bao\\AppData\\Local\\Temp\\ipykernel_21216\\1702721221.py:4: FutureWarning: A value is trying to be set on a copy of a DataFrame or Series through chained assignment using an inplace method.\n",
      "The behavior will change in pandas 3.0. This inplace method will never work because the intermediate object on which we are setting values always behaves as a copy.\n",
      "\n",
      "For example, when doing 'df[col].method(value, inplace=True)', try using 'df.method({col: value}, inplace=True)' or df[col] = df[col].method(value) instead, to perform the operation inplace on the original object.\n",
      "\n",
      "\n",
      "  df[column].fillna(mode_value, inplace=True)  # Thay thế giá trị thiếu bằng yếu vị\n",
      "C:\\Users\\Tieu Bao\\AppData\\Local\\Temp\\ipykernel_21216\\1702721221.py:4: FutureWarning: A value is trying to be set on a copy of a DataFrame or Series through chained assignment using an inplace method.\n",
      "The behavior will change in pandas 3.0. This inplace method will never work because the intermediate object on which we are setting values always behaves as a copy.\n",
      "\n",
      "For example, when doing 'df[col].method(value, inplace=True)', try using 'df.method({col: value}, inplace=True)' or df[col] = df[col].method(value) instead, to perform the operation inplace on the original object.\n",
      "\n",
      "\n",
      "  df[column].fillna(mode_value, inplace=True)  # Thay thế giá trị thiếu bằng yếu vị\n",
      "C:\\Users\\Tieu Bao\\AppData\\Local\\Temp\\ipykernel_21216\\1702721221.py:4: FutureWarning: A value is trying to be set on a copy of a DataFrame or Series through chained assignment using an inplace method.\n",
      "The behavior will change in pandas 3.0. This inplace method will never work because the intermediate object on which we are setting values always behaves as a copy.\n",
      "\n",
      "For example, when doing 'df[col].method(value, inplace=True)', try using 'df.method({col: value}, inplace=True)' or df[col] = df[col].method(value) instead, to perform the operation inplace on the original object.\n",
      "\n",
      "\n",
      "  df[column].fillna(mode_value, inplace=True)  # Thay thế giá trị thiếu bằng yếu vị\n",
      "C:\\Users\\Tieu Bao\\AppData\\Local\\Temp\\ipykernel_21216\\1702721221.py:4: FutureWarning: A value is trying to be set on a copy of a DataFrame or Series through chained assignment using an inplace method.\n",
      "The behavior will change in pandas 3.0. This inplace method will never work because the intermediate object on which we are setting values always behaves as a copy.\n",
      "\n",
      "For example, when doing 'df[col].method(value, inplace=True)', try using 'df.method({col: value}, inplace=True)' or df[col] = df[col].method(value) instead, to perform the operation inplace on the original object.\n",
      "\n",
      "\n",
      "  df[column].fillna(mode_value, inplace=True)  # Thay thế giá trị thiếu bằng yếu vị\n",
      "C:\\Users\\Tieu Bao\\AppData\\Local\\Temp\\ipykernel_21216\\1702721221.py:4: FutureWarning: A value is trying to be set on a copy of a DataFrame or Series through chained assignment using an inplace method.\n",
      "The behavior will change in pandas 3.0. This inplace method will never work because the intermediate object on which we are setting values always behaves as a copy.\n",
      "\n",
      "For example, when doing 'df[col].method(value, inplace=True)', try using 'df.method({col: value}, inplace=True)' or df[col] = df[col].method(value) instead, to perform the operation inplace on the original object.\n",
      "\n",
      "\n",
      "  df[column].fillna(mode_value, inplace=True)  # Thay thế giá trị thiếu bằng yếu vị\n"
     ]
    }
   ],
   "source": [
    "## Thay thế các giá trị bị thiếu bằng yếu vị (mode) cho từng cột\n",
    "for column in df.columns:\n",
    "    mode_value = df[column].mode()[0]  # Tìm yếu vị (mode) của cột\n",
    "    df[column].fillna(mode_value, inplace=True)  # Thay thế giá trị thiếu bằng yếu vị\n",
    "\n",
    "# Kiểm tra lại dữ liệu sau khi thay thế\n",
    "print(df.isnull().sum())\n"
   ]
  },
  {
   "cell_type": "markdown",
   "metadata": {},
   "source": [
    "<h3 style=\"color: skyblue\">6. Thay thế các giá trị bị thiếu bằng trung bình (mean) cho các biến định lượng\n",
    "</h3>"
   ]
  },
  {
   "cell_type": "code",
   "execution_count": 12,
   "metadata": {},
   "outputs": [
    {
     "name": "stdout",
     "output_type": "stream",
     "text": [
      "CartCode          0\n",
      "Total             0\n",
      "Discount          0\n",
      "CustomerSalary    0\n",
      "CustomerAge       0\n",
      "Sex               0\n",
      "MaritalStatus     0\n",
      "IntervalTime      0\n",
      "UseCreditCard     0\n",
      "ListOfProduct     0\n",
      "dtype: int64\n"
     ]
    },
    {
     "name": "stderr",
     "output_type": "stream",
     "text": [
      "C:\\Users\\Tieu Bao\\AppData\\Local\\Temp\\ipykernel_21216\\1727732677.py:4: FutureWarning: A value is trying to be set on a copy of a DataFrame or Series through chained assignment using an inplace method.\n",
      "The behavior will change in pandas 3.0. This inplace method will never work because the intermediate object on which we are setting values always behaves as a copy.\n",
      "\n",
      "For example, when doing 'df[col].method(value, inplace=True)', try using 'df.method({col: value}, inplace=True)' or df[col] = df[col].method(value) instead, to perform the operation inplace on the original object.\n",
      "\n",
      "\n",
      "  df[column].fillna(mean_value, inplace=True)  # Thay thế giá trị thiếu bằng trung bình\n"
     ]
    }
   ],
   "source": [
    "# Thay thế các giá trị bị thiếu bằng trung bình (mean) cho các biến định lượng\n",
    "for column in df.select_dtypes(include=['float64', 'int64']).columns:\n",
    "    mean_value = df[column].mean()  # Tìm giá trị trung bình của cột\n",
    "    df[column].fillna(mean_value, inplace=True)  # Thay thế giá trị thiếu bằng trung bình\n",
    "\n",
    "# Kiểm tra lại dữ liệu sau khi thay thế\n",
    "print(df.isnull().sum())\n"
   ]
  },
  {
   "cell_type": "markdown",
   "metadata": {},
   "source": [
    "<h3 style=\"color: skyblue\">7. Sửa dữ liệu của 1 cột nào đó theo điều kiện nào đó. Hiển thị dữ liệu của cột này.\n",
    "</h3>"
   ]
  },
  {
   "cell_type": "code",
   "execution_count": 14,
   "metadata": {},
   "outputs": [
    {
     "name": "stdout",
     "output_type": "stream",
     "text": [
      "0    0.02\n",
      "1    0.08\n",
      "2    0.22\n",
      "3    0.08\n",
      "4    0.07\n",
      "Name: Discount, dtype: float64\n"
     ]
    }
   ],
   "source": [
    "# 3, Sửa dữ liệu của 1 cột nào đó theo điều kiện nào đó. Hiển thị dữ liệu của cột này.\n",
    "print(df['Discount'].head())"
   ]
  },
  {
   "cell_type": "code",
   "execution_count": 15,
   "metadata": {},
   "outputs": [],
   "source": [
    "# Kiểm tra nếu cột \"Discount\" tồn tại trong dữ liệu\n",
    "if 'Discount' in df.columns:\n",
    "    # Cập nhật cột \"Discount\" bằng cách tăng thêm 1.0 cho những giá trị lớn hơn 0.2\n",
    "    df.loc[df['Discount'] > 0.2, 'Discount'] = df['Discount'] + 1.0\n",
    "else:\n",
    "    print(\"Cột 'Discount' không tồn tại trong dữ liệu.\")"
   ]
  },
  {
   "cell_type": "code",
   "execution_count": 16,
   "metadata": {},
   "outputs": [
    {
     "name": "stdout",
     "output_type": "stream",
     "text": [
      "0    0.02\n",
      "1    0.08\n",
      "2    1.22\n",
      "3    0.08\n",
      "4    0.07\n",
      "Name: Discount, dtype: float64\n"
     ]
    }
   ],
   "source": [
    "# Hiển thị dữ liệu sau khi sửa đổi của cột \"Discount\"\n",
    "print(df['Discount'].head())"
   ]
  },
  {
   "cell_type": "markdown",
   "metadata": {},
   "source": [
    "<h3 style=\"color: skyblue\">8. Lưu dữ liệu sau khi xử lý vào file mới</h3>"
   ]
  },
  {
   "cell_type": "code",
   "execution_count": 17,
   "metadata": {},
   "outputs": [],
   "source": [
    "# 4, Lưu dữ liệu sau khi xử lý vào file mới\n",
    "new_file_path = 'data-final-exam-01_clean.csv'\n",
    "df.to_csv(new_file_path, index=False)  # index=False để không lưu chỉ mục"
   ]
  },
  {
   "cell_type": "code",
   "execution_count": 37,
   "metadata": {},
   "outputs": [
    {
     "data": {
      "text/html": [
       "<div>\n",
       "<style scoped>\n",
       "    .dataframe tbody tr th:only-of-type {\n",
       "        vertical-align: middle;\n",
       "    }\n",
       "\n",
       "    .dataframe tbody tr th {\n",
       "        vertical-align: top;\n",
       "    }\n",
       "\n",
       "    .dataframe thead th {\n",
       "        text-align: right;\n",
       "    }\n",
       "</style>\n",
       "<table border=\"1\" class=\"dataframe\">\n",
       "  <thead>\n",
       "    <tr style=\"text-align: right;\">\n",
       "      <th></th>\n",
       "      <th>CartCode</th>\n",
       "      <th>Total</th>\n",
       "      <th>Discount</th>\n",
       "      <th>CustomerSalary</th>\n",
       "      <th>CustomerAge</th>\n",
       "      <th>Sex</th>\n",
       "      <th>MaritalStatus</th>\n",
       "      <th>IntervalTime</th>\n",
       "      <th>UseCreditCard</th>\n",
       "      <th>ListOfProduct</th>\n",
       "    </tr>\n",
       "  </thead>\n",
       "  <tbody>\n",
       "    <tr>\n",
       "      <th>0</th>\n",
       "      <td>C0</td>\n",
       "      <td>131</td>\n",
       "      <td>0.02</td>\n",
       "      <td>1178</td>\n",
       "      <td>36</td>\n",
       "      <td>F</td>\n",
       "      <td>1</td>\n",
       "      <td>I4</td>\n",
       "      <td>NO</td>\n",
       "      <td>shrimp&gt;almonds&gt;avocado&gt;vegetables mix&gt;green gr...</td>\n",
       "    </tr>\n",
       "    <tr>\n",
       "      <th>1</th>\n",
       "      <td>C1</td>\n",
       "      <td>96</td>\n",
       "      <td>0.08</td>\n",
       "      <td>898</td>\n",
       "      <td>49</td>\n",
       "      <td>M</td>\n",
       "      <td>1</td>\n",
       "      <td>I3</td>\n",
       "      <td>YES</td>\n",
       "      <td>burgers&gt;meatballs&gt;eggs</td>\n",
       "    </tr>\n",
       "    <tr>\n",
       "      <th>2</th>\n",
       "      <td>C2</td>\n",
       "      <td>76</td>\n",
       "      <td>1.22</td>\n",
       "      <td>818</td>\n",
       "      <td>22</td>\n",
       "      <td>F</td>\n",
       "      <td>1</td>\n",
       "      <td>I1</td>\n",
       "      <td>YES</td>\n",
       "      <td>chutney</td>\n",
       "    </tr>\n",
       "    <tr>\n",
       "      <th>3</th>\n",
       "      <td>C3</td>\n",
       "      <td>133</td>\n",
       "      <td>0.08</td>\n",
       "      <td>2071</td>\n",
       "      <td>58</td>\n",
       "      <td>F</td>\n",
       "      <td>1</td>\n",
       "      <td>I4</td>\n",
       "      <td>NO</td>\n",
       "      <td>turkey&gt;avocado</td>\n",
       "    </tr>\n",
       "    <tr>\n",
       "      <th>4</th>\n",
       "      <td>C4</td>\n",
       "      <td>229</td>\n",
       "      <td>0.07</td>\n",
       "      <td>860</td>\n",
       "      <td>26</td>\n",
       "      <td>M</td>\n",
       "      <td>1</td>\n",
       "      <td>I4</td>\n",
       "      <td>YES</td>\n",
       "      <td>mineral water&gt;milk&gt;energy bar&gt;whole wheat rice...</td>\n",
       "    </tr>\n",
       "  </tbody>\n",
       "</table>\n",
       "</div>"
      ],
      "text/plain": [
       "  CartCode  Total  Discount  CustomerSalary  CustomerAge Sex  MaritalStatus  \\\n",
       "0       C0    131      0.02            1178           36   F              1   \n",
       "1       C1     96      0.08             898           49   M              1   \n",
       "2       C2     76      1.22             818           22   F              1   \n",
       "3       C3    133      0.08            2071           58   F              1   \n",
       "4       C4    229      0.07             860           26   M              1   \n",
       "\n",
       "  IntervalTime UseCreditCard  \\\n",
       "0           I4            NO   \n",
       "1           I3           YES   \n",
       "2           I1           YES   \n",
       "3           I4            NO   \n",
       "4           I4           YES   \n",
       "\n",
       "                                       ListOfProduct  \n",
       "0  shrimp>almonds>avocado>vegetables mix>green gr...  \n",
       "1                             burgers>meatballs>eggs  \n",
       "2                                            chutney  \n",
       "3                                     turkey>avocado  \n",
       "4  mineral water>milk>energy bar>whole wheat rice...  "
      ]
     },
     "execution_count": 37,
     "metadata": {},
     "output_type": "execute_result"
    }
   ],
   "source": [
    "# đọc file dữ liệu vừa mới được lưu\n",
    "df2 = pd.read_csv('data-final-exam-01_clean.csv')\n",
    "# hien thi toan bo du lieu cua file\n",
    "df2.head()"
   ]
  },
  {
   "cell_type": "markdown",
   "metadata": {},
   "source": [
    "### Phần 2"
   ]
  },
  {
   "cell_type": "markdown",
   "metadata": {},
   "source": [
    "#### 1. Đọc dữ liệu "
   ]
  },
  {
   "cell_type": "code",
   "execution_count": 7,
   "metadata": {},
   "outputs": [
    {
     "data": {
      "text/html": [
       "<div>\n",
       "<style scoped>\n",
       "    .dataframe tbody tr th:only-of-type {\n",
       "        vertical-align: middle;\n",
       "    }\n",
       "\n",
       "    .dataframe tbody tr th {\n",
       "        vertical-align: top;\n",
       "    }\n",
       "\n",
       "    .dataframe thead th {\n",
       "        text-align: right;\n",
       "    }\n",
       "</style>\n",
       "<table border=\"1\" class=\"dataframe\">\n",
       "  <thead>\n",
       "    <tr style=\"text-align: right;\">\n",
       "      <th></th>\n",
       "      <th>CartCode</th>\n",
       "      <th>Total</th>\n",
       "      <th>Discount</th>\n",
       "      <th>CustomerSalary</th>\n",
       "      <th>CustomerAge</th>\n",
       "      <th>ListOfProduct</th>\n",
       "    </tr>\n",
       "  </thead>\n",
       "  <tbody>\n",
       "    <tr>\n",
       "      <th>0</th>\n",
       "      <td>C0</td>\n",
       "      <td>100</td>\n",
       "      <td>0.09</td>\n",
       "      <td>1472</td>\n",
       "      <td>29</td>\n",
       "      <td>shrimp&gt;almonds&gt;avocado&gt;vegetables mix&gt;green gr...</td>\n",
       "    </tr>\n",
       "    <tr>\n",
       "      <th>1</th>\n",
       "      <td>C1</td>\n",
       "      <td>75</td>\n",
       "      <td>0.17</td>\n",
       "      <td>2113</td>\n",
       "      <td>24</td>\n",
       "      <td>burgers&gt;meatballs&gt;eggs</td>\n",
       "    </tr>\n",
       "    <tr>\n",
       "      <th>2</th>\n",
       "      <td>C2</td>\n",
       "      <td>162</td>\n",
       "      <td>0.06</td>\n",
       "      <td>1015</td>\n",
       "      <td>39</td>\n",
       "      <td>chutney</td>\n",
       "    </tr>\n",
       "    <tr>\n",
       "      <th>3</th>\n",
       "      <td>C3</td>\n",
       "      <td>94</td>\n",
       "      <td>0.03</td>\n",
       "      <td>2123</td>\n",
       "      <td>56</td>\n",
       "      <td>turkey&gt;avocado</td>\n",
       "    </tr>\n",
       "    <tr>\n",
       "      <th>4</th>\n",
       "      <td>C4</td>\n",
       "      <td>114</td>\n",
       "      <td>0.25</td>\n",
       "      <td>1631</td>\n",
       "      <td>33</td>\n",
       "      <td>mineral water&gt;milk&gt;energy bar&gt;whole wheat rice...</td>\n",
       "    </tr>\n",
       "  </tbody>\n",
       "</table>\n",
       "</div>"
      ],
      "text/plain": [
       "  CartCode  Total  Discount  CustomerSalary  CustomerAge  \\\n",
       "0       C0    100      0.09            1472           29   \n",
       "1       C1     75      0.17            2113           24   \n",
       "2       C2    162      0.06            1015           39   \n",
       "3       C3     94      0.03            2123           56   \n",
       "4       C4    114      0.25            1631           33   \n",
       "\n",
       "                                       ListOfProduct  \n",
       "0  shrimp>almonds>avocado>vegetables mix>green gr...  \n",
       "1                             burgers>meatballs>eggs  \n",
       "2                                            chutney  \n",
       "3                                     turkey>avocado  \n",
       "4  mineral water>milk>energy bar>whole wheat rice...  "
      ]
     },
     "execution_count": 7,
     "metadata": {},
     "output_type": "execute_result"
    }
   ],
   "source": [
    "# 1, đọc file dữ liệu còn lại\n",
    "data = pd.read_csv('data-quizth03.csv')\n",
    "data.head()"
   ]
  },
  {
   "cell_type": "markdown",
   "metadata": {},
   "source": [
    "#### 2. Nối bảng "
   ]
  },
  {
   "cell_type": "code",
   "execution_count": 8,
   "metadata": {},
   "outputs": [
    {
     "data": {
      "text/html": [
       "<div>\n",
       "<style scoped>\n",
       "    .dataframe tbody tr th:only-of-type {\n",
       "        vertical-align: middle;\n",
       "    }\n",
       "\n",
       "    .dataframe tbody tr th {\n",
       "        vertical-align: top;\n",
       "    }\n",
       "\n",
       "    .dataframe thead th {\n",
       "        text-align: right;\n",
       "    }\n",
       "</style>\n",
       "<table border=\"1\" class=\"dataframe\">\n",
       "  <thead>\n",
       "    <tr style=\"text-align: right;\">\n",
       "      <th></th>\n",
       "      <th>CartCode</th>\n",
       "      <th>Total</th>\n",
       "      <th>Discount</th>\n",
       "      <th>CustomerSalary</th>\n",
       "      <th>CustomerAge</th>\n",
       "      <th>Sex</th>\n",
       "      <th>MaritalStatus</th>\n",
       "      <th>IntervalTime</th>\n",
       "      <th>UseCreditCard</th>\n",
       "      <th>ListOfProduct</th>\n",
       "    </tr>\n",
       "  </thead>\n",
       "  <tbody>\n",
       "    <tr>\n",
       "      <th>0</th>\n",
       "      <td>C0</td>\n",
       "      <td>131</td>\n",
       "      <td>0.02</td>\n",
       "      <td>1178</td>\n",
       "      <td>36</td>\n",
       "      <td>F</td>\n",
       "      <td>1.0</td>\n",
       "      <td>I4</td>\n",
       "      <td>NO</td>\n",
       "      <td>shrimp&gt;almonds&gt;avocado&gt;vegetables mix&gt;green gr...</td>\n",
       "    </tr>\n",
       "    <tr>\n",
       "      <th>1</th>\n",
       "      <td>C1</td>\n",
       "      <td>96</td>\n",
       "      <td>0.08</td>\n",
       "      <td>898</td>\n",
       "      <td>49</td>\n",
       "      <td>M</td>\n",
       "      <td>1.0</td>\n",
       "      <td>I3</td>\n",
       "      <td>YES</td>\n",
       "      <td>burgers&gt;meatballs&gt;eggs</td>\n",
       "    </tr>\n",
       "    <tr>\n",
       "      <th>2</th>\n",
       "      <td>C2</td>\n",
       "      <td>76</td>\n",
       "      <td>0.22</td>\n",
       "      <td>818</td>\n",
       "      <td>22</td>\n",
       "      <td>F</td>\n",
       "      <td>1.0</td>\n",
       "      <td>I1</td>\n",
       "      <td>YES</td>\n",
       "      <td>chutney</td>\n",
       "    </tr>\n",
       "    <tr>\n",
       "      <th>3</th>\n",
       "      <td>C3</td>\n",
       "      <td>133</td>\n",
       "      <td>0.08</td>\n",
       "      <td>2071</td>\n",
       "      <td>58</td>\n",
       "      <td>F</td>\n",
       "      <td>1.0</td>\n",
       "      <td>I4</td>\n",
       "      <td>NO</td>\n",
       "      <td>turkey&gt;avocado</td>\n",
       "    </tr>\n",
       "    <tr>\n",
       "      <th>4</th>\n",
       "      <td>C4</td>\n",
       "      <td>229</td>\n",
       "      <td>0.07</td>\n",
       "      <td>860</td>\n",
       "      <td>26</td>\n",
       "      <td>M</td>\n",
       "      <td>1.0</td>\n",
       "      <td>I4</td>\n",
       "      <td>YES</td>\n",
       "      <td>mineral water&gt;milk&gt;energy bar&gt;whole wheat rice...</td>\n",
       "    </tr>\n",
       "  </tbody>\n",
       "</table>\n",
       "</div>"
      ],
      "text/plain": [
       "  CartCode  Total  Discount  CustomerSalary  CustomerAge Sex  MaritalStatus  \\\n",
       "0       C0    131      0.02            1178           36   F            1.0   \n",
       "1       C1     96      0.08             898           49   M            1.0   \n",
       "2       C2     76      0.22             818           22   F            1.0   \n",
       "3       C3    133      0.08            2071           58   F            1.0   \n",
       "4       C4    229      0.07             860           26   M            1.0   \n",
       "\n",
       "  IntervalTime UseCreditCard  \\\n",
       "0           I4            NO   \n",
       "1           I3           YES   \n",
       "2           I1           YES   \n",
       "3           I4            NO   \n",
       "4           I4           YES   \n",
       "\n",
       "                                       ListOfProduct  \n",
       "0  shrimp>almonds>avocado>vegetables mix>green gr...  \n",
       "1                             burgers>meatballs>eggs  \n",
       "2                                            chutney  \n",
       "3                                     turkey>avocado  \n",
       "4  mineral water>milk>energy bar>whole wheat rice...  "
      ]
     },
     "execution_count": 8,
     "metadata": {},
     "output_type": "execute_result"
    }
   ],
   "source": [
    "# trộn hai bảng dữ liệu lại với nhau\n",
    "merged_data = pd.concat([df, data], axis=0)\n",
    "merged_data.head()"
   ]
  },
  {
   "cell_type": "markdown",
   "metadata": {},
   "source": [
    "#### 3. Biểu đồ "
   ]
  },
  {
   "cell_type": "markdown",
   "metadata": {},
   "source": [
    "#### Barplot"
   ]
  },
  {
   "cell_type": "code",
   "execution_count": 9,
   "metadata": {},
   "outputs": [
    {
     "data": {
      "image/png": "[encoded data removed]",
      "text/plain": [
       "<Figure size 800x600 with 1 Axes>"
      ]
     },
     "metadata": {},
     "output_type": "display_data"
    }
   ],
   "source": [
    "# 2, Vẽ biểu đồ barplot hiển thị trung bình của \"Total\" theo nhóm \"Sex\"\n",
    "plt.figure(figsize=(8, 6))\n",
    "sns.barplot(x='Sex', y='Total', data=merged_data)\n",
    "plt.title('Trung bình của Total theo nhóm Sex')\n",
    "plt.show()\n"
   ]
  },
  {
   "cell_type": "markdown",
   "metadata": {},
   "source": [
    "#### Boxplot"
   ]
  },
  {
   "cell_type": "code",
   "execution_count": 27,
   "metadata": {},
   "outputs": [
    {
     "data": {
      "image/png": "[encoded data removed]",
      "text/plain": [
       "<Figure size 800x600 with 1 Axes>"
      ]
     },
     "metadata": {},
     "output_type": "display_data"
    }
   ],
   "source": [
    "# 3, Vẽ biểu đồ boxplot so sánh CustomerSalary giữa các nhóm Sex\n",
    "plt.figure(figsize=(8, 6))\n",
    "sns.boxplot(x='Sex', y='CustomerSalary', data=merged_data)\n",
    "plt.title('So sánh CustomerSalary giữa các nhóm Sex')\n",
    "plt.show()\n"
   ]
  },
  {
   "cell_type": "markdown",
   "metadata": {},
   "source": [
    "### HeatMap"
   ]
  },
  {
   "cell_type": "code",
   "execution_count": 39,
   "metadata": {},
   "outputs": [
    {
     "data": {
      "image/png": "[encoded data removed]",
      "text/plain": [
       "<Figure size 1000x800 with 2 Axes>"
      ]
     },
     "metadata": {},
     "output_type": "display_data"
    }
   ],
   "source": [
    "# 4, Vẽ biểu đồ heatmap để hiển thị ma trận tương quan\n",
    "numerical_columns = merged_data.select_dtypes(include=['number'])\n",
    "\n",
    "# Tính ma trận tương quan giữa các biến định lượng\n",
    "correlation_matrix = numerical_columns.corr()\n",
    "\n",
    "# Vẽ biểu đồ heatmap thể hiện sự tương quan\n",
    "plt.figure(figsize=(10, 8))\n",
    "sns.heatmap(correlation_matrix, annot=True, cmap='coolwarm', linewidths=0.5)\n",
    "\n",
    "# Thêm tiêu đề\n",
    "plt.title('Biểu đồ tương quan giữa các biến định lượng')\n",
    "\n",
    "# Hiển thị biểu đồ\n",
    "plt.show()"
   ]
  },
  {
   "cell_type": "markdown",
   "metadata": {},
   "source": [
    "#### Pie"
   ]
  },
  {
   "cell_type": "code",
   "execution_count": 29,
   "metadata": {},
   "outputs": [
    {
     "data": {
      "image/png": "[encoded data removed]",
      "text/plain": [
       "<Figure size 800x600 with 1 Axes>"
      ]
     },
     "metadata": {},
     "output_type": "display_data"
    }
   ],
   "source": [
    "#5, vẽ biểu đồ tròn thể hiện tỷ lệ phần trăm\n",
    "# Tính tỉ lệ phần trăm của nhóm Sex\n",
    "sex_counts = merged_data['Sex'].value_counts()\n",
    "\n",
    "# Vẽ biểu đồ tròn\n",
    "plt.figure(figsize=(8, 6))\n",
    "plt.pie(sex_counts, labels=sex_counts.index, autopct='%1.1f%%', startangle=90, colors=['skyblue', 'lightgreen'])\n",
    "plt.title('Tỉ lệ phần trăm của nhóm Sex')\n",
    "plt.show()\n"
   ]
  },
  {
   "cell_type": "markdown",
   "metadata": {},
   "source": [
    "#### Boxplot"
   ]
  },
  {
   "cell_type": "code",
   "execution_count": 11,
   "metadata": {},
   "outputs": [
    {
     "data": {
      "image/png": "[encoded data removed]",
      "text/plain": [
       "<Figure size 800x600 with 1 Axes>"
      ]
     },
     "metadata": {},
     "output_type": "display_data"
    },
    {
     "name": "stdout",
     "output_type": "stream",
     "text": [
      "IQR của cột CustomerSalary là: 1010.0\n",
      "Giới hạn dưới: -527.0\n",
      "Giới hạn trên: 3513.0\n",
      "Số lượng bản ghi trước khi loại bỏ: 15002\n",
      "Dữ liệu sau khi loại bỏ ngoại lệ: (15002, 10)\n"
     ]
    }
   ],
   "source": [
    "# 6, Dùng biểu đồ boxlot để tìm giá trị ngoại lệ cho 1 thuộc tính nào đó. Tìm độ trải giữa (IQR) của cột dữ liệu bị ngoại lệ. Loại bỏ dữ liệu ngoại lệ. \n",
    "# Vẽ boxplot để tìm ngoại lệ trong cột CustomerSalary\n",
    "plt.figure(figsize=(8, 6))\n",
    "sns.boxplot(y='CustomerSalary', data=merged_data)\n",
    "plt.title('Boxplot của CustomerSalary để tìm ngoại lệ')\n",
    "plt.show()\n",
    "\n",
    "# Tính IQR và loại bỏ giá trị ngoại lệ\n",
    "Q1 = merged_data['CustomerSalary'].quantile(0.25)\n",
    "Q3 = merged_data['CustomerSalary'].quantile(0.75)\n",
    "IQR = Q3 - Q1\n",
    "\n",
    "# Tính giới hạn dưới và giới hạn trên\n",
    "lower_bound = Q1 - 1.5 * IQR\n",
    "upper_bound = Q3 + 1.5 * IQR\n",
    "\n",
    "# Loại bỏ dữ liệu ngoại lệ\n",
    "filtered_data = merged_data[~((merged_data['CustomerSalary'] < (Q1 - 1.5 * IQR)) | (merged_data['CustomerSalary'] > (Q3 + 1.5 * IQR)))]\n",
    "\n",
    "\n",
    "\n",
    "print(f'IQR của cột CustomerSalary là: {IQR}')\n",
    "print(f'Giới hạn dưới: {lower_bound}')\n",
    "print(f'Giới hạn trên: {upper_bound}')\n",
    "print(f'Số lượng bản ghi trước khi loại bỏ: {merged_data.shape[0]}')\n",
    "print(f'Dữ liệu sau khi loại bỏ ngoại lệ: {filtered_data.shape}')\n",
    "\n"
   ]
  },
  {
   "cell_type": "markdown",
   "metadata": {},
   "source": [
    "Phần 3"
   ]
  },
  {
   "cell_type": "markdown",
   "metadata": {},
   "source": [
    " Z-Test"
   ]
  },
  {
   "cell_type": "code",
   "execution_count": 41,
   "metadata": {},
   "outputs": [
    {
     "name": "stdout",
     "output_type": "stream",
     "text": [
      "Z-statistic: -282.64565608395714, P-value: 0.0\n",
      "Kết luận: Bác bỏ giả thuyết H0, trung bình của hai biến khác nhau.\n"
     ]
    }
   ],
   "source": [
    "# 1, Thực hiện kiểm định trung bình của 2 biến số (định lượng) bằng phương pháp Z-Test bằng một giá trị nào đó với mức sai lầm là 10%. Cho nhận xét\n",
    "from statsmodels.stats.weightstats import ztest\n",
    "\n",
    "# Thực hiện Z-test để kiểm định trung bình của 2 biến\n",
    "z_stat, p_value = ztest(merged_data['Total'], merged_data['CustomerSalary'])\n",
    "\n",
    "# So sánh p_value với mức sai lầm 5% \n",
    "alpha = 0.05\n",
    "\n",
    "print(f\"Z-statistic: {z_stat}, P-value: {p_value}\")\n",
    "if p_value < alpha:\n",
    "    print(\"Kết luận: Bác bỏ giả thuyết H0, trung bình của hai biến khác nhau.\")\n",
    "else:\n",
    "    print(\"Kết luận: Chưa đủ bằng chứng để bác bỏ giả thuyết H0, trung bình của hai biến có thể bằng nhau.\")\n"
   ]
  },
  {
   "cell_type": "markdown",
   "metadata": {},
   "source": [
    "Chi-Square"
   ]
  },
  {
   "cell_type": "code",
   "execution_count": 33,
   "metadata": {},
   "outputs": [
    {
     "name": "stdout",
     "output_type": "stream",
     "text": [
      "Chi2-statistic: 8006.479603628374, P-value: 0.47747888550232054\n",
      "Kết luận: Không có mối tương quan giữa hai biến.\n"
     ]
    }
   ],
   "source": [
    "# 3, Thực hiện kiểm tra 2 biến định lượng có tương quan với nhau không bằng phương pháp Chi-Square với mức sai lầm là 5%? Cho nhận xét.\n",
    "from scipy.stats import chi2_contingency\n",
    "\n",
    "# Tạo bảng tần suất chéo giữa hai biến Total và CustomerAge\n",
    "contingency_table = pd.crosstab(merged_data['Total'], merged_data['CustomerAge'])\n",
    "\n",
    "# Thực hiện kiểm định Chi-Square\n",
    "chi2_stat, p_value, dof, expected = chi2_contingency(contingency_table)\n",
    "\n",
    "# So sánh p_value với mức sai lầm 5% (0.05)\n",
    "alpha = 0.05\n",
    "\n",
    "print(f\"Chi2-statistic: {chi2_stat}, P-value: {p_value}\")\n",
    "if p_value < alpha:\n",
    "    print(\"Kết luận: Có mối tương quan giữa hai biến.\")\n",
    "else:\n",
    "    print(\"Kết luận: Không có mối tương quan giữa hai biến.\")\n"
   ]
  },
  {
   "cell_type": "markdown",
   "metadata": {},
   "source": [
    "ANOVA 2"
   ]
  },
  {
   "cell_type": "code",
   "execution_count": 34,
   "metadata": {},
   "outputs": [
    {
     "name": "stdout",
     "output_type": "stream",
     "text": [
      "                         sum_sq      df         F    PR(>F)\n",
      "Sex                2.363953e+01     1.0  0.007074  0.932972\n",
      "MaritalStatus      6.892480e+03     1.0  2.062622  0.150992\n",
      "Sex:MaritalStatus  7.730942e+02     1.0  0.231354  0.630536\n",
      "Residual           2.505206e+07  7497.0       NaN       NaN\n"
     ]
    }
   ],
   "source": [
    "# 4, Thực hiện kiểm định ANOVA 2 chiều. Giải thích kết quả.\n",
    "import statsmodels.api as sm\n",
    "from statsmodels.formula.api import ols\n",
    "\n",
    "# Xây dựng mô hình ANOVA 2 chiều\n",
    "model = ols('Total ~ Sex + MaritalStatus + Sex:MaritalStatus', data=merged_data).fit()\n",
    "anova_table = sm.stats.anova_lm(model, typ=2)\n",
    "# hiển thị bảng anova\n",
    "print(anova_table)\n",
    "\n",
    "# Giải thích kết quả\n",
    "alpha = 0.05\n",
    "if anova_table['PR(>F)'].iloc[0] < alpha:\n",
    "    print(\"Có sự khác biệt có ý nghĩa thống kê về trung bình giữa các nhóm theo biến 'Sex'.\")\n",
    "else:\n",
    "    print(\"Không có sự khác biệt có ý nghĩa thống kê về trung bình giữa các nhóm theo biến 'Sex'.\")\n",
    "\n",
    "if anova_table['PR(>F)'].iloc[1] < alpha:\n",
    "    print(\"Có sự khác biệt có ý nghĩa thống kê về trung bình giữa các nhóm theo biến 'MaritalStatus'.\")\n",
    "else:\n",
    "    print(\"Không có sự khác biệt có ý nghĩa thống kê về trung bình giữa các nhóm theo biến 'MaritalStatus'.\")\n",
    "\n",
    "if anova_table['PR(>F)'].iloc[2] < alpha:\n",
    "    print(\"Có sự tương tác có ý nghĩa thống kê giữa 'Sex' và 'MaritalStatus' trong ảnh hưởng đến 'Total'.\")\n",
    "else:\n",
    "    print(\"Không có sự tương tác có ý nghĩa thống kê giữa 'Sex' và 'MaritalStatus'.\")\n"
   ]
  },
  {
   "cell_type": "code",
   "execution_count": 38,
   "metadata": {},
   "outputs": [
    {
     "data": {
      "text/plain": [
       "'-Giới tính (Sex):\\nGiá trị p (PR(>F)): 0.932972\\nKết luận: Giá trị p lớn hơn 0.05, do đó không có đủ bằng chứng để bác bỏ giả thuyết không. \\nĐiều này có nghĩa là giới tính không có ảnh hưởng đáng kể đến biến phụ thuộc Total.\\n\\n-Tình trạng hôn nhân (MaritalStatus):\\nGiá trị p (PR(>F)): 0.150992\\nKết luận: Tương tự, giá trị p lớn hơn 0.05 cho thấy không có đủ bằng chứng để bác bỏ giả thuyết không. \\nĐiều này có nghĩa là tình trạng hôn nhân cũng không có ảnh hưởng đáng kể đến Total.\\n\\n-Tương tác giữa Giới tính và Tình trạng hôn nhân (Sex):\\nGiá trị p (PR(>F)): 0.630536\\nKết luận: Giá trị p cũng lớn hơn 0.05, do đó không có đủ bằng chứng để bác bỏ giả thuyết không. \\nĐiều này có nghĩa là không có sự tương tác đáng kể giữa giới tính và tình trạng hôn nhân ảnh hưởng đến Total.'"
      ]
     },
     "execution_count": 38,
     "metadata": {},
     "output_type": "execute_result"
    }
   ],
   "source": [
    "# giải thích kết quả \n",
    "'''\n",
    "-Giới tính (Sex):\n",
    "Giá trị p (PR(>F)): 0.932972\n",
    "Kết luận: Giá trị p lớn hơn 0.05, do đó không có đủ bằng chứng để bác bỏ giả thuyết không. \n",
    "Điều này có nghĩa là giới tính không có ảnh hưởng đáng kể đến biến phụ thuộc Total.\n",
    "\n",
    "-Tình trạng hôn nhân (MaritalStatus):\n",
    "Giá trị p (PR(>F)): 0.150992\n",
    "Kết luận: Tương tự, giá trị p lớn hơn 0.05 cho thấy không có đủ bằng chứng để bác bỏ giả thuyết không. \n",
    "Điều này có nghĩa là tình trạng hôn nhân cũng không có ảnh hưởng đáng kể đến Total.\n",
    "\n",
    "-Tương tác giữa Giới tính và Tình trạng hôn nhân (Sex):\n",
    "Giá trị p (PR(>F)): 0.630536\n",
    "Kết luận: Giá trị p cũng lớn hơn 0.05, do đó không có đủ bằng chứng để bác bỏ giả thuyết không. \n",
    "Điều này có nghĩa là không có sự tương tác đáng kể giữa giới tính và tình trạng hôn nhân ảnh hưởng đến Total.'''"
   ]
  },
  {
   "cell_type": "markdown",
   "metadata": {},
   "source": [
    "#### Hồi quy tuyến tính "
   ]
  },
  {
   "cell_type": "code",
   "execution_count": 35,
   "metadata": {},
   "outputs": [
    {
     "name": "stdout",
     "output_type": "stream",
     "text": [
      "                            OLS Regression Results                            \n",
      "==============================================================================\n",
      "Dep. Variable:                  Total   R-squared:                       0.000\n",
      "Model:                            OLS   Adj. R-squared:                 -0.000\n",
      "Method:                 Least Squares   F-statistic:                    0.1395\n",
      "Date:                Fri, 11 Oct 2024   Prob (F-statistic):              0.709\n",
      "Time:                        09:59:24   Log-Likelihood:                -82177.\n",
      "No. Observations:               15002   AIC:                         1.644e+05\n",
      "Df Residuals:                   15000   BIC:                         1.644e+05\n",
      "Df Model:                           1                                         \n",
      "Covariance Type:            nonrobust                                         \n",
      "==================================================================================\n",
      "                     coef    std err          t      P>|t|      [0.025      0.975]\n",
      "----------------------------------------------------------------------------------\n",
      "const            149.5112      1.307    114.427      0.000     146.950     152.072\n",
      "CustomerSalary    -0.0003      0.001     -0.374      0.709      -0.002       0.001\n",
      "==============================================================================\n",
      "Omnibus:                    12077.150   Durbin-Watson:                   2.016\n",
      "Prob(Omnibus):                  0.000   Jarque-Bera (JB):              887.581\n",
      "Skew:                           0.024   Prob(JB):                    1.84e-193\n",
      "Kurtosis:                       1.809   Cond. No.                     4.43e+03\n",
      "==============================================================================\n",
      "\n",
      "Notes:\n",
      "[1] Standard Errors assume that the covariance matrix of the errors is correctly specified.\n",
      "[2] The condition number is large, 4.43e+03. This might indicate that there are\n",
      "strong multicollinearity or other numerical problems.\n"
     ]
    }
   ],
   "source": [
    "# 5, Đánh giá mức độ tác động giữa các yếu tố đến 1 đối tượng (1 biến độc lập và 1 biến phụ thuộc) \n",
    "#  bằng phân tích hồi quy tuyến tính theo phương thức OLS. Giải thích kết quả\n",
    "import statsmodels.api as sm\n",
    "\n",
    "# Xác định biến độc lập và phụ thuộc\n",
    "X = merged_data[['CustomerSalary']]  # Biến độc lập\n",
    "y = merged_data['Total']  # Biến phụ thuộc\n",
    "\n",
    "# Thêm hằng số cho mô hình hồi quy\n",
    "X = sm.add_constant(X)\n",
    "\n",
    "# Xây dựng mô hình hồi quy tuyến tính OLS\n",
    "model = sm.OLS(y, X).fit()\n",
    "\n",
    "# Hiển thị kết quả hồi quy\n",
    "print(model.summary())\n"
   ]
  },
  {
   "cell_type": "code",
   "execution_count": null,
   "metadata": {},
   "outputs": [],
   "source": [
    "# giải thích kết quả\n",
    "'''\n",
    "-R-squared (R²):\n",
    "    Giá trị R² là 0.000, cho thấy mô hình này không giải thích được bất kỳ phương sai nào trong biến phụ thuộc Total. \n",
    "    Điều này có nghĩa là biến độc lập CustomerSalary không có mối liên hệ đáng kể với biến phụ thuộc Total.\n",
    "\n",
    "-Adj. R-squared (R² điều chỉnh):\n",
    "    R² điều chỉnh cũng là -0.000, cho thấy rằng không những mô hình không giải thích được phương sai \n",
    "    mà còn có thể làm cho mô hình trở nên tồi tệ hơn khi thêm biến độc lập. \n",
    "    Điều này thường xảy ra khi biến độc lập không có khả năng dự đoán tốt.\n",
    "\n",
    "- F-statistic:\n",
    "    Giá trị F-statistic là 0.1395 với p-value là 0.709, cho thấy rằng không có sự khác biệt đáng kể giữa mô hình hồi quy \n",
    "    và mô hình không có biến độc lập. Điều này càng củng cố kết luận rằng CustomerSalary không có ảnh hưởng đến Total.\n",
    "\n",
    "-Coefficients (Hệ số):\n",
    "    const (hằng số): Hệ số của hằng số là 149.5112. \n",
    "    Điều này có nghĩa là khi CustomerSalary bằng 0, Total sẽ khoảng 149.5112.\n",
    "\n",
    "-CustomerSalary: \n",
    "    Hệ số là -0.0003. Điều này cho thấy rằng nếu CustomerSalary tăng thêm 1 đơn vị, \n",
    "    Total sẽ giảm khoảng 0.0003 đơn vị. Tuy nhiên, vì p-value là 0.709, \n",
    "    không có đủ bằng chứng để khẳng định rằng tác động này là đáng kể.\n",
    "\n",
    "-p-value:\n",
    "    p-value cho biến độc lập CustomerSalary là 0.709, lớn hơn mức ý nghĩa thông thường là 0.05. \n",
    "    Điều này cho thấy không có đủ bằng chứng để bác bỏ giả thuyết không (tức là không có mối quan hệ giữa CustomerSalary và Total).\n",
    "\n",
    "-Confidence Intervals (Khoảng tin cậy):\n",
    "    Khoảng tin cậy 95% cho CustomerSalary là từ -0.002 đến 0.001. \n",
    "    Điều này cho thấy rằng chúng ta không thể xác định được hướng ảnh hưởng của CustomerSalary đến Total trong khoảng này.\n",
    "'''"
   ]
  }
 ],
 "metadata": {
  "kernelspec": {
   "display_name": "base",
   "language": "python",
   "name": "python3"
  },
  "language_info": {
   "codemirror_mode": {
    "name": "ipython",
    "version": 3
   },
   "file_extension": ".py",
   "mimetype": "text/x-python",
   "name": "python",
   "nbconvert_exporter": "python",
   "pygments_lexer": "ipython3",
   "version": "3.11.4"
  }
 },
 "nbformat": 4,
 "nbformat_minor": 2
}
